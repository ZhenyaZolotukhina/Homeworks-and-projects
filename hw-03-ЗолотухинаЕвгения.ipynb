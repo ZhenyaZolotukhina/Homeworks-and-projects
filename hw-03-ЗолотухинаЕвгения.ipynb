{
 "cells": [
  {
   "cell_type": "markdown",
   "id": "911da6e0",
   "metadata": {},
   "source": [
    "<center>\n",
    "<img src=\"https://i.ibb.co/Ycs11Fg/meme.jpg\">\n",
    "</center>\n",
    "\n",
    "# Андан на экономе: домашнее задание 3\n",
    "## Задача классификации"
   ]
  },
  {
   "cell_type": "markdown",
   "id": "c2e40eb8",
   "metadata": {},
   "source": [
    "**ФИО: Золотухина Евгения Олеговна**\n"
   ]
  },
  {
   "cell_type": "markdown",
   "id": "1cfbbcc0",
   "metadata": {},
   "source": [
    "## Общая информация\n",
    "\n",
    "\n",
    "__Дата выдачи:__ 14.04.2023\n",
    "\n",
    "__Мягкий дедлайн:__ 23:59MSK 07.05.2023\n",
    "\n",
    "__Жесткий дедлайн:__ 23:59MSK 14.05.2023"
   ]
  },
  {
   "cell_type": "markdown",
   "id": "8d84cd39",
   "metadata": {},
   "source": [
    "## Оценивание и штрафы\n",
    "\n",
    "Каждая из задач имеет определенную «стоимость» (указана в скобках около задачи). Максимально допустимая оценка за работу — 100 баллов. За каждый день просрочки после мягкого дедлайна снимается 10 баллов. После жёсткого дедлайна работы не принимаются. Даже при опозданиии на одну секунду. Сдавайте работы заранее.\n",
    "\n",
    "Мягкий дедлайн можно отодвинуть без потери баллов на 1,2 или 3 дня. Суммарно для откладывания в запасе есть три дня. Можно отодвинуть один дедлайн на три дня, а можно три дедлайна подвинуть на один день. Распоряжаться этими днями студент может как угодно. Жёсткий дедлайн, при этом, не меняется. Если такое произошло, нужно сообщить о сдвиге при сдаче работы.\n",
    "\n",
    "Задание выполняется самостоятельно. «Похожие» решения считаются плагиатом и все задействованные студенты (в том числе те, у кого списали) не могут получить за него больше 0 баллов. Если вы нашли решение какого-то из заданий (или его часть) в открытом источнике, необходимо указать ссылку на этот источник (скорее всего вы будете не единственным, кто это нашел, поэтому чтобы исключить подозрение в плагиате, необходима ссылка на источник).\n",
    "\n",
    "Любой из студентов может быть вызван на защиту любого домашнего задания. В таком случае итоговая оценка студента определяется в результате защиты.\n",
    "\n",
    "> За отсутствие названий графиков и подписей к осям могут снижаться баллы. Все картинки должны быть самодостаточны и визуально удобны для восприятия, так чтобы не нужно было смотреть ваш код или знать задание, чтобы понять что на них изображено. \n",
    "\n",
    "> Выводы должны быть релевантными. Не забывайте их писать. Если в вопросе требуется ответ словами, а его нет, вы будете терять довольно много баллов.\n",
    "\n",
    "> Фиксируйте все seed'ы, random_state'ы и тд - ваш код должен быть воспроизводим с теми же результатами."
   ]
  },
  {
   "cell_type": "markdown",
   "id": "9c9727df",
   "metadata": {},
   "source": [
    "## Формат сдачи\n",
    "\n",
    "Сам ноутбук называйте в формате hw-03-USERNAME.ipynb, где USERNAME — ваши фамилия и имя. Файл сдаётся в anytask."
   ]
  },
  {
   "cell_type": "markdown",
   "id": "7b55058a",
   "metadata": {},
   "source": [
    "## Импорт необходимых библиотек "
   ]
  },
  {
   "cell_type": "markdown",
   "id": "f7deb1cc",
   "metadata": {},
   "source": [
    "Импортируйте все используемые библиотеки здесь."
   ]
  },
  {
   "cell_type": "code",
   "execution_count": 2,
   "id": "9311e523",
   "metadata": {},
   "outputs": [],
   "source": [
    "# Ваш код здесь\n",
    "\n",
    "\n",
    "# Отключение некоторых лишних предупреждений\n",
    "import warnings\n",
    "warnings.filterwarnings(\"ignore\")\n",
    "import numpy as np\n",
    "import pandas as pd\n",
    "import matplotlib.pyplot as plt\n",
    "from sklearn.model_selection import train_test_split \n",
    "from sklearn.linear_model import LogisticRegression\n",
    "from sklearn.metrics import roc_curve, auc\n",
    "from sklearn.metrics import roc_auc_score\n",
    "from sklearn.metrics import accuracy_score\n",
    "from sklearn.metrics import precision_score, recall_score\n",
    "from sklearn.preprocessing import MinMaxScaler\n",
    "from sklearn.model_selection import GridSearchCV\n",
    "from sklearn.metrics import fbeta_score\n",
    "from sklearn.ensemble import GradientBoostingRegressor\n",
    "from sklearn.model_selection import RandomizedSearchCV\n",
    "from sklearn.ensemble import RandomForestClassifier"
   ]
  },
  {
   "cell_type": "markdown",
   "id": "8e5cf1b8",
   "metadata": {},
   "source": [
    "## Задача "
   ]
  },
  {
   "cell_type": "markdown",
   "id": "c6f6920e",
   "metadata": {},
   "source": [
    "В данном задании вам необходимо построить предсказательную модель, определяющую пол клиента по его банковским транзакциям.\n",
    "\n",
    "Вам доступны 2 файла:\n",
    "* __transaction.csv__ - файл с транзакциями, колонки:\n",
    "    * user_id - целочисленный идентификатор пользователя\n",
    "    * dt - дата и время совершения транзации, принцип кодирования: \"DAY TIME\"\n",
    "        * DAY - порядковый день транзации с начала сбора данных\n",
    "        * TIME - время в формате hh:mm:ss\n",
    "    * type - тип (категория) совершаемой транзакции\n",
    "    * value - сумма транзакции\n",
    "    \n",
    "* __gender.csv__ - файл с данными о полах клиентов.\n",
    "    * user_id - целочисленный идентификатор пользователя\n",
    "    * gender - целевая переменная, закодированная лейблами 0 и 1. Это сделано:\n",
    "        * a) для удобства\n",
    "        * б) для избежания холиваров о правильности исходных меток \n",
    "\n",
    "Но если вы вдруг захотите похоливарить о том, что метки только две - то заметьте, что о полноте данных мы тоже не утверждаем."
   ]
  },
  {
   "cell_type": "markdown",
   "id": "56da0228",
   "metadata": {},
   "source": [
    "# Часть 1: минималочка [макс 20 баллов]"
   ]
  },
  {
   "cell_type": "markdown",
   "id": "cb568469",
   "metadata": {},
   "source": [
    "В этой части мы с вами попробуем построить самую простую модель для предсказания.\n",
    "\n",
    "Как мы с вами увидим: главная сложность - правильная подготовка данных. В таких задачах то, как именно вы преобразуете данные для обучения модели и будет во много определять её качество.\n",
    "\n",
    "В этой части мы сделаем простое преобразование данных путём простой агрегации данных о величине транзакций. "
   ]
  },
  {
   "cell_type": "markdown",
   "id": "3d8c2bf8",
   "metadata": {},
   "source": [
    "## Загрузка данных [5 баллов] "
   ]
  },
  {
   "cell_type": "markdown",
   "id": "b324b6bb",
   "metadata": {},
   "source": [
    "Скачайте данные для задачи с Яндекс.Диска:\n",
    "https://disk.yandex.ru/d/DGy6bbLaMZmrQg.\n",
    "\n",
    "Загрузите файлы с транзакциями и целевой меткой в pd.DataFrame.\n",
    "\n",
    "__Внимание__: у файла transactions.csv колоночный разделитель - точка с запятой \";\""
   ]
  },
  {
   "cell_type": "code",
   "execution_count": 3,
   "id": "12a08af9",
   "metadata": {},
   "outputs": [
    {
     "data": {
      "text/html": [
       "<div>\n",
       "<style scoped>\n",
       "    .dataframe tbody tr th:only-of-type {\n",
       "        vertical-align: middle;\n",
       "    }\n",
       "\n",
       "    .dataframe tbody tr th {\n",
       "        vertical-align: top;\n",
       "    }\n",
       "\n",
       "    .dataframe thead th {\n",
       "        text-align: right;\n",
       "    }\n",
       "</style>\n",
       "<table border=\"1\" class=\"dataframe\">\n",
       "  <thead>\n",
       "    <tr style=\"text-align: right;\">\n",
       "      <th></th>\n",
       "      <th>user_id</th>\n",
       "      <th>dt</th>\n",
       "      <th>type</th>\n",
       "      <th>value</th>\n",
       "    </tr>\n",
       "  </thead>\n",
       "  <tbody>\n",
       "    <tr>\n",
       "      <th>0</th>\n",
       "      <td>39026145</td>\n",
       "      <td>0 10:23:26</td>\n",
       "      <td>Звонки с использованием телефонов, считывающих...</td>\n",
       "      <td>2695.099</td>\n",
       "    </tr>\n",
       "    <tr>\n",
       "      <th>1</th>\n",
       "      <td>39026145</td>\n",
       "      <td>6 07:08:31</td>\n",
       "      <td>Звонки с использованием телефонов, считывающих...</td>\n",
       "      <td>2358.212</td>\n",
       "    </tr>\n",
       "    <tr>\n",
       "      <th>2</th>\n",
       "      <td>39026145</td>\n",
       "      <td>8 07:06:10</td>\n",
       "      <td>Звонки с использованием телефонов, считывающих...</td>\n",
       "      <td>2807.395</td>\n",
       "    </tr>\n",
       "    <tr>\n",
       "      <th>3</th>\n",
       "      <td>39026145</td>\n",
       "      <td>11 08:49:03</td>\n",
       "      <td>Звонки с использованием телефонов, считывающих...</td>\n",
       "      <td>2695.099</td>\n",
       "    </tr>\n",
       "    <tr>\n",
       "      <th>4</th>\n",
       "      <td>39026145</td>\n",
       "      <td>11 14:12:08</td>\n",
       "      <td>Звонки с использованием телефонов, считывающих...</td>\n",
       "      <td>2695.099</td>\n",
       "    </tr>\n",
       "    <tr>\n",
       "      <th>...</th>\n",
       "      <td>...</td>\n",
       "      <td>...</td>\n",
       "      <td>...</td>\n",
       "      <td>...</td>\n",
       "    </tr>\n",
       "    <tr>\n",
       "      <th>2282462</th>\n",
       "      <td>71902723</td>\n",
       "      <td>290 15:12:09</td>\n",
       "      <td>Агенты и менеджеры по аренде недвижимости</td>\n",
       "      <td>2133.620</td>\n",
       "    </tr>\n",
       "    <tr>\n",
       "      <th>2282463</th>\n",
       "      <td>71942984</td>\n",
       "      <td>248 00:00:00</td>\n",
       "      <td>Агенты и менеджеры по аренде недвижимости</td>\n",
       "      <td>1870.848</td>\n",
       "    </tr>\n",
       "    <tr>\n",
       "      <th>2282464</th>\n",
       "      <td>71942984</td>\n",
       "      <td>375 00:00:00</td>\n",
       "      <td>Агенты и менеджеры по аренде недвижимости</td>\n",
       "      <td>2466.016</td>\n",
       "    </tr>\n",
       "    <tr>\n",
       "      <th>2282465</th>\n",
       "      <td>74289663</td>\n",
       "      <td>27 00:00:00</td>\n",
       "      <td>Агентства по аренде автомобилей</td>\n",
       "      <td>1445.831</td>\n",
       "    </tr>\n",
       "    <tr>\n",
       "      <th>2282466</th>\n",
       "      <td>74289663</td>\n",
       "      <td>42 00:00:00</td>\n",
       "      <td>Агентства по аренде автомобилей</td>\n",
       "      <td>2386.870</td>\n",
       "    </tr>\n",
       "  </tbody>\n",
       "</table>\n",
       "<p>2282467 rows × 4 columns</p>\n",
       "</div>"
      ],
      "text/plain": [
       "          user_id            dt  \\\n",
       "0        39026145    0 10:23:26   \n",
       "1        39026145    6 07:08:31   \n",
       "2        39026145    8 07:06:10   \n",
       "3        39026145   11 08:49:03   \n",
       "4        39026145   11 14:12:08   \n",
       "...           ...           ...   \n",
       "2282462  71902723  290 15:12:09   \n",
       "2282463  71942984  248 00:00:00   \n",
       "2282464  71942984  375 00:00:00   \n",
       "2282465  74289663   27 00:00:00   \n",
       "2282466  74289663   42 00:00:00   \n",
       "\n",
       "                                                      type     value  \n",
       "0        Звонки с использованием телефонов, считывающих...  2695.099  \n",
       "1        Звонки с использованием телефонов, считывающих...  2358.212  \n",
       "2        Звонки с использованием телефонов, считывающих...  2807.395  \n",
       "3        Звонки с использованием телефонов, считывающих...  2695.099  \n",
       "4        Звонки с использованием телефонов, считывающих...  2695.099  \n",
       "...                                                    ...       ...  \n",
       "2282462          Агенты и менеджеры по аренде недвижимости  2133.620  \n",
       "2282463          Агенты и менеджеры по аренде недвижимости  1870.848  \n",
       "2282464          Агенты и менеджеры по аренде недвижимости  2466.016  \n",
       "2282465                    Агентства по аренде автомобилей  1445.831  \n",
       "2282466                    Агентства по аренде автомобилей  2386.870  \n",
       "\n",
       "[2282467 rows x 4 columns]"
      ]
     },
     "execution_count": 3,
     "metadata": {},
     "output_type": "execute_result"
    }
   ],
   "source": [
    "df = pd.read_csv(\"transactions.csv\", delimiter = \";\")\n",
    "df"
   ]
  },
  {
   "cell_type": "code",
   "execution_count": 4,
   "id": "6318dbbf",
   "metadata": {},
   "outputs": [
    {
     "data": {
      "text/html": [
       "<div>\n",
       "<style scoped>\n",
       "    .dataframe tbody tr th:only-of-type {\n",
       "        vertical-align: middle;\n",
       "    }\n",
       "\n",
       "    .dataframe tbody tr th {\n",
       "        vertical-align: top;\n",
       "    }\n",
       "\n",
       "    .dataframe thead th {\n",
       "        text-align: right;\n",
       "    }\n",
       "</style>\n",
       "<table border=\"1\" class=\"dataframe\">\n",
       "  <thead>\n",
       "    <tr style=\"text-align: right;\">\n",
       "      <th></th>\n",
       "      <th>user_id</th>\n",
       "      <th>gender</th>\n",
       "    </tr>\n",
       "  </thead>\n",
       "  <tbody>\n",
       "    <tr>\n",
       "      <th>0</th>\n",
       "      <td>6740969</td>\n",
       "      <td>1.0</td>\n",
       "    </tr>\n",
       "    <tr>\n",
       "      <th>1</th>\n",
       "      <td>36599781</td>\n",
       "      <td>0.0</td>\n",
       "    </tr>\n",
       "    <tr>\n",
       "      <th>2</th>\n",
       "      <td>91453656</td>\n",
       "      <td>1.0</td>\n",
       "    </tr>\n",
       "    <tr>\n",
       "      <th>3</th>\n",
       "      <td>17431962</td>\n",
       "      <td>1.0</td>\n",
       "    </tr>\n",
       "    <tr>\n",
       "      <th>4</th>\n",
       "      <td>72568668</td>\n",
       "      <td>1.0</td>\n",
       "    </tr>\n",
       "    <tr>\n",
       "      <th>...</th>\n",
       "      <td>...</td>\n",
       "      <td>...</td>\n",
       "    </tr>\n",
       "    <tr>\n",
       "      <th>8395</th>\n",
       "      <td>93715144</td>\n",
       "      <td>1.0</td>\n",
       "    </tr>\n",
       "    <tr>\n",
       "      <th>8396</th>\n",
       "      <td>51502229</td>\n",
       "      <td>0.0</td>\n",
       "    </tr>\n",
       "    <tr>\n",
       "      <th>8397</th>\n",
       "      <td>77655748</td>\n",
       "      <td>1.0</td>\n",
       "    </tr>\n",
       "    <tr>\n",
       "      <th>8398</th>\n",
       "      <td>87819773</td>\n",
       "      <td>1.0</td>\n",
       "    </tr>\n",
       "    <tr>\n",
       "      <th>8399</th>\n",
       "      <td>14178332</td>\n",
       "      <td>1.0</td>\n",
       "    </tr>\n",
       "  </tbody>\n",
       "</table>\n",
       "<p>8400 rows × 2 columns</p>\n",
       "</div>"
      ],
      "text/plain": [
       "       user_id  gender\n",
       "0      6740969     1.0\n",
       "1     36599781     0.0\n",
       "2     91453656     1.0\n",
       "3     17431962     1.0\n",
       "4     72568668     1.0\n",
       "...        ...     ...\n",
       "8395  93715144     1.0\n",
       "8396  51502229     0.0\n",
       "8397  77655748     1.0\n",
       "8398  87819773     1.0\n",
       "8399  14178332     1.0\n",
       "\n",
       "[8400 rows x 2 columns]"
      ]
     },
     "execution_count": 4,
     "metadata": {},
     "output_type": "execute_result"
    }
   ],
   "source": [
    "df_1 = pd.read_csv(\"gender.csv\", delimiter = \",\")\n",
    "df_1"
   ]
  },
  {
   "cell_type": "markdown",
   "id": "ad3a83c9",
   "metadata": {},
   "source": [
    "## Подготовка данных [10 баллов] \n",
    "\n",
    "Для данной задачи необходимо как-то собрать данные для каждого пользователя в один вектор (строку таблицы). Сейчас, как вы можете увидеть, в таблице с данными одному пользователю может соответствовать много строк (каждая операция - отдельная строка).\n",
    "\n",
    "Таким образом, необходима агрегация данных - это можно сделать множеством разных способов."
   ]
  },
  {
   "cell_type": "markdown",
   "id": "567817e8",
   "metadata": {},
   "source": [
    "### Агрегация "
   ]
  },
  {
   "cell_type": "markdown",
   "id": "e3c812ef",
   "metadata": {},
   "source": [
    "Произведите простую агрегацию данных и для каждого пользователя в качестве признаков получите сумму, среднее и стандартное отклонение величины его транзакций. \n",
    "\n",
    "Так же добавите для каждого пользователя колонку с таргетом.\n",
    "\n",
    "По итогу вы должны получить таблицу с колонками:\n",
    "* user_id\n",
    "* value_sum\n",
    "* value_mean\n",
    "* value_std\n",
    "* gender"
   ]
  },
  {
   "cell_type": "code",
   "execution_count": 5,
   "id": "fae2c4e0",
   "metadata": {},
   "outputs": [
    {
     "data": {
      "text/html": [
       "<div>\n",
       "<style scoped>\n",
       "    .dataframe tbody tr th:only-of-type {\n",
       "        vertical-align: middle;\n",
       "    }\n",
       "\n",
       "    .dataframe tbody tr th {\n",
       "        vertical-align: top;\n",
       "    }\n",
       "\n",
       "    .dataframe thead th {\n",
       "        text-align: right;\n",
       "    }\n",
       "</style>\n",
       "<table border=\"1\" class=\"dataframe\">\n",
       "  <thead>\n",
       "    <tr style=\"text-align: right;\">\n",
       "      <th></th>\n",
       "      <th>user_id</th>\n",
       "      <th>value_sum</th>\n",
       "      <th>value_mean</th>\n",
       "      <th>value_std</th>\n",
       "      <th>gender</th>\n",
       "    </tr>\n",
       "  </thead>\n",
       "  <tbody>\n",
       "    <tr>\n",
       "      <th>0</th>\n",
       "      <td>22899</td>\n",
       "      <td>274383.315</td>\n",
       "      <td>2143.619648</td>\n",
       "      <td>656.186785</td>\n",
       "      <td>1.0</td>\n",
       "    </tr>\n",
       "    <tr>\n",
       "      <th>1</th>\n",
       "      <td>27914</td>\n",
       "      <td>166436.523</td>\n",
       "      <td>2521.765500</td>\n",
       "      <td>415.972053</td>\n",
       "      <td>1.0</td>\n",
       "    </tr>\n",
       "    <tr>\n",
       "      <th>2</th>\n",
       "      <td>28753</td>\n",
       "      <td>251578.185</td>\n",
       "      <td>1980.930591</td>\n",
       "      <td>749.304999</td>\n",
       "      <td>0.0</td>\n",
       "    </tr>\n",
       "    <tr>\n",
       "      <th>3</th>\n",
       "      <td>31385</td>\n",
       "      <td>717856.052</td>\n",
       "      <td>2323.158744</td>\n",
       "      <td>632.491585</td>\n",
       "      <td>0.0</td>\n",
       "    </tr>\n",
       "    <tr>\n",
       "      <th>4</th>\n",
       "      <td>38084</td>\n",
       "      <td>1360028.958</td>\n",
       "      <td>2095.576206</td>\n",
       "      <td>649.030870</td>\n",
       "      <td>0.0</td>\n",
       "    </tr>\n",
       "    <tr>\n",
       "      <th>...</th>\n",
       "      <td>...</td>\n",
       "      <td>...</td>\n",
       "      <td>...</td>\n",
       "      <td>...</td>\n",
       "      <td>...</td>\n",
       "    </tr>\n",
       "    <tr>\n",
       "      <th>8351</th>\n",
       "      <td>99953525</td>\n",
       "      <td>159252.786</td>\n",
       "      <td>1608.614000</td>\n",
       "      <td>709.903466</td>\n",
       "      <td>0.0</td>\n",
       "    </tr>\n",
       "    <tr>\n",
       "      <th>8352</th>\n",
       "      <td>99967537</td>\n",
       "      <td>13026.313</td>\n",
       "      <td>2605.262600</td>\n",
       "      <td>123.013557</td>\n",
       "      <td>1.0</td>\n",
       "    </tr>\n",
       "    <tr>\n",
       "      <th>8353</th>\n",
       "      <td>99988578</td>\n",
       "      <td>1304612.429</td>\n",
       "      <td>2185.280451</td>\n",
       "      <td>638.235664</td>\n",
       "      <td>1.0</td>\n",
       "    </tr>\n",
       "    <tr>\n",
       "      <th>8354</th>\n",
       "      <td>99991245</td>\n",
       "      <td>249213.163</td>\n",
       "      <td>2026.123276</td>\n",
       "      <td>739.432221</td>\n",
       "      <td>1.0</td>\n",
       "    </tr>\n",
       "    <tr>\n",
       "      <th>8355</th>\n",
       "      <td>99999680</td>\n",
       "      <td>512044.107</td>\n",
       "      <td>2015.921681</td>\n",
       "      <td>782.301092</td>\n",
       "      <td>1.0</td>\n",
       "    </tr>\n",
       "  </tbody>\n",
       "</table>\n",
       "<p>8309 rows × 5 columns</p>\n",
       "</div>"
      ],
      "text/plain": [
       "       user_id    value_sum   value_mean   value_std  gender\n",
       "0        22899   274383.315  2143.619648  656.186785     1.0\n",
       "1        27914   166436.523  2521.765500  415.972053     1.0\n",
       "2        28753   251578.185  1980.930591  749.304999     0.0\n",
       "3        31385   717856.052  2323.158744  632.491585     0.0\n",
       "4        38084  1360028.958  2095.576206  649.030870     0.0\n",
       "...        ...          ...          ...         ...     ...\n",
       "8351  99953525   159252.786  1608.614000  709.903466     0.0\n",
       "8352  99967537    13026.313  2605.262600  123.013557     1.0\n",
       "8353  99988578  1304612.429  2185.280451  638.235664     1.0\n",
       "8354  99991245   249213.163  2026.123276  739.432221     1.0\n",
       "8355  99999680   512044.107  2015.921681  782.301092     1.0\n",
       "\n",
       "[8309 rows x 5 columns]"
      ]
     },
     "execution_count": 5,
     "metadata": {},
     "output_type": "execute_result"
    }
   ],
   "source": [
    "ag_df = df.groupby('user_id')['value'].agg(['sum', 'mean', 'std']).merge(df_1[['user_id', 'gender']], on = 'user_id', how = 'left').rename(columns = {'sum':'value_sum', 'mean':'value_mean', 'std':'value_std'}).dropna()\n",
    "ag_df"
   ]
  },
  {
   "cell_type": "markdown",
   "id": "194e73a7",
   "metadata": {},
   "source": [
    "### Отложенная выборка "
   ]
  },
  {
   "cell_type": "markdown",
   "id": "d3f431ee",
   "metadata": {},
   "source": [
    "Получите полный список пользователей и разделите их на два списка:\n",
    "* тренировочный список пользователей (80%)\n",
    "* тестовый список пользователей (20%)"
   ]
  },
  {
   "cell_type": "markdown",
   "id": "646a73cf",
   "metadata": {},
   "source": [
    "__Важное замечание__: Далее во всех пунктах, где вам нужно провалидировать (оценить) получившуюся модель исползуйте данные только для этих тестовых пользователей.\n",
    "\n",
    "Обучать все модели, естественно, нужно только на данных пользователей из обучающего списка."
   ]
  },
  {
   "cell_type": "code",
   "execution_count": 6,
   "id": "a74ea5aa",
   "metadata": {},
   "outputs": [],
   "source": [
    "df_train, df_test = train_test_split(ag_df.iloc[:, 1:], test_size = 0.2, stratify=ag_df['gender'], random_state = 0)"
   ]
  },
  {
   "cell_type": "markdown",
   "id": "c4e54aa8",
   "metadata": {},
   "source": [
    "Для нашей задачи получите признаки и целевые метки обучающей и тестовой выборки. "
   ]
  },
  {
   "cell_type": "code",
   "execution_count": 7,
   "id": "e947e769",
   "metadata": {},
   "outputs": [],
   "source": [
    "y_train = df_train['gender']\n",
    "y_test = df_test['gender'] \n",
    "X_train = df_train.drop('gender', axis=1)\n",
    "X_test = df_test.drop('gender', axis=1)"
   ]
  },
  {
   "cell_type": "markdown",
   "id": "852a5e0c",
   "metadata": {},
   "source": [
    "## Обучение и оценка модели [5 баллов] "
   ]
  },
  {
   "cell_type": "markdown",
   "id": "0d3a14bb",
   "metadata": {},
   "source": [
    "Обучите модель логистической регрессии с дефолтными параметрами.\n",
    "\n",
    "Получите предсказания вероятностей первого класса."
   ]
  },
  {
   "cell_type": "code",
   "execution_count": 8,
   "id": "9b458875",
   "metadata": {},
   "outputs": [],
   "source": [
    "model = LogisticRegression().fit(X_train, y_train)"
   ]
  },
  {
   "cell_type": "code",
   "execution_count": 9,
   "id": "09c30017",
   "metadata": {},
   "outputs": [],
   "source": [
    "p_pred = model.predict_proba(X_test)"
   ]
  },
  {
   "cell_type": "markdown",
   "id": "f4463618",
   "metadata": {},
   "source": [
    "*Вероятности первого класса:*"
   ]
  },
  {
   "cell_type": "code",
   "execution_count": 10,
   "id": "05054deb",
   "metadata": {},
   "outputs": [
    {
     "data": {
      "text/plain": [
       "array([0.42007195, 0.48467049, 0.48172703, ..., 0.49686772, 0.43870256,\n",
       "       0.48200209])"
      ]
     },
     "execution_count": 10,
     "metadata": {},
     "output_type": "execute_result"
    }
   ],
   "source": [
    "p_pred[:, -1]"
   ]
  },
  {
   "cell_type": "code",
   "execution_count": 11,
   "id": "081278f9",
   "metadata": {},
   "outputs": [],
   "source": [
    "y_pred = model.predict(X_test)"
   ]
  },
  {
   "cell_type": "markdown",
   "id": "f2345148",
   "metadata": {},
   "source": [
    "### Валидация "
   ]
  },
  {
   "cell_type": "markdown",
   "id": "ee3576b3",
   "metadata": {},
   "source": [
    "Посчитайте ROC_AUC, accuracy, precision, recall для получившихся предсказаний.\n",
    "\n",
    "Для метрик, для которых необходимы метки классов, а не вероятности - используйте порог 0.5.\n",
    "\n",
    "Далее при оценки других моделей приводите эти же метрики (если явно не указано иное)."
   ]
  },
  {
   "cell_type": "code",
   "execution_count": 12,
   "id": "434f611a",
   "metadata": {},
   "outputs": [
    {
     "name": "stdout",
     "output_type": "stream",
     "text": [
      "ROC_AUC =  0.5596239199016501\n"
     ]
    }
   ],
   "source": [
    "prob = p_pred[:, -1]\n",
    "auc = roc_auc_score(y_test, prob)\n",
    "print('ROC_AUC = ', auc)"
   ]
  },
  {
   "cell_type": "code",
   "execution_count": 13,
   "id": "bfb4e9eb",
   "metadata": {},
   "outputs": [
    {
     "data": {
      "image/png": "[encoded data removed]",
      "text/plain": [
       "<Figure size 504x504 with 1 Axes>"
      ]
     },
     "metadata": {
      "needs_background": "light"
     },
     "output_type": "display_data"
    }
   ],
   "source": [
    "fpr_test, tpr_test, thresholds_test = roc_curve(y_test, prob)\n",
    "\n",
    "plt.figure(figsize=(7, 7))\n",
    "plt.plot(fpr_test, tpr_test, label='Test ROC-AUC {0}'.format(auc))\n",
    "plt.plot([0, 1], [0, 1], '--', color=(0.6, 0.6, 0.6))\n",
    "plt.xlim([0, 1])\n",
    "plt.ylim([0, 1])\n",
    "plt.xlabel('False Positive Rate')\n",
    "plt.ylabel('True Positive Rate')\n",
    "plt.legend(loc='lower right');"
   ]
  },
  {
   "cell_type": "code",
   "execution_count": 14,
   "id": "5ec8b9e0",
   "metadata": {},
   "outputs": [
    {
     "name": "stdout",
     "output_type": "stream",
     "text": [
      "Accuracy =  0.5577617328519856\n"
     ]
    }
   ],
   "source": [
    "print('Accuracy = ', accuracy_score(y_pred, y_test))"
   ]
  },
  {
   "cell_type": "code",
   "execution_count": 15,
   "id": "aef1549a",
   "metadata": {},
   "outputs": [
    {
     "name": "stdout",
     "output_type": "stream",
     "text": [
      "Precision =  0.6\n"
     ]
    }
   ],
   "source": [
    "print('Precision = ', precision_score(y_test, y_pred))"
   ]
  },
  {
   "cell_type": "code",
   "execution_count": 16,
   "id": "a9afa316",
   "metadata": {},
   "outputs": [
    {
     "name": "stdout",
     "output_type": "stream",
     "text": [
      "Recall =  0.024291497975708502\n"
     ]
    }
   ],
   "source": [
    "print('Recall = ',recall_score(y_test, y_pred))"
   ]
  },
  {
   "cell_type": "markdown",
   "id": "9c06a7c5",
   "metadata": {},
   "source": [
    "### Вывод"
   ]
  },
  {
   "cell_type": "markdown",
   "id": "6e95c3d8",
   "metadata": {},
   "source": [
    "Как вы оцениваете качество получившейся модели и возможные причины такого качества?\n",
    "\n",
    "__Ваш вывод:__"
   ]
  },
  {
   "cell_type": "markdown",
   "id": "9eb00aa8",
   "metadata": {},
   "source": [
    "ROC AUC = 0.55, это говорит о плохом качестве модели, то есть модель логистической регрессии плохо классифицирует данные по классам (фактически классифицирует их случайно). Модель делает прогноз с точностью 55.7%; процент доверия к решению модели, что выборка относится к классу Positive составляет 60%; Recall = 0.02, это значит, что модель корректно определила 2% объектов класса Positive. На качество может влиять 1) малое количество признаков, описывающих каждого клиента, что может повысить вероятность мультиколлинеарности между признаками, а также может влиять большой диапазон значений.Кроме того, если выборка данных слишком маленькая, то модель может не смочь уловить все особенности данных. 2) Мы не оптимизировали наши данные (плохо подготовили). 3) Некорректная настройка параметров модели логстической регрессии, что мешает корректно определять классы."
   ]
  },
  {
   "cell_type": "markdown",
   "id": "e94a47be",
   "metadata": {},
   "source": [
    "# Часть 2: мб сделаем что-то более серьёзное? [макс 20 баллов]"
   ]
  },
  {
   "cell_type": "markdown",
   "id": "6724dd97",
   "metadata": {},
   "source": [
    "Давайте попробуем улучшить качество решения задачи за счёт другого метода подготовки данных.\n",
    "\n",
    "Ранее мы использовали простое преобразование, когда каждый клиент описывался только 3 значениями.\n",
    "Давайте сделаем что-то более сложное и попробуем добавить больше данных о клиенте для модели."
   ]
  },
  {
   "cell_type": "markdown",
   "id": "c5cf8456",
   "metadata": {},
   "source": [
    "## Подготовка данных [15 баллов]"
   ]
  },
  {
   "cell_type": "markdown",
   "id": "d30f62ce",
   "metadata": {},
   "source": [
    "Воспользуемся тем, что каждая транзакция у нас имеет свой тип - это уж точно более информативно, чем агрегация по всем транзакциям.\n",
    "\n",
    "Создайте сводную таблицу, где для каждого клиента (строка) будут указаны его суммарные траты на каждую категорию (столбец). Таким образом, вы должны получить таблицу с числом строк равным количеству клиентов и числом столбцов - количеству категорий трат. Каждая ячейка должна содержать суммарные траты данного клиента в данной категории.\n",
    "\n",
    "__Подсказка__: у DataFrame есть полезный метод `pivot_table`."
   ]
  },
  {
   "cell_type": "code",
   "execution_count": 17,
   "id": "a90e86e4",
   "metadata": {},
   "outputs": [
    {
     "data": {
      "text/html": [
       "<div>\n",
       "<style scoped>\n",
       "    .dataframe tbody tr th:only-of-type {\n",
       "        vertical-align: middle;\n",
       "    }\n",
       "\n",
       "    .dataframe tbody tr th {\n",
       "        vertical-align: top;\n",
       "    }\n",
       "\n",
       "    .dataframe thead th {\n",
       "        text-align: right;\n",
       "    }\n",
       "</style>\n",
       "<table border=\"1\" class=\"dataframe\">\n",
       "  <thead>\n",
       "    <tr style=\"text-align: right;\">\n",
       "      <th></th>\n",
       "      <th>user_id</th>\n",
       "      <th>Авиалинии, авиакомпании</th>\n",
       "      <th>Авиалинии, авиакомпании, нигде более не классифицированные</th>\n",
       "      <th>Автобусные линии</th>\n",
       "      <th>Автозапчасти и аксессуары</th>\n",
       "      <th>Автоматизированные бензозаправки</th>\n",
       "      <th>Автомойки</th>\n",
       "      <th>Автошины</th>\n",
       "      <th>Агентства по автотранспортным перевозкам, местные/дальные автогрузоперевозки, компании попереезду и хранению, местная доставка</th>\n",
       "      <th>Агентства по аренде автомобилей</th>\n",
       "      <th>...</th>\n",
       "      <th>Химикалии и смежные вещества, не классифицированные ранее</th>\n",
       "      <th>Химчистки</th>\n",
       "      <th>Ценные бумаги: брокеры/дилеры</th>\n",
       "      <th>Центры здоровья</th>\n",
       "      <th>Цифровые товары, игры</th>\n",
       "      <th>Школы — бизнес и секретарей</th>\n",
       "      <th>Штрафы</th>\n",
       "      <th>Штучные товары, галантерея и другие текстильные товары</th>\n",
       "      <th>Электрические части и оборудование</th>\n",
       "      <th>gender</th>\n",
       "    </tr>\n",
       "  </thead>\n",
       "  <tbody>\n",
       "    <tr>\n",
       "      <th>0</th>\n",
       "      <td>22899</td>\n",
       "      <td>0.0</td>\n",
       "      <td>0.0</td>\n",
       "      <td>0.0</td>\n",
       "      <td>0.000</td>\n",
       "      <td>0.0</td>\n",
       "      <td>0.0</td>\n",
       "      <td>0.0</td>\n",
       "      <td>0.0</td>\n",
       "      <td>0.0</td>\n",
       "      <td>...</td>\n",
       "      <td>0.0</td>\n",
       "      <td>0.0</td>\n",
       "      <td>0.0</td>\n",
       "      <td>0.0</td>\n",
       "      <td>0.00</td>\n",
       "      <td>0.0</td>\n",
       "      <td>0.0</td>\n",
       "      <td>0.0</td>\n",
       "      <td>0.0</td>\n",
       "      <td>1.0</td>\n",
       "    </tr>\n",
       "    <tr>\n",
       "      <th>1</th>\n",
       "      <td>27914</td>\n",
       "      <td>0.0</td>\n",
       "      <td>0.0</td>\n",
       "      <td>0.0</td>\n",
       "      <td>0.000</td>\n",
       "      <td>0.0</td>\n",
       "      <td>0.0</td>\n",
       "      <td>0.0</td>\n",
       "      <td>0.0</td>\n",
       "      <td>0.0</td>\n",
       "      <td>...</td>\n",
       "      <td>0.0</td>\n",
       "      <td>0.0</td>\n",
       "      <td>0.0</td>\n",
       "      <td>0.0</td>\n",
       "      <td>0.00</td>\n",
       "      <td>0.0</td>\n",
       "      <td>0.0</td>\n",
       "      <td>0.0</td>\n",
       "      <td>0.0</td>\n",
       "      <td>1.0</td>\n",
       "    </tr>\n",
       "    <tr>\n",
       "      <th>2</th>\n",
       "      <td>28753</td>\n",
       "      <td>0.0</td>\n",
       "      <td>0.0</td>\n",
       "      <td>0.0</td>\n",
       "      <td>0.000</td>\n",
       "      <td>0.0</td>\n",
       "      <td>0.0</td>\n",
       "      <td>0.0</td>\n",
       "      <td>0.0</td>\n",
       "      <td>0.0</td>\n",
       "      <td>...</td>\n",
       "      <td>0.0</td>\n",
       "      <td>0.0</td>\n",
       "      <td>0.0</td>\n",
       "      <td>0.0</td>\n",
       "      <td>0.00</td>\n",
       "      <td>0.0</td>\n",
       "      <td>0.0</td>\n",
       "      <td>0.0</td>\n",
       "      <td>0.0</td>\n",
       "      <td>0.0</td>\n",
       "    </tr>\n",
       "    <tr>\n",
       "      <th>3</th>\n",
       "      <td>31385</td>\n",
       "      <td>0.0</td>\n",
       "      <td>0.0</td>\n",
       "      <td>0.0</td>\n",
       "      <td>0.000</td>\n",
       "      <td>0.0</td>\n",
       "      <td>0.0</td>\n",
       "      <td>0.0</td>\n",
       "      <td>0.0</td>\n",
       "      <td>0.0</td>\n",
       "      <td>...</td>\n",
       "      <td>0.0</td>\n",
       "      <td>0.0</td>\n",
       "      <td>0.0</td>\n",
       "      <td>0.0</td>\n",
       "      <td>0.00</td>\n",
       "      <td>0.0</td>\n",
       "      <td>0.0</td>\n",
       "      <td>0.0</td>\n",
       "      <td>0.0</td>\n",
       "      <td>0.0</td>\n",
       "    </tr>\n",
       "    <tr>\n",
       "      <th>4</th>\n",
       "      <td>38084</td>\n",
       "      <td>0.0</td>\n",
       "      <td>0.0</td>\n",
       "      <td>0.0</td>\n",
       "      <td>0.000</td>\n",
       "      <td>0.0</td>\n",
       "      <td>0.0</td>\n",
       "      <td>0.0</td>\n",
       "      <td>0.0</td>\n",
       "      <td>0.0</td>\n",
       "      <td>...</td>\n",
       "      <td>0.0</td>\n",
       "      <td>0.0</td>\n",
       "      <td>0.0</td>\n",
       "      <td>0.0</td>\n",
       "      <td>0.00</td>\n",
       "      <td>0.0</td>\n",
       "      <td>0.0</td>\n",
       "      <td>0.0</td>\n",
       "      <td>0.0</td>\n",
       "      <td>0.0</td>\n",
       "    </tr>\n",
       "    <tr>\n",
       "      <th>...</th>\n",
       "      <td>...</td>\n",
       "      <td>...</td>\n",
       "      <td>...</td>\n",
       "      <td>...</td>\n",
       "      <td>...</td>\n",
       "      <td>...</td>\n",
       "      <td>...</td>\n",
       "      <td>...</td>\n",
       "      <td>...</td>\n",
       "      <td>...</td>\n",
       "      <td>...</td>\n",
       "      <td>...</td>\n",
       "      <td>...</td>\n",
       "      <td>...</td>\n",
       "      <td>...</td>\n",
       "      <td>...</td>\n",
       "      <td>...</td>\n",
       "      <td>...</td>\n",
       "      <td>...</td>\n",
       "      <td>...</td>\n",
       "      <td>...</td>\n",
       "    </tr>\n",
       "    <tr>\n",
       "      <th>8351</th>\n",
       "      <td>99953525</td>\n",
       "      <td>0.0</td>\n",
       "      <td>0.0</td>\n",
       "      <td>0.0</td>\n",
       "      <td>0.000</td>\n",
       "      <td>0.0</td>\n",
       "      <td>0.0</td>\n",
       "      <td>0.0</td>\n",
       "      <td>0.0</td>\n",
       "      <td>0.0</td>\n",
       "      <td>...</td>\n",
       "      <td>0.0</td>\n",
       "      <td>0.0</td>\n",
       "      <td>0.0</td>\n",
       "      <td>0.0</td>\n",
       "      <td>0.00</td>\n",
       "      <td>0.0</td>\n",
       "      <td>0.0</td>\n",
       "      <td>0.0</td>\n",
       "      <td>0.0</td>\n",
       "      <td>0.0</td>\n",
       "    </tr>\n",
       "    <tr>\n",
       "      <th>8352</th>\n",
       "      <td>99967537</td>\n",
       "      <td>0.0</td>\n",
       "      <td>0.0</td>\n",
       "      <td>0.0</td>\n",
       "      <td>0.000</td>\n",
       "      <td>0.0</td>\n",
       "      <td>0.0</td>\n",
       "      <td>0.0</td>\n",
       "      <td>0.0</td>\n",
       "      <td>0.0</td>\n",
       "      <td>...</td>\n",
       "      <td>0.0</td>\n",
       "      <td>0.0</td>\n",
       "      <td>0.0</td>\n",
       "      <td>0.0</td>\n",
       "      <td>0.00</td>\n",
       "      <td>0.0</td>\n",
       "      <td>0.0</td>\n",
       "      <td>0.0</td>\n",
       "      <td>0.0</td>\n",
       "      <td>1.0</td>\n",
       "    </tr>\n",
       "    <tr>\n",
       "      <th>8353</th>\n",
       "      <td>99988578</td>\n",
       "      <td>0.0</td>\n",
       "      <td>0.0</td>\n",
       "      <td>0.0</td>\n",
       "      <td>0.000</td>\n",
       "      <td>0.0</td>\n",
       "      <td>0.0</td>\n",
       "      <td>0.0</td>\n",
       "      <td>0.0</td>\n",
       "      <td>0.0</td>\n",
       "      <td>...</td>\n",
       "      <td>0.0</td>\n",
       "      <td>0.0</td>\n",
       "      <td>0.0</td>\n",
       "      <td>0.0</td>\n",
       "      <td>4267.24</td>\n",
       "      <td>0.0</td>\n",
       "      <td>0.0</td>\n",
       "      <td>0.0</td>\n",
       "      <td>0.0</td>\n",
       "      <td>1.0</td>\n",
       "    </tr>\n",
       "    <tr>\n",
       "      <th>8354</th>\n",
       "      <td>99991245</td>\n",
       "      <td>0.0</td>\n",
       "      <td>0.0</td>\n",
       "      <td>0.0</td>\n",
       "      <td>4446.915</td>\n",
       "      <td>0.0</td>\n",
       "      <td>0.0</td>\n",
       "      <td>0.0</td>\n",
       "      <td>0.0</td>\n",
       "      <td>0.0</td>\n",
       "      <td>...</td>\n",
       "      <td>0.0</td>\n",
       "      <td>0.0</td>\n",
       "      <td>0.0</td>\n",
       "      <td>0.0</td>\n",
       "      <td>0.00</td>\n",
       "      <td>0.0</td>\n",
       "      <td>0.0</td>\n",
       "      <td>0.0</td>\n",
       "      <td>0.0</td>\n",
       "      <td>1.0</td>\n",
       "    </tr>\n",
       "    <tr>\n",
       "      <th>8355</th>\n",
       "      <td>99999680</td>\n",
       "      <td>0.0</td>\n",
       "      <td>0.0</td>\n",
       "      <td>0.0</td>\n",
       "      <td>0.000</td>\n",
       "      <td>0.0</td>\n",
       "      <td>0.0</td>\n",
       "      <td>0.0</td>\n",
       "      <td>0.0</td>\n",
       "      <td>0.0</td>\n",
       "      <td>...</td>\n",
       "      <td>0.0</td>\n",
       "      <td>0.0</td>\n",
       "      <td>0.0</td>\n",
       "      <td>0.0</td>\n",
       "      <td>0.00</td>\n",
       "      <td>0.0</td>\n",
       "      <td>0.0</td>\n",
       "      <td>0.0</td>\n",
       "      <td>0.0</td>\n",
       "      <td>1.0</td>\n",
       "    </tr>\n",
       "  </tbody>\n",
       "</table>\n",
       "<p>8356 rows × 186 columns</p>\n",
       "</div>"
      ],
      "text/plain": [
       "       user_id  Авиалинии, авиакомпании  \\\n",
       "0        22899                      0.0   \n",
       "1        27914                      0.0   \n",
       "2        28753                      0.0   \n",
       "3        31385                      0.0   \n",
       "4        38084                      0.0   \n",
       "...        ...                      ...   \n",
       "8351  99953525                      0.0   \n",
       "8352  99967537                      0.0   \n",
       "8353  99988578                      0.0   \n",
       "8354  99991245                      0.0   \n",
       "8355  99999680                      0.0   \n",
       "\n",
       "      Авиалинии, авиакомпании, нигде более не классифицированные  \\\n",
       "0                                                   0.0            \n",
       "1                                                   0.0            \n",
       "2                                                   0.0            \n",
       "3                                                   0.0            \n",
       "4                                                   0.0            \n",
       "...                                                 ...            \n",
       "8351                                                0.0            \n",
       "8352                                                0.0            \n",
       "8353                                                0.0            \n",
       "8354                                                0.0            \n",
       "8355                                                0.0            \n",
       "\n",
       "      Автобусные линии  Автозапчасти и аксессуары  \\\n",
       "0                  0.0                      0.000   \n",
       "1                  0.0                      0.000   \n",
       "2                  0.0                      0.000   \n",
       "3                  0.0                      0.000   \n",
       "4                  0.0                      0.000   \n",
       "...                ...                        ...   \n",
       "8351               0.0                      0.000   \n",
       "8352               0.0                      0.000   \n",
       "8353               0.0                      0.000   \n",
       "8354               0.0                   4446.915   \n",
       "8355               0.0                      0.000   \n",
       "\n",
       "      Автоматизированные бензозаправки  Автомойки  Автошины  \\\n",
       "0                                  0.0        0.0       0.0   \n",
       "1                                  0.0        0.0       0.0   \n",
       "2                                  0.0        0.0       0.0   \n",
       "3                                  0.0        0.0       0.0   \n",
       "4                                  0.0        0.0       0.0   \n",
       "...                                ...        ...       ...   \n",
       "8351                               0.0        0.0       0.0   \n",
       "8352                               0.0        0.0       0.0   \n",
       "8353                               0.0        0.0       0.0   \n",
       "8354                               0.0        0.0       0.0   \n",
       "8355                               0.0        0.0       0.0   \n",
       "\n",
       "      Агентства по автотранспортным перевозкам, местные/дальные автогрузоперевозки, компании попереезду и хранению, местная доставка  \\\n",
       "0                                                   0.0                                                                                \n",
       "1                                                   0.0                                                                                \n",
       "2                                                   0.0                                                                                \n",
       "3                                                   0.0                                                                                \n",
       "4                                                   0.0                                                                                \n",
       "...                                                 ...                                                                                \n",
       "8351                                                0.0                                                                                \n",
       "8352                                                0.0                                                                                \n",
       "8353                                                0.0                                                                                \n",
       "8354                                                0.0                                                                                \n",
       "8355                                                0.0                                                                                \n",
       "\n",
       "      Агентства по аренде автомобилей  ...  \\\n",
       "0                                 0.0  ...   \n",
       "1                                 0.0  ...   \n",
       "2                                 0.0  ...   \n",
       "3                                 0.0  ...   \n",
       "4                                 0.0  ...   \n",
       "...                               ...  ...   \n",
       "8351                              0.0  ...   \n",
       "8352                              0.0  ...   \n",
       "8353                              0.0  ...   \n",
       "8354                              0.0  ...   \n",
       "8355                              0.0  ...   \n",
       "\n",
       "      Химикалии и смежные вещества, не классифицированные ранее  Химчистки  \\\n",
       "0                                                   0.0                0.0   \n",
       "1                                                   0.0                0.0   \n",
       "2                                                   0.0                0.0   \n",
       "3                                                   0.0                0.0   \n",
       "4                                                   0.0                0.0   \n",
       "...                                                 ...                ...   \n",
       "8351                                                0.0                0.0   \n",
       "8352                                                0.0                0.0   \n",
       "8353                                                0.0                0.0   \n",
       "8354                                                0.0                0.0   \n",
       "8355                                                0.0                0.0   \n",
       "\n",
       "      Ценные бумаги: брокеры/дилеры  Центры здоровья  Цифровые товары, игры  \\\n",
       "0                               0.0              0.0                   0.00   \n",
       "1                               0.0              0.0                   0.00   \n",
       "2                               0.0              0.0                   0.00   \n",
       "3                               0.0              0.0                   0.00   \n",
       "4                               0.0              0.0                   0.00   \n",
       "...                             ...              ...                    ...   \n",
       "8351                            0.0              0.0                   0.00   \n",
       "8352                            0.0              0.0                   0.00   \n",
       "8353                            0.0              0.0                4267.24   \n",
       "8354                            0.0              0.0                   0.00   \n",
       "8355                            0.0              0.0                   0.00   \n",
       "\n",
       "      Школы — бизнес и секретарей  Штрафы  \\\n",
       "0                             0.0     0.0   \n",
       "1                             0.0     0.0   \n",
       "2                             0.0     0.0   \n",
       "3                             0.0     0.0   \n",
       "4                             0.0     0.0   \n",
       "...                           ...     ...   \n",
       "8351                          0.0     0.0   \n",
       "8352                          0.0     0.0   \n",
       "8353                          0.0     0.0   \n",
       "8354                          0.0     0.0   \n",
       "8355                          0.0     0.0   \n",
       "\n",
       "      Штучные товары, галантерея и другие текстильные товары  \\\n",
       "0                                                   0.0        \n",
       "1                                                   0.0        \n",
       "2                                                   0.0        \n",
       "3                                                   0.0        \n",
       "4                                                   0.0        \n",
       "...                                                 ...        \n",
       "8351                                                0.0        \n",
       "8352                                                0.0        \n",
       "8353                                                0.0        \n",
       "8354                                                0.0        \n",
       "8355                                                0.0        \n",
       "\n",
       "      Электрические части и оборудование  gender  \n",
       "0                                    0.0     1.0  \n",
       "1                                    0.0     1.0  \n",
       "2                                    0.0     0.0  \n",
       "3                                    0.0     0.0  \n",
       "4                                    0.0     0.0  \n",
       "...                                  ...     ...  \n",
       "8351                                 0.0     0.0  \n",
       "8352                                 0.0     1.0  \n",
       "8353                                 0.0     1.0  \n",
       "8354                                 0.0     1.0  \n",
       "8355                                 0.0     1.0  \n",
       "\n",
       "[8356 rows x 186 columns]"
      ]
     },
     "execution_count": 17,
     "metadata": {},
     "output_type": "execute_result"
    }
   ],
   "source": [
    "new_df = pd.pivot_table(df, index = ['user_id'], columns=['type'], values='value', aggfunc='sum', fill_value=0).merge(df_1[['user_id', 'gender']], on = 'user_id', how = 'left')\n",
    "new_df"
   ]
  },
  {
   "cell_type": "markdown",
   "id": "ad21c6ef",
   "metadata": {},
   "source": [
    "## Обучение и валидация модели [5 баллов]"
   ]
  },
  {
   "cell_type": "markdown",
   "id": "39a87010",
   "metadata": {},
   "source": [
    "Аналогично предыдущей части разделите данные на обучающую и тестовую выборку (80%/20%), обучите модель на дефолтных параметрах и оцените качество."
   ]
  },
  {
   "cell_type": "code",
   "execution_count": 18,
   "id": "8aa668ce",
   "metadata": {},
   "outputs": [],
   "source": [
    "trainy, testy = train_test_split(new_df.iloc[:, 1:], test_size = 0.2, stratify=new_df['gender'], random_state = 0)\n",
    "y_tr = trainy['gender']\n",
    "y_te = testy['gender'] \n",
    "X_tr = trainy.drop('gender', axis=1)\n",
    "X_te = testy.drop('gender', axis=1)\n",
    "model_1 = LogisticRegression().fit(X_tr, y_tr)\n",
    "p_pre = model_1.predict_proba(X_te)"
   ]
  },
  {
   "cell_type": "code",
   "execution_count": 19,
   "id": "3978b68c",
   "metadata": {
    "scrolled": false
   },
   "outputs": [
    {
     "data": {
      "text/plain": [
       "array([0.70321697, 0.98910699, 0.60655303, ..., 0.46187969, 0.69886766,\n",
       "       0.46408131])"
      ]
     },
     "execution_count": 19,
     "metadata": {},
     "output_type": "execute_result"
    }
   ],
   "source": [
    "p_pre[:, -1]"
   ]
  },
  {
   "cell_type": "code",
   "execution_count": 20,
   "id": "667f56c5",
   "metadata": {},
   "outputs": [],
   "source": [
    "y_pre = model_1.predict(X_te)"
   ]
  },
  {
   "cell_type": "code",
   "execution_count": 21,
   "id": "9a30184e",
   "metadata": {},
   "outputs": [
    {
     "name": "stdout",
     "output_type": "stream",
     "text": [
      "ROC_AUC =  0.8027145495920649\n"
     ]
    }
   ],
   "source": [
    "probability = p_pre[:, -1]\n",
    "auc_1 = roc_auc_score(y_te, probability)\n",
    "print('ROC_AUC = ', auc_1)"
   ]
  },
  {
   "cell_type": "code",
   "execution_count": 22,
   "id": "9c6e6848",
   "metadata": {},
   "outputs": [
    {
     "data": {
      "image/png": "[encoded data removed]",
      "text/plain": [
       "<Figure size 504x504 with 1 Axes>"
      ]
     },
     "metadata": {
      "needs_background": "light"
     },
     "output_type": "display_data"
    }
   ],
   "source": [
    "fpr, tpr, thresholds = roc_curve(y_te, probability)\n",
    "\n",
    "plt.figure(figsize=(7, 7))\n",
    "plt.plot(fpr, tpr, label='Test ROC-AUC {0}'.format(auc_1))\n",
    "plt.plot([0, 1], [0, 1], '--', color=(0.6, 0.6, 0.6))\n",
    "plt.xlim([0, 1])\n",
    "plt.ylim([0, 1])\n",
    "plt.xlabel('False Positive Rate')\n",
    "plt.ylabel('True Positive Rate')\n",
    "plt.legend(loc='lower right');"
   ]
  },
  {
   "cell_type": "code",
   "execution_count": 23,
   "id": "19ec8166",
   "metadata": {
    "scrolled": true
   },
   "outputs": [
    {
     "name": "stdout",
     "output_type": "stream",
     "text": [
      "Accuracy =  0.7260765550239234\n"
     ]
    }
   ],
   "source": [
    "print('Accuracy = ', accuracy_score(y_pre, y_te))"
   ]
  },
  {
   "cell_type": "code",
   "execution_count": 24,
   "id": "116abefc",
   "metadata": {
    "scrolled": true
   },
   "outputs": [
    {
     "name": "stdout",
     "output_type": "stream",
     "text": [
      "Precision =  0.7195121951219512\n"
     ]
    }
   ],
   "source": [
    "print('Precision = ', precision_score(y_te, y_pre))"
   ]
  },
  {
   "cell_type": "code",
   "execution_count": 25,
   "id": "b7d06737",
   "metadata": {},
   "outputs": [
    {
     "name": "stdout",
     "output_type": "stream",
     "text": [
      "Recall =  0.6327077747989276\n"
     ]
    }
   ],
   "source": [
    "print('Recall = ', recall_score(y_te, y_pre))"
   ]
  },
  {
   "cell_type": "markdown",
   "id": "8f67c1fb",
   "metadata": {},
   "source": [
    "### Вывод "
   ]
  },
  {
   "cell_type": "markdown",
   "id": "3988e390",
   "metadata": {},
   "source": [
    "Изменилось ли качество модели? Почему?\n",
    "\n",
    "__Ваш вывод:__\n",
    "Да, качество модели сильно изменилось и при том в лучшую сторону. Это произошло за счёт увеличения числа признаков. При увеличении количества признаков модель логистической регрессии имеет больше информации о данных. Также новые признаки могут увеличить дискриминирующую способность модели, т.е. способность разделять классы объектов. Влияние также может оказывать уменьшения диапозона значений, что могло снизить корреляцию между признаками."
   ]
  },
  {
   "cell_type": "markdown",
   "id": "39eb4d89",
   "metadata": {},
   "source": [
    "# Часть 3: что мы всё про данные? Давайте про модель \n",
    "# [макс 30 баллов]"
   ]
  },
  {
   "cell_type": "markdown",
   "id": "132aaef6",
   "metadata": {},
   "source": [
    "Ранее мы работали только над подготовкой обучающей выборки. Давайте теперь попробуем изменить модель, чтобы добиться наилучшего качества. \n",
    "\n",
    "Входные данные для этой части - выборка с предыдущей."
   ]
  },
  {
   "cell_type": "markdown",
   "id": "381b15b7",
   "metadata": {},
   "source": [
    "## Нормирование данных [5 баллов] "
   ]
  },
  {
   "cell_type": "markdown",
   "id": "0a268750",
   "metadata": {},
   "source": [
    "Как мы знаем, линейные модели любят нормированные данные.\n",
    "\n",
    "Приведите значения всех признаков в отрезок [0, 1]\n",
    "\n",
    "__Замечание__: если вы используете метод, который удаляет информацию о названиях колонок - сохраните эти названия в отдельную переменную, вам это потом может понадобиться."
   ]
  },
  {
   "cell_type": "code",
   "execution_count": 26,
   "id": "e46d6161",
   "metadata": {},
   "outputs": [],
   "source": [
    "names_of_columns = trainy.columns.tolist()\n",
    "\n",
    "scaler = MinMaxScaler()\n",
    "X_train_2 = scaler.fit_transform(X_tr)\n",
    "X_test_2 = scaler.fit_transform(X_te)\n",
    "y_train_2 = y_tr\n",
    "y_test_2 = y_te"
   ]
  },
  {
   "cell_type": "markdown",
   "id": "7adad023",
   "metadata": {},
   "source": [
    "## Подбор параметров [15 баллов]"
   ]
  },
  {
   "cell_type": "markdown",
   "id": "e3a63257",
   "metadata": {},
   "source": [
    "Подберите наилучшие параметры для модели линейной регрессии. Важные уточнения:\n",
    "\n",
    "* используйте перебор по сетке\n",
    "* в качестве метрики используйте ROC AUC\n",
    "* для оценки параметров делайте кросс-валидацию на 4 фолдах\n",
    "\n",
    "__Замечание__: у линейной регрессии множество доступных значений для некоторых параметров зависит от метода оптимизации (solver). Например, lbfgs-алгоритм не подерживает l1-регуляризацию.\n",
    "\n",
    "Поэтому действуйте шагами: сначала подберите solver, а потом уже переберите доступные для него параметры."
   ]
  },
  {
   "cell_type": "code",
   "execution_count": 27,
   "id": "88976575",
   "metadata": {},
   "outputs": [
    {
     "name": "stdout",
     "output_type": "stream",
     "text": [
      "{'solver': 'liblinear'}\n",
      "0.7803307731323817\n"
     ]
    }
   ],
   "source": [
    "list_of_solvers = ['lbfgs', 'liblinear', 'newton-cg', 'newton-cholesky', 'sag', 'saga']\n",
    "params = dict(solver=list_of_solvers)\n",
    "logreg = LogisticRegression(n_jobs=-1, random_state = 0)\n",
    "cl = GridSearchCV(logreg, params, cv = 4, scoring='roc_auc')\n",
    "cl.fit(X_train_2, y_train_2)\n",
    "print(cl.best_params_)\n",
    "print(cl.best_score_)"
   ]
  },
  {
   "cell_type": "code",
   "execution_count": 28,
   "id": "8db9d9ad",
   "metadata": {},
   "outputs": [
    {
     "name": "stdout",
     "output_type": "stream",
     "text": [
      "lbfgs:  0.780318\n",
      "liblinear:  0.780331\n",
      "newton-cg:  0.780320\n",
      "newton-cholesky:  nan\n",
      "sag:  0.780318\n",
      "saga:  0.780314\n"
     ]
    }
   ],
   "source": [
    "scores = cl.cv_results_['mean_test_score']\n",
    "\n",
    "for score, solver, in zip(scores, list_of_solvers):\n",
    "    print(f\"{solver}: {score: f}\")"
   ]
  },
  {
   "cell_type": "markdown",
   "id": "a0e845a0",
   "metadata": {},
   "source": [
    "_Источник:_ https://towardsdatascience.com/dont-sweat-the-solver-stuff-aea7cddc3451"
   ]
  },
  {
   "cell_type": "code",
   "execution_count": 29,
   "id": "71bca3ec",
   "metadata": {
    "scrolled": true
   },
   "outputs": [
    {
     "name": "stdout",
     "output_type": "stream",
     "text": [
      "Fitting 4 folds for each of 40 candidates, totalling 160 fits\n"
     ]
    },
    {
     "data": {
      "text/plain": [
       "LogisticRegression(C=1.623776739188721, penalty='l1', solver='liblinear')"
      ]
     },
     "execution_count": 29,
     "metadata": {},
     "output_type": "execute_result"
    }
   ],
   "source": [
    "lg = LogisticRegression()\n",
    "param_grid = [    \n",
    "    {'penalty' : ['l1', 'l2'],\n",
    "    'C' : np.logspace(-4, 4, 20),\n",
    "    'solver' : ['liblinear']}\n",
    "]\n",
    "\n",
    "clf = GridSearchCV(lg, param_grid = param_grid, cv = 4, verbose=True, n_jobs=-1, scoring='roc_auc')\n",
    "\n",
    "best_clf = clf.fit(X_train_2, y_train_2)\n",
    "best_clf.best_estimator_"
   ]
  },
  {
   "cell_type": "code",
   "execution_count": 30,
   "id": "1f9af7d6",
   "metadata": {},
   "outputs": [],
   "source": [
    "best_lg = LogisticRegression(C=1.623776739188721, penalty='l1', solver='liblinear').fit(X_train_2, y_train_2)"
   ]
  },
  {
   "cell_type": "markdown",
   "id": "d6c296ef",
   "metadata": {},
   "source": [
    "Оцените качество лучшей модели на тестовых данных аналогично предыдущим задачам."
   ]
  },
  {
   "cell_type": "code",
   "execution_count": 31,
   "id": "a264b6ee",
   "metadata": {},
   "outputs": [
    {
     "name": "stdout",
     "output_type": "stream",
     "text": [
      "[0.14043897 0.39764851 0.82712055 ... 0.44341859 0.78521675 0.39062083]\n"
     ]
    }
   ],
   "source": [
    "p_pred_2 = best_clf.predict_proba(X_test_2)\n",
    "proba = p_pred_2[:, -1]\n",
    "print(proba)\n",
    "y_pred_2 = best_clf.predict(X_test_2)"
   ]
  },
  {
   "cell_type": "code",
   "execution_count": 32,
   "id": "0b2beefc",
   "metadata": {
    "scrolled": true
   },
   "outputs": [
    {
     "name": "stdout",
     "output_type": "stream",
     "text": [
      "ROC_AUC =  0.7953042576969178\n"
     ]
    }
   ],
   "source": [
    "auc_2 = roc_auc_score(y_test_2, proba)\n",
    "print('ROC_AUC = ', auc_2)"
   ]
  },
  {
   "cell_type": "code",
   "execution_count": 33,
   "id": "ad37be4c",
   "metadata": {},
   "outputs": [
    {
     "data": {
      "image/png": "[encoded data removed]",
      "text/plain": [
       "<Figure size 504x504 with 1 Axes>"
      ]
     },
     "metadata": {
      "needs_background": "light"
     },
     "output_type": "display_data"
    }
   ],
   "source": [
    "f, t, thr = roc_curve(y_test_2, proba)\n",
    "\n",
    "plt.figure(figsize=(7, 7))\n",
    "plt.plot(f, t, label='Test ROC-AUC {0}'.format(auc_2))\n",
    "plt.plot([0, 1], [0, 1], '--', color=(0.6, 0.6, 0.6))\n",
    "plt.xlim([0, 1])\n",
    "plt.ylim([0, 1])\n",
    "plt.xlabel('False Positive Rate')\n",
    "plt.ylabel('True Positive Rate')\n",
    "plt.legend(loc='lower right');"
   ]
  },
  {
   "cell_type": "code",
   "execution_count": 34,
   "id": "03e718f2",
   "metadata": {
    "scrolled": true
   },
   "outputs": [
    {
     "name": "stdout",
     "output_type": "stream",
     "text": [
      "Accuracy =  0.7272727272727273\n"
     ]
    }
   ],
   "source": [
    "print('Accuracy = ', accuracy_score(y_pred_2, y_test_2))"
   ]
  },
  {
   "cell_type": "code",
   "execution_count": 35,
   "id": "d6858808",
   "metadata": {
    "scrolled": false
   },
   "outputs": [
    {
     "name": "stdout",
     "output_type": "stream",
     "text": [
      "Precision =  0.7947154471544715\n"
     ]
    }
   ],
   "source": [
    "print('Precision = ', precision_score(y_test_2, y_pred_2))"
   ]
  },
  {
   "cell_type": "code",
   "execution_count": 36,
   "id": "948a1d5e",
   "metadata": {},
   "outputs": [
    {
     "name": "stdout",
     "output_type": "stream",
     "text": [
      "Recall =  0.5241286863270778\n"
     ]
    }
   ],
   "source": [
    "print('Recall = ', recall_score(y_test_2, y_pred_2))"
   ]
  },
  {
   "cell_type": "markdown",
   "id": "a5f49648",
   "metadata": {},
   "source": [
    "Получилось ли добиться лучше качества при подборе параметров?\n",
    "Почему так? \n",
    "\n",
    "Для чего мы использовали одновременно кросс-валидацию и отложенную тестовую выборку?\n",
    "\n",
    "__Ваш вывод__:\n",
    "Лучшего качества добиться не удалось, значение ROC AUC снизилось на 0.5%. Возможно лучшего качества не удалось добиться по нескольким причинам: 1) Небалансированные классы, модель может быть склонна к предсказанию более часто встречающегося класса; 2) Некоторые параметры модели не имеют большого влияния на результаты: не все параметры модели могут быть одинаково важны для предсказания результатов; 3) Некоторые признаки оказывают более сильное влияние на вероятность одного из классов.\n",
    "\n",
    "Сочетание кросс-валидации и отложенной тестовой выборки позволяет получить более точную оценку качества модели и выявить проблемы, связанные с переобучением.(Кросс-валидация используется для оценки качества модели на основе ее поведения на разных наборах данных. Отложенная тестовая выборка используется для финальной проверки модели после завершения ее обучения. Тестовая выборка содержит данные, которые не использовались при обучении модели, что позволяет получить более объективную оценку ее качества. Тестовая выборка также может помочь идентифицировать проблемы, связанные с переобучением, которые могут возникнуть при использовании кросс-валидации.)"
   ]
  },
  {
   "cell_type": "markdown",
   "id": "4db51ec9",
   "metadata": {},
   "source": [
    "## Подбор отсечения [5 баллов]"
   ]
  },
  {
   "cell_type": "markdown",
   "id": "9b9d5678",
   "metadata": {},
   "source": [
    "Ранее мы работали или с вероятностями из модели или с метками, полученных при отсечении по веростности с порогом 0.5.\n",
    "\n",
    "Стоит сказать, что порог 0.5 для разделения классов не всегда самый лучший. Часто нам нужно так подобрать порог, чтобы удовлетворить наши требования по точности и полноте.\n",
    "\n",
    "Давайте подберём порог, который максимизирует F_beta меру при условии, что нам полнота в 5 раз важнее точности.\n",
    "\n",
    "Вычислите наилучший порог и нарисуйте график зависимости этой метрики от порога разделения."
   ]
  },
  {
   "cell_type": "code",
   "execution_count": 37,
   "id": "e00684bb",
   "metadata": {
    "scrolled": true
   },
   "outputs": [
    {
     "name": "stdout",
     "output_type": "stream",
     "text": [
      "Лучший порог= 0.0\n"
     ]
    },
    {
     "data": {
      "image/png": "[encoded data removed]",
      "text/plain": [
       "<Figure size 432x288 with 1 Axes>"
      ]
     },
     "metadata": {
      "needs_background": "light"
     },
     "output_type": "display_data"
    }
   ],
   "source": [
    "threshold = np.linspace(0,1,50)\n",
    "betas_list = []\n",
    "for th in threshold:\n",
    "    y_preds = 1*(proba >= th)\n",
    "    beta_scores = fbeta_score(y_test_2, y_preds, beta=5)\n",
    "    betas_list.append(beta_scores)\n",
    "plt.plot(betas_list, threshold)\n",
    "plt.xlabel(\"Значение порога\")\n",
    "plt.ylabel(\"F_beta_score\")\n",
    "plt.title('график зависимости F_beta от порога разделения', fontsize= 14);\n",
    "max_fbeta = max(betas_list) \n",
    "max_index = betas_list.index(max_fbeta)\n",
    "print('Лучший порог=', threshold[max_index])"
   ]
  },
  {
   "cell_type": "markdown",
   "id": "9692dde3",
   "metadata": {},
   "source": [
    "## Интерпретация модели [5 баллов]"
   ]
  },
  {
   "cell_type": "markdown",
   "id": "fda297e1",
   "metadata": {},
   "source": [
    "Часто нам хочется интерпритировать предсказания модели - понять, как наши признаки влияют на её ответ.\n",
    "В случае сложных моделей сделать это не просто - чем сложнее модель, тем более сложные закономерности она извлекает и тем тяжелее нам их понять.\n",
    "\n",
    "Но в случае линейной регресии это просто сделать, посмотрев на её обучаемые параметры (вспоминайте!).\n",
    "\n",
    "Получите список признаков, которые увеличивают вероятность метки 0.\n",
    "Аналогично для метки 1."
   ]
  },
  {
   "cell_type": "code",
   "execution_count": 38,
   "id": "2625f3ef",
   "metadata": {
    "scrolled": true
   },
   "outputs": [
    {
     "name": "stdout",
     "output_type": "stream",
     "text": [
      "Признаки, увеличивающие вероятность класса 1:\n",
      "Автозапчасти и аксессуары; Станции техобслуживания; Телекоммуникационное оборудование, включая продажу телефонов; Кинотеатры; Продажа электронного оборудования; Галереи/учреждения видеоигр; Рестораны, закусочные; Магазины с продажей спиртных напитков на вынос (пиво, вино и ликер); Горючее топливо — уголь, нефть, разжиженный бензин, дрова; Кабельные и другие платные телевизионные услуги\n"
     ]
    }
   ],
   "source": [
    "importance = best_lg.coef_[0]\n",
    "max_indices = np.argsort(importance)[::-1][:10]\n",
    "feature_arr = np.array(names_of_columns)\n",
    "print('Признаки, увеличивающие вероятность класса 1:')\n",
    "print(*feature_arr.take(max_indices), sep = '; ')"
   ]
  },
  {
   "cell_type": "code",
   "execution_count": 39,
   "id": "58ecb85b",
   "metadata": {},
   "outputs": [
    {
     "name": "stdout",
     "output_type": "stream",
     "text": [
      "Признаки, увеличивающие вероятность класса 0:\n",
      "Аптеки; Готовая женская одежда; Магазины косметики; Ткани, обивочный материал, гардины и портьеры, жалюзи; Различные магазины одежды и аксессуаров; Одежда для всей семьи; Аксессуары для женщин; Магазины мужской и женской одежды; Магазины офисных, школьных принадлежностей, канцтоваров; Звонки с использованием телефонов, считывающих магнитную ленту\n"
     ]
    }
   ],
   "source": [
    "min_indices = np.argsort(importance)[::-1][:-11:-1]\n",
    "print('Признаки, увеличивающие вероятность класса 0:')\n",
    "print(*feature_arr.take(min_indices), sep = '; ')"
   ]
  },
  {
   "cell_type": "markdown",
   "id": "93723beb",
   "metadata": {},
   "source": [
    "# Часть 4: ва-банк / пространство для творчества [макс 30 баллов]"
   ]
  },
  {
   "cell_type": "markdown",
   "id": "97dc0173",
   "metadata": {},
   "source": [
    "Добейтесь максимального качества, больше качество - больше баллов.\n",
    "\n",
    "Стратегия подготовки данных и обучения модели на ваше усмотрение.\n",
    "\n",
    "Условия:\n",
    "* Оценка на отложенной тестовой группе пользователей, использовавшейся в прошлых пунктах (20%)\n",
    "* В качестве метрики используйте ROC_AUC\n",
    "\n",
    "__Замечание__: \n",
    "\n",
    "Ответа на вопрос \"какое нужно качество для максимального балла?\" не будет.\n",
    "\n",
    "Используйте все свои знания, чтобы добиться наилучшего результата."
   ]
  },
  {
   "cell_type": "markdown",
   "id": "2c2a1870",
   "metadata": {},
   "source": [
    "_Источник:_ https://habr.com/ru/companies/nix/articles/425907/"
   ]
  },
  {
   "cell_type": "code",
   "execution_count": 56,
   "id": "8acfb8a0",
   "metadata": {
    "scrolled": true
   },
   "outputs": [
    {
     "name": "stdout",
     "output_type": "stream",
     "text": [
      "Fitting 4 folds for each of 180 candidates, totalling 720 fits\n",
      "RandomForestClassifier(max_depth=16, max_features=21)\n",
      "{'max_depth': 16, 'max_features': 21, 'n_estimators': 100}\n"
     ]
    }
   ],
   "source": [
    "RF = RandomForestClassifier()\n",
    "grid = [\n",
    "    {'n_estimators' : list(range(10,101,10)),\n",
    "    'max_features' : list(range(6,32,5)),\n",
    "    'max_depth' : [2, 8, 16]}\n",
    "]\n",
    "\n",
    "gs_object = GridSearchCV(RF, param_grid = grid, cv = 4, verbose=True, n_jobs=-1)\n",
    "\n",
    "best_rf = gs_object.fit(X_train_2, y_train_2)\n",
    "print(best_rf.best_estimator_)\n",
    "print(best_rf.best_params_)"
   ]
  },
  {
   "cell_type": "code",
   "execution_count": 57,
   "id": "88221250",
   "metadata": {},
   "outputs": [
    {
     "name": "stdout",
     "output_type": "stream",
     "text": [
      "ROC_AUC =  0.8405998297616084\n",
      "Accuracy =  0.7607655502392344\n",
      "Precision =  0.7808441558441559\n",
      "Recall =  0.6447721179624665\n"
     ]
    }
   ],
   "source": [
    "final_model = RandomForestClassifier(max_depth = 16, max_features = 21, n_estimators = 100).fit(X_train_2, y_train_2)\n",
    "\n",
    "predictions_new_f = final_model.predict_proba(X_test_2)[:, -1]\n",
    "auc_f = roc_auc_score(y_test_2, predictions_new_f)\n",
    "y_pred_f = final_model.predict(X_test_2)\n",
    "print('ROC_AUC = ', auc_f)\n",
    "print('Accuracy = ', accuracy_score(y_pred_f, y_test_2))\n",
    "print('Precision = ', precision_score(y_test_2, y_pred_f))\n",
    "print('Recall = ', recall_score(y_test_2, y_pred_f))"
   ]
  },
  {
   "cell_type": "markdown",
   "id": "4c8397f0",
   "metadata": {},
   "source": [
    "Попробуем использовать градиентный бустинг и подобрать параметры:"
   ]
  },
  {
   "cell_type": "code",
   "execution_count": 46,
   "id": "e442c16f",
   "metadata": {},
   "outputs": [
    {
     "name": "stdout",
     "output_type": "stream",
     "text": [
      "ROC_AUC =  0.8383871649517368\n"
     ]
    }
   ],
   "source": [
    "gradient_boosted = GradientBoostingRegressor()\n",
    "\n",
    "grad_model = gradient_boosted.fit(X_train_2, y_train_2)\n",
    "\n",
    "predictions = grad_model.predict(X_test_2)\n",
    "auc_3 = roc_auc_score(y_test_2, predictions)\n",
    "print('ROC_AUC = ', auc_3)"
   ]
  },
  {
   "cell_type": "code",
   "execution_count": 50,
   "id": "9c6e42ed",
   "metadata": {},
   "outputs": [
    {
     "name": "stdout",
     "output_type": "stream",
     "text": [
      "Fitting 4 folds for each of 25 candidates, totalling 100 fits\n",
      "GradientBoostingRegressor(max_depth=2, max_features='auto', min_samples_leaf=4,\n",
      "                          min_samples_split=10, n_estimators=500,\n",
      "                          random_state=0)\n",
      "{'n_estimators': 500, 'min_samples_split': 10, 'min_samples_leaf': 4, 'max_features': 'auto', 'max_depth': 2, 'loss': 'ls'}\n"
     ]
    }
   ],
   "source": [
    "loss = ['ls', 'lad', 'huber']\n",
    "n_estimators = [100, 500, 900, 1100, 1500]\n",
    "max_depth = [2, 3, 5, 10, 15]\n",
    "min_samples_leaf = [1, 2, 4, 6, 8]\n",
    "min_samples_split = [2, 4, 6, 10]\n",
    "max_features = ['auto', 'sqrt', 'log2', None]\n",
    "\n",
    " \n",
    "hyperparameter_grid = {'loss': loss,\n",
    "    'n_estimators': n_estimators,\n",
    "    'max_depth': max_depth,\n",
    "    'min_samples_leaf': min_samples_leaf,\n",
    "    'min_samples_split': min_samples_split,\n",
    "    'max_features': max_features}\n",
    "\n",
    "grad_model_2 = GradientBoostingRegressor(random_state = 0)\n",
    "\n",
    "\n",
    "random_cv = RandomizedSearchCV(estimator=grad_model_2,\n",
    "    param_distributions=hyperparameter_grid,\n",
    "    cv=4, n_iter=25, \n",
    "    scoring = 'roc_auc',\n",
    "    n_jobs = -1, verbose = 1, \n",
    "    return_train_score = True,\n",
    "    random_state=4)\n",
    "\n",
    "best_cv = random_cv.fit(X_train_2, y_train_2) \n",
    "\n",
    "print(best_cv.best_estimator_)\n",
    "print(best_cv.best_params_)"
   ]
  },
  {
   "cell_type": "code",
   "execution_count": 55,
   "id": "46d815c8",
   "metadata": {},
   "outputs": [
    {
     "name": "stdout",
     "output_type": "stream",
     "text": [
      "ROC_AUC =  0.8402770137638318\n"
     ]
    }
   ],
   "source": [
    "best_gr_b = GradientBoostingRegressor(max_depth=2, max_features='auto', min_samples_leaf=4,\n",
    "                          min_samples_split=10, n_estimators=500, loss='ls', \n",
    "                          random_state=0)\n",
    "new_grad_model = best_gr_b.fit(X_train_2, y_train_2)\n",
    "\n",
    "predictions_new = new_grad_model.predict(X_test_2)\n",
    "auc_4 = roc_auc_score(y_test_2, predictions_new)\n",
    "print('ROC_AUC = ', auc_4)"
   ]
  },
  {
   "cell_type": "markdown",
   "id": "c7d02c87",
   "metadata": {},
   "source": [
    "__Таким образом,__ значение ROC AUC для Random Forest лучше, чем для градиентного бустинга, хоть и не сильно."
   ]
  }
 ],
 "metadata": {
  "kernelspec": {
   "display_name": "Python 3 (ipykernel)",
   "language": "python",
   "name": "python3"
  },
  "language_info": {
   "codemirror_mode": {
    "name": "ipython",
    "version": 3
   },
   "file_extension": ".py",
   "mimetype": "text/x-python",
   "name": "python",
   "nbconvert_exporter": "python",
   "pygments_lexer": "ipython3",
   "version": "3.9.7"
  }
 },
 "nbformat": 4,
 "nbformat_minor": 5
}
