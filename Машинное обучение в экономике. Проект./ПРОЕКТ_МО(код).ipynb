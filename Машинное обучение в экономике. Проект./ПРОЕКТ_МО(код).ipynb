{
  "cells": [
    {
      "cell_type": "markdown",
      "metadata": {
        "id": "WkdDi-M0kkZE"
      },
      "source": [
        "# Машинное обучение в экономике 🙇"
      ]
    },
    {
      "cell_type": "markdown",
      "metadata": {
        "id": "OBQQ0fqdkl4B"
      },
      "source": [
        "## Генерация и предварительная обработка данных 🤪"
      ]
    },
    {
      "cell_type": "code",
      "source": [
        "%%capture\n",
        "!pip install bnlearn\n",
        "!pip install catboost\n",
        "!pip install causalinference\n",
        "!pip install doubleml"
      ],
      "metadata": {
        "id": "VV640bPS_c8g",
        "collapsed": true
      },
      "execution_count": null,
      "outputs": []
    },
    {
      "cell_type": "markdown",
      "metadata": {
        "id": "asb1JlTakuJd"
      },
      "source": [
        "Установка библиотек"
      ]
    },
    {
      "cell_type": "code",
      "execution_count": null,
      "metadata": {
        "id": "ucKwji0Ak15r"
      },
      "outputs": [],
      "source": [
        "# Подключим необходимые библиотеки\n",
        "import numpy as np\n",
        "import pandas as pd\n",
        "import scipy as scipy\n",
        "from copy import deepcopy\n",
        "import math\n",
        "from scipy.stats import multivariate_normal\n",
        "import matplotlib.pyplot as plt\n",
        "from scipy.stats import t, chi2, f, norm, poisson, binom, uniform, expon, logistic\n",
        "import seaborn\n",
        "import networkx as nx\n",
        "from sklearn.model_selection import train_test_split\n",
        "from sklearn.neighbors import KNeighborsClassifier\n",
        "from sklearn.metrics import confusion_matrix\n",
        "from sklearn.model_selection import cross_val_score\n",
        "from sklearn.model_selection import GridSearchCV\n",
        "from sklearn.model_selection import RandomizedSearchCV\n",
        "from sklearn.metrics import RocCurveDisplay\n",
        "from sklearn import metrics\n",
        "from sklearn.preprocessing import StandardScaler\n",
        "from sklearn.ensemble import RandomForestClassifier       # случайный лес (классификация)\n",
        "from sklearn.ensemble import RandomForestRegressor        # случайный лес (регрессия)\n",
        "from sklearn.ensemble import GradientBoostingClassifier   # градиентный бустинг (классификация)\n",
        "from sklearn.ensemble import GradientBoostingRegressor    # градиентный бустинг (регрессия)\n",
        "import statsmodels.api as sm                              # линейная регрессия\n",
        "from sklearn.linear_model import LogisticRegression       # логистическая регрессия\n",
        "from sklearn.metrics import roc_curve, auc\n",
        "from sklearn.metrics import roc_auc_score\n",
        "from sklearn.metrics import accuracy_score\n",
        "from sklearn.metrics import precision_score, recall_score\n",
        "import bnlearn\n",
        "from sklearn.metrics import mean_squared_error, mean_absolute_percentage_error\n",
        "from sklearn.neighbors import KNeighborsRegressor         #метод ближайших соседей (регрессия)\n",
        "import doubleml as dml"
      ]
    },
    {
      "cell_type": "markdown",
      "metadata": {
        "id": "4aCXy857zCcX"
      },
      "source": [
        "**Описание сюжета** 😸"
      ]
    },
    {
      "cell_type": "markdown",
      "metadata": {
        "id": "Tc7Arxgpk4sy"
      },
      "source": [
        "**Целевая переменная** - цена авиабилета (в долларах)   $\\text{Ticket_Price}_{i}$.\n",
        "\n",
        "**Переменная воздействия** - количество свободных мест  $\\text{Last_ticket}_{i}$ (1 - свободных мест меньше 20, 0 - иначе).\n",
        "\n",
        "**Инструментальная переменная** - время вылета в «час пик»  $\\text{Hours}_{i}$ (1 - вылет в \"час пик\", 0 - нет).\n",
        "\n",
        "**Контрольные переменные**:\n",
        "\n",
        "*   $\\text{Days_Before }_{i}$ - количество дней перед датой рейса.\n",
        "*   $\\text{Distance  }_{i}$ - расстояние (км).\n",
        "*   $\\text{Connection }_{i}$ - прямой рейс (1 - прямой рейс , 0 - с пересадками).\n",
        "\n",
        "**Ненаблюдаемые переменные, порождающие эндогенность**:\n",
        "\n",
        "*  $\\text{Population }_{i}$ - средняя численность населения в городах отправления (тыс./чел.).\n",
        "\n",
        "\n",
        "\n",
        "\n"
      ]
    },
    {
      "cell_type": "markdown",
      "metadata": {
        "id": "MgdK5SEg5aUw"
      },
      "source": [
        "**Генерация контрольных переменных** 😸"
      ]
    },
    {
      "cell_type": "markdown",
      "metadata": {
        "id": "xjoSkDX1qy0R"
      },
      "source": [
        "Будем генерировать количество дней до даты рейса $\\text{Days_Before}_{i}$ , взяв за основу распределение Пуассона $\\text{P}(60)$."
      ]
    },
    {
      "cell_type": "code",
      "execution_count": null,
      "metadata": {
        "id": "DCz283wb5jnA"
      },
      "outputs": [],
      "source": [
        "# Число наблюдений\n",
        "n = 100000"
      ]
    },
    {
      "cell_type": "code",
      "execution_count": null,
      "metadata": {
        "colab": {
          "base_uri": "https://localhost:8080/"
        },
        "id": "3M1gzP5CY5tp",
        "outputId": "a25cf049-a0f6-4268-b1d4-c21a8289108d"
      },
      "outputs": [
        {
          "output_type": "stream",
          "name": "stdout",
          "text": [
            "[52 59 58 65 71 51 56 66 56 49]\n"
          ]
        }
      ],
      "source": [
        "np.random.seed(11)\n",
        "# Предположим, что распределение количества дней до вылета схоже с пуассоновским\n",
        "\n",
        "# Генерация значений из пуассоновского распределения\n",
        "Days_Before = poisson.rvs(mu = 60, size = n)\n",
        "\n",
        "# Ограничение значений на диапазон [0, 365]\n",
        "Days_Before = np.clip(Days_Before, 0, 365)\n",
        "\n",
        "# Посмотрим на несколько первых значений\n",
        "print(Days_Before[0:10])"
      ]
    },
    {
      "cell_type": "code",
      "execution_count": null,
      "metadata": {
        "colab": {
          "base_uri": "https://localhost:8080/",
          "height": 430
        },
        "id": "_DgQaUIk_p4E",
        "outputId": "0b04a757-38b6-4379-858d-f2d9990c5837",
        "scrolled": true
      },
      "outputs": [
        {
          "output_type": "display_data",
          "data": {
            "text/plain": [
              "<Figure size 640x480 with 1 Axes>"
            ],
            "image/png": "[encoded data removed]"
          },
          "metadata": {}
        }
      ],
      "source": [
        "# Посмотрим на распределение\n",
        "seaborn.histplot(Days_Before,                 # данные\n",
        "                 stat = 'density',           # тип гистограммы\n",
        "                 color = \"palevioletred\",    # цвет гистограммы\n",
        "                 label = \"histogram\",        # наименование гистограммы\n",
        "                 bins = 100);                 # число столбиков в Гистограмме"
      ]
    },
    {
      "cell_type": "markdown",
      "source": [
        "Будем генерировать расстояние $\\text{Distance}_{i}$ , взяв за основу нормальное распределение с математическим ожиданием $\\mu=1000$ и стандартным отклонением $\\sigma=300$, то есть $\\text{N}\\left(25, 300^2\\right)$."
      ],
      "metadata": {
        "id": "_DRUl_eLfYxJ"
      }
    },
    {
      "cell_type": "code",
      "execution_count": null,
      "metadata": {
        "colab": {
          "base_uri": "https://localhost:8080/"
        },
        "id": "-WKxVgSc5d8i",
        "outputId": "265fea58-d044-4b1f-bc2a-5102b87ed791"
      },
      "outputs": [
        {
          "output_type": "stream",
          "name": "stdout",
          "text": [
            "[1525.  914.  855.  204.  998.  904.  839. 1095. 1126.  680.]\n"
          ]
        }
      ],
      "source": [
        "np.random.seed(11)\n",
        "# Предположим, что распределение расстояния схоже с нормальным\n",
        "Distance    = norm.rvs(size = n, loc = 1000, scale = 300)\n",
        "\n",
        "# Для красоты ограничим минимальныезначения\n",
        "Distance   [Distance    <= 24]  = 24\n",
        "\n",
        "# Также, для удобства введем округление\n",
        "Distance    = np.round(Distance)\n",
        "\n",
        "# Посмотрим на несколько первых значений\n",
        "print(Distance   [0:10])"
      ]
    },
    {
      "cell_type": "code",
      "execution_count": null,
      "metadata": {
        "colab": {
          "base_uri": "https://localhost:8080/",
          "height": 434
        },
        "id": "uRc9GrVaY5tp",
        "outputId": "adffc64f-46b7-4bce-91ab-0d9406ea6156"
      },
      "outputs": [
        {
          "output_type": "display_data",
          "data": {
            "text/plain": [
              "<Figure size 640x480 with 1 Axes>"
            ],
            "image/png": "[encoded data removed]"
          },
          "metadata": {}
        }
      ],
      "source": [
        "# Посмотрим на распределение\n",
        "seaborn.histplot(Distance  ,                 # данные\n",
        "                 stat = 'density',           # тип гистограммы\n",
        "                 color = \"palevioletred\",    # цвет гистограммы\n",
        "                 label = \"histogram\",        # наименование гистограммы\n",
        "                 bins = 100);                 # число столбиков в Гистограмме"
      ]
    },
    {
      "cell_type": "markdown",
      "metadata": {
        "id": "El-WNj0p64mt"
      },
      "source": [
        "Поскольку $\\text{Connection }_{i}$ является бинарной переменной, принимающей значения $0$ и $1$, то она имеет распределение Бернулли $\\text{City}_{i}\\sim\\text{Ber}(p)$. Предположим, что количество прямых рейсов составляет $40\\%$, откуда $p=0.4$."
      ]
    },
    {
      "cell_type": "code",
      "execution_count": null,
      "metadata": {
        "colab": {
          "base_uri": "https://localhost:8080/"
        },
        "id": "UhkvV_j96uQW",
        "outputId": "e2468ebe-041e-4437-95a0-9081bbd696a7"
      },
      "outputs": [
        {
          "output_type": "stream",
          "name": "stdout",
          "text": [
            "[0 0 0 1 0 0 0 0 1 1]\n"
          ]
        }
      ],
      "source": [
        "np.random.seed(11)\n",
        "# Сгенерируем переменную на факт наличия пересадок у рейса\n",
        "Connection  = np.random.binomial(n = 1, p = 0.4, size = n)\n",
        "\n",
        "# Посмотрим на первые несколько значение\n",
        "print(Connection [0:10])"
      ]
    },
    {
      "cell_type": "code",
      "execution_count": null,
      "metadata": {
        "colab": {
          "base_uri": "https://localhost:8080/"
        },
        "id": "jYn-CGrMAzot",
        "outputId": "c0fa03f3-a665-4202-e9e8-90c9b1651dab"
      },
      "outputs": [
        {
          "output_type": "stream",
          "name": "stdout",
          "text": [
            "0.40129\n"
          ]
        }
      ],
      "source": [
        "# Доля рейсов с пересадками\n",
        "print(np.mean(Connection ))"
      ]
    },
    {
      "cell_type": "markdown",
      "metadata": {
        "id": "vZ-sZ2NbCmEM"
      },
      "source": [
        "**Генерация ненаблюдаемой переменной, порождающей эндогенность** 😸"
      ]
    },
    {
      "cell_type": "markdown",
      "metadata": {
        "id": "Uc_2CY8dCu5B"
      },
      "source": [
        "Сгенерируем среднюю численность населения в городах отправления $\\text{Population }_{i}$ взяв за основу распределение Стьюдента с $5$ степенями свободы.\n",
        "\n",
        "Эта переменная будет играть роль ненаблюдаемой, отсутствие в данных которой и приводит к проблеме эндогенности."
      ]
    },
    {
      "cell_type": "code",
      "execution_count": null,
      "metadata": {
        "colab": {
          "base_uri": "https://localhost:8080/"
        },
        "id": "FFQ-HN2OCpxg",
        "outputId": "a953c31d-0388-4d28-abc3-2a34ab85d077"
      },
      "outputs": [
        {
          "output_type": "stream",
          "name": "stdout",
          "text": [
            "[917. 432. 397. 461. 275. 421. 601. 142. 600. 165.]\n"
          ]
        }
      ],
      "source": [
        "np.random.seed(11)\n",
        "# Генерируем среднюю численность населения в городах отправления (в тысячах чел.)\n",
        "Population  = t.rvs(size = n, df = 5)\n",
        "\n",
        "# Приведем её к более удобной шкале\n",
        "Population  = (Population ) * 200 + 500\n",
        "\n",
        "# Также, для удобства введем округление и возьмем модуль\n",
        "Population  = np.round(np.abs(Population ) + 1)\n",
        "\n",
        "# Для удобства ограничим минимальные значения\n",
        "Population [Population  <= 11]   = 11\n",
        "# Посмотрим на несколько первых значений\n",
        "print(Population [0:10])"
      ]
    },
    {
      "cell_type": "code",
      "execution_count": null,
      "metadata": {
        "colab": {
          "base_uri": "https://localhost:8080/",
          "height": 430
        },
        "id": "ZkoguR89Do_8",
        "outputId": "dcbd7cb4-7f25-4d12-c488-3547474c060e"
      },
      "outputs": [
        {
          "output_type": "display_data",
          "data": {
            "text/plain": [
              "<Figure size 640x480 with 1 Axes>"
            ],
            "image/png": "[encoded data removed]"
          },
          "metadata": {}
        }
      ],
      "source": [
        "# Посмотрим на распределение\n",
        "seaborn.histplot(Population ,                  # данные\n",
        "                 stat  = 'density',          # тип гистограммы\n",
        "                 color = \"palevioletred\",    # цвет гистограммы\n",
        "                 label = \"histogram\",        # наименование гистограммы\n",
        "                 bins  = 50);                 # число столбиков в Гистограмме"
      ]
    },
    {
      "cell_type": "markdown",
      "metadata": {
        "id": "1Du4GYCmCdry"
      },
      "source": [
        "**Генерация инструментальной переменной** 😸"
      ]
    },
    {
      "cell_type": "markdown",
      "metadata": {
        "id": "CxLS7Pvphsr3"
      },
      "source": [
        "Для того, чтобы сгенерировать бинарную переменную как функцию от других переменных, необходимо сперва предположить форму условных вероятностей. Для этого удобно применять следующий алгоритм:\n",
        "\n",
        "1.   Записать **индекс**, который отражает статистические связи инструментальной переменной с контрольными переменными.\n",
        "2.   Сформировать условные вероятности взяв функцию распределения от этого индекса\n",
        "\n",
        "Например, предположим, что условная вероятность времени вылета в \"час пик\" положительно связана с расстоянием и типом рейса (прямой или с пересадками) и отрицательно с количеством дней до вылета:\n",
        "\n",
        "$$\\text{P}\\left(\\text{Hours}_{i} = 1|\\text{Days_Before}_{i}, \\text{Distance}_{i}, \\text{Connection}_{i}\\right) = \\Phi\\left(\\underbrace{\\frac{0.4 \\times \\text{Distance}_{i} - 0.3 \\times \\text{Days_Before}_{i} + 0.1 \\times \\text{Connection}_{i}}{100} - 3.8}_{\\text{индекс}}\\right)$$\n",
        "\n",
        "Где $\\Phi()$ - функция распределения стандартного нормального распределения.\n",
        "\n",
        "Для удобства генерации мы предполагаем, что условные вероятности инструментальной переменной зависят лишь от контрольных переменных."
      ]
    },
    {
      "cell_type": "code",
      "execution_count": null,
      "metadata": {
        "id": "nkUUbroCChd9"
      },
      "outputs": [],
      "source": [
        "# Сформируем индекс\n",
        "index = (0.4 * Distance - 0.3 * Days_Before + 0.1 * Connection) / 100 - 3.8"
      ]
    },
    {
      "cell_type": "code",
      "execution_count": null,
      "metadata": {
        "colab": {
          "base_uri": "https://localhost:8080/"
        },
        "id": "R35ZCwaEjwGH",
        "outputId": "d8695970-5a9a-4f89-e152-cfe2f4f5e3ec"
      },
      "outputs": [
        {
          "output_type": "stream",
          "name": "stdout",
          "text": [
            "[9.83983557e-01 3.74105195e-01 2.89789423e-01 7.41473754e-04\n",
            " 4.91622828e-01 3.68058450e-01 2.70268879e-01 6.48769318e-01\n",
            " 7.04366193e-01 1.10099338e-01]\n"
          ]
        }
      ],
      "source": [
        "np.random.seed(11)\n",
        "# Создадим условные вероятности\n",
        "Hours_prob = norm.cdf(index)\n",
        "\n",
        "# Посмотрим на несколько первых условных вероятностей\n",
        "print(Hours_prob[0:10])"
      ]
    },
    {
      "cell_type": "code",
      "execution_count": null,
      "metadata": {
        "colab": {
          "base_uri": "https://localhost:8080/"
        },
        "id": "dsm6d3TXki80",
        "outputId": "9c64f965-eee0-430a-eb39-23f345f21d5e"
      },
      "outputs": [
        {
          "output_type": "stream",
          "name": "stdout",
          "text": [
            "[1 0 0 ... 1 1 0]\n"
          ]
        }
      ],
      "source": [
        "np.random.seed(11)\n",
        "# Сгенерируем перемнную, отвечающую за вылет в час-пик\n",
        "Hours = np.random.binomial(n = 1, p = Hours_prob, size = n)\n",
        "\n",
        "# Посмотрим на несколько сгенерированных значений\n",
        "print(Hours)"
      ]
    },
    {
      "cell_type": "markdown",
      "metadata": {
        "id": "tspwx2jDMx5q"
      },
      "source": [
        "Желательно, чтобы дисперсия индекса отличалась от дисперсии распределения, чья функция распределения используется на втором шаге алгоритма, не более, чем в $2$ раза. В противном случае оценки параметров такой модели могут оказаться либо слишком точными, либо слишком неточными."
      ]
    },
    {
      "cell_type": "markdown",
      "metadata": {
        "id": "Rne063KWY5tt"
      },
      "source": [
        "В нашем случае использовалось стандарнтое нормальное распределение, поэтому дисперсия индекса должна быть около 1 (или превышать 1 не более, чем в 2 раза)."
      ]
    },
    {
      "cell_type": "code",
      "execution_count": null,
      "metadata": {
        "colab": {
          "base_uri": "https://localhost:8080/"
        },
        "id": "Stny3659Mgik",
        "outputId": "16522c45-dfe8-41c4-9adf-980bbb71ef57",
        "scrolled": true
      },
      "outputs": [
        {
          "output_type": "stream",
          "name": "stdout",
          "text": [
            "1.44\n"
          ]
        }
      ],
      "source": [
        "# Дисперсия индекса\n",
        "print(np.var(index).round(2))"
      ]
    },
    {
      "cell_type": "markdown",
      "metadata": {
        "id": "ZCwcKX_SM0-r"
      },
      "source": [
        "Отлично!😛 Теперь убедимся, что доля единиц в сформированной переменной является адекватной."
      ]
    },
    {
      "cell_type": "code",
      "execution_count": null,
      "metadata": {
        "colab": {
          "base_uri": "https://localhost:8080/"
        },
        "id": "Fsig-NGMqRuM",
        "outputId": "ab065af9-a65b-4324-a88f-d512ab8aee12"
      },
      "outputs": [
        {
          "output_type": "stream",
          "name": "stdout",
          "text": [
            "0.5074\n"
          ]
        }
      ],
      "source": [
        "# Доля авиарейсов с вылетом в час-пик\n",
        "print(np.mean(Hours))"
      ]
    },
    {
      "cell_type": "markdown",
      "metadata": {
        "id": "bkpbwTIgCDuc"
      },
      "source": [
        "**Генерация переменной воздействия** 😸"
      ]
    },
    {
      "cell_type": "markdown",
      "metadata": {
        "id": "5O4FJ74zmEU1"
      },
      "source": [
        "Удобно предположить, что условные вероятности переменной воздействия зависят от контрольных переменных, инструментальной переменной и ненаблюдаемой переменной.\n",
        "\n",
        "$$P(\\text{Last_ticket}_{i} = 1|\\text{Days_Before}_{i}, \\text{Distance}_{i}, \\text{Connection }_{i}, \\text{Population}_{i}, \\text{Hours}_{i}) = \\\\ = F_{\\text{Logistic}}\\left(\\ln\\left(\\text{Days_Before}_{i} + 1\\right) + 0.05\\times \\sqrt{\\text{Distance}_{i}} - 2\\times \\text{Connection}_{i} + 2\\times \\ln\\left(\\text{Population}_{i} + 1\\right) + 3 \\times \\text{Hours}_{i} - 18.5 \\right)$$\n",
        "\n",
        "Где $F_{\\text{Logistic}}$ - функция распределения стандартного логистического распределения.\n",
        "\n",
        "Для краткости введем обозначение для условной вероятности количества свободных мест в самолёте при конкретном времени вылета (в \"час пик\" или нет):\n",
        "\n",
        "$$p_{k}^{\\text{Hours}_{i}} = P(\\text{Last_ticket}_{i} = 1|\\text{Days_Before}_{i}, \\text{Distance}_{i}, \\text{Connection }_{i}, \\text{Population}_{i}, \\text{Hours}_{i} = k)\\text{, где }k\\in\\{0,1\\}$$\n",
        "\n",
        "Для того, чтобы впоследствии анализировать локальные средние эффекты воздействия $\\text{LATE}$, необходимо различать величину переменной воздействия $\\text{Last_ticket}_{i}$ в зависимости от значения инструмента $\\text{Hours}_{i}$. Для этого рассмотрим ни от чего не зависящую равномерную случайную величину $U_{i}\\sim U(0,1)$ и введем гипотетические переменные:\n",
        "\n",
        "$$\\text{Last_ticket}_{1i} = I(p_{1}^{\\text{Hours}_{i}}\\geq U_{i})$$\n",
        "\n",
        "$$\\text{Last_ticket}_{0i} = I(p_{0}^{\\text{Hours}_{i}}\\geq U_{i})$$\n",
        "\n",
        "\n",
        "$$I(\\text{условие}) = \\begin{cases}1\\text{, если условие выполнено}\\\\0\\text{, в противном случае}\\end{cases}$$\n",
        "\n",
        "Переменные $\\text{Last_ticket}_{1i}$ и $\\text{Last_ticket}_{0i}$ отражают потенциальное количество свободных мест в самолёте в зависимости от времени вылета (в \"час пик\" или нет)."
      ]
    },
    {
      "cell_type": "code",
      "execution_count": null,
      "metadata": {
        "id": "eR1gShARFoHX"
      },
      "outputs": [],
      "source": [
        "np.random.seed(11)\n",
        "# Равномерные случайные величины\n",
        "u = uniform.rvs(size = n)"
      ]
    },
    {
      "cell_type": "code",
      "execution_count": null,
      "metadata": {
        "id": "oBvcvX_ZjvRj"
      },
      "outputs": [],
      "source": [
        "# Сгенерируем часть индекса, не зависящую от времени вылета\n",
        "last_ticket_index  = np.log(Days_Before + 1) + 0.05 * np.sqrt(Distance) - 2 * Connection + 2 * np.log(Population + 1) - 18.5"
      ]
    },
    {
      "cell_type": "code",
      "execution_count": null,
      "metadata": {
        "colab": {
          "base_uri": "https://localhost:8080/"
        },
        "id": "VuHHqKvTFriX",
        "outputId": "85cdd0c9-5690-4d2f-b251-7c55d8e399c9"
      },
      "outputs": [
        {
          "output_type": "execute_result",
          "data": {
            "text/plain": [
              "0.66524"
            ]
          },
          "metadata": {},
          "execution_count": 71
        }
      ],
      "source": [
        "np.random.seed(11)\n",
        "# Симулируем количество свободных мест в самолете в случае,\n",
        "# когда вылет в час-пик\n",
        "Hours_1 = 1\n",
        "last_ticket_1_index = last_ticket_index + 3 * Hours_1\n",
        "last_ticket_1_prob  = logistic.cdf(last_ticket_1_index)\n",
        "last_ticket_1       = (last_ticket_1_prob >= u).astype(int)\n",
        "\n",
        "# Доля самолетов с количеством мест меньше 20, когда\n",
        "# вылет в час-пик\n",
        "np.mean(last_ticket_1)"
      ]
    },
    {
      "cell_type": "markdown",
      "metadata": {
        "id": "9GJxWPEfY5tv"
      },
      "source": [
        "примерно в 67% самолетов при вылете в час-пик свободных мест меньше 20"
      ]
    },
    {
      "cell_type": "code",
      "execution_count": null,
      "metadata": {
        "colab": {
          "base_uri": "https://localhost:8080/"
        },
        "id": "Eu-53FxmY5tw",
        "outputId": "9d9e1c77-72d0-4e1d-fb36-0c1875a59702"
      },
      "outputs": [
        {
          "output_type": "execute_result",
          "data": {
            "text/plain": [
              "0.37767"
            ]
          },
          "metadata": {},
          "execution_count": 72
        }
      ],
      "source": [
        "np.random.seed(11)\n",
        "# Симулируем количество свободных мест в самолете в случае,\n",
        "# когда вылет не в час-пик\n",
        "Hours_0 = 0\n",
        "last_ticket_0_index = last_ticket_index + 3 * Hours_0\n",
        "last_ticket_0_prob  = logistic.cdf(last_ticket_0_index)\n",
        "last_ticket_0       = (last_ticket_0_prob >= u).astype(int)\n",
        "\n",
        "# Доля самолетов с количеством мест меньше 20, когда\n",
        "# вылет не в час-пик\n",
        "np.mean(last_ticket_0)"
      ]
    },
    {
      "cell_type": "markdown",
      "metadata": {
        "id": "wgrTWHsXY5tw"
      },
      "source": [
        "примерно в 38% самолетов при вылете не в час-пик свободных мест меньше 20"
      ]
    },
    {
      "cell_type": "markdown",
      "metadata": {
        "id": "5pr4RDDENags"
      },
      "source": [
        "Самолёты можно разделить на $4$ группы:\n",
        "\n",
        "\n",
        "*   **Always almost occupied** - в тех, у которых $\\text{Hours}_{0i}=\\text{Hours}_{1i}=1$: количество свободных мест меньше 20 независимо от времени вылета.\n",
        "*   **Never occupied**- в тех, у которых $\\text{Hours}_{0i}=\\text{Hours}_{1i}=0$: количество свободных мест больше 20 независимо от времени вылета.\n",
        "*   **Occupied at rush hour** - в тех, у которых $\\text{Hours}_{1i}=1$ и $\\text{Hours}_{0i}=0$, то есть $\\text{Hours}_{1i} > \\text{Hours}_{0i}$: количество свободных мест меньше 20 лишь в случае, если время вылета в \"час пик\".\n",
        "*   **Occupied at regular time** - в тех, у которых $\\text{Hours}_{1i}=0$ и $\\text{Hours}_{0i}=1$, то есть $\\text{Hours}_{1i} < \\text{Hours}_{0i}$: количество свободных мест меньше 20 лишь в случае, если время вылета не в \"час пик\".\n",
        "\n",
        "Для соблюдения предпосылок используемых методов важно отсутствие Occupied at regular time, что гарантируется используемым процессом генерации данных. Проверим это ниже."
      ]
    },
    {
      "cell_type": "code",
      "execution_count": null,
      "metadata": {
        "colab": {
          "base_uri": "https://localhost:8080/"
        },
        "id": "-FZrKBomfABb",
        "outputId": "a8a9a57c-f7ce-42fa-ecac-c2766bb31d65"
      },
      "outputs": [
        {
          "output_type": "stream",
          "name": "stdout",
          "text": [
            "Always almost occupied    37767\n",
            "Never occupied            33476\n",
            "Occupied at rush hour     28757\n",
            "Name: count, dtype: int64\n"
          ]
        }
      ],
      "source": [
        "# Рассмотрим различные группы самолетов\n",
        "ind_type = np.empty(n, dtype = 'U25')\n",
        "ind_type[(last_ticket_1 == 1) & (last_ticket_0 == 1)] = 'Always almost occupied'\n",
        "ind_type[(last_ticket_1 == 0) & (last_ticket_0 == 0)] = 'Never occupied'\n",
        "ind_type[last_ticket_1 > last_ticket_0]               = 'Occupied at rush hour'\n",
        "ind_type[last_ticket_1 < last_ticket_0]               = 'Occupied at regular time'\n",
        "\n",
        "# Посмотрим на распределение самолетов разного типа\n",
        "print(pd.value_counts(ind_type))"
      ]
    },
    {
      "cell_type": "code",
      "execution_count": null,
      "metadata": {
        "colab": {
          "base_uri": "https://localhost:8080/"
        },
        "id": "1wenqm_QdjpM",
        "outputId": "dc0f0971-5227-46b8-c2eb-83aa2788c368"
      },
      "outputs": [
        {
          "output_type": "stream",
          "name": "stdout",
          "text": [
            "      last_ticket_0 last_ticket_1         Статус самолета\n",
            "0                 1             1  Always almost occupied\n",
            "1                 1             1  Always almost occupied\n",
            "2                 1             0   Occupied at rush hour\n",
            "3                 0             0          Never occupied\n",
            "4                 1             0   Occupied at rush hour\n",
            "...             ...           ...                     ...\n",
            "99995             0             0          Never occupied\n",
            "99996             1             1  Always almost occupied\n",
            "99997             0             0          Never occupied\n",
            "99998             1             0   Occupied at rush hour\n",
            "99999             1             1  Always almost occupied\n",
            "\n",
            "[100000 rows x 3 columns]\n"
          ]
        }
      ],
      "source": [
        "# Сравним статусы (по количеству свободных мест) для одного и того же самолета в случаях,\n",
        "# когда время вылета в \"час пик\" и когда нет\n",
        "print(pd.DataFrame(data    = np.array([last_ticket_1, last_ticket_0, ind_type]).transpose(),\n",
        "                   columns = ['last_ticket_0', 'last_ticket_1', 'Статус самолета']))"
      ]
    },
    {
      "cell_type": "markdown",
      "metadata": {
        "id": "VEwq5BE5NXM2"
      },
      "source": [
        "Наблюдаемый (в данных) факт наличия в самолете свободных мест можно выразить как:\n",
        "\n",
        "$$\\text{Last_ticket}_{i} = \\begin{cases}\\text{Last_ticket}_{1i}\\text{, если }\\text{Hours}_{i} = 1\\\\ \\text{Last_ticket}_{0i}\\text{, если }\\text{Hours}_{i} = 0\\end{cases} = \\\\ = \\text{Last_ticket}_{1i}\\times\\text{Hours}_{i} + \\text{Last_ticket}_{0i}\\times\\left(1 - \\text{Hours}_{i}\\right)$$"
      ]
    },
    {
      "cell_type": "code",
      "execution_count": null,
      "metadata": {
        "colab": {
          "base_uri": "https://localhost:8080/"
        },
        "id": "w0iwmjtuCF1N",
        "outputId": "f963d9fc-a99b-4b77-d1ce-50490b15bf0f"
      },
      "outputs": [
        {
          "output_type": "stream",
          "name": "stdout",
          "text": [
            "0.51743\n"
          ]
        }
      ],
      "source": [
        "# Факт наличия свободных мест в самолете меньше 20\n",
        "Last_Ticket = last_ticket_1 * Hours + last_ticket_0 * (1 - Hours)\n",
        "\n",
        "# Доля самолетов с количеством свободных мест меньше 20\n",
        "print(np.mean(Last_Ticket))"
      ]
    },
    {
      "cell_type": "markdown",
      "metadata": {
        "id": "ePdsZvIRY5tx"
      },
      "source": [
        "Примерно в 52% самолётов количество свободных мест на борту менее 20"
      ]
    },
    {
      "cell_type": "markdown",
      "metadata": {
        "id": "xqdjN9u5iS_J"
      },
      "source": [
        "\n",
        "*   При слабой корреляции между $\\text{Last_ticket}_{i}$ и $\\text{Population}_{i}$ проблема эндогенности окажется несущественной, а при слишком большой скорректировать эндоенность окажется чрезвычайно сложно.\n",
        "*   При слабой корреляции между $\\text{Last_ticket}_{i}$ и $\\text{Hours}_{i}$ инструмент не будет валидным и поэтому не позволит скорректировать эндогенность.\n",
        "\n",
        "Таким образом, убедимся, что бы корреляции находились в некотором разумном диапазоне:\n",
        "\n",
        "$$0.8\\geq|\\text{Corr}\\left(\\text{Last_ticket}_{i}, \\text{Population}_{i}\\right)|\\geq0.2$$\n",
        "\n",
        "$$0.8\\geq|\\text{Corr}\\left(\\text{Last_ticket}_{i}, \\text{Hours}_{i}\\right)|\\geq0.2$$"
      ]
    },
    {
      "cell_type": "code",
      "execution_count": null,
      "metadata": {
        "colab": {
          "base_uri": "https://localhost:8080/"
        },
        "id": "oAsPLefeiQ3V",
        "outputId": "68d85e17-8525-456e-c868-39be02d026ad"
      },
      "outputs": [
        {
          "output_type": "stream",
          "name": "stdout",
          "text": [
            "                                 Оценка\n",
            "Corr(Last_Ticket, Population)  0.279932\n",
            "Corr(Last_Ticket, Hours)       0.334624\n"
          ]
        }
      ],
      "source": [
        "# Рассмотрим корреляции\n",
        "print(pd.DataFrame(data    = [np.corrcoef(Last_Ticket, Population)[0, 1],\n",
        "                              np.corrcoef(Last_Ticket, Hours)[0, 1]],\n",
        "                   index   = ['Corr(Last_Ticket, Population)',\n",
        "                              'Corr(Last_Ticket, Hours)'],\n",
        "                   columns = ['Оценка']))"
      ]
    },
    {
      "cell_type": "markdown",
      "metadata": {
        "id": "d8pW5DhOqwiq"
      },
      "source": [
        "**Генерация целевой переменной** 😸"
      ]
    },
    {
      "cell_type": "markdown",
      "metadata": {
        "id": "JnM6RCcdY5ty"
      },
      "source": [
        "Сформируем представление о формировании цены на авиабилеты в зависимости от количества свободных мест (Last_ticket).\n",
        "\n",
        "**Основная идея** - влияние расстояния, количества дней до рейса, типа рейса и численности населения выше, когда количество свободных мест меньше 20.\n",
        "\n",
        "### Уравнение цены авиабилета при вылете вне часа пик:\n",
        "\n",
        "$\n",
        "\\text{Total_Price}_{0i} =\n",
        "\\underbrace{\\underbrace{0.1 \\times \\ln(\\text{Population}_{i} + 1)}_{g_{0}^{\\text{unobs}}} +\n",
        "\\underbrace{0.05 \\times \\sqrt{\\text{Distance}_{i}} + 3 \\times \\ln(\\text{Days_Before}_{i} + 1) - 5 \\times \\text{Connection}_{i}}_{g_{0}^{\\text{obs}}}}_{g_{0}} +\n",
        "\\varepsilon_{0i}\n",
        "\\text{, где }\\varepsilon_{0i}\\sim \\left(8\\times t(8)\\right)\n",
        "$\n",
        "\n",
        "### Уравнение цены авиабилета при вылете в час пик:\n",
        "\n",
        "$\n",
        "\\text{Total_Price}_{1i} =\n",
        "\\underbrace{\\underbrace{0.15 \\times \\ln(\\text{Population}_{i} + 1)}_{g_{1}^{\\text{unobs}}} +\n",
        "\\underbrace{0.1 \\times \\sqrt{\\text{Distance}_{i}} + 4 \\times \\ln(\\text{Days_Before}_{i} + 1) - 4 \\times \\text{Connection}_{i}}_{g_{1}^{\\text{obs}}}}_{g_{1}} +\n",
        "\\varepsilon_{1i}\n",
        "\\text{, где }\\varepsilon_{1i}\\sim \\left(\\text{EXP}(10) - 10\\right)\n",
        "$\n",
        "\n",
        "### Наблюдаемая цена авиабилета:\n",
        "\n",
        "$\n",
        "\\text{Total_Price}_{i} =\n",
        "\\begin{cases}\n",
        "\\text{Total_Price}_{1i}\\text{, если }\\text{Last_Ticket}_{i}=1 \\\\\n",
        "\\text{Total_Price}_{0i}\\text{, если }\\text{Last_Ticket}_{i}=0\n",
        "\\end{cases}\n",
        "=\n",
        "\\\\\n",
        "= \\text{Total_Price}_{1i} \\times \\text{Last_Ticket}_{i} + \\text{Total_Price}_{0i} \\times (1 - \\text{Last_Ticket}_{i})\n",
        "$\n"
      ]
    },
    {
      "cell_type": "code",
      "execution_count": null,
      "metadata": {
        "id": "PWQh0Ncdq1SR"
      },
      "outputs": [],
      "source": [
        "np.random.seed(23)\n",
        "# Случайные ошибки\n",
        "error0 = t.rvs(size = n, df = 8) * 8\n",
        "error1 = expon.rvs(size = n, scale = 10) - 10\n",
        "# Функция от контрольных переменных\n",
        "  # когда вылет не в час-пик\n",
        "g0_obs   = 14 * np.log(Distance + 1) + 12 * np.log(Days_Before + 1) - 11 * Connection\n",
        "g0_unobs =  15 * np.log(Population + 1)\n",
        "g0       = g0_obs + g0_unobs\n",
        "  # когда вылет в час-пик\n",
        "g1_obs   = 16 * np.log(Distance + 1) + 15 * np.log(Days_Before + 1) - 13 * Connection\n",
        "g1_unobs = 18 * np.log(Population + 1)\n",
        "g1       = g1_obs + g1_unobs\n",
        "\n",
        "# Цена авиабилета в зависимости от факта вылета в час-пик или нет\n",
        "ticket_price_0 = g0 + error0\n",
        "ticket_price_1 = g1 + error1\n",
        "\n",
        "# Наблюдаемая цена авиабилета\n",
        "Ticket_Price = ticket_price_1 * Last_Ticket + ticket_price_0 * (1 - Last_Ticket)"
      ]
    },
    {
      "cell_type": "markdown",
      "metadata": {
        "id": "AZUU1rhofuY1"
      },
      "source": [
        "Так как во избежание чрезвычайно точных или крайне неточных оценок желательно, чтобы при каждом $j\\in\\{0, 1\\}$ дисперсии $\\varepsilon_{ji}$, $g_{j}$, $g_{j}^{\\text{obs}}$ и  $g_{j}^{\\text{unobs}}$ различались не более, чем в $5$ раз, проверим это."
      ]
    },
    {
      "cell_type": "code",
      "execution_count": null,
      "metadata": {
        "colab": {
          "base_uri": "https://localhost:8080/"
        },
        "id": "5XRTaGqzWZAM",
        "outputId": "357b7767-e388-40d6-980d-d5215e6698b9"
      },
      "outputs": [
        {
          "output_type": "stream",
          "name": "stdout",
          "text": [
            "                   Оценка\n",
            "Var(eps0)       85.178893\n",
            "Var(g0)        149.391656\n",
            "Var(g0_obs)     56.485950\n",
            "Var(g0_unobs)   92.528744\n",
            "Var(eps1)       99.186674\n",
            "Var(g1)        210.818361\n",
            "Var(g1_obs)     77.023045\n",
            "Var(g1_unobs)  133.241391\n"
          ]
        }
      ],
      "source": [
        "# Приблизительно оценим адекватность дисперсий\n",
        "print(pd.DataFrame(data    = [np.var(error0),   np.var(g0),\n",
        "                              np.var(g0_obs),   np.var(g0_unobs),\n",
        "                              np.var(error1),   np.var(g1),\n",
        "                              np.var(g1_obs),   np.var(g1_unobs)],\n",
        "                   index   = ['Var(eps0)',     'Var(g0)',\n",
        "                              'Var(g0_obs)',   'Var(g0_unobs)',\n",
        "                              'Var(eps1)',     'Var(g1)',\n",
        "                              'Var(g1_obs)',   'Var(g1_unobs)'],\n",
        "                   columns = ['Оценка']))"
      ]
    },
    {
      "cell_type": "markdown",
      "metadata": {
        "id": "NfUBG0YqOXUL"
      },
      "source": [
        "**Объединение данных** 😸"
      ]
    },
    {
      "cell_type": "code",
      "execution_count": null,
      "metadata": {
        "colab": {
          "base_uri": "https://localhost:8080/",
          "height": 363
        },
        "id": "BES3xbgNOWh1",
        "outputId": "6dca132a-714f-4497-a674-0c3e5aa3b0d4",
        "scrolled": false
      },
      "outputs": [
        {
          "output_type": "execute_result",
          "data": {
            "text/plain": [
              "<pandas.io.formats.style.Styler at 0x783c58c94850>"
            ],
            "text/html": [
              "<style type=\"text/css\">\n",
              "</style>\n",
              "<table id=\"T_23612\" class=\"dataframe\">\n",
              "  <thead>\n",
              "    <tr>\n",
              "      <th class=\"blank level0\" >&nbsp;</th>\n",
              "      <th id=\"T_23612_level0_col0\" class=\"col_heading level0 col0\" >Ticket_Price</th>\n",
              "      <th id=\"T_23612_level0_col1\" class=\"col_heading level0 col1\" >Last_Ticket</th>\n",
              "      <th id=\"T_23612_level0_col2\" class=\"col_heading level0 col2\" >Distance</th>\n",
              "      <th id=\"T_23612_level0_col3\" class=\"col_heading level0 col3\" >Days_Before</th>\n",
              "      <th id=\"T_23612_level0_col4\" class=\"col_heading level0 col4\" >Connection</th>\n",
              "      <th id=\"T_23612_level0_col5\" class=\"col_heading level0 col5\" >Hours</th>\n",
              "    </tr>\n",
              "  </thead>\n",
              "  <tbody>\n",
              "    <tr>\n",
              "      <th id=\"T_23612_level0_row0\" class=\"row_heading level0 row0\" >0</th>\n",
              "      <td id=\"T_23612_row0_col0\" class=\"data row0 col0\" >297.54</td>\n",
              "      <td id=\"T_23612_row0_col1\" class=\"data row0 col1\" >1</td>\n",
              "      <td id=\"T_23612_row0_col2\" class=\"data row0 col2\" >1525.00</td>\n",
              "      <td id=\"T_23612_row0_col3\" class=\"data row0 col3\" >52</td>\n",
              "      <td id=\"T_23612_row0_col4\" class=\"data row0 col4\" >0</td>\n",
              "      <td id=\"T_23612_row0_col5\" class=\"data row0 col5\" >1</td>\n",
              "    </tr>\n",
              "    <tr>\n",
              "      <th id=\"T_23612_level0_row1\" class=\"row_heading level0 row1\" >1</th>\n",
              "      <td id=\"T_23612_row1_col0\" class=\"data row1 col0\" >297.28</td>\n",
              "      <td id=\"T_23612_row1_col1\" class=\"data row1 col1\" >1</td>\n",
              "      <td id=\"T_23612_row1_col2\" class=\"data row1 col2\" >914.00</td>\n",
              "      <td id=\"T_23612_row1_col3\" class=\"data row1 col3\" >59</td>\n",
              "      <td id=\"T_23612_row1_col4\" class=\"data row1 col4\" >0</td>\n",
              "      <td id=\"T_23612_row1_col5\" class=\"data row1 col5\" >0</td>\n",
              "    </tr>\n",
              "    <tr>\n",
              "      <th id=\"T_23612_level0_row2\" class=\"row_heading level0 row2\" >2</th>\n",
              "      <td id=\"T_23612_row2_col0\" class=\"data row2 col0\" >228.98</td>\n",
              "      <td id=\"T_23612_row2_col1\" class=\"data row2 col1\" >0</td>\n",
              "      <td id=\"T_23612_row2_col2\" class=\"data row2 col2\" >855.00</td>\n",
              "      <td id=\"T_23612_row2_col3\" class=\"data row2 col3\" >58</td>\n",
              "      <td id=\"T_23612_row2_col4\" class=\"data row2 col4\" >0</td>\n",
              "      <td id=\"T_23612_row2_col5\" class=\"data row2 col5\" >0</td>\n",
              "    </tr>\n",
              "    <tr>\n",
              "      <th id=\"T_23612_level0_row3\" class=\"row_heading level0 row3\" >3</th>\n",
              "      <td id=\"T_23612_row3_col0\" class=\"data row3 col0\" >214.24</td>\n",
              "      <td id=\"T_23612_row3_col1\" class=\"data row3 col1\" >0</td>\n",
              "      <td id=\"T_23612_row3_col2\" class=\"data row3 col2\" >204.00</td>\n",
              "      <td id=\"T_23612_row3_col3\" class=\"data row3 col3\" >65</td>\n",
              "      <td id=\"T_23612_row3_col4\" class=\"data row3 col4\" >1</td>\n",
              "      <td id=\"T_23612_row3_col5\" class=\"data row3 col5\" >0</td>\n",
              "    </tr>\n",
              "    <tr>\n",
              "      <th id=\"T_23612_level0_row4\" class=\"row_heading level0 row4\" >4</th>\n",
              "      <td id=\"T_23612_row4_col0\" class=\"data row4 col0\" >221.59</td>\n",
              "      <td id=\"T_23612_row4_col1\" class=\"data row4 col1\" >0</td>\n",
              "      <td id=\"T_23612_row4_col2\" class=\"data row4 col2\" >998.00</td>\n",
              "      <td id=\"T_23612_row4_col3\" class=\"data row4 col3\" >71</td>\n",
              "      <td id=\"T_23612_row4_col4\" class=\"data row4 col4\" >0</td>\n",
              "      <td id=\"T_23612_row4_col5\" class=\"data row4 col5\" >0</td>\n",
              "    </tr>\n",
              "    <tr>\n",
              "      <th id=\"T_23612_level0_row5\" class=\"row_heading level0 row5\" >5</th>\n",
              "      <td id=\"T_23612_row5_col0\" class=\"data row5 col0\" >237.51</td>\n",
              "      <td id=\"T_23612_row5_col1\" class=\"data row5 col1\" >0</td>\n",
              "      <td id=\"T_23612_row5_col2\" class=\"data row5 col2\" >904.00</td>\n",
              "      <td id=\"T_23612_row5_col3\" class=\"data row5 col3\" >51</td>\n",
              "      <td id=\"T_23612_row5_col4\" class=\"data row5 col4\" >0</td>\n",
              "      <td id=\"T_23612_row5_col5\" class=\"data row5 col5\" >0</td>\n",
              "    </tr>\n",
              "    <tr>\n",
              "      <th id=\"T_23612_level0_row6\" class=\"row_heading level0 row6\" >6</th>\n",
              "      <td id=\"T_23612_row6_col0\" class=\"data row6 col0\" >281.21</td>\n",
              "      <td id=\"T_23612_row6_col1\" class=\"data row6 col1\" >1</td>\n",
              "      <td id=\"T_23612_row6_col2\" class=\"data row6 col2\" >839.00</td>\n",
              "      <td id=\"T_23612_row6_col3\" class=\"data row6 col3\" >56</td>\n",
              "      <td id=\"T_23612_row6_col4\" class=\"data row6 col4\" >0</td>\n",
              "      <td id=\"T_23612_row6_col5\" class=\"data row6 col5\" >0</td>\n",
              "    </tr>\n",
              "    <tr>\n",
              "      <th id=\"T_23612_level0_row7\" class=\"row_heading level0 row7\" >7</th>\n",
              "      <td id=\"T_23612_row7_col0\" class=\"data row7 col0\" >255.20</td>\n",
              "      <td id=\"T_23612_row7_col1\" class=\"data row7 col1\" >1</td>\n",
              "      <td id=\"T_23612_row7_col2\" class=\"data row7 col2\" >1095.00</td>\n",
              "      <td id=\"T_23612_row7_col3\" class=\"data row7 col3\" >66</td>\n",
              "      <td id=\"T_23612_row7_col4\" class=\"data row7 col4\" >0</td>\n",
              "      <td id=\"T_23612_row7_col5\" class=\"data row7 col5\" >1</td>\n",
              "    </tr>\n",
              "    <tr>\n",
              "      <th id=\"T_23612_level0_row8\" class=\"row_heading level0 row8\" >8</th>\n",
              "      <td id=\"T_23612_row8_col0\" class=\"data row8 col0\" >220.43</td>\n",
              "      <td id=\"T_23612_row8_col1\" class=\"data row8 col1\" >0</td>\n",
              "      <td id=\"T_23612_row8_col2\" class=\"data row8 col2\" >1126.00</td>\n",
              "      <td id=\"T_23612_row8_col3\" class=\"data row8 col3\" >56</td>\n",
              "      <td id=\"T_23612_row8_col4\" class=\"data row8 col4\" >1</td>\n",
              "      <td id=\"T_23612_row8_col5\" class=\"data row8 col5\" >0</td>\n",
              "    </tr>\n",
              "    <tr>\n",
              "      <th id=\"T_23612_level0_row9\" class=\"row_heading level0 row9\" >9</th>\n",
              "      <td id=\"T_23612_row9_col0\" class=\"data row9 col0\" >203.17</td>\n",
              "      <td id=\"T_23612_row9_col1\" class=\"data row9 col1\" >0</td>\n",
              "      <td id=\"T_23612_row9_col2\" class=\"data row9 col2\" >680.00</td>\n",
              "      <td id=\"T_23612_row9_col3\" class=\"data row9 col3\" >49</td>\n",
              "      <td id=\"T_23612_row9_col4\" class=\"data row9 col4\" >1</td>\n",
              "      <td id=\"T_23612_row9_col5\" class=\"data row9 col5\" >0</td>\n",
              "    </tr>\n",
              "  </tbody>\n",
              "</table>\n"
            ]
          },
          "metadata": {},
          "execution_count": 79
        }
      ],
      "source": [
        "# Аггрегируем данные в датафрейм\n",
        "df = pd.DataFrame({'Ticket_Price': Ticket_Price, 'Last_Ticket': Last_Ticket,\n",
        "                   'Distance': Distance, 'Days_Before': Days_Before,\n",
        "                   'Connection': Connection,'Hours': Hours})\n",
        "df = df.loc[0:n, :]\n",
        "\n",
        "# Посмотрим на симулированные данные\n",
        "df.head(10).style.format(precision = 2)"
      ]
    },
    {
      "cell_type": "markdown",
      "metadata": {
        "id": "maP1kDQcY5t0"
      },
      "source": [
        "Корреляционная матрица:"
      ]
    },
    {
      "cell_type": "code",
      "execution_count": null,
      "metadata": {
        "colab": {
          "base_uri": "https://localhost:8080/",
          "height": 237
        },
        "id": "XTOyzn0gY5t0",
        "outputId": "b0ffb2f1-93ed-4966-cdba-a9d3f62ddb23"
      },
      "outputs": [
        {
          "output_type": "execute_result",
          "data": {
            "text/plain": [
              "              Ticket_Price  Last_Ticket  Distance  Days_Before  Connection  \\\n",
              "Ticket_Price      1.000000     0.905506  0.335096     0.078121   -0.597632   \n",
              "Last_Ticket       0.905506     1.000000  0.279426     0.036501   -0.636545   \n",
              "Distance          0.335096     0.279426  1.000000     0.000663    0.006549   \n",
              "Days_Before       0.078121     0.036501  0.000663     1.000000   -0.005162   \n",
              "Connection       -0.597632    -0.636545  0.006549    -0.005162    1.000000   \n",
              "Hours             0.312927     0.334624  0.612561    -0.015976    0.003287   \n",
              "\n",
              "                 Hours  \n",
              "Ticket_Price  0.312927  \n",
              "Last_Ticket   0.334624  \n",
              "Distance      0.612561  \n",
              "Days_Before  -0.015976  \n",
              "Connection    0.003287  \n",
              "Hours         1.000000  "
            ],
            "text/html": [
              "\n",
              "  <div id=\"df-277a53cd-0e91-4413-9ffd-49413a0994f8\" class=\"colab-df-container\">\n",
              "    <div>\n",
              "<style scoped>\n",
              "    .dataframe tbody tr th:only-of-type {\n",
              "        vertical-align: middle;\n",
              "    }\n",
              "\n",
              "    .dataframe tbody tr th {\n",
              "        vertical-align: top;\n",
              "    }\n",
              "\n",
              "    .dataframe thead th {\n",
              "        text-align: right;\n",
              "    }\n",
              "</style>\n",
              "<table border=\"1\" class=\"dataframe\">\n",
              "  <thead>\n",
              "    <tr style=\"text-align: right;\">\n",
              "      <th></th>\n",
              "      <th>Ticket_Price</th>\n",
              "      <th>Last_Ticket</th>\n",
              "      <th>Distance</th>\n",
              "      <th>Days_Before</th>\n",
              "      <th>Connection</th>\n",
              "      <th>Hours</th>\n",
              "    </tr>\n",
              "  </thead>\n",
              "  <tbody>\n",
              "    <tr>\n",
              "      <th>Ticket_Price</th>\n",
              "      <td>1.000000</td>\n",
              "      <td>0.905506</td>\n",
              "      <td>0.335096</td>\n",
              "      <td>0.078121</td>\n",
              "      <td>-0.597632</td>\n",
              "      <td>0.312927</td>\n",
              "    </tr>\n",
              "    <tr>\n",
              "      <th>Last_Ticket</th>\n",
              "      <td>0.905506</td>\n",
              "      <td>1.000000</td>\n",
              "      <td>0.279426</td>\n",
              "      <td>0.036501</td>\n",
              "      <td>-0.636545</td>\n",
              "      <td>0.334624</td>\n",
              "    </tr>\n",
              "    <tr>\n",
              "      <th>Distance</th>\n",
              "      <td>0.335096</td>\n",
              "      <td>0.279426</td>\n",
              "      <td>1.000000</td>\n",
              "      <td>0.000663</td>\n",
              "      <td>0.006549</td>\n",
              "      <td>0.612561</td>\n",
              "    </tr>\n",
              "    <tr>\n",
              "      <th>Days_Before</th>\n",
              "      <td>0.078121</td>\n",
              "      <td>0.036501</td>\n",
              "      <td>0.000663</td>\n",
              "      <td>1.000000</td>\n",
              "      <td>-0.005162</td>\n",
              "      <td>-0.015976</td>\n",
              "    </tr>\n",
              "    <tr>\n",
              "      <th>Connection</th>\n",
              "      <td>-0.597632</td>\n",
              "      <td>-0.636545</td>\n",
              "      <td>0.006549</td>\n",
              "      <td>-0.005162</td>\n",
              "      <td>1.000000</td>\n",
              "      <td>0.003287</td>\n",
              "    </tr>\n",
              "    <tr>\n",
              "      <th>Hours</th>\n",
              "      <td>0.312927</td>\n",
              "      <td>0.334624</td>\n",
              "      <td>0.612561</td>\n",
              "      <td>-0.015976</td>\n",
              "      <td>0.003287</td>\n",
              "      <td>1.000000</td>\n",
              "    </tr>\n",
              "  </tbody>\n",
              "</table>\n",
              "</div>\n",
              "    <div class=\"colab-df-buttons\">\n",
              "\n",
              "  <div class=\"colab-df-container\">\n",
              "    <button class=\"colab-df-convert\" onclick=\"convertToInteractive('df-277a53cd-0e91-4413-9ffd-49413a0994f8')\"\n",
              "            title=\"Convert this dataframe to an interactive table.\"\n",
              "            style=\"display:none;\">\n",
              "\n",
              "  <svg xmlns=\"http://www.w3.org/2000/svg\" height=\"24px\" viewBox=\"0 -960 960 960\">\n",
              "    <path d=\"M120-120v-720h720v720H120Zm60-500h600v-160H180v160Zm220 220h160v-160H400v160Zm0 220h160v-160H400v160ZM180-400h160v-160H180v160Zm440 0h160v-160H620v160ZM180-180h160v-160H180v160Zm440 0h160v-160H620v160Z\"/>\n",
              "  </svg>\n",
              "    </button>\n",
              "\n",
              "  <style>\n",
              "    .colab-df-container {\n",
              "      display:flex;\n",
              "      gap: 12px;\n",
              "    }\n",
              "\n",
              "    .colab-df-convert {\n",
              "      background-color: #E8F0FE;\n",
              "      border: none;\n",
              "      border-radius: 50%;\n",
              "      cursor: pointer;\n",
              "      display: none;\n",
              "      fill: #1967D2;\n",
              "      height: 32px;\n",
              "      padding: 0 0 0 0;\n",
              "      width: 32px;\n",
              "    }\n",
              "\n",
              "    .colab-df-convert:hover {\n",
              "      background-color: #E2EBFA;\n",
              "      box-shadow: 0px 1px 2px rgba(60, 64, 67, 0.3), 0px 1px 3px 1px rgba(60, 64, 67, 0.15);\n",
              "      fill: #174EA6;\n",
              "    }\n",
              "\n",
              "    .colab-df-buttons div {\n",
              "      margin-bottom: 4px;\n",
              "    }\n",
              "\n",
              "    [theme=dark] .colab-df-convert {\n",
              "      background-color: #3B4455;\n",
              "      fill: #D2E3FC;\n",
              "    }\n",
              "\n",
              "    [theme=dark] .colab-df-convert:hover {\n",
              "      background-color: #434B5C;\n",
              "      box-shadow: 0px 1px 3px 1px rgba(0, 0, 0, 0.15);\n",
              "      filter: drop-shadow(0px 1px 2px rgba(0, 0, 0, 0.3));\n",
              "      fill: #FFFFFF;\n",
              "    }\n",
              "  </style>\n",
              "\n",
              "    <script>\n",
              "      const buttonEl =\n",
              "        document.querySelector('#df-277a53cd-0e91-4413-9ffd-49413a0994f8 button.colab-df-convert');\n",
              "      buttonEl.style.display =\n",
              "        google.colab.kernel.accessAllowed ? 'block' : 'none';\n",
              "\n",
              "      async function convertToInteractive(key) {\n",
              "        const element = document.querySelector('#df-277a53cd-0e91-4413-9ffd-49413a0994f8');\n",
              "        const dataTable =\n",
              "          await google.colab.kernel.invokeFunction('convertToInteractive',\n",
              "                                                    [key], {});\n",
              "        if (!dataTable) return;\n",
              "\n",
              "        const docLinkHtml = 'Like what you see? Visit the ' +\n",
              "          '<a target=\"_blank\" href=https://colab.research.google.com/notebooks/data_table.ipynb>data table notebook</a>'\n",
              "          + ' to learn more about interactive tables.';\n",
              "        element.innerHTML = '';\n",
              "        dataTable['output_type'] = 'display_data';\n",
              "        await google.colab.output.renderOutput(dataTable, element);\n",
              "        const docLink = document.createElement('div');\n",
              "        docLink.innerHTML = docLinkHtml;\n",
              "        element.appendChild(docLink);\n",
              "      }\n",
              "    </script>\n",
              "  </div>\n",
              "\n",
              "\n",
              "<div id=\"df-438f7480-491c-4ae8-9fb3-2a0a3a5edf27\">\n",
              "  <button class=\"colab-df-quickchart\" onclick=\"quickchart('df-438f7480-491c-4ae8-9fb3-2a0a3a5edf27')\"\n",
              "            title=\"Suggest charts\"\n",
              "            style=\"display:none;\">\n",
              "\n",
              "<svg xmlns=\"http://www.w3.org/2000/svg\" height=\"24px\"viewBox=\"0 0 24 24\"\n",
              "     width=\"24px\">\n",
              "    <g>\n",
              "        <path d=\"M19 3H5c-1.1 0-2 .9-2 2v14c0 1.1.9 2 2 2h14c1.1 0 2-.9 2-2V5c0-1.1-.9-2-2-2zM9 17H7v-7h2v7zm4 0h-2V7h2v10zm4 0h-2v-4h2v4z\"/>\n",
              "    </g>\n",
              "</svg>\n",
              "  </button>\n",
              "\n",
              "<style>\n",
              "  .colab-df-quickchart {\n",
              "      --bg-color: #E8F0FE;\n",
              "      --fill-color: #1967D2;\n",
              "      --hover-bg-color: #E2EBFA;\n",
              "      --hover-fill-color: #174EA6;\n",
              "      --disabled-fill-color: #AAA;\n",
              "      --disabled-bg-color: #DDD;\n",
              "  }\n",
              "\n",
              "  [theme=dark] .colab-df-quickchart {\n",
              "      --bg-color: #3B4455;\n",
              "      --fill-color: #D2E3FC;\n",
              "      --hover-bg-color: #434B5C;\n",
              "      --hover-fill-color: #FFFFFF;\n",
              "      --disabled-bg-color: #3B4455;\n",
              "      --disabled-fill-color: #666;\n",
              "  }\n",
              "\n",
              "  .colab-df-quickchart {\n",
              "    background-color: var(--bg-color);\n",
              "    border: none;\n",
              "    border-radius: 50%;\n",
              "    cursor: pointer;\n",
              "    display: none;\n",
              "    fill: var(--fill-color);\n",
              "    height: 32px;\n",
              "    padding: 0;\n",
              "    width: 32px;\n",
              "  }\n",
              "\n",
              "  .colab-df-quickchart:hover {\n",
              "    background-color: var(--hover-bg-color);\n",
              "    box-shadow: 0 1px 2px rgba(60, 64, 67, 0.3), 0 1px 3px 1px rgba(60, 64, 67, 0.15);\n",
              "    fill: var(--button-hover-fill-color);\n",
              "  }\n",
              "\n",
              "  .colab-df-quickchart-complete:disabled,\n",
              "  .colab-df-quickchart-complete:disabled:hover {\n",
              "    background-color: var(--disabled-bg-color);\n",
              "    fill: var(--disabled-fill-color);\n",
              "    box-shadow: none;\n",
              "  }\n",
              "\n",
              "  .colab-df-spinner {\n",
              "    border: 2px solid var(--fill-color);\n",
              "    border-color: transparent;\n",
              "    border-bottom-color: var(--fill-color);\n",
              "    animation:\n",
              "      spin 1s steps(1) infinite;\n",
              "  }\n",
              "\n",
              "  @keyframes spin {\n",
              "    0% {\n",
              "      border-color: transparent;\n",
              "      border-bottom-color: var(--fill-color);\n",
              "      border-left-color: var(--fill-color);\n",
              "    }\n",
              "    20% {\n",
              "      border-color: transparent;\n",
              "      border-left-color: var(--fill-color);\n",
              "      border-top-color: var(--fill-color);\n",
              "    }\n",
              "    30% {\n",
              "      border-color: transparent;\n",
              "      border-left-color: var(--fill-color);\n",
              "      border-top-color: var(--fill-color);\n",
              "      border-right-color: var(--fill-color);\n",
              "    }\n",
              "    40% {\n",
              "      border-color: transparent;\n",
              "      border-right-color: var(--fill-color);\n",
              "      border-top-color: var(--fill-color);\n",
              "    }\n",
              "    60% {\n",
              "      border-color: transparent;\n",
              "      border-right-color: var(--fill-color);\n",
              "    }\n",
              "    80% {\n",
              "      border-color: transparent;\n",
              "      border-right-color: var(--fill-color);\n",
              "      border-bottom-color: var(--fill-color);\n",
              "    }\n",
              "    90% {\n",
              "      border-color: transparent;\n",
              "      border-bottom-color: var(--fill-color);\n",
              "    }\n",
              "  }\n",
              "</style>\n",
              "\n",
              "  <script>\n",
              "    async function quickchart(key) {\n",
              "      const quickchartButtonEl =\n",
              "        document.querySelector('#' + key + ' button');\n",
              "      quickchartButtonEl.disabled = true;  // To prevent multiple clicks.\n",
              "      quickchartButtonEl.classList.add('colab-df-spinner');\n",
              "      try {\n",
              "        const charts = await google.colab.kernel.invokeFunction(\n",
              "            'suggestCharts', [key], {});\n",
              "      } catch (error) {\n",
              "        console.error('Error during call to suggestCharts:', error);\n",
              "      }\n",
              "      quickchartButtonEl.classList.remove('colab-df-spinner');\n",
              "      quickchartButtonEl.classList.add('colab-df-quickchart-complete');\n",
              "    }\n",
              "    (() => {\n",
              "      let quickchartButtonEl =\n",
              "        document.querySelector('#df-438f7480-491c-4ae8-9fb3-2a0a3a5edf27 button');\n",
              "      quickchartButtonEl.style.display =\n",
              "        google.colab.kernel.accessAllowed ? 'block' : 'none';\n",
              "    })();\n",
              "  </script>\n",
              "</div>\n",
              "    </div>\n",
              "  </div>\n"
            ],
            "application/vnd.google.colaboratory.intrinsic+json": {
              "type": "dataframe",
              "summary": "{\n  \"name\": \"df\",\n  \"rows\": 6,\n  \"fields\": [\n    {\n      \"column\": \"Ticket_Price\",\n      \"properties\": {\n        \"dtype\": \"number\",\n        \"std\": 0.5837607147037943,\n        \"min\": -0.5976320819354036,\n        \"max\": 1.0,\n        \"num_unique_values\": 6,\n        \"samples\": [\n          1.0,\n          0.9055062573941114,\n          0.31292737910071217\n        ],\n        \"semantic_type\": \"\",\n        \"description\": \"\"\n      }\n    },\n    {\n      \"column\": \"Last_Ticket\",\n      \"properties\": {\n        \"dtype\": \"number\",\n        \"std\": 0.6004044864306081,\n        \"min\": -0.6365450556781519,\n        \"max\": 1.0,\n        \"num_unique_values\": 6,\n        \"samples\": [\n          0.9055062573941114,\n          1.0,\n          0.334624082440132\n        ],\n        \"semantic_type\": \"\",\n        \"description\": \"\"\n      }\n    },\n    {\n      \"column\": \"Distance\",\n      \"properties\": {\n        \"dtype\": \"number\",\n        \"std\": 0.38304826855441665,\n        \"min\": 0.0006630265707029047,\n        \"max\": 1.0,\n        \"num_unique_values\": 6,\n        \"samples\": [\n          0.3350959239845707,\n          0.27942580521220667,\n          0.6125609254617824\n        ],\n        \"semantic_type\": \"\",\n        \"description\": \"\"\n      }\n    },\n    {\n      \"column\": \"Days_Before\",\n      \"properties\": {\n        \"dtype\": \"number\",\n        \"std\": 0.4020425866561464,\n        \"min\": -0.015975757404697973,\n        \"max\": 1.0,\n        \"num_unique_values\": 6,\n        \"samples\": [\n          0.0781210237158706,\n          0.0365011001256129,\n          -0.015975757404697973\n        ],\n        \"semantic_type\": \"\",\n        \"description\": \"\"\n      }\n    },\n    {\n      \"column\": \"Connection\",\n      \"properties\": {\n        \"dtype\": \"number\",\n        \"std\": 0.5922255387723968,\n        \"min\": -0.6365450556781519,\n        \"max\": 1.0,\n        \"num_unique_values\": 6,\n        \"samples\": [\n          -0.5976320819354036,\n          -0.6365450556781519,\n          0.0032868575516568567\n        ],\n        \"semantic_type\": \"\",\n        \"description\": \"\"\n      }\n    },\n    {\n      \"column\": \"Hours\",\n      \"properties\": {\n        \"dtype\": \"number\",\n        \"std\": 0.3856358424820722,\n        \"min\": -0.015975757404697973,\n        \"max\": 1.0,\n        \"num_unique_values\": 6,\n        \"samples\": [\n          0.31292737910071217,\n          0.334624082440132,\n          1.0\n        ],\n        \"semantic_type\": \"\",\n        \"description\": \"\"\n      }\n    }\n  ]\n}"
            }
          },
          "metadata": {},
          "execution_count": 80
        }
      ],
      "source": [
        "df.corr()"
      ]
    },
    {
      "cell_type": "markdown",
      "metadata": {
        "id": "mop82yjiY5t0"
      },
      "source": [
        "Описательные статистики для непрерывных переменных:"
      ]
    },
    {
      "cell_type": "code",
      "execution_count": null,
      "metadata": {
        "colab": {
          "base_uri": "https://localhost:8080/",
          "height": 206
        },
        "id": "DAz1nZR7Y5t0",
        "outputId": "7da94dd3-6aad-4b9a-98ba-bd315bc32033"
      },
      "outputs": [
        {
          "output_type": "execute_result",
          "data": {
            "text/plain": [
              "      Ticket_Price     Distance  Days_Before\n",
              "mean    255.361592  1002.080980    59.992040\n",
              "std      33.019597   299.584696     7.736494\n",
              "50%     263.014955  1001.000000    60.000000\n",
              "min     110.434082    24.000000    27.000000\n",
              "max     381.907693  2428.000000    96.000000"
            ],
            "text/html": [
              "\n",
              "  <div id=\"df-08360001-020e-4c6d-8ec0-7996ad0be37e\" class=\"colab-df-container\">\n",
              "    <div>\n",
              "<style scoped>\n",
              "    .dataframe tbody tr th:only-of-type {\n",
              "        vertical-align: middle;\n",
              "    }\n",
              "\n",
              "    .dataframe tbody tr th {\n",
              "        vertical-align: top;\n",
              "    }\n",
              "\n",
              "    .dataframe thead th {\n",
              "        text-align: right;\n",
              "    }\n",
              "</style>\n",
              "<table border=\"1\" class=\"dataframe\">\n",
              "  <thead>\n",
              "    <tr style=\"text-align: right;\">\n",
              "      <th></th>\n",
              "      <th>Ticket_Price</th>\n",
              "      <th>Distance</th>\n",
              "      <th>Days_Before</th>\n",
              "    </tr>\n",
              "  </thead>\n",
              "  <tbody>\n",
              "    <tr>\n",
              "      <th>mean</th>\n",
              "      <td>255.361592</td>\n",
              "      <td>1002.080980</td>\n",
              "      <td>59.992040</td>\n",
              "    </tr>\n",
              "    <tr>\n",
              "      <th>std</th>\n",
              "      <td>33.019597</td>\n",
              "      <td>299.584696</td>\n",
              "      <td>7.736494</td>\n",
              "    </tr>\n",
              "    <tr>\n",
              "      <th>50%</th>\n",
              "      <td>263.014955</td>\n",
              "      <td>1001.000000</td>\n",
              "      <td>60.000000</td>\n",
              "    </tr>\n",
              "    <tr>\n",
              "      <th>min</th>\n",
              "      <td>110.434082</td>\n",
              "      <td>24.000000</td>\n",
              "      <td>27.000000</td>\n",
              "    </tr>\n",
              "    <tr>\n",
              "      <th>max</th>\n",
              "      <td>381.907693</td>\n",
              "      <td>2428.000000</td>\n",
              "      <td>96.000000</td>\n",
              "    </tr>\n",
              "  </tbody>\n",
              "</table>\n",
              "</div>\n",
              "    <div class=\"colab-df-buttons\">\n",
              "\n",
              "  <div class=\"colab-df-container\">\n",
              "    <button class=\"colab-df-convert\" onclick=\"convertToInteractive('df-08360001-020e-4c6d-8ec0-7996ad0be37e')\"\n",
              "            title=\"Convert this dataframe to an interactive table.\"\n",
              "            style=\"display:none;\">\n",
              "\n",
              "  <svg xmlns=\"http://www.w3.org/2000/svg\" height=\"24px\" viewBox=\"0 -960 960 960\">\n",
              "    <path d=\"M120-120v-720h720v720H120Zm60-500h600v-160H180v160Zm220 220h160v-160H400v160Zm0 220h160v-160H400v160ZM180-400h160v-160H180v160Zm440 0h160v-160H620v160ZM180-180h160v-160H180v160Zm440 0h160v-160H620v160Z\"/>\n",
              "  </svg>\n",
              "    </button>\n",
              "\n",
              "  <style>\n",
              "    .colab-df-container {\n",
              "      display:flex;\n",
              "      gap: 12px;\n",
              "    }\n",
              "\n",
              "    .colab-df-convert {\n",
              "      background-color: #E8F0FE;\n",
              "      border: none;\n",
              "      border-radius: 50%;\n",
              "      cursor: pointer;\n",
              "      display: none;\n",
              "      fill: #1967D2;\n",
              "      height: 32px;\n",
              "      padding: 0 0 0 0;\n",
              "      width: 32px;\n",
              "    }\n",
              "\n",
              "    .colab-df-convert:hover {\n",
              "      background-color: #E2EBFA;\n",
              "      box-shadow: 0px 1px 2px rgba(60, 64, 67, 0.3), 0px 1px 3px 1px rgba(60, 64, 67, 0.15);\n",
              "      fill: #174EA6;\n",
              "    }\n",
              "\n",
              "    .colab-df-buttons div {\n",
              "      margin-bottom: 4px;\n",
              "    }\n",
              "\n",
              "    [theme=dark] .colab-df-convert {\n",
              "      background-color: #3B4455;\n",
              "      fill: #D2E3FC;\n",
              "    }\n",
              "\n",
              "    [theme=dark] .colab-df-convert:hover {\n",
              "      background-color: #434B5C;\n",
              "      box-shadow: 0px 1px 3px 1px rgba(0, 0, 0, 0.15);\n",
              "      filter: drop-shadow(0px 1px 2px rgba(0, 0, 0, 0.3));\n",
              "      fill: #FFFFFF;\n",
              "    }\n",
              "  </style>\n",
              "\n",
              "    <script>\n",
              "      const buttonEl =\n",
              "        document.querySelector('#df-08360001-020e-4c6d-8ec0-7996ad0be37e button.colab-df-convert');\n",
              "      buttonEl.style.display =\n",
              "        google.colab.kernel.accessAllowed ? 'block' : 'none';\n",
              "\n",
              "      async function convertToInteractive(key) {\n",
              "        const element = document.querySelector('#df-08360001-020e-4c6d-8ec0-7996ad0be37e');\n",
              "        const dataTable =\n",
              "          await google.colab.kernel.invokeFunction('convertToInteractive',\n",
              "                                                    [key], {});\n",
              "        if (!dataTable) return;\n",
              "\n",
              "        const docLinkHtml = 'Like what you see? Visit the ' +\n",
              "          '<a target=\"_blank\" href=https://colab.research.google.com/notebooks/data_table.ipynb>data table notebook</a>'\n",
              "          + ' to learn more about interactive tables.';\n",
              "        element.innerHTML = '';\n",
              "        dataTable['output_type'] = 'display_data';\n",
              "        await google.colab.output.renderOutput(dataTable, element);\n",
              "        const docLink = document.createElement('div');\n",
              "        docLink.innerHTML = docLinkHtml;\n",
              "        element.appendChild(docLink);\n",
              "      }\n",
              "    </script>\n",
              "  </div>\n",
              "\n",
              "\n",
              "<div id=\"df-e4d2b114-2dbc-4736-9da8-f48cfd2d7700\">\n",
              "  <button class=\"colab-df-quickchart\" onclick=\"quickchart('df-e4d2b114-2dbc-4736-9da8-f48cfd2d7700')\"\n",
              "            title=\"Suggest charts\"\n",
              "            style=\"display:none;\">\n",
              "\n",
              "<svg xmlns=\"http://www.w3.org/2000/svg\" height=\"24px\"viewBox=\"0 0 24 24\"\n",
              "     width=\"24px\">\n",
              "    <g>\n",
              "        <path d=\"M19 3H5c-1.1 0-2 .9-2 2v14c0 1.1.9 2 2 2h14c1.1 0 2-.9 2-2V5c0-1.1-.9-2-2-2zM9 17H7v-7h2v7zm4 0h-2V7h2v10zm4 0h-2v-4h2v4z\"/>\n",
              "    </g>\n",
              "</svg>\n",
              "  </button>\n",
              "\n",
              "<style>\n",
              "  .colab-df-quickchart {\n",
              "      --bg-color: #E8F0FE;\n",
              "      --fill-color: #1967D2;\n",
              "      --hover-bg-color: #E2EBFA;\n",
              "      --hover-fill-color: #174EA6;\n",
              "      --disabled-fill-color: #AAA;\n",
              "      --disabled-bg-color: #DDD;\n",
              "  }\n",
              "\n",
              "  [theme=dark] .colab-df-quickchart {\n",
              "      --bg-color: #3B4455;\n",
              "      --fill-color: #D2E3FC;\n",
              "      --hover-bg-color: #434B5C;\n",
              "      --hover-fill-color: #FFFFFF;\n",
              "      --disabled-bg-color: #3B4455;\n",
              "      --disabled-fill-color: #666;\n",
              "  }\n",
              "\n",
              "  .colab-df-quickchart {\n",
              "    background-color: var(--bg-color);\n",
              "    border: none;\n",
              "    border-radius: 50%;\n",
              "    cursor: pointer;\n",
              "    display: none;\n",
              "    fill: var(--fill-color);\n",
              "    height: 32px;\n",
              "    padding: 0;\n",
              "    width: 32px;\n",
              "  }\n",
              "\n",
              "  .colab-df-quickchart:hover {\n",
              "    background-color: var(--hover-bg-color);\n",
              "    box-shadow: 0 1px 2px rgba(60, 64, 67, 0.3), 0 1px 3px 1px rgba(60, 64, 67, 0.15);\n",
              "    fill: var(--button-hover-fill-color);\n",
              "  }\n",
              "\n",
              "  .colab-df-quickchart-complete:disabled,\n",
              "  .colab-df-quickchart-complete:disabled:hover {\n",
              "    background-color: var(--disabled-bg-color);\n",
              "    fill: var(--disabled-fill-color);\n",
              "    box-shadow: none;\n",
              "  }\n",
              "\n",
              "  .colab-df-spinner {\n",
              "    border: 2px solid var(--fill-color);\n",
              "    border-color: transparent;\n",
              "    border-bottom-color: var(--fill-color);\n",
              "    animation:\n",
              "      spin 1s steps(1) infinite;\n",
              "  }\n",
              "\n",
              "  @keyframes spin {\n",
              "    0% {\n",
              "      border-color: transparent;\n",
              "      border-bottom-color: var(--fill-color);\n",
              "      border-left-color: var(--fill-color);\n",
              "    }\n",
              "    20% {\n",
              "      border-color: transparent;\n",
              "      border-left-color: var(--fill-color);\n",
              "      border-top-color: var(--fill-color);\n",
              "    }\n",
              "    30% {\n",
              "      border-color: transparent;\n",
              "      border-left-color: var(--fill-color);\n",
              "      border-top-color: var(--fill-color);\n",
              "      border-right-color: var(--fill-color);\n",
              "    }\n",
              "    40% {\n",
              "      border-color: transparent;\n",
              "      border-right-color: var(--fill-color);\n",
              "      border-top-color: var(--fill-color);\n",
              "    }\n",
              "    60% {\n",
              "      border-color: transparent;\n",
              "      border-right-color: var(--fill-color);\n",
              "    }\n",
              "    80% {\n",
              "      border-color: transparent;\n",
              "      border-right-color: var(--fill-color);\n",
              "      border-bottom-color: var(--fill-color);\n",
              "    }\n",
              "    90% {\n",
              "      border-color: transparent;\n",
              "      border-bottom-color: var(--fill-color);\n",
              "    }\n",
              "  }\n",
              "</style>\n",
              "\n",
              "  <script>\n",
              "    async function quickchart(key) {\n",
              "      const quickchartButtonEl =\n",
              "        document.querySelector('#' + key + ' button');\n",
              "      quickchartButtonEl.disabled = true;  // To prevent multiple clicks.\n",
              "      quickchartButtonEl.classList.add('colab-df-spinner');\n",
              "      try {\n",
              "        const charts = await google.colab.kernel.invokeFunction(\n",
              "            'suggestCharts', [key], {});\n",
              "      } catch (error) {\n",
              "        console.error('Error during call to suggestCharts:', error);\n",
              "      }\n",
              "      quickchartButtonEl.classList.remove('colab-df-spinner');\n",
              "      quickchartButtonEl.classList.add('colab-df-quickchart-complete');\n",
              "    }\n",
              "    (() => {\n",
              "      let quickchartButtonEl =\n",
              "        document.querySelector('#df-e4d2b114-2dbc-4736-9da8-f48cfd2d7700 button');\n",
              "      quickchartButtonEl.style.display =\n",
              "        google.colab.kernel.accessAllowed ? 'block' : 'none';\n",
              "    })();\n",
              "  </script>\n",
              "</div>\n",
              "    </div>\n",
              "  </div>\n"
            ],
            "application/vnd.google.colaboratory.intrinsic+json": {
              "type": "dataframe",
              "summary": "{\n  \"name\": \"df[['Ticket_Price', 'Distance', 'Days_Before']]\",\n  \"rows\": 5,\n  \"fields\": [\n    {\n      \"column\": \"Ticket_Price\",\n      \"properties\": {\n        \"dtype\": \"number\",\n        \"std\": 137.52100472899176,\n        \"min\": 33.019596629346225,\n        \"max\": 381.9076933804131,\n        \"num_unique_values\": 5,\n        \"samples\": [\n          33.019596629346225,\n          381.9076933804131,\n          263.014955466072\n        ],\n        \"semantic_type\": \"\",\n        \"description\": \"\"\n      }\n    },\n    {\n      \"column\": \"Distance\",\n      \"properties\": {\n        \"dtype\": \"number\",\n        \"std\": 931.4382887128152,\n        \"min\": 24.0,\n        \"max\": 2428.0,\n        \"num_unique_values\": 5,\n        \"samples\": [\n          299.5846957909218,\n          2428.0,\n          1001.0\n        ],\n        \"semantic_type\": \"\",\n        \"description\": \"\"\n      }\n    },\n    {\n      \"column\": \"Days_Before\",\n      \"properties\": {\n        \"dtype\": \"number\",\n        \"std\": 34.02550026693146,\n        \"min\": 7.736493725955688,\n        \"max\": 96.0,\n        \"num_unique_values\": 5,\n        \"samples\": [\n          7.736493725955688,\n          96.0,\n          60.0\n        ],\n        \"semantic_type\": \"\",\n        \"description\": \"\"\n      }\n    }\n  ]\n}"
            }
          },
          "metadata": {},
          "execution_count": 81
        }
      ],
      "source": [
        "df[['Ticket_Price', 'Distance', 'Days_Before']].describe().loc[['mean', 'std', '50%', 'min', 'max']]"
      ]
    },
    {
      "cell_type": "markdown",
      "metadata": {
        "id": "I_PKz8dFY5t0"
      },
      "source": [
        "Описательные статистики для бинарных переменных:"
      ]
    },
    {
      "cell_type": "code",
      "execution_count": null,
      "metadata": {
        "colab": {
          "base_uri": "https://localhost:8080/",
          "height": 143
        },
        "id": "SwDHB0xUY5t1",
        "outputId": "789b777d-aa35-4cf9-9126-bb43c956cc51"
      },
      "outputs": [
        {
          "output_type": "execute_result",
          "data": {
            "text/plain": [
              "             Количество \"1\"  Доля \"1\"\n",
              "Last_Ticket           51743   0.51743\n",
              "Connection            40129   0.40129\n",
              "Hours                 50740   0.50740"
            ],
            "text/html": [
              "\n",
              "  <div id=\"df-e8787016-a024-4541-8952-863dd2370a3b\" class=\"colab-df-container\">\n",
              "    <div>\n",
              "<style scoped>\n",
              "    .dataframe tbody tr th:only-of-type {\n",
              "        vertical-align: middle;\n",
              "    }\n",
              "\n",
              "    .dataframe tbody tr th {\n",
              "        vertical-align: top;\n",
              "    }\n",
              "\n",
              "    .dataframe thead th {\n",
              "        text-align: right;\n",
              "    }\n",
              "</style>\n",
              "<table border=\"1\" class=\"dataframe\">\n",
              "  <thead>\n",
              "    <tr style=\"text-align: right;\">\n",
              "      <th></th>\n",
              "      <th>Количество \"1\"</th>\n",
              "      <th>Доля \"1\"</th>\n",
              "    </tr>\n",
              "  </thead>\n",
              "  <tbody>\n",
              "    <tr>\n",
              "      <th>Last_Ticket</th>\n",
              "      <td>51743</td>\n",
              "      <td>0.51743</td>\n",
              "    </tr>\n",
              "    <tr>\n",
              "      <th>Connection</th>\n",
              "      <td>40129</td>\n",
              "      <td>0.40129</td>\n",
              "    </tr>\n",
              "    <tr>\n",
              "      <th>Hours</th>\n",
              "      <td>50740</td>\n",
              "      <td>0.50740</td>\n",
              "    </tr>\n",
              "  </tbody>\n",
              "</table>\n",
              "</div>\n",
              "    <div class=\"colab-df-buttons\">\n",
              "\n",
              "  <div class=\"colab-df-container\">\n",
              "    <button class=\"colab-df-convert\" onclick=\"convertToInteractive('df-e8787016-a024-4541-8952-863dd2370a3b')\"\n",
              "            title=\"Convert this dataframe to an interactive table.\"\n",
              "            style=\"display:none;\">\n",
              "\n",
              "  <svg xmlns=\"http://www.w3.org/2000/svg\" height=\"24px\" viewBox=\"0 -960 960 960\">\n",
              "    <path d=\"M120-120v-720h720v720H120Zm60-500h600v-160H180v160Zm220 220h160v-160H400v160Zm0 220h160v-160H400v160ZM180-400h160v-160H180v160Zm440 0h160v-160H620v160ZM180-180h160v-160H180v160Zm440 0h160v-160H620v160Z\"/>\n",
              "  </svg>\n",
              "    </button>\n",
              "\n",
              "  <style>\n",
              "    .colab-df-container {\n",
              "      display:flex;\n",
              "      gap: 12px;\n",
              "    }\n",
              "\n",
              "    .colab-df-convert {\n",
              "      background-color: #E8F0FE;\n",
              "      border: none;\n",
              "      border-radius: 50%;\n",
              "      cursor: pointer;\n",
              "      display: none;\n",
              "      fill: #1967D2;\n",
              "      height: 32px;\n",
              "      padding: 0 0 0 0;\n",
              "      width: 32px;\n",
              "    }\n",
              "\n",
              "    .colab-df-convert:hover {\n",
              "      background-color: #E2EBFA;\n",
              "      box-shadow: 0px 1px 2px rgba(60, 64, 67, 0.3), 0px 1px 3px 1px rgba(60, 64, 67, 0.15);\n",
              "      fill: #174EA6;\n",
              "    }\n",
              "\n",
              "    .colab-df-buttons div {\n",
              "      margin-bottom: 4px;\n",
              "    }\n",
              "\n",
              "    [theme=dark] .colab-df-convert {\n",
              "      background-color: #3B4455;\n",
              "      fill: #D2E3FC;\n",
              "    }\n",
              "\n",
              "    [theme=dark] .colab-df-convert:hover {\n",
              "      background-color: #434B5C;\n",
              "      box-shadow: 0px 1px 3px 1px rgba(0, 0, 0, 0.15);\n",
              "      filter: drop-shadow(0px 1px 2px rgba(0, 0, 0, 0.3));\n",
              "      fill: #FFFFFF;\n",
              "    }\n",
              "  </style>\n",
              "\n",
              "    <script>\n",
              "      const buttonEl =\n",
              "        document.querySelector('#df-e8787016-a024-4541-8952-863dd2370a3b button.colab-df-convert');\n",
              "      buttonEl.style.display =\n",
              "        google.colab.kernel.accessAllowed ? 'block' : 'none';\n",
              "\n",
              "      async function convertToInteractive(key) {\n",
              "        const element = document.querySelector('#df-e8787016-a024-4541-8952-863dd2370a3b');\n",
              "        const dataTable =\n",
              "          await google.colab.kernel.invokeFunction('convertToInteractive',\n",
              "                                                    [key], {});\n",
              "        if (!dataTable) return;\n",
              "\n",
              "        const docLinkHtml = 'Like what you see? Visit the ' +\n",
              "          '<a target=\"_blank\" href=https://colab.research.google.com/notebooks/data_table.ipynb>data table notebook</a>'\n",
              "          + ' to learn more about interactive tables.';\n",
              "        element.innerHTML = '';\n",
              "        dataTable['output_type'] = 'display_data';\n",
              "        await google.colab.output.renderOutput(dataTable, element);\n",
              "        const docLink = document.createElement('div');\n",
              "        docLink.innerHTML = docLinkHtml;\n",
              "        element.appendChild(docLink);\n",
              "      }\n",
              "    </script>\n",
              "  </div>\n",
              "\n",
              "\n",
              "<div id=\"df-d57d1b90-f01a-431f-a277-c4fbe0f090ed\">\n",
              "  <button class=\"colab-df-quickchart\" onclick=\"quickchart('df-d57d1b90-f01a-431f-a277-c4fbe0f090ed')\"\n",
              "            title=\"Suggest charts\"\n",
              "            style=\"display:none;\">\n",
              "\n",
              "<svg xmlns=\"http://www.w3.org/2000/svg\" height=\"24px\"viewBox=\"0 0 24 24\"\n",
              "     width=\"24px\">\n",
              "    <g>\n",
              "        <path d=\"M19 3H5c-1.1 0-2 .9-2 2v14c0 1.1.9 2 2 2h14c1.1 0 2-.9 2-2V5c0-1.1-.9-2-2-2zM9 17H7v-7h2v7zm4 0h-2V7h2v10zm4 0h-2v-4h2v4z\"/>\n",
              "    </g>\n",
              "</svg>\n",
              "  </button>\n",
              "\n",
              "<style>\n",
              "  .colab-df-quickchart {\n",
              "      --bg-color: #E8F0FE;\n",
              "      --fill-color: #1967D2;\n",
              "      --hover-bg-color: #E2EBFA;\n",
              "      --hover-fill-color: #174EA6;\n",
              "      --disabled-fill-color: #AAA;\n",
              "      --disabled-bg-color: #DDD;\n",
              "  }\n",
              "\n",
              "  [theme=dark] .colab-df-quickchart {\n",
              "      --bg-color: #3B4455;\n",
              "      --fill-color: #D2E3FC;\n",
              "      --hover-bg-color: #434B5C;\n",
              "      --hover-fill-color: #FFFFFF;\n",
              "      --disabled-bg-color: #3B4455;\n",
              "      --disabled-fill-color: #666;\n",
              "  }\n",
              "\n",
              "  .colab-df-quickchart {\n",
              "    background-color: var(--bg-color);\n",
              "    border: none;\n",
              "    border-radius: 50%;\n",
              "    cursor: pointer;\n",
              "    display: none;\n",
              "    fill: var(--fill-color);\n",
              "    height: 32px;\n",
              "    padding: 0;\n",
              "    width: 32px;\n",
              "  }\n",
              "\n",
              "  .colab-df-quickchart:hover {\n",
              "    background-color: var(--hover-bg-color);\n",
              "    box-shadow: 0 1px 2px rgba(60, 64, 67, 0.3), 0 1px 3px 1px rgba(60, 64, 67, 0.15);\n",
              "    fill: var(--button-hover-fill-color);\n",
              "  }\n",
              "\n",
              "  .colab-df-quickchart-complete:disabled,\n",
              "  .colab-df-quickchart-complete:disabled:hover {\n",
              "    background-color: var(--disabled-bg-color);\n",
              "    fill: var(--disabled-fill-color);\n",
              "    box-shadow: none;\n",
              "  }\n",
              "\n",
              "  .colab-df-spinner {\n",
              "    border: 2px solid var(--fill-color);\n",
              "    border-color: transparent;\n",
              "    border-bottom-color: var(--fill-color);\n",
              "    animation:\n",
              "      spin 1s steps(1) infinite;\n",
              "  }\n",
              "\n",
              "  @keyframes spin {\n",
              "    0% {\n",
              "      border-color: transparent;\n",
              "      border-bottom-color: var(--fill-color);\n",
              "      border-left-color: var(--fill-color);\n",
              "    }\n",
              "    20% {\n",
              "      border-color: transparent;\n",
              "      border-left-color: var(--fill-color);\n",
              "      border-top-color: var(--fill-color);\n",
              "    }\n",
              "    30% {\n",
              "      border-color: transparent;\n",
              "      border-left-color: var(--fill-color);\n",
              "      border-top-color: var(--fill-color);\n",
              "      border-right-color: var(--fill-color);\n",
              "    }\n",
              "    40% {\n",
              "      border-color: transparent;\n",
              "      border-right-color: var(--fill-color);\n",
              "      border-top-color: var(--fill-color);\n",
              "    }\n",
              "    60% {\n",
              "      border-color: transparent;\n",
              "      border-right-color: var(--fill-color);\n",
              "    }\n",
              "    80% {\n",
              "      border-color: transparent;\n",
              "      border-right-color: var(--fill-color);\n",
              "      border-bottom-color: var(--fill-color);\n",
              "    }\n",
              "    90% {\n",
              "      border-color: transparent;\n",
              "      border-bottom-color: var(--fill-color);\n",
              "    }\n",
              "  }\n",
              "</style>\n",
              "\n",
              "  <script>\n",
              "    async function quickchart(key) {\n",
              "      const quickchartButtonEl =\n",
              "        document.querySelector('#' + key + ' button');\n",
              "      quickchartButtonEl.disabled = true;  // To prevent multiple clicks.\n",
              "      quickchartButtonEl.classList.add('colab-df-spinner');\n",
              "      try {\n",
              "        const charts = await google.colab.kernel.invokeFunction(\n",
              "            'suggestCharts', [key], {});\n",
              "      } catch (error) {\n",
              "        console.error('Error during call to suggestCharts:', error);\n",
              "      }\n",
              "      quickchartButtonEl.classList.remove('colab-df-spinner');\n",
              "      quickchartButtonEl.classList.add('colab-df-quickchart-complete');\n",
              "    }\n",
              "    (() => {\n",
              "      let quickchartButtonEl =\n",
              "        document.querySelector('#df-d57d1b90-f01a-431f-a277-c4fbe0f090ed button');\n",
              "      quickchartButtonEl.style.display =\n",
              "        google.colab.kernel.accessAllowed ? 'block' : 'none';\n",
              "    })();\n",
              "  </script>\n",
              "</div>\n",
              "    </div>\n",
              "  </div>\n"
            ],
            "application/vnd.google.colaboratory.intrinsic+json": {
              "type": "dataframe",
              "variable_name": "binary_stats",
              "summary": "{\n  \"name\": \"binary_stats\",\n  \"rows\": 3,\n  \"fields\": [\n    {\n      \"column\": \"\\u041a\\u043e\\u043b\\u0438\\u0447\\u0435\\u0441\\u0442\\u0432\\u043e \\\"1\\\"\",\n      \"properties\": {\n        \"dtype\": \"number\",\n        \"std\": 6435,\n        \"min\": 40129,\n        \"max\": 51743,\n        \"num_unique_values\": 3,\n        \"samples\": [\n          51743,\n          40129,\n          50740\n        ],\n        \"semantic_type\": \"\",\n        \"description\": \"\"\n      }\n    },\n    {\n      \"column\": \"\\u0414\\u043e\\u043b\\u044f \\\"1\\\"\",\n      \"properties\": {\n        \"dtype\": \"number\",\n        \"std\": 0.06435375228635337,\n        \"min\": 0.40129,\n        \"max\": 0.51743,\n        \"num_unique_values\": 3,\n        \"samples\": [\n          0.51743,\n          0.40129,\n          0.5074\n        ],\n        \"semantic_type\": \"\",\n        \"description\": \"\"\n      }\n    }\n  ]\n}"
            }
          },
          "metadata": {},
          "execution_count": 82
        }
      ],
      "source": [
        "binary_vars = df[['Last_Ticket', 'Connection', 'Hours']]\n",
        "binary_stats = binary_vars.sum().to_frame(name = 'Количество \"1\"')\n",
        "binary_stats['Доля \"1\"'] = binary_stats['Количество \"1\"'] / len(df)\n",
        "binary_stats"
      ]
    },
    {
      "cell_type": "markdown",
      "metadata": {
        "id": "pmRUGV5_Y5t1"
      },
      "source": [
        "Разделим выборку на обучающую и тестовую:"
      ]
    },
    {
      "cell_type": "code",
      "execution_count": null,
      "metadata": {
        "colab": {
          "base_uri": "https://localhost:8080/"
        },
        "id": "112L5aSIY5t1",
        "outputId": "53e163bc-c84b-4d77-81ed-52981de25112"
      },
      "outputs": [
        {
          "output_type": "stream",
          "name": "stdout",
          "text": [
            "80000 20000\n",
            "80000 20000\n"
          ]
        }
      ],
      "source": [
        "# Обозначаем целевую переменную и делим выборку\n",
        "target = df['Ticket_Price']\n",
        "features = df.drop(columns = ['Ticket_Price', 'Last_Ticket', 'Hours'])\n",
        "features_train, features_test, target_train, target_test = train_test_split(features, target, test_size = 0.2, random_state = 22)\n",
        "\n",
        "# Убедимся, что обучающая и тестовая выборки имеют верные пропорции\n",
        "print(features_train.index.size, features_test.index.size) # признаки\n",
        "print(target_train.index.size, target_test.index.size)     # целевая переменная"
      ]
    },
    {
      "cell_type": "markdown",
      "metadata": {
        "id": "1_S6k2i0Y5t1"
      },
      "source": [
        "## Классификация 🤪"
      ]
    },
    {
      "cell_type": "markdown",
      "metadata": {
        "id": "4Pddr66aY5t1"
      },
      "source": [
        "1. Отберите признаки, которые могут быть полезны при прогнозировании переменной воздействия и кратко обоснуйте выбор каждой из них. Не включайте в число этих признаков целевую переменную."
      ]
    },
    {
      "cell_type": "code",
      "execution_count": null,
      "metadata": {
        "colab": {
          "base_uri": "https://localhost:8080/"
        },
        "id": "BvQbBGnKY5t1",
        "outputId": "364308ba-a156-4060-8fb2-1f8658840ff1"
      },
      "outputs": [
        {
          "output_type": "stream",
          "name": "stdout",
          "text": [
            "80000 20000\n",
            "80000 20000\n"
          ]
        }
      ],
      "source": [
        "# Обозначаем целевую переменную и делим выборку\n",
        "y = df['Last_Ticket']\n",
        "X = df.drop(columns = ['Ticket_Price', 'Last_Ticket'])\n",
        "X_train, X_test, y_train, y_test = train_test_split(X, y, test_size = 0.2, random_state = 22)\n",
        "\n",
        "# Убедимся, что обучающая и тестовая выборки имеют верные пропорции\n",
        "print(X_train.index.size, X_test.index.size) # признаки\n",
        "print(y_train.index.size, y_test.index.size)     # целевая переменная"
      ]
    },
    {
      "cell_type": "markdown",
      "metadata": {
        "id": "ywUpFHcmY5t2"
      },
      "source": [
        "2. Выберите произвольные значения гиперпараметров, а затем оцените и сравните (между методами) точность прогнозов:\n",
        "\n",
        "• на обучающей выборке.\n",
        "\n",
        "• на тестовой выборке.\n",
        "\n",
        "• с помощью кросс-валидации (используйте только обучающую выборку).\n"
      ]
    },
    {
      "cell_type": "markdown",
      "metadata": {
        "id": "lMTGDFvTY5t2"
      },
      "source": [
        "**Метод ближайших соседей**"
      ]
    },
    {
      "cell_type": "code",
      "execution_count": null,
      "metadata": {
        "id": "U63tQqtWY5t2"
      },
      "outputs": [],
      "source": [
        "# Подготовим объект, осуществляющий нормализацию\n",
        "scaler = StandardScaler()\n",
        "\n",
        "# Нормализуем данные\n",
        "X_train_sc = scaler.fit_transform(X_train)  # обучающая выборка\n",
        "X_test_sc  = scaler.fit_transform(X_test)   # тестовая выборка\n",
        "\n",
        "# Преобразуем в формат pandas DataFrame\n",
        "X_train_sc = pd.DataFrame(X_train_sc, columns = X_train.columns)\n",
        "X_test_sc = pd.DataFrame(X_test_sc, columns = X_test.columns)"
      ]
    },
    {
      "cell_type": "code",
      "execution_count": null,
      "metadata": {
        "colab": {
          "base_uri": "https://localhost:8080/"
        },
        "id": "03P6lnBMY5t3",
        "outputId": "e868a957-64f5-4264-e513-ba88092503a4"
      },
      "outputs": [
        {
          "output_type": "stream",
          "name": "stdout",
          "text": [
            "Обучающая выборка:  [0 0 0 1 0 0 0 1 1 0]\n",
            "Тестовая выборка:  [0 0 0 1 1 1 1 1 1 0]\n"
          ]
        }
      ],
      "source": [
        "# Метод ближайших соседей\n",
        "knn_model = KNeighborsClassifier(n_neighbors = 5)\n",
        "knn_model.fit(X_train_sc, y_train)\n",
        "# Прогнозы для обучающей выборки\n",
        "knn_predictions_train = knn_model.predict(X_train_sc)\n",
        "#прогнозы для тестовой выборки\n",
        "knn_predictions_test = knn_model.predict(X_test_sc)\n",
        "# Посмотрим на результаты\n",
        "print('Обучающая выборка: ', knn_predictions_train[0:10])\n",
        "print('Тестовая выборка: ', knn_predictions_test[0:10])"
      ]
    },
    {
      "cell_type": "code",
      "execution_count": null,
      "metadata": {
        "colab": {
          "base_uri": "https://localhost:8080/"
        },
        "id": "NKUa0tvcY5t3",
        "outputId": "9f11440e-da6a-45b9-f063-4d96302bd67e"
      },
      "outputs": [
        {
          "output_type": "stream",
          "name": "stdout",
          "text": [
            "                        ACC\n",
            "Обучающая выборка  0.865425\n",
            "Тестовая выборка   0.800000\n"
          ]
        }
      ],
      "source": [
        "# Оценим точность\n",
        "ACC_knn_train = knn_model.score(X_train_sc, y_train)  # обучающая выборка\n",
        "ACC_knn_test  = knn_model.score(X_test_sc, y_test)    # тестовая выборка\n",
        "\n",
        "# Посмотрим на результат\n",
        "print(pd.DataFrame(data    = [ACC_knn_train, ACC_knn_test],\n",
        "                   index   = ['Обучающая выборка', 'Тестовая выборка'],\n",
        "                   columns = ['ACC']))"
      ]
    },
    {
      "cell_type": "code",
      "execution_count": null,
      "metadata": {
        "colab": {
          "base_uri": "https://localhost:8080/"
        },
        "id": "X5qHNuI5Y5t3",
        "outputId": "5fdbc66a-cd7c-4f86-9fbf-fa0163697516"
      },
      "outputs": [
        {
          "output_type": "execute_result",
          "data": {
            "text/plain": [
              "0.7994249999999999"
            ]
          },
          "metadata": {},
          "execution_count": 36
        }
      ],
      "source": [
        "# Оценка точности с помощью кросс-валидации на обучающей выборке\n",
        "knn_score = cross_val_score(knn_model, X_train_sc, y_train, cv = 5, scoring = 'accuracy').mean()\n",
        "knn_score"
      ]
    },
    {
      "cell_type": "markdown",
      "metadata": {
        "id": "SH3yDYEnY5t3"
      },
      "source": [
        "**Случайный лес**"
      ]
    },
    {
      "cell_type": "code",
      "execution_count": null,
      "metadata": {
        "colab": {
          "base_uri": "https://localhost:8080/"
        },
        "id": "okvAF2CkY5t3",
        "outputId": "08ad89a4-0019-4e0b-a777-9eab6aadb436"
      },
      "outputs": [
        {
          "output_type": "stream",
          "name": "stdout",
          "text": [
            "Обучающая выборка:  [1 1 0 1 0 1 0 1 1 0]\n",
            "Тестовая выборка:  [1 0 0 1 1 1 1 1 1 1]\n"
          ]
        }
      ],
      "source": [
        "# Случайный лес\n",
        "rf_model = RandomForestClassifier(max_depth = 16, max_features = 'sqrt', random_state = 22)\n",
        "rf_model.fit(X_train_sc, y_train)\n",
        "# Прогнозы для обучающей выборки\n",
        "rf_predictions_train = rf_model.predict(X_train_sc)\n",
        "#прогнозы для тестовой выборки\n",
        "rf_predictions_test = rf_model.predict(X_test_sc)\n",
        "# Посмотрим на результаты\n",
        "print('Обучающая выборка: ', rf_predictions_train[0:10])\n",
        "print('Тестовая выборка: ', rf_predictions_test[0:10])"
      ]
    },
    {
      "cell_type": "code",
      "execution_count": null,
      "metadata": {
        "colab": {
          "base_uri": "https://localhost:8080/"
        },
        "id": "B6BEEakpY5t4",
        "outputId": "6ef17413-ca21-406b-c457-6eed95c2ce08"
      },
      "outputs": [
        {
          "output_type": "stream",
          "name": "stdout",
          "text": [
            "                        ACC\n",
            "Обучающая выборка  0.879025\n",
            "Тестовая выборка   0.808800\n"
          ]
        }
      ],
      "source": [
        "# Оценим точность\n",
        "ACC_rf_train = rf_model.score(X_train_sc, y_train)  # обучающая выборка\n",
        "ACC_rf_test  = rf_model.score(X_test_sc, y_test)    # тестовая выборка\n",
        "\n",
        "# Посмотрим на результат\n",
        "print(pd.DataFrame(data    = [ACC_rf_train, ACC_rf_test],\n",
        "                   index   = ['Обучающая выборка', 'Тестовая выборка'],\n",
        "                   columns = ['ACC']))"
      ]
    },
    {
      "cell_type": "code",
      "execution_count": null,
      "metadata": {
        "colab": {
          "base_uri": "https://localhost:8080/"
        },
        "id": "qRivRJOjY5t4",
        "outputId": "80f09d5d-689a-4a87-b813-f2e2997cd0f7"
      },
      "outputs": [
        {
          "output_type": "execute_result",
          "data": {
            "text/plain": [
              "0.8103"
            ]
          },
          "metadata": {},
          "execution_count": 39
        }
      ],
      "source": [
        "# Оценка точности с помощью кросс-валидации на обучающей выборке\n",
        "rf_score = cross_val_score(rf_model, X_train_sc, y_train, cv = 5, scoring = 'accuracy').mean()\n",
        "rf_score"
      ]
    },
    {
      "cell_type": "markdown",
      "metadata": {
        "id": "cSS_141VY5t4"
      },
      "source": [
        "**Градиентный бустинг**"
      ]
    },
    {
      "cell_type": "code",
      "execution_count": null,
      "metadata": {
        "colab": {
          "base_uri": "https://localhost:8080/"
        },
        "id": "gf4EVG1lY5t4",
        "outputId": "1574ee64-279b-4f2f-f790-b95404bcda1f"
      },
      "outputs": [
        {
          "output_type": "stream",
          "name": "stdout",
          "text": [
            "Обучающая выборка:  [1 1 0 1 0 1 0 1 1 0]\n",
            "Тестовая выборка:  [1 0 0 1 1 1 1 1 1 1]\n"
          ]
        }
      ],
      "source": [
        "# Градиентный бустинг\n",
        "gb_model = GradientBoostingClassifier(random_state = 22)\n",
        "gb_model.fit(X_train_sc, y_train)\n",
        "# Прогнозы для обучающей выборки\n",
        "gb_predictions_train = gb_model.predict(X_train_sc)\n",
        "#прогнозы для тестовой выборки\n",
        "gb_predictions_test = gb_model.predict(X_test_sc)\n",
        "# Посмотрим на результаты\n",
        "print('Обучающая выборка: ', gb_predictions_train[0:10])\n",
        "print('Тестовая выборка: ', gb_predictions_test[0:10])"
      ]
    },
    {
      "cell_type": "code",
      "execution_count": null,
      "metadata": {
        "colab": {
          "base_uri": "https://localhost:8080/"
        },
        "id": "ty1RcCRTY5t4",
        "outputId": "f5e41775-6860-4538-b3d9-4a1aa6e9f062"
      },
      "outputs": [
        {
          "output_type": "stream",
          "name": "stdout",
          "text": [
            "                        ACC\n",
            "Обучающая выборка  0.823388\n",
            "Тестовая выборка   0.820850\n"
          ]
        }
      ],
      "source": [
        "# Оценим точность\n",
        "ACC_gb_train = gb_model.score(X_train_sc, y_train)  # обучающая выборка\n",
        "ACC_gb_test  = gb_model.score(X_test_sc, y_test)    # тестовая выборка\n",
        "\n",
        "# Посмотрим на результат\n",
        "print(pd.DataFrame(data    = [ACC_gb_train, ACC_gb_test],\n",
        "                   index   = ['Обучающая выборка', 'Тестовая выборка'],\n",
        "                   columns = ['ACC']))"
      ]
    },
    {
      "cell_type": "code",
      "execution_count": null,
      "metadata": {
        "colab": {
          "base_uri": "https://localhost:8080/"
        },
        "id": "tYweZ79qY5t5",
        "outputId": "27481630-b560-4c85-eed7-1c4517c01e83"
      },
      "outputs": [
        {
          "output_type": "execute_result",
          "data": {
            "text/plain": [
              "0.8213750000000001"
            ]
          },
          "metadata": {},
          "execution_count": 42
        }
      ],
      "source": [
        "# Оценка точности с помощью кросс-валидации на обучающей выборке\n",
        "gb_score = cross_val_score(gb_model, X_train_sc, y_train, cv = 5, scoring = 'accuracy').mean()\n",
        "gb_score"
      ]
    },
    {
      "cell_type": "markdown",
      "metadata": {
        "id": "2OvSxk2lY5t5"
      },
      "source": [
        "3. Для каждого метода с помощью кросс-валидации на обучающей выборке подберите оптимальные значения гиперпараметров (тюнинг). В качестве критерия качества используйте точность ACC. Результат представьте в форме таблицы, в которой для каждого метода должны быть указаны:\n",
        "\n",
        "• изначальные и подобранные значения гиперпараметров.\n",
        "\n",
        "• кросс-валидационная точность на обучающей выборке с исходными и подобранными значениями гиперпараметров.\n",
        "\n",
        "• точность на тестовой выборке с исходными и подобранными значениями гиперпараметров.\n",
        "\n",
        "Проинтерпретируйте полученные результаты и далее используйте методы с подобранными значениями гиперпараметров."
      ]
    },
    {
      "cell_type": "markdown",
      "metadata": {
        "id": "N2rL6Z4YY5t5"
      },
      "source": [
        "**Метод ближайших соседей**"
      ]
    },
    {
      "cell_type": "code",
      "execution_count": null,
      "metadata": {
        "colab": {
          "base_uri": "https://localhost:8080/"
        },
        "id": "Ek48he23Y5t5",
        "outputId": "5d7b41f0-5ccb-4208-80aa-ae480a37c41f"
      },
      "outputs": [
        {
          "output_type": "stream",
          "name": "stdout",
          "text": [
            "{'n_neighbors': 9, 'p': 1, 'weights': 'uniform'}\n"
          ]
        }
      ],
      "source": [
        "# Перебираемые значения гиперпараметров\n",
        "hyperparameters = {'n_neighbors': range(1, 11), 'weights': ['uniform', 'distance'], 'p': [1, 2, 3]}\n",
        "\n",
        "# Перебор гиперпараметров с помощью кросс-валидации\n",
        "CV_knn = GridSearchCV(estimator = knn_model,\n",
        "                        param_grid = hyperparameters,\n",
        "                        scoring = \"accuracy\",\n",
        "                        cv = 5)\n",
        "CV_knn.fit(X_train_sc, y_train)\n",
        "best_knn = CV_knn.best_params_\n",
        "print(best_knn)"
      ]
    },
    {
      "cell_type": "code",
      "execution_count": null,
      "metadata": {
        "colab": {
          "base_uri": "https://localhost:8080/",
          "height": 247
        },
        "id": "NG_X52XXY5t5",
        "outputId": "31445320-5d27-4b08-c354-8a3052d4faf1"
      },
      "outputs": [
        {
          "output_type": "execute_result",
          "data": {
            "text/plain": [
              "                                           Параметры  \\\n",
              "0                                     Гиперпараметры   \n",
              "1  Кросс-валидационная точность на обучающей выборке   \n",
              "2                       Точность на тестовой выборке   \n",
              "\n",
              "                                                                                                                                   Изначальные значения  \\\n",
              "0  {'algorithm': 'auto', 'leaf_size': 30, 'metric': 'minkowski', 'metric_params': None, 'n_jobs': None, 'n_neighbors': 5, 'p': 2, 'weights': 'uniform'}   \n",
              "1                                                                                                                                              0.799425   \n",
              "2                                                                                                                                                   0.8   \n",
              "\n",
              "                                                                                                                                   Подобранные значения  \n",
              "0  {'algorithm': 'auto', 'leaf_size': 30, 'metric': 'minkowski', 'metric_params': None, 'n_jobs': None, 'n_neighbors': 9, 'p': 1, 'weights': 'uniform'}  \n",
              "1                                                                                                                                                0.8058  \n",
              "2                                                                                                                                               0.80605  "
            ],
            "text/html": [
              "\n",
              "  <div id=\"df-21449191-ceff-47d2-8b72-4ecbc9bcef6d\" class=\"colab-df-container\">\n",
              "    <div>\n",
              "<style scoped>\n",
              "    .dataframe tbody tr th:only-of-type {\n",
              "        vertical-align: middle;\n",
              "    }\n",
              "\n",
              "    .dataframe tbody tr th {\n",
              "        vertical-align: top;\n",
              "    }\n",
              "\n",
              "    .dataframe thead th {\n",
              "        text-align: right;\n",
              "    }\n",
              "</style>\n",
              "<table border=\"1\" class=\"dataframe\">\n",
              "  <thead>\n",
              "    <tr style=\"text-align: right;\">\n",
              "      <th></th>\n",
              "      <th>Параметры</th>\n",
              "      <th>Изначальные значения</th>\n",
              "      <th>Подобранные значения</th>\n",
              "    </tr>\n",
              "  </thead>\n",
              "  <tbody>\n",
              "    <tr>\n",
              "      <th>0</th>\n",
              "      <td>Гиперпараметры</td>\n",
              "      <td>{'algorithm': 'auto', 'leaf_size': 30, 'metric': 'minkowski', 'metric_params': None, 'n_jobs': None, 'n_neighbors': 5, 'p': 2, 'weights': 'uniform'}</td>\n",
              "      <td>{'algorithm': 'auto', 'leaf_size': 30, 'metric': 'minkowski', 'metric_params': None, 'n_jobs': None, 'n_neighbors': 9, 'p': 1, 'weights': 'uniform'}</td>\n",
              "    </tr>\n",
              "    <tr>\n",
              "      <th>1</th>\n",
              "      <td>Кросс-валидационная точность на обучающей выборке</td>\n",
              "      <td>0.799425</td>\n",
              "      <td>0.8058</td>\n",
              "    </tr>\n",
              "    <tr>\n",
              "      <th>2</th>\n",
              "      <td>Точность на тестовой выборке</td>\n",
              "      <td>0.8</td>\n",
              "      <td>0.80605</td>\n",
              "    </tr>\n",
              "  </tbody>\n",
              "</table>\n",
              "</div>\n",
              "    <div class=\"colab-df-buttons\">\n",
              "\n",
              "  <div class=\"colab-df-container\">\n",
              "    <button class=\"colab-df-convert\" onclick=\"convertToInteractive('df-21449191-ceff-47d2-8b72-4ecbc9bcef6d')\"\n",
              "            title=\"Convert this dataframe to an interactive table.\"\n",
              "            style=\"display:none;\">\n",
              "\n",
              "  <svg xmlns=\"http://www.w3.org/2000/svg\" height=\"24px\" viewBox=\"0 -960 960 960\">\n",
              "    <path d=\"M120-120v-720h720v720H120Zm60-500h600v-160H180v160Zm220 220h160v-160H400v160Zm0 220h160v-160H400v160ZM180-400h160v-160H180v160Zm440 0h160v-160H620v160ZM180-180h160v-160H180v160Zm440 0h160v-160H620v160Z\"/>\n",
              "  </svg>\n",
              "    </button>\n",
              "\n",
              "  <style>\n",
              "    .colab-df-container {\n",
              "      display:flex;\n",
              "      gap: 12px;\n",
              "    }\n",
              "\n",
              "    .colab-df-convert {\n",
              "      background-color: #E8F0FE;\n",
              "      border: none;\n",
              "      border-radius: 50%;\n",
              "      cursor: pointer;\n",
              "      display: none;\n",
              "      fill: #1967D2;\n",
              "      height: 32px;\n",
              "      padding: 0 0 0 0;\n",
              "      width: 32px;\n",
              "    }\n",
              "\n",
              "    .colab-df-convert:hover {\n",
              "      background-color: #E2EBFA;\n",
              "      box-shadow: 0px 1px 2px rgba(60, 64, 67, 0.3), 0px 1px 3px 1px rgba(60, 64, 67, 0.15);\n",
              "      fill: #174EA6;\n",
              "    }\n",
              "\n",
              "    .colab-df-buttons div {\n",
              "      margin-bottom: 4px;\n",
              "    }\n",
              "\n",
              "    [theme=dark] .colab-df-convert {\n",
              "      background-color: #3B4455;\n",
              "      fill: #D2E3FC;\n",
              "    }\n",
              "\n",
              "    [theme=dark] .colab-df-convert:hover {\n",
              "      background-color: #434B5C;\n",
              "      box-shadow: 0px 1px 3px 1px rgba(0, 0, 0, 0.15);\n",
              "      filter: drop-shadow(0px 1px 2px rgba(0, 0, 0, 0.3));\n",
              "      fill: #FFFFFF;\n",
              "    }\n",
              "  </style>\n",
              "\n",
              "    <script>\n",
              "      const buttonEl =\n",
              "        document.querySelector('#df-21449191-ceff-47d2-8b72-4ecbc9bcef6d button.colab-df-convert');\n",
              "      buttonEl.style.display =\n",
              "        google.colab.kernel.accessAllowed ? 'block' : 'none';\n",
              "\n",
              "      async function convertToInteractive(key) {\n",
              "        const element = document.querySelector('#df-21449191-ceff-47d2-8b72-4ecbc9bcef6d');\n",
              "        const dataTable =\n",
              "          await google.colab.kernel.invokeFunction('convertToInteractive',\n",
              "                                                    [key], {});\n",
              "        if (!dataTable) return;\n",
              "\n",
              "        const docLinkHtml = 'Like what you see? Visit the ' +\n",
              "          '<a target=\"_blank\" href=https://colab.research.google.com/notebooks/data_table.ipynb>data table notebook</a>'\n",
              "          + ' to learn more about interactive tables.';\n",
              "        element.innerHTML = '';\n",
              "        dataTable['output_type'] = 'display_data';\n",
              "        await google.colab.output.renderOutput(dataTable, element);\n",
              "        const docLink = document.createElement('div');\n",
              "        docLink.innerHTML = docLinkHtml;\n",
              "        element.appendChild(docLink);\n",
              "      }\n",
              "    </script>\n",
              "  </div>\n",
              "\n",
              "\n",
              "<div id=\"df-19edb858-1a3a-4f23-b275-5d4306081f76\">\n",
              "  <button class=\"colab-df-quickchart\" onclick=\"quickchart('df-19edb858-1a3a-4f23-b275-5d4306081f76')\"\n",
              "            title=\"Suggest charts\"\n",
              "            style=\"display:none;\">\n",
              "\n",
              "<svg xmlns=\"http://www.w3.org/2000/svg\" height=\"24px\"viewBox=\"0 0 24 24\"\n",
              "     width=\"24px\">\n",
              "    <g>\n",
              "        <path d=\"M19 3H5c-1.1 0-2 .9-2 2v14c0 1.1.9 2 2 2h14c1.1 0 2-.9 2-2V5c0-1.1-.9-2-2-2zM9 17H7v-7h2v7zm4 0h-2V7h2v10zm4 0h-2v-4h2v4z\"/>\n",
              "    </g>\n",
              "</svg>\n",
              "  </button>\n",
              "\n",
              "<style>\n",
              "  .colab-df-quickchart {\n",
              "      --bg-color: #E8F0FE;\n",
              "      --fill-color: #1967D2;\n",
              "      --hover-bg-color: #E2EBFA;\n",
              "      --hover-fill-color: #174EA6;\n",
              "      --disabled-fill-color: #AAA;\n",
              "      --disabled-bg-color: #DDD;\n",
              "  }\n",
              "\n",
              "  [theme=dark] .colab-df-quickchart {\n",
              "      --bg-color: #3B4455;\n",
              "      --fill-color: #D2E3FC;\n",
              "      --hover-bg-color: #434B5C;\n",
              "      --hover-fill-color: #FFFFFF;\n",
              "      --disabled-bg-color: #3B4455;\n",
              "      --disabled-fill-color: #666;\n",
              "  }\n",
              "\n",
              "  .colab-df-quickchart {\n",
              "    background-color: var(--bg-color);\n",
              "    border: none;\n",
              "    border-radius: 50%;\n",
              "    cursor: pointer;\n",
              "    display: none;\n",
              "    fill: var(--fill-color);\n",
              "    height: 32px;\n",
              "    padding: 0;\n",
              "    width: 32px;\n",
              "  }\n",
              "\n",
              "  .colab-df-quickchart:hover {\n",
              "    background-color: var(--hover-bg-color);\n",
              "    box-shadow: 0 1px 2px rgba(60, 64, 67, 0.3), 0 1px 3px 1px rgba(60, 64, 67, 0.15);\n",
              "    fill: var(--button-hover-fill-color);\n",
              "  }\n",
              "\n",
              "  .colab-df-quickchart-complete:disabled,\n",
              "  .colab-df-quickchart-complete:disabled:hover {\n",
              "    background-color: var(--disabled-bg-color);\n",
              "    fill: var(--disabled-fill-color);\n",
              "    box-shadow: none;\n",
              "  }\n",
              "\n",
              "  .colab-df-spinner {\n",
              "    border: 2px solid var(--fill-color);\n",
              "    border-color: transparent;\n",
              "    border-bottom-color: var(--fill-color);\n",
              "    animation:\n",
              "      spin 1s steps(1) infinite;\n",
              "  }\n",
              "\n",
              "  @keyframes spin {\n",
              "    0% {\n",
              "      border-color: transparent;\n",
              "      border-bottom-color: var(--fill-color);\n",
              "      border-left-color: var(--fill-color);\n",
              "    }\n",
              "    20% {\n",
              "      border-color: transparent;\n",
              "      border-left-color: var(--fill-color);\n",
              "      border-top-color: var(--fill-color);\n",
              "    }\n",
              "    30% {\n",
              "      border-color: transparent;\n",
              "      border-left-color: var(--fill-color);\n",
              "      border-top-color: var(--fill-color);\n",
              "      border-right-color: var(--fill-color);\n",
              "    }\n",
              "    40% {\n",
              "      border-color: transparent;\n",
              "      border-right-color: var(--fill-color);\n",
              "      border-top-color: var(--fill-color);\n",
              "    }\n",
              "    60% {\n",
              "      border-color: transparent;\n",
              "      border-right-color: var(--fill-color);\n",
              "    }\n",
              "    80% {\n",
              "      border-color: transparent;\n",
              "      border-right-color: var(--fill-color);\n",
              "      border-bottom-color: var(--fill-color);\n",
              "    }\n",
              "    90% {\n",
              "      border-color: transparent;\n",
              "      border-bottom-color: var(--fill-color);\n",
              "    }\n",
              "  }\n",
              "</style>\n",
              "\n",
              "  <script>\n",
              "    async function quickchart(key) {\n",
              "      const quickchartButtonEl =\n",
              "        document.querySelector('#' + key + ' button');\n",
              "      quickchartButtonEl.disabled = true;  // To prevent multiple clicks.\n",
              "      quickchartButtonEl.classList.add('colab-df-spinner');\n",
              "      try {\n",
              "        const charts = await google.colab.kernel.invokeFunction(\n",
              "            'suggestCharts', [key], {});\n",
              "      } catch (error) {\n",
              "        console.error('Error during call to suggestCharts:', error);\n",
              "      }\n",
              "      quickchartButtonEl.classList.remove('colab-df-spinner');\n",
              "      quickchartButtonEl.classList.add('colab-df-quickchart-complete');\n",
              "    }\n",
              "    (() => {\n",
              "      let quickchartButtonEl =\n",
              "        document.querySelector('#df-19edb858-1a3a-4f23-b275-5d4306081f76 button');\n",
              "      quickchartButtonEl.style.display =\n",
              "        google.colab.kernel.accessAllowed ? 'block' : 'none';\n",
              "    })();\n",
              "  </script>\n",
              "</div>\n",
              "    </div>\n",
              "  </div>\n"
            ],
            "application/vnd.google.colaboratory.intrinsic+json": {
              "type": "dataframe",
              "variable_name": "results_knn",
              "summary": "{\n  \"name\": \"results_knn\",\n  \"rows\": 3,\n  \"fields\": [\n    {\n      \"column\": \"\\u041f\\u0430\\u0440\\u0430\\u043c\\u0435\\u0442\\u0440\\u044b\",\n      \"properties\": {\n        \"dtype\": \"string\",\n        \"num_unique_values\": 3,\n        \"samples\": [\n          \"\\u0413\\u0438\\u043f\\u0435\\u0440\\u043f\\u0430\\u0440\\u0430\\u043c\\u0435\\u0442\\u0440\\u044b\",\n          \"\\u041a\\u0440\\u043e\\u0441\\u0441-\\u0432\\u0430\\u043b\\u0438\\u0434\\u0430\\u0446\\u0438\\u043e\\u043d\\u043d\\u0430\\u044f \\u0442\\u043e\\u0447\\u043d\\u043e\\u0441\\u0442\\u044c \\u043d\\u0430 \\u043e\\u0431\\u0443\\u0447\\u0430\\u044e\\u0449\\u0435\\u0439 \\u0432\\u044b\\u0431\\u043e\\u0440\\u043a\\u0435\",\n          \"\\u0422\\u043e\\u0447\\u043d\\u043e\\u0441\\u0442\\u044c \\u043d\\u0430 \\u0442\\u0435\\u0441\\u0442\\u043e\\u0432\\u043e\\u0439 \\u0432\\u044b\\u0431\\u043e\\u0440\\u043a\\u0435\"\n        ],\n        \"semantic_type\": \"\",\n        \"description\": \"\"\n      }\n    },\n    {\n      \"column\": \"\\u0418\\u0437\\u043d\\u0430\\u0447\\u0430\\u043b\\u044c\\u043d\\u044b\\u0435 \\u0437\\u043d\\u0430\\u0447\\u0435\\u043d\\u0438\\u044f\",\n      \"properties\": {\n        \"dtype\": \"object\",\n        \"semantic_type\": \"\",\n        \"description\": \"\"\n      }\n    },\n    {\n      \"column\": \"\\u041f\\u043e\\u0434\\u043e\\u0431\\u0440\\u0430\\u043d\\u043d\\u044b\\u0435 \\u0437\\u043d\\u0430\\u0447\\u0435\\u043d\\u0438\\u044f\",\n      \"properties\": {\n        \"dtype\": \"object\",\n        \"semantic_type\": \"\",\n        \"description\": \"\"\n      }\n    }\n  ]\n}"
            }
          },
          "metadata": {},
          "execution_count": 44
        }
      ],
      "source": [
        "# Метод ближайших соседей с подобранными гиперпараметрами\n",
        "best_knn_model = KNeighborsClassifier(n_neighbors = 9, p = 1, weights = 'uniform')\n",
        "best_knn_model.fit(X_train_sc, y_train)\n",
        "# Оценим точность\n",
        "ACC_knn_test_new  = best_knn_model.score(X_test_sc, y_test)    # тестовая выборка\n",
        "# Оценка точности с помощью кросс-валидации на обучающей выборке\n",
        "knn_score_new = cross_val_score(best_knn_model, X_train_sc, y_train, cv = 5, scoring = 'accuracy').mean()\n",
        "results_knn = pd.DataFrame({\n",
        "    'Параметры': ['Гиперпараметры', 'Кросс-валидационная точность на обучающей выборке', 'Точность на тестовой выборке'],\n",
        "    'Изначальные значения': [knn_model.get_params(), knn_score, ACC_knn_test],\n",
        "    'Подобранные значения': [best_knn_model.get_params(), knn_score_new, ACC_knn_test_new]\n",
        "})\n",
        "pd.set_option('max_colwidth', 200)\n",
        "results_knn"
      ]
    },
    {
      "cell_type": "markdown",
      "metadata": {
        "id": "dqhAknP0Y5t6"
      },
      "source": [
        "**Случайный лес**"
      ]
    },
    {
      "cell_type": "code",
      "execution_count": null,
      "metadata": {
        "colab": {
          "base_uri": "https://localhost:8080/"
        },
        "id": "4X2CA_ijY5t6",
        "outputId": "1ff6377f-958a-41f3-e700-34aa9250dfda"
      },
      "outputs": [
        {
          "output_type": "stream",
          "name": "stdout",
          "text": [
            "{'max_depth': 7, 'max_features': 'sqrt', 'n_estimators': 200, 'random_state': 22}\n"
          ]
        }
      ],
      "source": [
        "# Перебираемые значения гиперпараметров\n",
        "hyperparameters = {'n_estimators': [50, 100, 200], 'max_depth': [3, 5, 7], 'max_features': ['sqrt', 'log2', None],\n",
        "                   'random_state': [22]}\n",
        "\n",
        "# Перебор гиперпараметров с помощью кросс-валидации\n",
        "CV_rf = GridSearchCV(estimator = rf_model,\n",
        "                        param_grid = hyperparameters,\n",
        "                        scoring = \"accuracy\",\n",
        "                        cv = 5)\n",
        "CV_rf.fit(X_train_sc, y_train)\n",
        "best_rf = CV_rf.best_params_\n",
        "print(best_rf)"
      ]
    },
    {
      "cell_type": "code",
      "execution_count": null,
      "metadata": {
        "colab": {
          "base_uri": "https://localhost:8080/",
          "height": 369
        },
        "id": "c_xMapsOY5t6",
        "outputId": "e12b6456-10bf-43d8-81c2-7d4960b8d148",
        "scrolled": true
      },
      "outputs": [
        {
          "output_type": "execute_result",
          "data": {
            "text/plain": [
              "                                           Параметры  \\\n",
              "0                                     Гиперпараметры   \n",
              "1  Кросс-валидационная точность на обучающей выборке   \n",
              "2                       Точность на тестовой выборке   \n",
              "\n",
              "                                                                                                                                                                                                                                                                                                                                                                                   Изначальные значения  \\\n",
              "0  {'bootstrap': True, 'ccp_alpha': 0.0, 'class_weight': None, 'criterion': 'gini', 'max_depth': 16, 'max_features': 'sqrt', 'max_leaf_nodes': None, 'max_samples': None, 'min_impurity_decrease': 0.0, 'min_samples_leaf': 1, 'min_samples_split': 2, 'min_weight_fraction_leaf': 0.0, 'n_estimators': 100, 'n_jobs': None, 'oob_score': False, 'random_state': 22, 'verbose': 0, 'warm_start': False}   \n",
              "1                                                                                                                                                                                                                                                                                                                                                                                                0.8103   \n",
              "2                                                                                                                                                                                                                                                                                                                                                                                                0.8088   \n",
              "\n",
              "                                                                                                                                                                                                                                                                                                                                                                                  Подобранные значения  \n",
              "0  {'bootstrap': True, 'ccp_alpha': 0.0, 'class_weight': None, 'criterion': 'gini', 'max_depth': 7, 'max_features': 'sqrt', 'max_leaf_nodes': None, 'max_samples': None, 'min_impurity_decrease': 0.0, 'min_samples_leaf': 1, 'min_samples_split': 2, 'min_weight_fraction_leaf': 0.0, 'n_estimators': 200, 'n_jobs': None, 'oob_score': False, 'random_state': 22, 'verbose': 0, 'warm_start': False}  \n",
              "1                                                                                                                                                                                                                                                                                                                                                                                             0.822125  \n",
              "2                                                                                                                                                                                                                                                                                                                                                                                               0.8219  "
            ],
            "text/html": [
              "\n",
              "  <div id=\"df-82996517-6af1-433f-b13c-4c78f049174a\" class=\"colab-df-container\">\n",
              "    <div>\n",
              "<style scoped>\n",
              "    .dataframe tbody tr th:only-of-type {\n",
              "        vertical-align: middle;\n",
              "    }\n",
              "\n",
              "    .dataframe tbody tr th {\n",
              "        vertical-align: top;\n",
              "    }\n",
              "\n",
              "    .dataframe thead th {\n",
              "        text-align: right;\n",
              "    }\n",
              "</style>\n",
              "<table border=\"1\" class=\"dataframe\">\n",
              "  <thead>\n",
              "    <tr style=\"text-align: right;\">\n",
              "      <th></th>\n",
              "      <th>Параметры</th>\n",
              "      <th>Изначальные значения</th>\n",
              "      <th>Подобранные значения</th>\n",
              "    </tr>\n",
              "  </thead>\n",
              "  <tbody>\n",
              "    <tr>\n",
              "      <th>0</th>\n",
              "      <td>Гиперпараметры</td>\n",
              "      <td>{'bootstrap': True, 'ccp_alpha': 0.0, 'class_weight': None, 'criterion': 'gini', 'max_depth': 16, 'max_features': 'sqrt', 'max_leaf_nodes': None, 'max_samples': None, 'min_impurity_decrease': 0.0, 'min_samples_leaf': 1, 'min_samples_split': 2, 'min_weight_fraction_leaf': 0.0, 'n_estimators': 100, 'n_jobs': None, 'oob_score': False, 'random_state': 22, 'verbose': 0, 'warm_start': False}</td>\n",
              "      <td>{'bootstrap': True, 'ccp_alpha': 0.0, 'class_weight': None, 'criterion': 'gini', 'max_depth': 7, 'max_features': 'sqrt', 'max_leaf_nodes': None, 'max_samples': None, 'min_impurity_decrease': 0.0, 'min_samples_leaf': 1, 'min_samples_split': 2, 'min_weight_fraction_leaf': 0.0, 'n_estimators': 200, 'n_jobs': None, 'oob_score': False, 'random_state': 22, 'verbose': 0, 'warm_start': False}</td>\n",
              "    </tr>\n",
              "    <tr>\n",
              "      <th>1</th>\n",
              "      <td>Кросс-валидационная точность на обучающей выборке</td>\n",
              "      <td>0.8103</td>\n",
              "      <td>0.822125</td>\n",
              "    </tr>\n",
              "    <tr>\n",
              "      <th>2</th>\n",
              "      <td>Точность на тестовой выборке</td>\n",
              "      <td>0.8088</td>\n",
              "      <td>0.8219</td>\n",
              "    </tr>\n",
              "  </tbody>\n",
              "</table>\n",
              "</div>\n",
              "    <div class=\"colab-df-buttons\">\n",
              "\n",
              "  <div class=\"colab-df-container\">\n",
              "    <button class=\"colab-df-convert\" onclick=\"convertToInteractive('df-82996517-6af1-433f-b13c-4c78f049174a')\"\n",
              "            title=\"Convert this dataframe to an interactive table.\"\n",
              "            style=\"display:none;\">\n",
              "\n",
              "  <svg xmlns=\"http://www.w3.org/2000/svg\" height=\"24px\" viewBox=\"0 -960 960 960\">\n",
              "    <path d=\"M120-120v-720h720v720H120Zm60-500h600v-160H180v160Zm220 220h160v-160H400v160Zm0 220h160v-160H400v160ZM180-400h160v-160H180v160Zm440 0h160v-160H620v160ZM180-180h160v-160H180v160Zm440 0h160v-160H620v160Z\"/>\n",
              "  </svg>\n",
              "    </button>\n",
              "\n",
              "  <style>\n",
              "    .colab-df-container {\n",
              "      display:flex;\n",
              "      gap: 12px;\n",
              "    }\n",
              "\n",
              "    .colab-df-convert {\n",
              "      background-color: #E8F0FE;\n",
              "      border: none;\n",
              "      border-radius: 50%;\n",
              "      cursor: pointer;\n",
              "      display: none;\n",
              "      fill: #1967D2;\n",
              "      height: 32px;\n",
              "      padding: 0 0 0 0;\n",
              "      width: 32px;\n",
              "    }\n",
              "\n",
              "    .colab-df-convert:hover {\n",
              "      background-color: #E2EBFA;\n",
              "      box-shadow: 0px 1px 2px rgba(60, 64, 67, 0.3), 0px 1px 3px 1px rgba(60, 64, 67, 0.15);\n",
              "      fill: #174EA6;\n",
              "    }\n",
              "\n",
              "    .colab-df-buttons div {\n",
              "      margin-bottom: 4px;\n",
              "    }\n",
              "\n",
              "    [theme=dark] .colab-df-convert {\n",
              "      background-color: #3B4455;\n",
              "      fill: #D2E3FC;\n",
              "    }\n",
              "\n",
              "    [theme=dark] .colab-df-convert:hover {\n",
              "      background-color: #434B5C;\n",
              "      box-shadow: 0px 1px 3px 1px rgba(0, 0, 0, 0.15);\n",
              "      filter: drop-shadow(0px 1px 2px rgba(0, 0, 0, 0.3));\n",
              "      fill: #FFFFFF;\n",
              "    }\n",
              "  </style>\n",
              "\n",
              "    <script>\n",
              "      const buttonEl =\n",
              "        document.querySelector('#df-82996517-6af1-433f-b13c-4c78f049174a button.colab-df-convert');\n",
              "      buttonEl.style.display =\n",
              "        google.colab.kernel.accessAllowed ? 'block' : 'none';\n",
              "\n",
              "      async function convertToInteractive(key) {\n",
              "        const element = document.querySelector('#df-82996517-6af1-433f-b13c-4c78f049174a');\n",
              "        const dataTable =\n",
              "          await google.colab.kernel.invokeFunction('convertToInteractive',\n",
              "                                                    [key], {});\n",
              "        if (!dataTable) return;\n",
              "\n",
              "        const docLinkHtml = 'Like what you see? Visit the ' +\n",
              "          '<a target=\"_blank\" href=https://colab.research.google.com/notebooks/data_table.ipynb>data table notebook</a>'\n",
              "          + ' to learn more about interactive tables.';\n",
              "        element.innerHTML = '';\n",
              "        dataTable['output_type'] = 'display_data';\n",
              "        await google.colab.output.renderOutput(dataTable, element);\n",
              "        const docLink = document.createElement('div');\n",
              "        docLink.innerHTML = docLinkHtml;\n",
              "        element.appendChild(docLink);\n",
              "      }\n",
              "    </script>\n",
              "  </div>\n",
              "\n",
              "\n",
              "<div id=\"df-252aba15-9393-4527-a19b-28cdff071bf2\">\n",
              "  <button class=\"colab-df-quickchart\" onclick=\"quickchart('df-252aba15-9393-4527-a19b-28cdff071bf2')\"\n",
              "            title=\"Suggest charts\"\n",
              "            style=\"display:none;\">\n",
              "\n",
              "<svg xmlns=\"http://www.w3.org/2000/svg\" height=\"24px\"viewBox=\"0 0 24 24\"\n",
              "     width=\"24px\">\n",
              "    <g>\n",
              "        <path d=\"M19 3H5c-1.1 0-2 .9-2 2v14c0 1.1.9 2 2 2h14c1.1 0 2-.9 2-2V5c0-1.1-.9-2-2-2zM9 17H7v-7h2v7zm4 0h-2V7h2v10zm4 0h-2v-4h2v4z\"/>\n",
              "    </g>\n",
              "</svg>\n",
              "  </button>\n",
              "\n",
              "<style>\n",
              "  .colab-df-quickchart {\n",
              "      --bg-color: #E8F0FE;\n",
              "      --fill-color: #1967D2;\n",
              "      --hover-bg-color: #E2EBFA;\n",
              "      --hover-fill-color: #174EA6;\n",
              "      --disabled-fill-color: #AAA;\n",
              "      --disabled-bg-color: #DDD;\n",
              "  }\n",
              "\n",
              "  [theme=dark] .colab-df-quickchart {\n",
              "      --bg-color: #3B4455;\n",
              "      --fill-color: #D2E3FC;\n",
              "      --hover-bg-color: #434B5C;\n",
              "      --hover-fill-color: #FFFFFF;\n",
              "      --disabled-bg-color: #3B4455;\n",
              "      --disabled-fill-color: #666;\n",
              "  }\n",
              "\n",
              "  .colab-df-quickchart {\n",
              "    background-color: var(--bg-color);\n",
              "    border: none;\n",
              "    border-radius: 50%;\n",
              "    cursor: pointer;\n",
              "    display: none;\n",
              "    fill: var(--fill-color);\n",
              "    height: 32px;\n",
              "    padding: 0;\n",
              "    width: 32px;\n",
              "  }\n",
              "\n",
              "  .colab-df-quickchart:hover {\n",
              "    background-color: var(--hover-bg-color);\n",
              "    box-shadow: 0 1px 2px rgba(60, 64, 67, 0.3), 0 1px 3px 1px rgba(60, 64, 67, 0.15);\n",
              "    fill: var(--button-hover-fill-color);\n",
              "  }\n",
              "\n",
              "  .colab-df-quickchart-complete:disabled,\n",
              "  .colab-df-quickchart-complete:disabled:hover {\n",
              "    background-color: var(--disabled-bg-color);\n",
              "    fill: var(--disabled-fill-color);\n",
              "    box-shadow: none;\n",
              "  }\n",
              "\n",
              "  .colab-df-spinner {\n",
              "    border: 2px solid var(--fill-color);\n",
              "    border-color: transparent;\n",
              "    border-bottom-color: var(--fill-color);\n",
              "    animation:\n",
              "      spin 1s steps(1) infinite;\n",
              "  }\n",
              "\n",
              "  @keyframes spin {\n",
              "    0% {\n",
              "      border-color: transparent;\n",
              "      border-bottom-color: var(--fill-color);\n",
              "      border-left-color: var(--fill-color);\n",
              "    }\n",
              "    20% {\n",
              "      border-color: transparent;\n",
              "      border-left-color: var(--fill-color);\n",
              "      border-top-color: var(--fill-color);\n",
              "    }\n",
              "    30% {\n",
              "      border-color: transparent;\n",
              "      border-left-color: var(--fill-color);\n",
              "      border-top-color: var(--fill-color);\n",
              "      border-right-color: var(--fill-color);\n",
              "    }\n",
              "    40% {\n",
              "      border-color: transparent;\n",
              "      border-right-color: var(--fill-color);\n",
              "      border-top-color: var(--fill-color);\n",
              "    }\n",
              "    60% {\n",
              "      border-color: transparent;\n",
              "      border-right-color: var(--fill-color);\n",
              "    }\n",
              "    80% {\n",
              "      border-color: transparent;\n",
              "      border-right-color: var(--fill-color);\n",
              "      border-bottom-color: var(--fill-color);\n",
              "    }\n",
              "    90% {\n",
              "      border-color: transparent;\n",
              "      border-bottom-color: var(--fill-color);\n",
              "    }\n",
              "  }\n",
              "</style>\n",
              "\n",
              "  <script>\n",
              "    async function quickchart(key) {\n",
              "      const quickchartButtonEl =\n",
              "        document.querySelector('#' + key + ' button');\n",
              "      quickchartButtonEl.disabled = true;  // To prevent multiple clicks.\n",
              "      quickchartButtonEl.classList.add('colab-df-spinner');\n",
              "      try {\n",
              "        const charts = await google.colab.kernel.invokeFunction(\n",
              "            'suggestCharts', [key], {});\n",
              "      } catch (error) {\n",
              "        console.error('Error during call to suggestCharts:', error);\n",
              "      }\n",
              "      quickchartButtonEl.classList.remove('colab-df-spinner');\n",
              "      quickchartButtonEl.classList.add('colab-df-quickchart-complete');\n",
              "    }\n",
              "    (() => {\n",
              "      let quickchartButtonEl =\n",
              "        document.querySelector('#df-252aba15-9393-4527-a19b-28cdff071bf2 button');\n",
              "      quickchartButtonEl.style.display =\n",
              "        google.colab.kernel.accessAllowed ? 'block' : 'none';\n",
              "    })();\n",
              "  </script>\n",
              "</div>\n",
              "    </div>\n",
              "  </div>\n"
            ],
            "application/vnd.google.colaboratory.intrinsic+json": {
              "type": "dataframe",
              "variable_name": "results_rf",
              "summary": "{\n  \"name\": \"results_rf\",\n  \"rows\": 3,\n  \"fields\": [\n    {\n      \"column\": \"\\u041f\\u0430\\u0440\\u0430\\u043c\\u0435\\u0442\\u0440\\u044b\",\n      \"properties\": {\n        \"dtype\": \"string\",\n        \"num_unique_values\": 3,\n        \"samples\": [\n          \"\\u0413\\u0438\\u043f\\u0435\\u0440\\u043f\\u0430\\u0440\\u0430\\u043c\\u0435\\u0442\\u0440\\u044b\",\n          \"\\u041a\\u0440\\u043e\\u0441\\u0441-\\u0432\\u0430\\u043b\\u0438\\u0434\\u0430\\u0446\\u0438\\u043e\\u043d\\u043d\\u0430\\u044f \\u0442\\u043e\\u0447\\u043d\\u043e\\u0441\\u0442\\u044c \\u043d\\u0430 \\u043e\\u0431\\u0443\\u0447\\u0430\\u044e\\u0449\\u0435\\u0439 \\u0432\\u044b\\u0431\\u043e\\u0440\\u043a\\u0435\",\n          \"\\u0422\\u043e\\u0447\\u043d\\u043e\\u0441\\u0442\\u044c \\u043d\\u0430 \\u0442\\u0435\\u0441\\u0442\\u043e\\u0432\\u043e\\u0439 \\u0432\\u044b\\u0431\\u043e\\u0440\\u043a\\u0435\"\n        ],\n        \"semantic_type\": \"\",\n        \"description\": \"\"\n      }\n    },\n    {\n      \"column\": \"\\u0418\\u0437\\u043d\\u0430\\u0447\\u0430\\u043b\\u044c\\u043d\\u044b\\u0435 \\u0437\\u043d\\u0430\\u0447\\u0435\\u043d\\u0438\\u044f\",\n      \"properties\": {\n        \"dtype\": \"object\",\n        \"semantic_type\": \"\",\n        \"description\": \"\"\n      }\n    },\n    {\n      \"column\": \"\\u041f\\u043e\\u0434\\u043e\\u0431\\u0440\\u0430\\u043d\\u043d\\u044b\\u0435 \\u0437\\u043d\\u0430\\u0447\\u0435\\u043d\\u0438\\u044f\",\n      \"properties\": {\n        \"dtype\": \"object\",\n        \"semantic_type\": \"\",\n        \"description\": \"\"\n      }\n    }\n  ]\n}"
            }
          },
          "metadata": {},
          "execution_count": 46
        }
      ],
      "source": [
        "# Случайный лес с подобранными гиперпараметрами\n",
        "best_rf_model = RandomForestClassifier(max_depth = 7, max_features = 'sqrt', n_estimators = 200, random_state = 22)\n",
        "best_rf_model.fit(X_train_sc, y_train)\n",
        "# Оценим точность\n",
        "ACC_rf_test_new  = best_rf_model.score(X_test_sc, y_test)    # тестовая выборка\n",
        "# Оценка точности с помощью кросс-валидации на обучающей выборке\n",
        "rf_score_new = cross_val_score(best_rf_model, X_train_sc, y_train, cv = 5, scoring = 'accuracy').mean()\n",
        "results_rf = pd.DataFrame({\n",
        "    'Параметры': ['Гиперпараметры', 'Кросс-валидационная точность на обучающей выборке', 'Точность на тестовой выборке'],\n",
        "    'Изначальные значения': [rf_model.get_params(), rf_score, ACC_rf_test],\n",
        "    'Подобранные значения': [best_rf_model.get_params(), rf_score_new, ACC_rf_test_new]\n",
        "})\n",
        "pd.set_option('max_colwidth', 1000)\n",
        "results_rf"
      ]
    },
    {
      "cell_type": "markdown",
      "metadata": {
        "id": "4_GQ3FWyY5t6"
      },
      "source": [
        "**Градиентный бустинг**"
      ]
    },
    {
      "cell_type": "code",
      "execution_count": null,
      "metadata": {
        "outputId": "0005b1af-30a1-40f9-db79-81821b884038",
        "colab": {
          "base_uri": "https://localhost:8080/"
        },
        "id": "5uN1BWkUMqdz"
      },
      "outputs": [
        {
          "output_type": "stream",
          "name": "stdout",
          "text": [
            "{'max_depth': 5, 'max_features': None, 'n_estimators': 100, 'random_state': 22}\n"
          ]
        }
      ],
      "source": [
        "# Перебираемые значения гиперпараметров\n",
        "hyperparameters = {'n_estimators': [100, 200], 'max_depth': [3, 5, 7],\n",
        "                   'max_features': ['sqrt', 'log2', None], 'random_state': [22]}\n",
        "\n",
        "# Перебор гиперпараметров с помощью кросс-валидации\n",
        "CV_gb = GridSearchCV(estimator = gb_model,\n",
        "                        param_grid = hyperparameters,\n",
        "                        scoring = \"accuracy\",\n",
        "                        cv = 5)\n",
        "CV_gb.fit(X_train_sc, y_train)\n",
        "best_gb = CV_gb.best_params_\n",
        "print(best_gb)"
      ]
    },
    {
      "cell_type": "code",
      "execution_count": null,
      "metadata": {
        "colab": {
          "base_uri": "https://localhost:8080/",
          "height": 265
        },
        "outputId": "9918b3e3-44a4-40c6-d2bc-99f346bc2fd1",
        "scrolled": true,
        "id": "TGJE-6ikM2y7"
      },
      "outputs": [
        {
          "output_type": "execute_result",
          "data": {
            "text/plain": [
              "                                           Параметры  \\\n",
              "0                                     Гиперпараметры   \n",
              "1  Кросс-валидационная точность на обучающей выборке   \n",
              "2                       Точность на тестовой выборке   \n",
              "\n",
              "                                                                                                                                                                                                                                                                                                                                                                                                                                     Изначальные значения  \\\n",
              "0  {'ccp_alpha': 0.0, 'criterion': 'friedman_mse', 'init': None, 'learning_rate': 0.1, 'loss': 'log_loss', 'max_depth': 3, 'max_features': None, 'max_leaf_nodes': None, 'min_impurity_decrease': 0.0, 'min_samples_leaf': 1, 'min_samples_split': 2, 'min_weight_fraction_leaf': 0.0, 'n_estimators': 100, 'n_iter_no_change': None, 'random_state': 22, 'subsample': 1.0, 'tol': 0.0001, 'validation_fraction': 0.1, 'verbose': 0, 'warm_start': False}   \n",
              "1                                                                                                                                                                                                                                                                                                                                                                                                                                                0.821375   \n",
              "2                                                                                                                                                                                                                                                                                                                                                                                                                                                 0.82085   \n",
              "\n",
              "                                                                                                                                                                                                                                                                                                                                                                                                                                     Подобранные значения  \n",
              "0  {'ccp_alpha': 0.0, 'criterion': 'friedman_mse', 'init': None, 'learning_rate': 0.1, 'loss': 'log_loss', 'max_depth': 5, 'max_features': None, 'max_leaf_nodes': None, 'min_impurity_decrease': 0.0, 'min_samples_leaf': 1, 'min_samples_split': 2, 'min_weight_fraction_leaf': 0.0, 'n_estimators': 100, 'n_iter_no_change': None, 'random_state': 22, 'subsample': 1.0, 'tol': 0.0001, 'validation_fraction': 0.1, 'verbose': 0, 'warm_start': False}  \n",
              "1                                                                                                                                                                                                                                                                                                                                                                                                                                                  0.8221  \n",
              "2                                                                                                                                                                                                                                                                                                                                                                                                                                                  0.8199  "
            ],
            "text/html": [
              "\n",
              "  <div id=\"df-c3710c99-2c9b-409e-aec0-c707b6c05d49\" class=\"colab-df-container\">\n",
              "    <div>\n",
              "<style scoped>\n",
              "    .dataframe tbody tr th:only-of-type {\n",
              "        vertical-align: middle;\n",
              "    }\n",
              "\n",
              "    .dataframe tbody tr th {\n",
              "        vertical-align: top;\n",
              "    }\n",
              "\n",
              "    .dataframe thead th {\n",
              "        text-align: right;\n",
              "    }\n",
              "</style>\n",
              "<table border=\"1\" class=\"dataframe\">\n",
              "  <thead>\n",
              "    <tr style=\"text-align: right;\">\n",
              "      <th></th>\n",
              "      <th>Параметры</th>\n",
              "      <th>Изначальные значения</th>\n",
              "      <th>Подобранные значения</th>\n",
              "    </tr>\n",
              "  </thead>\n",
              "  <tbody>\n",
              "    <tr>\n",
              "      <th>0</th>\n",
              "      <td>Гиперпараметры</td>\n",
              "      <td>{'ccp_alpha': 0.0, 'criterion': 'friedman_mse', 'init': None, 'learning_rate': 0.1, 'loss': 'log_loss', 'max_depth': 3, 'max_features': None, 'max_leaf_nodes': None, 'min_impurity_decrease': 0.0, 'min_samples_leaf': 1, 'min_samples_split': 2, 'min_weight_fraction_leaf': 0.0, 'n_estimators': 100, 'n_iter_no_change': None, 'random_state': 22, 'subsample': 1.0, 'tol': 0.0001, 'validation_fraction': 0.1, 'verbose': 0, 'warm_start': False}</td>\n",
              "      <td>{'ccp_alpha': 0.0, 'criterion': 'friedman_mse', 'init': None, 'learning_rate': 0.1, 'loss': 'log_loss', 'max_depth': 5, 'max_features': None, 'max_leaf_nodes': None, 'min_impurity_decrease': 0.0, 'min_samples_leaf': 1, 'min_samples_split': 2, 'min_weight_fraction_leaf': 0.0, 'n_estimators': 100, 'n_iter_no_change': None, 'random_state': 22, 'subsample': 1.0, 'tol': 0.0001, 'validation_fraction': 0.1, 'verbose': 0, 'warm_start': False}</td>\n",
              "    </tr>\n",
              "    <tr>\n",
              "      <th>1</th>\n",
              "      <td>Кросс-валидационная точность на обучающей выборке</td>\n",
              "      <td>0.821375</td>\n",
              "      <td>0.8221</td>\n",
              "    </tr>\n",
              "    <tr>\n",
              "      <th>2</th>\n",
              "      <td>Точность на тестовой выборке</td>\n",
              "      <td>0.82085</td>\n",
              "      <td>0.8199</td>\n",
              "    </tr>\n",
              "  </tbody>\n",
              "</table>\n",
              "</div>\n",
              "    <div class=\"colab-df-buttons\">\n",
              "\n",
              "  <div class=\"colab-df-container\">\n",
              "    <button class=\"colab-df-convert\" onclick=\"convertToInteractive('df-c3710c99-2c9b-409e-aec0-c707b6c05d49')\"\n",
              "            title=\"Convert this dataframe to an interactive table.\"\n",
              "            style=\"display:none;\">\n",
              "\n",
              "  <svg xmlns=\"http://www.w3.org/2000/svg\" height=\"24px\" viewBox=\"0 -960 960 960\">\n",
              "    <path d=\"M120-120v-720h720v720H120Zm60-500h600v-160H180v160Zm220 220h160v-160H400v160Zm0 220h160v-160H400v160ZM180-400h160v-160H180v160Zm440 0h160v-160H620v160ZM180-180h160v-160H180v160Zm440 0h160v-160H620v160Z\"/>\n",
              "  </svg>\n",
              "    </button>\n",
              "\n",
              "  <style>\n",
              "    .colab-df-container {\n",
              "      display:flex;\n",
              "      gap: 12px;\n",
              "    }\n",
              "\n",
              "    .colab-df-convert {\n",
              "      background-color: #E8F0FE;\n",
              "      border: none;\n",
              "      border-radius: 50%;\n",
              "      cursor: pointer;\n",
              "      display: none;\n",
              "      fill: #1967D2;\n",
              "      height: 32px;\n",
              "      padding: 0 0 0 0;\n",
              "      width: 32px;\n",
              "    }\n",
              "\n",
              "    .colab-df-convert:hover {\n",
              "      background-color: #E2EBFA;\n",
              "      box-shadow: 0px 1px 2px rgba(60, 64, 67, 0.3), 0px 1px 3px 1px rgba(60, 64, 67, 0.15);\n",
              "      fill: #174EA6;\n",
              "    }\n",
              "\n",
              "    .colab-df-buttons div {\n",
              "      margin-bottom: 4px;\n",
              "    }\n",
              "\n",
              "    [theme=dark] .colab-df-convert {\n",
              "      background-color: #3B4455;\n",
              "      fill: #D2E3FC;\n",
              "    }\n",
              "\n",
              "    [theme=dark] .colab-df-convert:hover {\n",
              "      background-color: #434B5C;\n",
              "      box-shadow: 0px 1px 3px 1px rgba(0, 0, 0, 0.15);\n",
              "      filter: drop-shadow(0px 1px 2px rgba(0, 0, 0, 0.3));\n",
              "      fill: #FFFFFF;\n",
              "    }\n",
              "  </style>\n",
              "\n",
              "    <script>\n",
              "      const buttonEl =\n",
              "        document.querySelector('#df-c3710c99-2c9b-409e-aec0-c707b6c05d49 button.colab-df-convert');\n",
              "      buttonEl.style.display =\n",
              "        google.colab.kernel.accessAllowed ? 'block' : 'none';\n",
              "\n",
              "      async function convertToInteractive(key) {\n",
              "        const element = document.querySelector('#df-c3710c99-2c9b-409e-aec0-c707b6c05d49');\n",
              "        const dataTable =\n",
              "          await google.colab.kernel.invokeFunction('convertToInteractive',\n",
              "                                                    [key], {});\n",
              "        if (!dataTable) return;\n",
              "\n",
              "        const docLinkHtml = 'Like what you see? Visit the ' +\n",
              "          '<a target=\"_blank\" href=https://colab.research.google.com/notebooks/data_table.ipynb>data table notebook</a>'\n",
              "          + ' to learn more about interactive tables.';\n",
              "        element.innerHTML = '';\n",
              "        dataTable['output_type'] = 'display_data';\n",
              "        await google.colab.output.renderOutput(dataTable, element);\n",
              "        const docLink = document.createElement('div');\n",
              "        docLink.innerHTML = docLinkHtml;\n",
              "        element.appendChild(docLink);\n",
              "      }\n",
              "    </script>\n",
              "  </div>\n",
              "\n",
              "\n",
              "<div id=\"df-d17d8815-e9aa-462e-9215-2c42cdd5a6b1\">\n",
              "  <button class=\"colab-df-quickchart\" onclick=\"quickchart('df-d17d8815-e9aa-462e-9215-2c42cdd5a6b1')\"\n",
              "            title=\"Suggest charts\"\n",
              "            style=\"display:none;\">\n",
              "\n",
              "<svg xmlns=\"http://www.w3.org/2000/svg\" height=\"24px\"viewBox=\"0 0 24 24\"\n",
              "     width=\"24px\">\n",
              "    <g>\n",
              "        <path d=\"M19 3H5c-1.1 0-2 .9-2 2v14c0 1.1.9 2 2 2h14c1.1 0 2-.9 2-2V5c0-1.1-.9-2-2-2zM9 17H7v-7h2v7zm4 0h-2V7h2v10zm4 0h-2v-4h2v4z\"/>\n",
              "    </g>\n",
              "</svg>\n",
              "  </button>\n",
              "\n",
              "<style>\n",
              "  .colab-df-quickchart {\n",
              "      --bg-color: #E8F0FE;\n",
              "      --fill-color: #1967D2;\n",
              "      --hover-bg-color: #E2EBFA;\n",
              "      --hover-fill-color: #174EA6;\n",
              "      --disabled-fill-color: #AAA;\n",
              "      --disabled-bg-color: #DDD;\n",
              "  }\n",
              "\n",
              "  [theme=dark] .colab-df-quickchart {\n",
              "      --bg-color: #3B4455;\n",
              "      --fill-color: #D2E3FC;\n",
              "      --hover-bg-color: #434B5C;\n",
              "      --hover-fill-color: #FFFFFF;\n",
              "      --disabled-bg-color: #3B4455;\n",
              "      --disabled-fill-color: #666;\n",
              "  }\n",
              "\n",
              "  .colab-df-quickchart {\n",
              "    background-color: var(--bg-color);\n",
              "    border: none;\n",
              "    border-radius: 50%;\n",
              "    cursor: pointer;\n",
              "    display: none;\n",
              "    fill: var(--fill-color);\n",
              "    height: 32px;\n",
              "    padding: 0;\n",
              "    width: 32px;\n",
              "  }\n",
              "\n",
              "  .colab-df-quickchart:hover {\n",
              "    background-color: var(--hover-bg-color);\n",
              "    box-shadow: 0 1px 2px rgba(60, 64, 67, 0.3), 0 1px 3px 1px rgba(60, 64, 67, 0.15);\n",
              "    fill: var(--button-hover-fill-color);\n",
              "  }\n",
              "\n",
              "  .colab-df-quickchart-complete:disabled,\n",
              "  .colab-df-quickchart-complete:disabled:hover {\n",
              "    background-color: var(--disabled-bg-color);\n",
              "    fill: var(--disabled-fill-color);\n",
              "    box-shadow: none;\n",
              "  }\n",
              "\n",
              "  .colab-df-spinner {\n",
              "    border: 2px solid var(--fill-color);\n",
              "    border-color: transparent;\n",
              "    border-bottom-color: var(--fill-color);\n",
              "    animation:\n",
              "      spin 1s steps(1) infinite;\n",
              "  }\n",
              "\n",
              "  @keyframes spin {\n",
              "    0% {\n",
              "      border-color: transparent;\n",
              "      border-bottom-color: var(--fill-color);\n",
              "      border-left-color: var(--fill-color);\n",
              "    }\n",
              "    20% {\n",
              "      border-color: transparent;\n",
              "      border-left-color: var(--fill-color);\n",
              "      border-top-color: var(--fill-color);\n",
              "    }\n",
              "    30% {\n",
              "      border-color: transparent;\n",
              "      border-left-color: var(--fill-color);\n",
              "      border-top-color: var(--fill-color);\n",
              "      border-right-color: var(--fill-color);\n",
              "    }\n",
              "    40% {\n",
              "      border-color: transparent;\n",
              "      border-right-color: var(--fill-color);\n",
              "      border-top-color: var(--fill-color);\n",
              "    }\n",
              "    60% {\n",
              "      border-color: transparent;\n",
              "      border-right-color: var(--fill-color);\n",
              "    }\n",
              "    80% {\n",
              "      border-color: transparent;\n",
              "      border-right-color: var(--fill-color);\n",
              "      border-bottom-color: var(--fill-color);\n",
              "    }\n",
              "    90% {\n",
              "      border-color: transparent;\n",
              "      border-bottom-color: var(--fill-color);\n",
              "    }\n",
              "  }\n",
              "</style>\n",
              "\n",
              "  <script>\n",
              "    async function quickchart(key) {\n",
              "      const quickchartButtonEl =\n",
              "        document.querySelector('#' + key + ' button');\n",
              "      quickchartButtonEl.disabled = true;  // To prevent multiple clicks.\n",
              "      quickchartButtonEl.classList.add('colab-df-spinner');\n",
              "      try {\n",
              "        const charts = await google.colab.kernel.invokeFunction(\n",
              "            'suggestCharts', [key], {});\n",
              "      } catch (error) {\n",
              "        console.error('Error during call to suggestCharts:', error);\n",
              "      }\n",
              "      quickchartButtonEl.classList.remove('colab-df-spinner');\n",
              "      quickchartButtonEl.classList.add('colab-df-quickchart-complete');\n",
              "    }\n",
              "    (() => {\n",
              "      let quickchartButtonEl =\n",
              "        document.querySelector('#df-d17d8815-e9aa-462e-9215-2c42cdd5a6b1 button');\n",
              "      quickchartButtonEl.style.display =\n",
              "        google.colab.kernel.accessAllowed ? 'block' : 'none';\n",
              "    })();\n",
              "  </script>\n",
              "</div>\n",
              "    </div>\n",
              "  </div>\n"
            ],
            "application/vnd.google.colaboratory.intrinsic+json": {
              "type": "dataframe",
              "variable_name": "results_gb",
              "summary": "{\n  \"name\": \"results_gb\",\n  \"rows\": 3,\n  \"fields\": [\n    {\n      \"column\": \"\\u041f\\u0430\\u0440\\u0430\\u043c\\u0435\\u0442\\u0440\\u044b\",\n      \"properties\": {\n        \"dtype\": \"string\",\n        \"num_unique_values\": 3,\n        \"samples\": [\n          \"\\u0413\\u0438\\u043f\\u0435\\u0440\\u043f\\u0430\\u0440\\u0430\\u043c\\u0435\\u0442\\u0440\\u044b\",\n          \"\\u041a\\u0440\\u043e\\u0441\\u0441-\\u0432\\u0430\\u043b\\u0438\\u0434\\u0430\\u0446\\u0438\\u043e\\u043d\\u043d\\u0430\\u044f \\u0442\\u043e\\u0447\\u043d\\u043e\\u0441\\u0442\\u044c \\u043d\\u0430 \\u043e\\u0431\\u0443\\u0447\\u0430\\u044e\\u0449\\u0435\\u0439 \\u0432\\u044b\\u0431\\u043e\\u0440\\u043a\\u0435\",\n          \"\\u0422\\u043e\\u0447\\u043d\\u043e\\u0441\\u0442\\u044c \\u043d\\u0430 \\u0442\\u0435\\u0441\\u0442\\u043e\\u0432\\u043e\\u0439 \\u0432\\u044b\\u0431\\u043e\\u0440\\u043a\\u0435\"\n        ],\n        \"semantic_type\": \"\",\n        \"description\": \"\"\n      }\n    },\n    {\n      \"column\": \"\\u0418\\u0437\\u043d\\u0430\\u0447\\u0430\\u043b\\u044c\\u043d\\u044b\\u0435 \\u0437\\u043d\\u0430\\u0447\\u0435\\u043d\\u0438\\u044f\",\n      \"properties\": {\n        \"dtype\": \"object\",\n        \"semantic_type\": \"\",\n        \"description\": \"\"\n      }\n    },\n    {\n      \"column\": \"\\u041f\\u043e\\u0434\\u043e\\u0431\\u0440\\u0430\\u043d\\u043d\\u044b\\u0435 \\u0437\\u043d\\u0430\\u0447\\u0435\\u043d\\u0438\\u044f\",\n      \"properties\": {\n        \"dtype\": \"object\",\n        \"semantic_type\": \"\",\n        \"description\": \"\"\n      }\n    }\n  ]\n}"
            }
          },
          "metadata": {},
          "execution_count": 48
        }
      ],
      "source": [
        "# Градиентный бустинг с подобранными гиперпараметрами\n",
        "best_gb_model = GradientBoostingClassifier(max_depth = 5, max_features = None, n_estimators = 100, random_state = 22)\n",
        "best_gb_model.fit(X_train_sc, y_train)\n",
        "# Оценим точность\n",
        "ACC_gb_test_new  = best_gb_model.score(X_test_sc, y_test)    # тестовая выборка\n",
        "# Оценка точности с помощью кросс-валидации на обучающей выборке\n",
        "gb_score_new = cross_val_score(best_gb_model, X_train_sc, y_train, cv = 5, scoring = 'accuracy').mean()\n",
        "results_gb = pd.DataFrame({\n",
        "    'Параметры': ['Гиперпараметры', 'Кросс-валидационная точность на обучающей выборке', 'Точность на тестовой выборке'],\n",
        "    'Изначальные значения': [gb_model.get_params(), gb_score, ACC_gb_test],\n",
        "    'Подобранные значения': [best_gb_model.get_params(), gb_score_new, ACC_gb_test_new]\n",
        "})\n",
        "pd.set_option('max_colwidth', 1000)\n",
        "results_gb"
      ]
    },
    {
      "cell_type": "markdown",
      "metadata": {
        "id": "JWgEOLz-Y5t7"
      },
      "source": [
        "**Повышенная сложность:** подберите на обучающей выборке оптимальные значения гиперпараметров случайного леса ориентируясь на значение OOB (out-of-bag) ошибки. Сопоставьте гиперпараметры и точность на тестовой выборке для случайного леса в зависимости от того, используется кросс-валидация или OOB ошибка. Объясните преимущество OOB ошибки по сравнению с кроссвалидацей."
      ]
    },
    {
      "cell_type": "code",
      "execution_count": null,
      "metadata": {
        "outputId": "1a371494-fab3-427e-ed38-ef05c1380cf5",
        "colab": {
          "base_uri": "https://localhost:8080/"
        },
        "id": "0u6Q20d9NB2v"
      },
      "outputs": [
        {
          "output_type": "stream",
          "name": "stdout",
          "text": [
            "{'max_depth': 3, 'max_features': 'sqrt', 'n_estimators': 50}\n"
          ]
        }
      ],
      "source": [
        "from sklearn.metrics import make_scorer\n",
        "rf_model_oob = RandomForestClassifier (random_state = 22)\n",
        "# Создадим альтернативный критерий\n",
        "def calculate_oob_error(model, X_data, y_data):\n",
        "    model.oob_score = True\n",
        "    model.fit(X_data, y_data)\n",
        "    oob_error = 1 - model.oob_score_\n",
        "    return oob_error\n",
        "\n",
        "oob_scorer = make_scorer(calculate_oob_error, greater_is_better = False)\n",
        "# Перебираемые значения гиперпараметров\n",
        "hyperparameters = {'n_estimators': [50, 100, 200], 'max_depth': [3, 5, 7], 'max_features': ['sqrt', 'log2', None]}\n",
        "\n",
        "# Перебор гиперпараметров с помощью кросс-валидации\n",
        "CV_rf_oob = GridSearchCV(estimator = rf_model_oob,\n",
        "                        param_grid = hyperparameters,\n",
        "                        scoring = oob_scorer,\n",
        "                        cv = 5)\n",
        "CV_rf_oob.fit(X_train_sc, y_train)\n",
        "best_rf_oob = CV_rf_oob.best_params_\n",
        "print(best_rf_oob)"
      ]
    },
    {
      "cell_type": "code",
      "source": [
        "# Случайный лес с подобранными гиперпараметрами\n",
        "best_rf_oob = RandomForestClassifier(max_depth = 3, max_features = 'sqrt', n_estimators = 50, oob_score = True, random_state = 22)\n",
        "best_rf_oob.fit(X_train_sc, y_train)\n",
        "# Оценим точность\n",
        "ACC_rf_oob  = best_rf_oob.score(X_test_sc, y_test)    # тестовая выборка\n",
        "# Оценка точности с помощью кросс-валидации на обучающей выборке\n",
        "rf_score__oob = cross_val_score(best_rf_oob, X_train_sc, y_train, cv = 5, scoring = 'accuracy').mean()\n",
        "results_rf = pd.DataFrame({\n",
        "    'Параметры': ['Гиперпараметры', 'Кросс-валидационная точность на обучающей выборке', 'Точность на тестовой выборке'],\n",
        "    'Кросс-валидация': [best_rf_model.get_params(), rf_score_new, ACC_rf_test_new],\n",
        "    'OOB ошибки': [best_rf_oob.get_params(), rf_score__oob, ACC_rf_oob],\n",
        "})\n",
        "pd.set_option('max_colwidth', 1000)\n",
        "results_rf"
      ],
      "metadata": {
        "outputId": "8c122912-de32-45a9-b0e0-706df58d8562",
        "colab": {
          "base_uri": "https://localhost:8080/",
          "height": 248
        },
        "id": "0XEzYQUvNF0U"
      },
      "execution_count": null,
      "outputs": [
        {
          "output_type": "execute_result",
          "data": {
            "text/plain": [
              "                                           Параметры  \\\n",
              "0                                     Гиперпараметры   \n",
              "1  Кросс-валидационная точность на обучающей выборке   \n",
              "2                       Точность на тестовой выборке   \n",
              "\n",
              "                                                                                                                                                                                                                                                                                                                                                                                       Кросс-валидация  \\\n",
              "0  {'bootstrap': True, 'ccp_alpha': 0.0, 'class_weight': None, 'criterion': 'gini', 'max_depth': 7, 'max_features': 'sqrt', 'max_leaf_nodes': None, 'max_samples': None, 'min_impurity_decrease': 0.0, 'min_samples_leaf': 1, 'min_samples_split': 2, 'min_weight_fraction_leaf': 0.0, 'n_estimators': 200, 'n_jobs': None, 'oob_score': False, 'random_state': 22, 'verbose': 0, 'warm_start': False}   \n",
              "1                                                                                                                                                                                                                                                                                                                                                                                             0.822125   \n",
              "2                                                                                                                                                                                                                                                                                                                                                                                               0.8219   \n",
              "\n",
              "                                                                                                                                                                                                                                                                                                                                                                                          OOB ошибки  \n",
              "0  {'bootstrap': True, 'ccp_alpha': 0.0, 'class_weight': None, 'criterion': 'gini', 'max_depth': 3, 'max_features': 'sqrt', 'max_leaf_nodes': None, 'max_samples': None, 'min_impurity_decrease': 0.0, 'min_samples_leaf': 1, 'min_samples_split': 2, 'min_weight_fraction_leaf': 0.0, 'n_estimators': 50, 'n_jobs': None, 'oob_score': True, 'random_state': 22, 'verbose': 0, 'warm_start': False}  \n",
              "1                                                                                                                                                                                                                                                                                                                                                                                            0.81665  \n",
              "2                                                                                                                                                                                                                                                                                                                                                                                             0.8166  "
            ],
            "text/html": [
              "\n",
              "  <div id=\"df-8f8e66ab-b24d-4d4e-bf7c-80b491f1e5ef\" class=\"colab-df-container\">\n",
              "    <div>\n",
              "<style scoped>\n",
              "    .dataframe tbody tr th:only-of-type {\n",
              "        vertical-align: middle;\n",
              "    }\n",
              "\n",
              "    .dataframe tbody tr th {\n",
              "        vertical-align: top;\n",
              "    }\n",
              "\n",
              "    .dataframe thead th {\n",
              "        text-align: right;\n",
              "    }\n",
              "</style>\n",
              "<table border=\"1\" class=\"dataframe\">\n",
              "  <thead>\n",
              "    <tr style=\"text-align: right;\">\n",
              "      <th></th>\n",
              "      <th>Параметры</th>\n",
              "      <th>Кросс-валидация</th>\n",
              "      <th>OOB ошибки</th>\n",
              "    </tr>\n",
              "  </thead>\n",
              "  <tbody>\n",
              "    <tr>\n",
              "      <th>0</th>\n",
              "      <td>Гиперпараметры</td>\n",
              "      <td>{'bootstrap': True, 'ccp_alpha': 0.0, 'class_weight': None, 'criterion': 'gini', 'max_depth': 7, 'max_features': 'sqrt', 'max_leaf_nodes': None, 'max_samples': None, 'min_impurity_decrease': 0.0, 'min_samples_leaf': 1, 'min_samples_split': 2, 'min_weight_fraction_leaf': 0.0, 'n_estimators': 200, 'n_jobs': None, 'oob_score': False, 'random_state': 22, 'verbose': 0, 'warm_start': False}</td>\n",
              "      <td>{'bootstrap': True, 'ccp_alpha': 0.0, 'class_weight': None, 'criterion': 'gini', 'max_depth': 3, 'max_features': 'sqrt', 'max_leaf_nodes': None, 'max_samples': None, 'min_impurity_decrease': 0.0, 'min_samples_leaf': 1, 'min_samples_split': 2, 'min_weight_fraction_leaf': 0.0, 'n_estimators': 50, 'n_jobs': None, 'oob_score': True, 'random_state': 22, 'verbose': 0, 'warm_start': False}</td>\n",
              "    </tr>\n",
              "    <tr>\n",
              "      <th>1</th>\n",
              "      <td>Кросс-валидационная точность на обучающей выборке</td>\n",
              "      <td>0.822125</td>\n",
              "      <td>0.81665</td>\n",
              "    </tr>\n",
              "    <tr>\n",
              "      <th>2</th>\n",
              "      <td>Точность на тестовой выборке</td>\n",
              "      <td>0.8219</td>\n",
              "      <td>0.8166</td>\n",
              "    </tr>\n",
              "  </tbody>\n",
              "</table>\n",
              "</div>\n",
              "    <div class=\"colab-df-buttons\">\n",
              "\n",
              "  <div class=\"colab-df-container\">\n",
              "    <button class=\"colab-df-convert\" onclick=\"convertToInteractive('df-8f8e66ab-b24d-4d4e-bf7c-80b491f1e5ef')\"\n",
              "            title=\"Convert this dataframe to an interactive table.\"\n",
              "            style=\"display:none;\">\n",
              "\n",
              "  <svg xmlns=\"http://www.w3.org/2000/svg\" height=\"24px\" viewBox=\"0 -960 960 960\">\n",
              "    <path d=\"M120-120v-720h720v720H120Zm60-500h600v-160H180v160Zm220 220h160v-160H400v160Zm0 220h160v-160H400v160ZM180-400h160v-160H180v160Zm440 0h160v-160H620v160ZM180-180h160v-160H180v160Zm440 0h160v-160H620v160Z\"/>\n",
              "  </svg>\n",
              "    </button>\n",
              "\n",
              "  <style>\n",
              "    .colab-df-container {\n",
              "      display:flex;\n",
              "      gap: 12px;\n",
              "    }\n",
              "\n",
              "    .colab-df-convert {\n",
              "      background-color: #E8F0FE;\n",
              "      border: none;\n",
              "      border-radius: 50%;\n",
              "      cursor: pointer;\n",
              "      display: none;\n",
              "      fill: #1967D2;\n",
              "      height: 32px;\n",
              "      padding: 0 0 0 0;\n",
              "      width: 32px;\n",
              "    }\n",
              "\n",
              "    .colab-df-convert:hover {\n",
              "      background-color: #E2EBFA;\n",
              "      box-shadow: 0px 1px 2px rgba(60, 64, 67, 0.3), 0px 1px 3px 1px rgba(60, 64, 67, 0.15);\n",
              "      fill: #174EA6;\n",
              "    }\n",
              "\n",
              "    .colab-df-buttons div {\n",
              "      margin-bottom: 4px;\n",
              "    }\n",
              "\n",
              "    [theme=dark] .colab-df-convert {\n",
              "      background-color: #3B4455;\n",
              "      fill: #D2E3FC;\n",
              "    }\n",
              "\n",
              "    [theme=dark] .colab-df-convert:hover {\n",
              "      background-color: #434B5C;\n",
              "      box-shadow: 0px 1px 3px 1px rgba(0, 0, 0, 0.15);\n",
              "      filter: drop-shadow(0px 1px 2px rgba(0, 0, 0, 0.3));\n",
              "      fill: #FFFFFF;\n",
              "    }\n",
              "  </style>\n",
              "\n",
              "    <script>\n",
              "      const buttonEl =\n",
              "        document.querySelector('#df-8f8e66ab-b24d-4d4e-bf7c-80b491f1e5ef button.colab-df-convert');\n",
              "      buttonEl.style.display =\n",
              "        google.colab.kernel.accessAllowed ? 'block' : 'none';\n",
              "\n",
              "      async function convertToInteractive(key) {\n",
              "        const element = document.querySelector('#df-8f8e66ab-b24d-4d4e-bf7c-80b491f1e5ef');\n",
              "        const dataTable =\n",
              "          await google.colab.kernel.invokeFunction('convertToInteractive',\n",
              "                                                    [key], {});\n",
              "        if (!dataTable) return;\n",
              "\n",
              "        const docLinkHtml = 'Like what you see? Visit the ' +\n",
              "          '<a target=\"_blank\" href=https://colab.research.google.com/notebooks/data_table.ipynb>data table notebook</a>'\n",
              "          + ' to learn more about interactive tables.';\n",
              "        element.innerHTML = '';\n",
              "        dataTable['output_type'] = 'display_data';\n",
              "        await google.colab.output.renderOutput(dataTable, element);\n",
              "        const docLink = document.createElement('div');\n",
              "        docLink.innerHTML = docLinkHtml;\n",
              "        element.appendChild(docLink);\n",
              "      }\n",
              "    </script>\n",
              "  </div>\n",
              "\n",
              "\n",
              "<div id=\"df-ef1acdc8-ed95-4574-9f53-fb74a36af44d\">\n",
              "  <button class=\"colab-df-quickchart\" onclick=\"quickchart('df-ef1acdc8-ed95-4574-9f53-fb74a36af44d')\"\n",
              "            title=\"Suggest charts\"\n",
              "            style=\"display:none;\">\n",
              "\n",
              "<svg xmlns=\"http://www.w3.org/2000/svg\" height=\"24px\"viewBox=\"0 0 24 24\"\n",
              "     width=\"24px\">\n",
              "    <g>\n",
              "        <path d=\"M19 3H5c-1.1 0-2 .9-2 2v14c0 1.1.9 2 2 2h14c1.1 0 2-.9 2-2V5c0-1.1-.9-2-2-2zM9 17H7v-7h2v7zm4 0h-2V7h2v10zm4 0h-2v-4h2v4z\"/>\n",
              "    </g>\n",
              "</svg>\n",
              "  </button>\n",
              "\n",
              "<style>\n",
              "  .colab-df-quickchart {\n",
              "      --bg-color: #E8F0FE;\n",
              "      --fill-color: #1967D2;\n",
              "      --hover-bg-color: #E2EBFA;\n",
              "      --hover-fill-color: #174EA6;\n",
              "      --disabled-fill-color: #AAA;\n",
              "      --disabled-bg-color: #DDD;\n",
              "  }\n",
              "\n",
              "  [theme=dark] .colab-df-quickchart {\n",
              "      --bg-color: #3B4455;\n",
              "      --fill-color: #D2E3FC;\n",
              "      --hover-bg-color: #434B5C;\n",
              "      --hover-fill-color: #FFFFFF;\n",
              "      --disabled-bg-color: #3B4455;\n",
              "      --disabled-fill-color: #666;\n",
              "  }\n",
              "\n",
              "  .colab-df-quickchart {\n",
              "    background-color: var(--bg-color);\n",
              "    border: none;\n",
              "    border-radius: 50%;\n",
              "    cursor: pointer;\n",
              "    display: none;\n",
              "    fill: var(--fill-color);\n",
              "    height: 32px;\n",
              "    padding: 0;\n",
              "    width: 32px;\n",
              "  }\n",
              "\n",
              "  .colab-df-quickchart:hover {\n",
              "    background-color: var(--hover-bg-color);\n",
              "    box-shadow: 0 1px 2px rgba(60, 64, 67, 0.3), 0 1px 3px 1px rgba(60, 64, 67, 0.15);\n",
              "    fill: var(--button-hover-fill-color);\n",
              "  }\n",
              "\n",
              "  .colab-df-quickchart-complete:disabled,\n",
              "  .colab-df-quickchart-complete:disabled:hover {\n",
              "    background-color: var(--disabled-bg-color);\n",
              "    fill: var(--disabled-fill-color);\n",
              "    box-shadow: none;\n",
              "  }\n",
              "\n",
              "  .colab-df-spinner {\n",
              "    border: 2px solid var(--fill-color);\n",
              "    border-color: transparent;\n",
              "    border-bottom-color: var(--fill-color);\n",
              "    animation:\n",
              "      spin 1s steps(1) infinite;\n",
              "  }\n",
              "\n",
              "  @keyframes spin {\n",
              "    0% {\n",
              "      border-color: transparent;\n",
              "      border-bottom-color: var(--fill-color);\n",
              "      border-left-color: var(--fill-color);\n",
              "    }\n",
              "    20% {\n",
              "      border-color: transparent;\n",
              "      border-left-color: var(--fill-color);\n",
              "      border-top-color: var(--fill-color);\n",
              "    }\n",
              "    30% {\n",
              "      border-color: transparent;\n",
              "      border-left-color: var(--fill-color);\n",
              "      border-top-color: var(--fill-color);\n",
              "      border-right-color: var(--fill-color);\n",
              "    }\n",
              "    40% {\n",
              "      border-color: transparent;\n",
              "      border-right-color: var(--fill-color);\n",
              "      border-top-color: var(--fill-color);\n",
              "    }\n",
              "    60% {\n",
              "      border-color: transparent;\n",
              "      border-right-color: var(--fill-color);\n",
              "    }\n",
              "    80% {\n",
              "      border-color: transparent;\n",
              "      border-right-color: var(--fill-color);\n",
              "      border-bottom-color: var(--fill-color);\n",
              "    }\n",
              "    90% {\n",
              "      border-color: transparent;\n",
              "      border-bottom-color: var(--fill-color);\n",
              "    }\n",
              "  }\n",
              "</style>\n",
              "\n",
              "  <script>\n",
              "    async function quickchart(key) {\n",
              "      const quickchartButtonEl =\n",
              "        document.querySelector('#' + key + ' button');\n",
              "      quickchartButtonEl.disabled = true;  // To prevent multiple clicks.\n",
              "      quickchartButtonEl.classList.add('colab-df-spinner');\n",
              "      try {\n",
              "        const charts = await google.colab.kernel.invokeFunction(\n",
              "            'suggestCharts', [key], {});\n",
              "      } catch (error) {\n",
              "        console.error('Error during call to suggestCharts:', error);\n",
              "      }\n",
              "      quickchartButtonEl.classList.remove('colab-df-spinner');\n",
              "      quickchartButtonEl.classList.add('colab-df-quickchart-complete');\n",
              "    }\n",
              "    (() => {\n",
              "      let quickchartButtonEl =\n",
              "        document.querySelector('#df-ef1acdc8-ed95-4574-9f53-fb74a36af44d button');\n",
              "      quickchartButtonEl.style.display =\n",
              "        google.colab.kernel.accessAllowed ? 'block' : 'none';\n",
              "    })();\n",
              "  </script>\n",
              "</div>\n",
              "    </div>\n",
              "  </div>\n"
            ],
            "application/vnd.google.colaboratory.intrinsic+json": {
              "type": "dataframe",
              "variable_name": "results_rf",
              "summary": "{\n  \"name\": \"results_rf\",\n  \"rows\": 3,\n  \"fields\": [\n    {\n      \"column\": \"\\u041f\\u0430\\u0440\\u0430\\u043c\\u0435\\u0442\\u0440\\u044b\",\n      \"properties\": {\n        \"dtype\": \"string\",\n        \"num_unique_values\": 3,\n        \"samples\": [\n          \"\\u0413\\u0438\\u043f\\u0435\\u0440\\u043f\\u0430\\u0440\\u0430\\u043c\\u0435\\u0442\\u0440\\u044b\",\n          \"\\u041a\\u0440\\u043e\\u0441\\u0441-\\u0432\\u0430\\u043b\\u0438\\u0434\\u0430\\u0446\\u0438\\u043e\\u043d\\u043d\\u0430\\u044f \\u0442\\u043e\\u0447\\u043d\\u043e\\u0441\\u0442\\u044c \\u043d\\u0430 \\u043e\\u0431\\u0443\\u0447\\u0430\\u044e\\u0449\\u0435\\u0439 \\u0432\\u044b\\u0431\\u043e\\u0440\\u043a\\u0435\",\n          \"\\u0422\\u043e\\u0447\\u043d\\u043e\\u0441\\u0442\\u044c \\u043d\\u0430 \\u0442\\u0435\\u0441\\u0442\\u043e\\u0432\\u043e\\u0439 \\u0432\\u044b\\u0431\\u043e\\u0440\\u043a\\u0435\"\n        ],\n        \"semantic_type\": \"\",\n        \"description\": \"\"\n      }\n    },\n    {\n      \"column\": \"\\u041a\\u0440\\u043e\\u0441\\u0441-\\u0432\\u0430\\u043b\\u0438\\u0434\\u0430\\u0446\\u0438\\u044f\",\n      \"properties\": {\n        \"dtype\": \"object\",\n        \"semantic_type\": \"\",\n        \"description\": \"\"\n      }\n    },\n    {\n      \"column\": \"OOB \\u043e\\u0448\\u0438\\u0431\\u043a\\u0438\",\n      \"properties\": {\n        \"dtype\": \"object\",\n        \"semantic_type\": \"\",\n        \"description\": \"\"\n      }\n    }\n  ]\n}"
            }
          },
          "metadata": {},
          "execution_count": 50
        }
      ]
    },
    {
      "cell_type": "markdown",
      "metadata": {
        "id": "67nzQd6nY5t7"
      },
      "source": [
        "4. Повторите предыдущий пункт, используя любой альтернативный критерий качества модели. Обоснуйте возможные преимущества и недостатки этого альтернативного критерия."
      ]
    },
    {
      "cell_type": "markdown",
      "metadata": {
        "id": "3ra38E7cY5t7"
      },
      "source": [
        "**Метод ближайших соседей**"
      ]
    },
    {
      "cell_type": "code",
      "execution_count": null,
      "metadata": {
        "colab": {
          "base_uri": "https://localhost:8080/"
        },
        "id": "Gww3WiGpY5t7",
        "outputId": "8f516aa8-00c4-48de-9112-cb459977c2aa"
      },
      "outputs": [
        {
          "output_type": "stream",
          "name": "stdout",
          "text": [
            "{'n_neighbors': 9, 'p': 1, 'weights': 'uniform'}\n"
          ]
        }
      ],
      "source": [
        "# Перебираемые значения гиперпараметров\n",
        "hyperparameters = {'n_neighbors': range(1, 11), 'weights': ['uniform', 'distance'], 'p': [1, 2, 3]}\n",
        "\n",
        "# Перебор гиперпараметров с помощью кросс-валидации\n",
        "CV_knn = GridSearchCV(estimator = knn_model,\n",
        "                        param_grid = hyperparameters,\n",
        "                        scoring = \"f1_weighted\",\n",
        "                        cv = 5)\n",
        "CV_knn.fit(X_train_sc, y_train)\n",
        "best_knn_2 = CV_knn.best_params_\n",
        "print(best_knn_2)"
      ]
    },
    {
      "cell_type": "markdown",
      "metadata": {
        "id": "MSU1x3AtY5t8"
      },
      "source": [
        "**Случайный лес**"
      ]
    },
    {
      "cell_type": "code",
      "execution_count": null,
      "metadata": {
        "outputId": "8e0072c8-1163-49d1-969a-9ec4f7251188",
        "colab": {
          "base_uri": "https://localhost:8080/"
        },
        "id": "0uqEiUfuNP-h"
      },
      "outputs": [
        {
          "output_type": "stream",
          "name": "stdout",
          "text": [
            "{'max_depth': 7, 'max_features': 'sqrt', 'n_estimators': 200, 'random_state': 22}\n"
          ]
        }
      ],
      "source": [
        "# Перебираемые значения гиперпараметров\n",
        "hyperparameters = {'n_estimators': [100, 200], 'max_depth': [3, 5, 7],\n",
        "                   'max_features': ['sqrt', 'log2', None], 'random_state': [22]}\n",
        "\n",
        "# Перебор гиперпараметров с помощью кросс-валидации\n",
        "CV_rf = GridSearchCV(estimator = rf_model,\n",
        "                        param_grid = hyperparameters,\n",
        "                        scoring = \"f1_weighted\",\n",
        "                        cv = 5)\n",
        "CV_rf.fit(X_train_sc, y_train)\n",
        "best_rf_2 = CV_rf.best_params_\n",
        "print(best_rf_2)"
      ]
    },
    {
      "cell_type": "markdown",
      "metadata": {
        "id": "J9-anYFEY5t8"
      },
      "source": [
        "**Градиентный бустинг**"
      ]
    },
    {
      "cell_type": "code",
      "execution_count": null,
      "metadata": {
        "outputId": "3feb9148-a153-4f2b-f91f-1ff02d7db534",
        "colab": {
          "base_uri": "https://localhost:8080/"
        },
        "id": "dRYNCp8sNT3g"
      },
      "outputs": [
        {
          "output_type": "stream",
          "name": "stdout",
          "text": [
            "{'max_depth': 5, 'max_features': None, 'n_estimators': 100, 'random_state': 22}\n"
          ]
        }
      ],
      "source": [
        "# Перебираемые значения гиперпараметров\n",
        "hyperparameters = {'n_estimators': [100, 200], 'max_depth': [3, 5, 7],\n",
        "                   'max_features': ['sqrt', 'log2', None], 'random_state': [22]}\n",
        "\n",
        "# Перебор гиперпараметров с помощью кросс-валидации\n",
        "CV_gb = GridSearchCV(estimator = gb_model,\n",
        "                        param_grid = hyperparameters,\n",
        "                        scoring = \"f1_weighted\",\n",
        "                        cv = 5)\n",
        "CV_gb.fit(X_train_sc, y_train)\n",
        "best_gb_2 = CV_gb.best_params_\n",
        "print(best_gb_2)"
      ]
    },
    {
      "cell_type": "markdown",
      "source": [
        "**Повышенная сложность:** дополнительно самостоятельно запрограммируйте не представленный в стандартных библиотеках критерий качества и используйте его для тюнинга гиперпараметров. Сравните результат стандартного и\n",
        "вашего критериев.\n"
      ],
      "metadata": {
        "id": "q2Wg2ug310KL"
      }
    },
    {
      "cell_type": "code",
      "source": [
        "# Создадим альтернативный критерий\n",
        "def average_score(y_true, y_pred):\n",
        "    # Вычисление среднего арифметического между точностью и полнотой модели\n",
        "    precision = precision_score(y_true, y_pred)\n",
        "    recall = recall_score(y_true, y_pred)\n",
        "    average_metric = (precision + recall) / 2\n",
        "    return average_metric\n"
      ],
      "metadata": {
        "id": "VKrMjMi018_N"
      },
      "execution_count": null,
      "outputs": []
    },
    {
      "cell_type": "markdown",
      "source": [
        "**Метод ближайших соседей**"
      ],
      "metadata": {
        "id": "U62MOQBs43kM"
      }
    },
    {
      "cell_type": "code",
      "source": [
        "# Перебираемые значения гиперпараметров\n",
        "hyperparameters = {'n_neighbors': range(1, 11), 'weights': ['uniform', 'distance'], 'p': [1, 2, 3]}\n",
        "\n",
        "# Перебор гиперпараметров с помощью кросс-валидации\n",
        "CV_knn_av = GridSearchCV(estimator = knn_model,\n",
        "                        param_grid = hyperparameters,\n",
        "                        scoring = average_score,\n",
        "                        cv = 5)\n",
        "CV_knn_av.fit(X_train_sc, y_train)\n",
        "best_knn_av = CV_knn_av.best_params_\n",
        "print(best_knn_av)"
      ],
      "metadata": {
        "colab": {
          "base_uri": "https://localhost:8080/"
        },
        "id": "6WioeliP44ND",
        "outputId": "dbbcca6b-c67b-4c21-e832-4e6bd53d11c2"
      },
      "execution_count": null,
      "outputs": [
        {
          "output_type": "stream",
          "name": "stdout",
          "text": [
            "{'n_neighbors': 1, 'p': 1, 'weights': 'uniform'}\n"
          ]
        }
      ]
    },
    {
      "cell_type": "code",
      "source": [
        "# Метод ближайших соседей с подобранными гиперпараметрами\n",
        "best_knn_av = KNeighborsClassifier(n_neighbors = 1, p = 1, weights = 'uniform')\n",
        "best_knn_av.fit(X_train_sc, y_train)\n",
        "# Оценим точность\n",
        "ACC_knn_test_av  = best_knn_av.score(X_test_sc, y_test)    # тестовая выборка\n",
        "# Оценка точности с помощью кросс-валидации на обучающей выборке\n",
        "knn_score_av = cross_val_score(best_knn_av, X_train_sc, y_train, cv = 5, scoring = 'accuracy').mean()\n",
        "results_knn_av = pd.DataFrame({\n",
        "    'Параметры': ['Кросс-валидационная точность на обучающей выборке', 'Точность на тестовой выборке'],\n",
        "    'Стандартный критерий':  [knn_score_new, ACC_knn_test_new],\n",
        "    'Свой критерий': [knn_score_av, ACC_knn_test_av]\n",
        "})\n",
        "results_knn_av"
      ],
      "metadata": {
        "id": "xvBW9t3T5Kn2",
        "outputId": "9799718f-89ae-499e-90f3-bd4981b7573b",
        "colab": {
          "base_uri": "https://localhost:8080/",
          "height": 112
        }
      },
      "execution_count": null,
      "outputs": [
        {
          "output_type": "execute_result",
          "data": {
            "text/plain": [
              "                                           Параметры  Стандартный критерий  \\\n",
              "0  Кросс-валидационная точность на обучающей выборке               0.80580   \n",
              "1                       Точность на тестовой выборке               0.80605   \n",
              "\n",
              "   Свой критерий  \n",
              "0        0.77385  \n",
              "1        0.77550  "
            ],
            "text/html": [
              "\n",
              "  <div id=\"df-ca8fb760-8206-4971-9096-133c20386b7c\" class=\"colab-df-container\">\n",
              "    <div>\n",
              "<style scoped>\n",
              "    .dataframe tbody tr th:only-of-type {\n",
              "        vertical-align: middle;\n",
              "    }\n",
              "\n",
              "    .dataframe tbody tr th {\n",
              "        vertical-align: top;\n",
              "    }\n",
              "\n",
              "    .dataframe thead th {\n",
              "        text-align: right;\n",
              "    }\n",
              "</style>\n",
              "<table border=\"1\" class=\"dataframe\">\n",
              "  <thead>\n",
              "    <tr style=\"text-align: right;\">\n",
              "      <th></th>\n",
              "      <th>Параметры</th>\n",
              "      <th>Стандартный критерий</th>\n",
              "      <th>Свой критерий</th>\n",
              "    </tr>\n",
              "  </thead>\n",
              "  <tbody>\n",
              "    <tr>\n",
              "      <th>0</th>\n",
              "      <td>Кросс-валидационная точность на обучающей выборке</td>\n",
              "      <td>0.80580</td>\n",
              "      <td>0.77385</td>\n",
              "    </tr>\n",
              "    <tr>\n",
              "      <th>1</th>\n",
              "      <td>Точность на тестовой выборке</td>\n",
              "      <td>0.80605</td>\n",
              "      <td>0.77550</td>\n",
              "    </tr>\n",
              "  </tbody>\n",
              "</table>\n",
              "</div>\n",
              "    <div class=\"colab-df-buttons\">\n",
              "\n",
              "  <div class=\"colab-df-container\">\n",
              "    <button class=\"colab-df-convert\" onclick=\"convertToInteractive('df-ca8fb760-8206-4971-9096-133c20386b7c')\"\n",
              "            title=\"Convert this dataframe to an interactive table.\"\n",
              "            style=\"display:none;\">\n",
              "\n",
              "  <svg xmlns=\"http://www.w3.org/2000/svg\" height=\"24px\" viewBox=\"0 -960 960 960\">\n",
              "    <path d=\"M120-120v-720h720v720H120Zm60-500h600v-160H180v160Zm220 220h160v-160H400v160Zm0 220h160v-160H400v160ZM180-400h160v-160H180v160Zm440 0h160v-160H620v160ZM180-180h160v-160H180v160Zm440 0h160v-160H620v160Z\"/>\n",
              "  </svg>\n",
              "    </button>\n",
              "\n",
              "  <style>\n",
              "    .colab-df-container {\n",
              "      display:flex;\n",
              "      gap: 12px;\n",
              "    }\n",
              "\n",
              "    .colab-df-convert {\n",
              "      background-color: #E8F0FE;\n",
              "      border: none;\n",
              "      border-radius: 50%;\n",
              "      cursor: pointer;\n",
              "      display: none;\n",
              "      fill: #1967D2;\n",
              "      height: 32px;\n",
              "      padding: 0 0 0 0;\n",
              "      width: 32px;\n",
              "    }\n",
              "\n",
              "    .colab-df-convert:hover {\n",
              "      background-color: #E2EBFA;\n",
              "      box-shadow: 0px 1px 2px rgba(60, 64, 67, 0.3), 0px 1px 3px 1px rgba(60, 64, 67, 0.15);\n",
              "      fill: #174EA6;\n",
              "    }\n",
              "\n",
              "    .colab-df-buttons div {\n",
              "      margin-bottom: 4px;\n",
              "    }\n",
              "\n",
              "    [theme=dark] .colab-df-convert {\n",
              "      background-color: #3B4455;\n",
              "      fill: #D2E3FC;\n",
              "    }\n",
              "\n",
              "    [theme=dark] .colab-df-convert:hover {\n",
              "      background-color: #434B5C;\n",
              "      box-shadow: 0px 1px 3px 1px rgba(0, 0, 0, 0.15);\n",
              "      filter: drop-shadow(0px 1px 2px rgba(0, 0, 0, 0.3));\n",
              "      fill: #FFFFFF;\n",
              "    }\n",
              "  </style>\n",
              "\n",
              "    <script>\n",
              "      const buttonEl =\n",
              "        document.querySelector('#df-ca8fb760-8206-4971-9096-133c20386b7c button.colab-df-convert');\n",
              "      buttonEl.style.display =\n",
              "        google.colab.kernel.accessAllowed ? 'block' : 'none';\n",
              "\n",
              "      async function convertToInteractive(key) {\n",
              "        const element = document.querySelector('#df-ca8fb760-8206-4971-9096-133c20386b7c');\n",
              "        const dataTable =\n",
              "          await google.colab.kernel.invokeFunction('convertToInteractive',\n",
              "                                                    [key], {});\n",
              "        if (!dataTable) return;\n",
              "\n",
              "        const docLinkHtml = 'Like what you see? Visit the ' +\n",
              "          '<a target=\"_blank\" href=https://colab.research.google.com/notebooks/data_table.ipynb>data table notebook</a>'\n",
              "          + ' to learn more about interactive tables.';\n",
              "        element.innerHTML = '';\n",
              "        dataTable['output_type'] = 'display_data';\n",
              "        await google.colab.output.renderOutput(dataTable, element);\n",
              "        const docLink = document.createElement('div');\n",
              "        docLink.innerHTML = docLinkHtml;\n",
              "        element.appendChild(docLink);\n",
              "      }\n",
              "    </script>\n",
              "  </div>\n",
              "\n",
              "\n",
              "<div id=\"df-b6843be7-073c-412d-9805-779f940731f0\">\n",
              "  <button class=\"colab-df-quickchart\" onclick=\"quickchart('df-b6843be7-073c-412d-9805-779f940731f0')\"\n",
              "            title=\"Suggest charts\"\n",
              "            style=\"display:none;\">\n",
              "\n",
              "<svg xmlns=\"http://www.w3.org/2000/svg\" height=\"24px\"viewBox=\"0 0 24 24\"\n",
              "     width=\"24px\">\n",
              "    <g>\n",
              "        <path d=\"M19 3H5c-1.1 0-2 .9-2 2v14c0 1.1.9 2 2 2h14c1.1 0 2-.9 2-2V5c0-1.1-.9-2-2-2zM9 17H7v-7h2v7zm4 0h-2V7h2v10zm4 0h-2v-4h2v4z\"/>\n",
              "    </g>\n",
              "</svg>\n",
              "  </button>\n",
              "\n",
              "<style>\n",
              "  .colab-df-quickchart {\n",
              "      --bg-color: #E8F0FE;\n",
              "      --fill-color: #1967D2;\n",
              "      --hover-bg-color: #E2EBFA;\n",
              "      --hover-fill-color: #174EA6;\n",
              "      --disabled-fill-color: #AAA;\n",
              "      --disabled-bg-color: #DDD;\n",
              "  }\n",
              "\n",
              "  [theme=dark] .colab-df-quickchart {\n",
              "      --bg-color: #3B4455;\n",
              "      --fill-color: #D2E3FC;\n",
              "      --hover-bg-color: #434B5C;\n",
              "      --hover-fill-color: #FFFFFF;\n",
              "      --disabled-bg-color: #3B4455;\n",
              "      --disabled-fill-color: #666;\n",
              "  }\n",
              "\n",
              "  .colab-df-quickchart {\n",
              "    background-color: var(--bg-color);\n",
              "    border: none;\n",
              "    border-radius: 50%;\n",
              "    cursor: pointer;\n",
              "    display: none;\n",
              "    fill: var(--fill-color);\n",
              "    height: 32px;\n",
              "    padding: 0;\n",
              "    width: 32px;\n",
              "  }\n",
              "\n",
              "  .colab-df-quickchart:hover {\n",
              "    background-color: var(--hover-bg-color);\n",
              "    box-shadow: 0 1px 2px rgba(60, 64, 67, 0.3), 0 1px 3px 1px rgba(60, 64, 67, 0.15);\n",
              "    fill: var(--button-hover-fill-color);\n",
              "  }\n",
              "\n",
              "  .colab-df-quickchart-complete:disabled,\n",
              "  .colab-df-quickchart-complete:disabled:hover {\n",
              "    background-color: var(--disabled-bg-color);\n",
              "    fill: var(--disabled-fill-color);\n",
              "    box-shadow: none;\n",
              "  }\n",
              "\n",
              "  .colab-df-spinner {\n",
              "    border: 2px solid var(--fill-color);\n",
              "    border-color: transparent;\n",
              "    border-bottom-color: var(--fill-color);\n",
              "    animation:\n",
              "      spin 1s steps(1) infinite;\n",
              "  }\n",
              "\n",
              "  @keyframes spin {\n",
              "    0% {\n",
              "      border-color: transparent;\n",
              "      border-bottom-color: var(--fill-color);\n",
              "      border-left-color: var(--fill-color);\n",
              "    }\n",
              "    20% {\n",
              "      border-color: transparent;\n",
              "      border-left-color: var(--fill-color);\n",
              "      border-top-color: var(--fill-color);\n",
              "    }\n",
              "    30% {\n",
              "      border-color: transparent;\n",
              "      border-left-color: var(--fill-color);\n",
              "      border-top-color: var(--fill-color);\n",
              "      border-right-color: var(--fill-color);\n",
              "    }\n",
              "    40% {\n",
              "      border-color: transparent;\n",
              "      border-right-color: var(--fill-color);\n",
              "      border-top-color: var(--fill-color);\n",
              "    }\n",
              "    60% {\n",
              "      border-color: transparent;\n",
              "      border-right-color: var(--fill-color);\n",
              "    }\n",
              "    80% {\n",
              "      border-color: transparent;\n",
              "      border-right-color: var(--fill-color);\n",
              "      border-bottom-color: var(--fill-color);\n",
              "    }\n",
              "    90% {\n",
              "      border-color: transparent;\n",
              "      border-bottom-color: var(--fill-color);\n",
              "    }\n",
              "  }\n",
              "</style>\n",
              "\n",
              "  <script>\n",
              "    async function quickchart(key) {\n",
              "      const quickchartButtonEl =\n",
              "        document.querySelector('#' + key + ' button');\n",
              "      quickchartButtonEl.disabled = true;  // To prevent multiple clicks.\n",
              "      quickchartButtonEl.classList.add('colab-df-spinner');\n",
              "      try {\n",
              "        const charts = await google.colab.kernel.invokeFunction(\n",
              "            'suggestCharts', [key], {});\n",
              "      } catch (error) {\n",
              "        console.error('Error during call to suggestCharts:', error);\n",
              "      }\n",
              "      quickchartButtonEl.classList.remove('colab-df-spinner');\n",
              "      quickchartButtonEl.classList.add('colab-df-quickchart-complete');\n",
              "    }\n",
              "    (() => {\n",
              "      let quickchartButtonEl =\n",
              "        document.querySelector('#df-b6843be7-073c-412d-9805-779f940731f0 button');\n",
              "      quickchartButtonEl.style.display =\n",
              "        google.colab.kernel.accessAllowed ? 'block' : 'none';\n",
              "    })();\n",
              "  </script>\n",
              "</div>\n",
              "    </div>\n",
              "  </div>\n"
            ],
            "application/vnd.google.colaboratory.intrinsic+json": {
              "type": "dataframe",
              "variable_name": "results_knn_av",
              "summary": "{\n  \"name\": \"results_knn_av\",\n  \"rows\": 2,\n  \"fields\": [\n    {\n      \"column\": \"\\u041f\\u0430\\u0440\\u0430\\u043c\\u0435\\u0442\\u0440\\u044b\",\n      \"properties\": {\n        \"dtype\": \"string\",\n        \"num_unique_values\": 2,\n        \"samples\": [\n          \"\\u0422\\u043e\\u0447\\u043d\\u043e\\u0441\\u0442\\u044c \\u043d\\u0430 \\u0442\\u0435\\u0441\\u0442\\u043e\\u0432\\u043e\\u0439 \\u0432\\u044b\\u0431\\u043e\\u0440\\u043a\\u0435\",\n          \"\\u041a\\u0440\\u043e\\u0441\\u0441-\\u0432\\u0430\\u043b\\u0438\\u0434\\u0430\\u0446\\u0438\\u043e\\u043d\\u043d\\u0430\\u044f \\u0442\\u043e\\u0447\\u043d\\u043e\\u0441\\u0442\\u044c \\u043d\\u0430 \\u043e\\u0431\\u0443\\u0447\\u0430\\u044e\\u0449\\u0435\\u0439 \\u0432\\u044b\\u0431\\u043e\\u0440\\u043a\\u0435\"\n        ],\n        \"semantic_type\": \"\",\n        \"description\": \"\"\n      }\n    },\n    {\n      \"column\": \"\\u0421\\u0442\\u0430\\u043d\\u0434\\u0430\\u0440\\u0442\\u043d\\u044b\\u0439 \\u043a\\u0440\\u0438\\u0442\\u0435\\u0440\\u0438\\u0439\",\n      \"properties\": {\n        \"dtype\": \"number\",\n        \"std\": 0.0001767766952966959,\n        \"min\": 0.8058,\n        \"max\": 0.80605,\n        \"num_unique_values\": 2,\n        \"samples\": [\n          0.80605,\n          0.8058\n        ],\n        \"semantic_type\": \"\",\n        \"description\": \"\"\n      }\n    },\n    {\n      \"column\": \"\\u0421\\u0432\\u043e\\u0439 \\u043a\\u0440\\u0438\\u0442\\u0435\\u0440\\u0438\\u0439\",\n      \"properties\": {\n        \"dtype\": \"number\",\n        \"std\": 0.0011667261889577534,\n        \"min\": 0.77385,\n        \"max\": 0.7755,\n        \"num_unique_values\": 2,\n        \"samples\": [\n          0.7755,\n          0.77385\n        ],\n        \"semantic_type\": \"\",\n        \"description\": \"\"\n      }\n    }\n  ]\n}"
            }
          },
          "metadata": {},
          "execution_count": 56
        }
      ]
    },
    {
      "cell_type": "markdown",
      "source": [
        "**Случайный лес**"
      ],
      "metadata": {
        "id": "bngpFJD36FuB"
      }
    },
    {
      "cell_type": "code",
      "source": [
        "# Перебираемые значения гиперпараметров\n",
        "hyperparameters = {'n_estimators': [100, 200], 'max_depth': [3, 5, 7],\n",
        "                   'max_features': ['sqrt', 'log2', None], 'random_state': [22]}\n",
        "\n",
        "# Перебор гиперпараметров с помощью кросс-валидации\n",
        "CV_rf_av = GridSearchCV(estimator = rf_model,\n",
        "                        param_grid = hyperparameters,\n",
        "                        scoring = average_score,\n",
        "                        cv = 5)\n",
        "CV_rf_av.fit(X_train_sc, y_train)\n",
        "best_rf_av = CV_rf_av.best_params_\n",
        "print(best_rf_av)"
      ],
      "metadata": {
        "outputId": "d30b971e-0628-4347-ee2b-1bf5fdd8361f",
        "colab": {
          "base_uri": "https://localhost:8080/"
        },
        "id": "42KaoCc-Nfr7"
      },
      "execution_count": null,
      "outputs": [
        {
          "output_type": "stream",
          "name": "stdout",
          "text": [
            "{'max_depth': 3, 'max_features': 'sqrt', 'n_estimators': 100, 'random_state': 22}\n"
          ]
        }
      ]
    },
    {
      "cell_type": "code",
      "source": [
        "# Случайный лес с подобранными гиперпараметрами\n",
        "best_rf_av = RandomForestClassifier(max_depth = 3, max_features = 'sqrt', n_estimators = 100, random_state = 22)\n",
        "best_rf_av.fit(X_train_sc, y_train)\n",
        "# Оценим точность\n",
        "ACC_rf_test_av  = best_rf_av.score(X_test_sc, y_test)    # тестовая выборка\n",
        "# Оценка точности с помощью кросс-валидации на обучающей выборке\n",
        "rf_score_av = cross_val_score(best_rf_av, X_train_sc, y_train, cv = 5, scoring = 'accuracy').mean()\n",
        "results_rf_av = pd.DataFrame({\n",
        "    'Параметры': ['Кросс-валидационная точность на обучающей выборке', 'Точность на тестовой выборке'],\n",
        "    'Стандартный критерий':  [rf_score_new, ACC_rf_test_new],\n",
        "    'Свой критерий': [rf_score_av, ACC_rf_test_av]\n",
        "})\n",
        "results_rf_av"
      ],
      "metadata": {
        "outputId": "c3b2dee8-3322-4a7c-c064-65f564729e9d",
        "colab": {
          "base_uri": "https://localhost:8080/",
          "height": 112
        },
        "id": "Ffeu7GDMNjy5"
      },
      "execution_count": null,
      "outputs": [
        {
          "output_type": "execute_result",
          "data": {
            "text/plain": [
              "                                           Параметры  Стандартный критерий  \\\n",
              "0  Кросс-валидационная точность на обучающей выборке              0.822125   \n",
              "1                       Точность на тестовой выборке              0.821900   \n",
              "\n",
              "   Свой критерий  \n",
              "0       0.815462  \n",
              "1       0.815100  "
            ],
            "text/html": [
              "\n",
              "  <div id=\"df-26fc1b91-51ae-4917-ba8b-843545435de4\" class=\"colab-df-container\">\n",
              "    <div>\n",
              "<style scoped>\n",
              "    .dataframe tbody tr th:only-of-type {\n",
              "        vertical-align: middle;\n",
              "    }\n",
              "\n",
              "    .dataframe tbody tr th {\n",
              "        vertical-align: top;\n",
              "    }\n",
              "\n",
              "    .dataframe thead th {\n",
              "        text-align: right;\n",
              "    }\n",
              "</style>\n",
              "<table border=\"1\" class=\"dataframe\">\n",
              "  <thead>\n",
              "    <tr style=\"text-align: right;\">\n",
              "      <th></th>\n",
              "      <th>Параметры</th>\n",
              "      <th>Стандартный критерий</th>\n",
              "      <th>Свой критерий</th>\n",
              "    </tr>\n",
              "  </thead>\n",
              "  <tbody>\n",
              "    <tr>\n",
              "      <th>0</th>\n",
              "      <td>Кросс-валидационная точность на обучающей выборке</td>\n",
              "      <td>0.822125</td>\n",
              "      <td>0.815462</td>\n",
              "    </tr>\n",
              "    <tr>\n",
              "      <th>1</th>\n",
              "      <td>Точность на тестовой выборке</td>\n",
              "      <td>0.821900</td>\n",
              "      <td>0.815100</td>\n",
              "    </tr>\n",
              "  </tbody>\n",
              "</table>\n",
              "</div>\n",
              "    <div class=\"colab-df-buttons\">\n",
              "\n",
              "  <div class=\"colab-df-container\">\n",
              "    <button class=\"colab-df-convert\" onclick=\"convertToInteractive('df-26fc1b91-51ae-4917-ba8b-843545435de4')\"\n",
              "            title=\"Convert this dataframe to an interactive table.\"\n",
              "            style=\"display:none;\">\n",
              "\n",
              "  <svg xmlns=\"http://www.w3.org/2000/svg\" height=\"24px\" viewBox=\"0 -960 960 960\">\n",
              "    <path d=\"M120-120v-720h720v720H120Zm60-500h600v-160H180v160Zm220 220h160v-160H400v160Zm0 220h160v-160H400v160ZM180-400h160v-160H180v160Zm440 0h160v-160H620v160ZM180-180h160v-160H180v160Zm440 0h160v-160H620v160Z\"/>\n",
              "  </svg>\n",
              "    </button>\n",
              "\n",
              "  <style>\n",
              "    .colab-df-container {\n",
              "      display:flex;\n",
              "      gap: 12px;\n",
              "    }\n",
              "\n",
              "    .colab-df-convert {\n",
              "      background-color: #E8F0FE;\n",
              "      border: none;\n",
              "      border-radius: 50%;\n",
              "      cursor: pointer;\n",
              "      display: none;\n",
              "      fill: #1967D2;\n",
              "      height: 32px;\n",
              "      padding: 0 0 0 0;\n",
              "      width: 32px;\n",
              "    }\n",
              "\n",
              "    .colab-df-convert:hover {\n",
              "      background-color: #E2EBFA;\n",
              "      box-shadow: 0px 1px 2px rgba(60, 64, 67, 0.3), 0px 1px 3px 1px rgba(60, 64, 67, 0.15);\n",
              "      fill: #174EA6;\n",
              "    }\n",
              "\n",
              "    .colab-df-buttons div {\n",
              "      margin-bottom: 4px;\n",
              "    }\n",
              "\n",
              "    [theme=dark] .colab-df-convert {\n",
              "      background-color: #3B4455;\n",
              "      fill: #D2E3FC;\n",
              "    }\n",
              "\n",
              "    [theme=dark] .colab-df-convert:hover {\n",
              "      background-color: #434B5C;\n",
              "      box-shadow: 0px 1px 3px 1px rgba(0, 0, 0, 0.15);\n",
              "      filter: drop-shadow(0px 1px 2px rgba(0, 0, 0, 0.3));\n",
              "      fill: #FFFFFF;\n",
              "    }\n",
              "  </style>\n",
              "\n",
              "    <script>\n",
              "      const buttonEl =\n",
              "        document.querySelector('#df-26fc1b91-51ae-4917-ba8b-843545435de4 button.colab-df-convert');\n",
              "      buttonEl.style.display =\n",
              "        google.colab.kernel.accessAllowed ? 'block' : 'none';\n",
              "\n",
              "      async function convertToInteractive(key) {\n",
              "        const element = document.querySelector('#df-26fc1b91-51ae-4917-ba8b-843545435de4');\n",
              "        const dataTable =\n",
              "          await google.colab.kernel.invokeFunction('convertToInteractive',\n",
              "                                                    [key], {});\n",
              "        if (!dataTable) return;\n",
              "\n",
              "        const docLinkHtml = 'Like what you see? Visit the ' +\n",
              "          '<a target=\"_blank\" href=https://colab.research.google.com/notebooks/data_table.ipynb>data table notebook</a>'\n",
              "          + ' to learn more about interactive tables.';\n",
              "        element.innerHTML = '';\n",
              "        dataTable['output_type'] = 'display_data';\n",
              "        await google.colab.output.renderOutput(dataTable, element);\n",
              "        const docLink = document.createElement('div');\n",
              "        docLink.innerHTML = docLinkHtml;\n",
              "        element.appendChild(docLink);\n",
              "      }\n",
              "    </script>\n",
              "  </div>\n",
              "\n",
              "\n",
              "<div id=\"df-632fd833-5791-4c9e-a79e-134e27589dd7\">\n",
              "  <button class=\"colab-df-quickchart\" onclick=\"quickchart('df-632fd833-5791-4c9e-a79e-134e27589dd7')\"\n",
              "            title=\"Suggest charts\"\n",
              "            style=\"display:none;\">\n",
              "\n",
              "<svg xmlns=\"http://www.w3.org/2000/svg\" height=\"24px\"viewBox=\"0 0 24 24\"\n",
              "     width=\"24px\">\n",
              "    <g>\n",
              "        <path d=\"M19 3H5c-1.1 0-2 .9-2 2v14c0 1.1.9 2 2 2h14c1.1 0 2-.9 2-2V5c0-1.1-.9-2-2-2zM9 17H7v-7h2v7zm4 0h-2V7h2v10zm4 0h-2v-4h2v4z\"/>\n",
              "    </g>\n",
              "</svg>\n",
              "  </button>\n",
              "\n",
              "<style>\n",
              "  .colab-df-quickchart {\n",
              "      --bg-color: #E8F0FE;\n",
              "      --fill-color: #1967D2;\n",
              "      --hover-bg-color: #E2EBFA;\n",
              "      --hover-fill-color: #174EA6;\n",
              "      --disabled-fill-color: #AAA;\n",
              "      --disabled-bg-color: #DDD;\n",
              "  }\n",
              "\n",
              "  [theme=dark] .colab-df-quickchart {\n",
              "      --bg-color: #3B4455;\n",
              "      --fill-color: #D2E3FC;\n",
              "      --hover-bg-color: #434B5C;\n",
              "      --hover-fill-color: #FFFFFF;\n",
              "      --disabled-bg-color: #3B4455;\n",
              "      --disabled-fill-color: #666;\n",
              "  }\n",
              "\n",
              "  .colab-df-quickchart {\n",
              "    background-color: var(--bg-color);\n",
              "    border: none;\n",
              "    border-radius: 50%;\n",
              "    cursor: pointer;\n",
              "    display: none;\n",
              "    fill: var(--fill-color);\n",
              "    height: 32px;\n",
              "    padding: 0;\n",
              "    width: 32px;\n",
              "  }\n",
              "\n",
              "  .colab-df-quickchart:hover {\n",
              "    background-color: var(--hover-bg-color);\n",
              "    box-shadow: 0 1px 2px rgba(60, 64, 67, 0.3), 0 1px 3px 1px rgba(60, 64, 67, 0.15);\n",
              "    fill: var(--button-hover-fill-color);\n",
              "  }\n",
              "\n",
              "  .colab-df-quickchart-complete:disabled,\n",
              "  .colab-df-quickchart-complete:disabled:hover {\n",
              "    background-color: var(--disabled-bg-color);\n",
              "    fill: var(--disabled-fill-color);\n",
              "    box-shadow: none;\n",
              "  }\n",
              "\n",
              "  .colab-df-spinner {\n",
              "    border: 2px solid var(--fill-color);\n",
              "    border-color: transparent;\n",
              "    border-bottom-color: var(--fill-color);\n",
              "    animation:\n",
              "      spin 1s steps(1) infinite;\n",
              "  }\n",
              "\n",
              "  @keyframes spin {\n",
              "    0% {\n",
              "      border-color: transparent;\n",
              "      border-bottom-color: var(--fill-color);\n",
              "      border-left-color: var(--fill-color);\n",
              "    }\n",
              "    20% {\n",
              "      border-color: transparent;\n",
              "      border-left-color: var(--fill-color);\n",
              "      border-top-color: var(--fill-color);\n",
              "    }\n",
              "    30% {\n",
              "      border-color: transparent;\n",
              "      border-left-color: var(--fill-color);\n",
              "      border-top-color: var(--fill-color);\n",
              "      border-right-color: var(--fill-color);\n",
              "    }\n",
              "    40% {\n",
              "      border-color: transparent;\n",
              "      border-right-color: var(--fill-color);\n",
              "      border-top-color: var(--fill-color);\n",
              "    }\n",
              "    60% {\n",
              "      border-color: transparent;\n",
              "      border-right-color: var(--fill-color);\n",
              "    }\n",
              "    80% {\n",
              "      border-color: transparent;\n",
              "      border-right-color: var(--fill-color);\n",
              "      border-bottom-color: var(--fill-color);\n",
              "    }\n",
              "    90% {\n",
              "      border-color: transparent;\n",
              "      border-bottom-color: var(--fill-color);\n",
              "    }\n",
              "  }\n",
              "</style>\n",
              "\n",
              "  <script>\n",
              "    async function quickchart(key) {\n",
              "      const quickchartButtonEl =\n",
              "        document.querySelector('#' + key + ' button');\n",
              "      quickchartButtonEl.disabled = true;  // To prevent multiple clicks.\n",
              "      quickchartButtonEl.classList.add('colab-df-spinner');\n",
              "      try {\n",
              "        const charts = await google.colab.kernel.invokeFunction(\n",
              "            'suggestCharts', [key], {});\n",
              "      } catch (error) {\n",
              "        console.error('Error during call to suggestCharts:', error);\n",
              "      }\n",
              "      quickchartButtonEl.classList.remove('colab-df-spinner');\n",
              "      quickchartButtonEl.classList.add('colab-df-quickchart-complete');\n",
              "    }\n",
              "    (() => {\n",
              "      let quickchartButtonEl =\n",
              "        document.querySelector('#df-632fd833-5791-4c9e-a79e-134e27589dd7 button');\n",
              "      quickchartButtonEl.style.display =\n",
              "        google.colab.kernel.accessAllowed ? 'block' : 'none';\n",
              "    })();\n",
              "  </script>\n",
              "</div>\n",
              "    </div>\n",
              "  </div>\n"
            ],
            "application/vnd.google.colaboratory.intrinsic+json": {
              "type": "dataframe",
              "variable_name": "results_rf_av",
              "summary": "{\n  \"name\": \"results_rf_av\",\n  \"rows\": 2,\n  \"fields\": [\n    {\n      \"column\": \"\\u041f\\u0430\\u0440\\u0430\\u043c\\u0435\\u0442\\u0440\\u044b\",\n      \"properties\": {\n        \"dtype\": \"string\",\n        \"num_unique_values\": 2,\n        \"samples\": [\n          \"\\u0422\\u043e\\u0447\\u043d\\u043e\\u0441\\u0442\\u044c \\u043d\\u0430 \\u0442\\u0435\\u0441\\u0442\\u043e\\u0432\\u043e\\u0439 \\u0432\\u044b\\u0431\\u043e\\u0440\\u043a\\u0435\",\n          \"\\u041a\\u0440\\u043e\\u0441\\u0441-\\u0432\\u0430\\u043b\\u0438\\u0434\\u0430\\u0446\\u0438\\u043e\\u043d\\u043d\\u0430\\u044f \\u0442\\u043e\\u0447\\u043d\\u043e\\u0441\\u0442\\u044c \\u043d\\u0430 \\u043e\\u0431\\u0443\\u0447\\u0430\\u044e\\u0449\\u0435\\u0439 \\u0432\\u044b\\u0431\\u043e\\u0440\\u043a\\u0435\"\n        ],\n        \"semantic_type\": \"\",\n        \"description\": \"\"\n      }\n    },\n    {\n      \"column\": \"\\u0421\\u0442\\u0430\\u043d\\u0434\\u0430\\u0440\\u0442\\u043d\\u044b\\u0439 \\u043a\\u0440\\u0438\\u0442\\u0435\\u0440\\u0438\\u0439\",\n      \"properties\": {\n        \"dtype\": \"number\",\n        \"std\": 0.00015909902576699493,\n        \"min\": 0.8219,\n        \"max\": 0.822125,\n        \"num_unique_values\": 2,\n        \"samples\": [\n          0.8219,\n          0.822125\n        ],\n        \"semantic_type\": \"\",\n        \"description\": \"\"\n      }\n    },\n    {\n      \"column\": \"\\u0421\\u0432\\u043e\\u0439 \\u043a\\u0440\\u0438\\u0442\\u0435\\u0440\\u0438\\u0439\",\n      \"properties\": {\n        \"dtype\": \"number\",\n        \"std\": 0.00025632620818007563,\n        \"min\": 0.8151,\n        \"max\": 0.8154625,\n        \"num_unique_values\": 2,\n        \"samples\": [\n          0.8151,\n          0.8154625\n        ],\n        \"semantic_type\": \"\",\n        \"description\": \"\"\n      }\n    }\n  ]\n}"
            }
          },
          "metadata": {},
          "execution_count": 58
        }
      ]
    },
    {
      "cell_type": "markdown",
      "source": [
        "**Градиентный бустинг**"
      ],
      "metadata": {
        "id": "K9WJPkqa6O08"
      }
    },
    {
      "cell_type": "code",
      "source": [
        "# Перебираемые значения гиперпараметров\n",
        "hyperparameters = {'n_estimators': [100, 200], 'max_depth': [3, 5, 7],\n",
        "                   'max_features': ['sqrt', 'log2', None], 'random_state': [22]}\n",
        "\n",
        "# Перебор гиперпараметров с помощью кросс-валидации\n",
        "CV_gb_av = GridSearchCV(estimator = gb_model,\n",
        "                        param_grid = hyperparameters,\n",
        "                        scoring = average_score,\n",
        "                        cv = 5)\n",
        "CV_gb_av.fit(X_train_sc, y_train)\n",
        "best_gb_av = CV_gb_av.best_params_\n",
        "print(best_gb_av)"
      ],
      "metadata": {
        "outputId": "31cbb344-ca6b-42fc-c47d-2475b887bbdc",
        "colab": {
          "base_uri": "https://localhost:8080/"
        },
        "id": "pKQHATvaNokt"
      },
      "execution_count": null,
      "outputs": [
        {
          "output_type": "stream",
          "name": "stdout",
          "text": [
            "{'max_depth': 3, 'max_features': 'sqrt', 'n_estimators': 100, 'random_state': 22}\n"
          ]
        }
      ]
    },
    {
      "cell_type": "code",
      "source": [
        "# Градиентный бустинг с подобранными гиперпараметрами\n",
        "best_gb_av = GradientBoostingClassifier(max_depth = 3, max_features = 'sqrt', n_estimators = 100, random_state = 22)\n",
        "best_gb_av.fit(X_train_sc, y_train)\n",
        "# Оценим точность\n",
        "ACC_gb_test_av  = best_gb_av.score(X_test_sc, y_test)    # тестовая выборка\n",
        "# Оценка точности с помощью кросс-валидации на обучающей выборке\n",
        "gb_score_av = cross_val_score(best_gb_av, X_train_sc, y_train, cv = 5, scoring = 'accuracy').mean()\n",
        "results_gb_av = pd.DataFrame({\n",
        "    'Параметры': ['Кросс-валидационная точность на обучающей выборке', 'Точность на тестовой выборке'],\n",
        "    'Стандартный критерий':  [gb_score_new, ACC_gb_test_new],\n",
        "    'Свой критерий': [gb_score_av, ACC_gb_test_av]\n",
        "})\n",
        "results_gb_av"
      ],
      "metadata": {
        "colab": {
          "base_uri": "https://localhost:8080/",
          "height": 112
        },
        "outputId": "4ecc4850-32fc-42fb-cc7f-1e27ff7f1cd4",
        "id": "UYAmSzD9Nrv3"
      },
      "execution_count": null,
      "outputs": [
        {
          "output_type": "execute_result",
          "data": {
            "text/plain": [
              "                                           Параметры  Стандартный критерий  \\\n",
              "0  Кросс-валидационная точность на обучающей выборке                0.8221   \n",
              "1                       Точность на тестовой выборке                0.8199   \n",
              "\n",
              "   Свой критерий  \n",
              "0        0.82125  \n",
              "1        0.82060  "
            ],
            "text/html": [
              "\n",
              "  <div id=\"df-9e2de680-7f35-4d16-b972-2dfd126f9742\" class=\"colab-df-container\">\n",
              "    <div>\n",
              "<style scoped>\n",
              "    .dataframe tbody tr th:only-of-type {\n",
              "        vertical-align: middle;\n",
              "    }\n",
              "\n",
              "    .dataframe tbody tr th {\n",
              "        vertical-align: top;\n",
              "    }\n",
              "\n",
              "    .dataframe thead th {\n",
              "        text-align: right;\n",
              "    }\n",
              "</style>\n",
              "<table border=\"1\" class=\"dataframe\">\n",
              "  <thead>\n",
              "    <tr style=\"text-align: right;\">\n",
              "      <th></th>\n",
              "      <th>Параметры</th>\n",
              "      <th>Стандартный критерий</th>\n",
              "      <th>Свой критерий</th>\n",
              "    </tr>\n",
              "  </thead>\n",
              "  <tbody>\n",
              "    <tr>\n",
              "      <th>0</th>\n",
              "      <td>Кросс-валидационная точность на обучающей выборке</td>\n",
              "      <td>0.8221</td>\n",
              "      <td>0.82125</td>\n",
              "    </tr>\n",
              "    <tr>\n",
              "      <th>1</th>\n",
              "      <td>Точность на тестовой выборке</td>\n",
              "      <td>0.8199</td>\n",
              "      <td>0.82060</td>\n",
              "    </tr>\n",
              "  </tbody>\n",
              "</table>\n",
              "</div>\n",
              "    <div class=\"colab-df-buttons\">\n",
              "\n",
              "  <div class=\"colab-df-container\">\n",
              "    <button class=\"colab-df-convert\" onclick=\"convertToInteractive('df-9e2de680-7f35-4d16-b972-2dfd126f9742')\"\n",
              "            title=\"Convert this dataframe to an interactive table.\"\n",
              "            style=\"display:none;\">\n",
              "\n",
              "  <svg xmlns=\"http://www.w3.org/2000/svg\" height=\"24px\" viewBox=\"0 -960 960 960\">\n",
              "    <path d=\"M120-120v-720h720v720H120Zm60-500h600v-160H180v160Zm220 220h160v-160H400v160Zm0 220h160v-160H400v160ZM180-400h160v-160H180v160Zm440 0h160v-160H620v160ZM180-180h160v-160H180v160Zm440 0h160v-160H620v160Z\"/>\n",
              "  </svg>\n",
              "    </button>\n",
              "\n",
              "  <style>\n",
              "    .colab-df-container {\n",
              "      display:flex;\n",
              "      gap: 12px;\n",
              "    }\n",
              "\n",
              "    .colab-df-convert {\n",
              "      background-color: #E8F0FE;\n",
              "      border: none;\n",
              "      border-radius: 50%;\n",
              "      cursor: pointer;\n",
              "      display: none;\n",
              "      fill: #1967D2;\n",
              "      height: 32px;\n",
              "      padding: 0 0 0 0;\n",
              "      width: 32px;\n",
              "    }\n",
              "\n",
              "    .colab-df-convert:hover {\n",
              "      background-color: #E2EBFA;\n",
              "      box-shadow: 0px 1px 2px rgba(60, 64, 67, 0.3), 0px 1px 3px 1px rgba(60, 64, 67, 0.15);\n",
              "      fill: #174EA6;\n",
              "    }\n",
              "\n",
              "    .colab-df-buttons div {\n",
              "      margin-bottom: 4px;\n",
              "    }\n",
              "\n",
              "    [theme=dark] .colab-df-convert {\n",
              "      background-color: #3B4455;\n",
              "      fill: #D2E3FC;\n",
              "    }\n",
              "\n",
              "    [theme=dark] .colab-df-convert:hover {\n",
              "      background-color: #434B5C;\n",
              "      box-shadow: 0px 1px 3px 1px rgba(0, 0, 0, 0.15);\n",
              "      filter: drop-shadow(0px 1px 2px rgba(0, 0, 0, 0.3));\n",
              "      fill: #FFFFFF;\n",
              "    }\n",
              "  </style>\n",
              "\n",
              "    <script>\n",
              "      const buttonEl =\n",
              "        document.querySelector('#df-9e2de680-7f35-4d16-b972-2dfd126f9742 button.colab-df-convert');\n",
              "      buttonEl.style.display =\n",
              "        google.colab.kernel.accessAllowed ? 'block' : 'none';\n",
              "\n",
              "      async function convertToInteractive(key) {\n",
              "        const element = document.querySelector('#df-9e2de680-7f35-4d16-b972-2dfd126f9742');\n",
              "        const dataTable =\n",
              "          await google.colab.kernel.invokeFunction('convertToInteractive',\n",
              "                                                    [key], {});\n",
              "        if (!dataTable) return;\n",
              "\n",
              "        const docLinkHtml = 'Like what you see? Visit the ' +\n",
              "          '<a target=\"_blank\" href=https://colab.research.google.com/notebooks/data_table.ipynb>data table notebook</a>'\n",
              "          + ' to learn more about interactive tables.';\n",
              "        element.innerHTML = '';\n",
              "        dataTable['output_type'] = 'display_data';\n",
              "        await google.colab.output.renderOutput(dataTable, element);\n",
              "        const docLink = document.createElement('div');\n",
              "        docLink.innerHTML = docLinkHtml;\n",
              "        element.appendChild(docLink);\n",
              "      }\n",
              "    </script>\n",
              "  </div>\n",
              "\n",
              "\n",
              "<div id=\"df-f98cdea4-e79e-4baa-8f11-dbcaa696c204\">\n",
              "  <button class=\"colab-df-quickchart\" onclick=\"quickchart('df-f98cdea4-e79e-4baa-8f11-dbcaa696c204')\"\n",
              "            title=\"Suggest charts\"\n",
              "            style=\"display:none;\">\n",
              "\n",
              "<svg xmlns=\"http://www.w3.org/2000/svg\" height=\"24px\"viewBox=\"0 0 24 24\"\n",
              "     width=\"24px\">\n",
              "    <g>\n",
              "        <path d=\"M19 3H5c-1.1 0-2 .9-2 2v14c0 1.1.9 2 2 2h14c1.1 0 2-.9 2-2V5c0-1.1-.9-2-2-2zM9 17H7v-7h2v7zm4 0h-2V7h2v10zm4 0h-2v-4h2v4z\"/>\n",
              "    </g>\n",
              "</svg>\n",
              "  </button>\n",
              "\n",
              "<style>\n",
              "  .colab-df-quickchart {\n",
              "      --bg-color: #E8F0FE;\n",
              "      --fill-color: #1967D2;\n",
              "      --hover-bg-color: #E2EBFA;\n",
              "      --hover-fill-color: #174EA6;\n",
              "      --disabled-fill-color: #AAA;\n",
              "      --disabled-bg-color: #DDD;\n",
              "  }\n",
              "\n",
              "  [theme=dark] .colab-df-quickchart {\n",
              "      --bg-color: #3B4455;\n",
              "      --fill-color: #D2E3FC;\n",
              "      --hover-bg-color: #434B5C;\n",
              "      --hover-fill-color: #FFFFFF;\n",
              "      --disabled-bg-color: #3B4455;\n",
              "      --disabled-fill-color: #666;\n",
              "  }\n",
              "\n",
              "  .colab-df-quickchart {\n",
              "    background-color: var(--bg-color);\n",
              "    border: none;\n",
              "    border-radius: 50%;\n",
              "    cursor: pointer;\n",
              "    display: none;\n",
              "    fill: var(--fill-color);\n",
              "    height: 32px;\n",
              "    padding: 0;\n",
              "    width: 32px;\n",
              "  }\n",
              "\n",
              "  .colab-df-quickchart:hover {\n",
              "    background-color: var(--hover-bg-color);\n",
              "    box-shadow: 0 1px 2px rgba(60, 64, 67, 0.3), 0 1px 3px 1px rgba(60, 64, 67, 0.15);\n",
              "    fill: var(--button-hover-fill-color);\n",
              "  }\n",
              "\n",
              "  .colab-df-quickchart-complete:disabled,\n",
              "  .colab-df-quickchart-complete:disabled:hover {\n",
              "    background-color: var(--disabled-bg-color);\n",
              "    fill: var(--disabled-fill-color);\n",
              "    box-shadow: none;\n",
              "  }\n",
              "\n",
              "  .colab-df-spinner {\n",
              "    border: 2px solid var(--fill-color);\n",
              "    border-color: transparent;\n",
              "    border-bottom-color: var(--fill-color);\n",
              "    animation:\n",
              "      spin 1s steps(1) infinite;\n",
              "  }\n",
              "\n",
              "  @keyframes spin {\n",
              "    0% {\n",
              "      border-color: transparent;\n",
              "      border-bottom-color: var(--fill-color);\n",
              "      border-left-color: var(--fill-color);\n",
              "    }\n",
              "    20% {\n",
              "      border-color: transparent;\n",
              "      border-left-color: var(--fill-color);\n",
              "      border-top-color: var(--fill-color);\n",
              "    }\n",
              "    30% {\n",
              "      border-color: transparent;\n",
              "      border-left-color: var(--fill-color);\n",
              "      border-top-color: var(--fill-color);\n",
              "      border-right-color: var(--fill-color);\n",
              "    }\n",
              "    40% {\n",
              "      border-color: transparent;\n",
              "      border-right-color: var(--fill-color);\n",
              "      border-top-color: var(--fill-color);\n",
              "    }\n",
              "    60% {\n",
              "      border-color: transparent;\n",
              "      border-right-color: var(--fill-color);\n",
              "    }\n",
              "    80% {\n",
              "      border-color: transparent;\n",
              "      border-right-color: var(--fill-color);\n",
              "      border-bottom-color: var(--fill-color);\n",
              "    }\n",
              "    90% {\n",
              "      border-color: transparent;\n",
              "      border-bottom-color: var(--fill-color);\n",
              "    }\n",
              "  }\n",
              "</style>\n",
              "\n",
              "  <script>\n",
              "    async function quickchart(key) {\n",
              "      const quickchartButtonEl =\n",
              "        document.querySelector('#' + key + ' button');\n",
              "      quickchartButtonEl.disabled = true;  // To prevent multiple clicks.\n",
              "      quickchartButtonEl.classList.add('colab-df-spinner');\n",
              "      try {\n",
              "        const charts = await google.colab.kernel.invokeFunction(\n",
              "            'suggestCharts', [key], {});\n",
              "      } catch (error) {\n",
              "        console.error('Error during call to suggestCharts:', error);\n",
              "      }\n",
              "      quickchartButtonEl.classList.remove('colab-df-spinner');\n",
              "      quickchartButtonEl.classList.add('colab-df-quickchart-complete');\n",
              "    }\n",
              "    (() => {\n",
              "      let quickchartButtonEl =\n",
              "        document.querySelector('#df-f98cdea4-e79e-4baa-8f11-dbcaa696c204 button');\n",
              "      quickchartButtonEl.style.display =\n",
              "        google.colab.kernel.accessAllowed ? 'block' : 'none';\n",
              "    })();\n",
              "  </script>\n",
              "</div>\n",
              "    </div>\n",
              "  </div>\n"
            ],
            "application/vnd.google.colaboratory.intrinsic+json": {
              "type": "dataframe",
              "variable_name": "results_gb_av",
              "summary": "{\n  \"name\": \"results_gb_av\",\n  \"rows\": 2,\n  \"fields\": [\n    {\n      \"column\": \"\\u041f\\u0430\\u0440\\u0430\\u043c\\u0435\\u0442\\u0440\\u044b\",\n      \"properties\": {\n        \"dtype\": \"string\",\n        \"num_unique_values\": 2,\n        \"samples\": [\n          \"\\u0422\\u043e\\u0447\\u043d\\u043e\\u0441\\u0442\\u044c \\u043d\\u0430 \\u0442\\u0435\\u0441\\u0442\\u043e\\u0432\\u043e\\u0439 \\u0432\\u044b\\u0431\\u043e\\u0440\\u043a\\u0435\",\n          \"\\u041a\\u0440\\u043e\\u0441\\u0441-\\u0432\\u0430\\u043b\\u0438\\u0434\\u0430\\u0446\\u0438\\u043e\\u043d\\u043d\\u0430\\u044f \\u0442\\u043e\\u0447\\u043d\\u043e\\u0441\\u0442\\u044c \\u043d\\u0430 \\u043e\\u0431\\u0443\\u0447\\u0430\\u044e\\u0449\\u0435\\u0439 \\u0432\\u044b\\u0431\\u043e\\u0440\\u043a\\u0435\"\n        ],\n        \"semantic_type\": \"\",\n        \"description\": \"\"\n      }\n    },\n    {\n      \"column\": \"\\u0421\\u0442\\u0430\\u043d\\u0434\\u0430\\u0440\\u0442\\u043d\\u044b\\u0439 \\u043a\\u0440\\u0438\\u0442\\u0435\\u0440\\u0438\\u0439\",\n      \"properties\": {\n        \"dtype\": \"number\",\n        \"std\": 0.0015556349186104687,\n        \"min\": 0.8199,\n        \"max\": 0.8221,\n        \"num_unique_values\": 2,\n        \"samples\": [\n          0.8199,\n          0.8221\n        ],\n        \"semantic_type\": \"\",\n        \"description\": \"\"\n      }\n    },\n    {\n      \"column\": \"\\u0421\\u0432\\u043e\\u0439 \\u043a\\u0440\\u0438\\u0442\\u0435\\u0440\\u0438\\u0439\",\n      \"properties\": {\n        \"dtype\": \"number\",\n        \"std\": 0.00045961940777112674,\n        \"min\": 0.8206,\n        \"max\": 0.8212499999999998,\n        \"num_unique_values\": 2,\n        \"samples\": [\n          0.8206,\n          0.8212499999999998\n        ],\n        \"semantic_type\": \"\",\n        \"description\": \"\"\n      }\n    }\n  ]\n}"
            }
          },
          "metadata": {},
          "execution_count": 60
        }
      ]
    },
    {
      "cell_type": "markdown",
      "metadata": {
        "id": "hnAirm0HY5t9"
      },
      "source": [
        "5. Постройте ROC-кривую для ваших моделей и сравните их по AUC на тестовой выборке.\n"
      ]
    },
    {
      "cell_type": "markdown",
      "metadata": {
        "id": "xUQua__0Y5t9"
      },
      "source": [
        "**Метод ближайших соседей**"
      ]
    },
    {
      "cell_type": "code",
      "execution_count": null,
      "metadata": {
        "outputId": "f552aa4f-70f9-4873-c2ae-c7ea6cf73092",
        "colab": {
          "base_uri": "https://localhost:8080/"
        },
        "id": "L7TY3sfDNvzN"
      },
      "outputs": [
        {
          "output_type": "stream",
          "name": "stdout",
          "text": [
            "ROC_AUC =  0.9046182082315986\n"
          ]
        }
      ],
      "source": [
        "# Получим предсказания вероятностей первого класса\n",
        "proba_knn = best_knn_model.predict_proba(X_test_sc)[:, -1]\n",
        "# Посчитаем ROC AUC\n",
        "auc_knn = roc_auc_score(y_test, proba_knn)\n",
        "print('ROC_AUC = ', auc_knn)"
      ]
    },
    {
      "cell_type": "code",
      "execution_count": null,
      "metadata": {
        "outputId": "96e0e314-471b-4791-fe5d-26ec0050fca7",
        "colab": {
          "base_uri": "https://localhost:8080/",
          "height": 641
        },
        "id": "0ghgga6uNzdQ"
      },
      "outputs": [
        {
          "output_type": "display_data",
          "data": {
            "text/plain": [
              "<Figure size 700x700 with 1 Axes>"
            ],
            "image/png": "[encoded data removed]"
          },
          "metadata": {}
        }
      ],
      "source": [
        "# Построим ROC-кривую\n",
        "fpr_knn, tpr_knn, thresholds_knn = roc_curve(y_test, proba_knn)\n",
        "\n",
        "plt.figure(figsize = (7, 7))\n",
        "plt.plot(fpr_knn, tpr_knn, label = 'Test ROC-AUC {0}'.format(auc_knn))\n",
        "plt.plot([0, 1], [0, 1], '--', color = (0.6, 0.6, 0.6))\n",
        "plt.xlim([0, 1])\n",
        "plt.ylim([0, 1])\n",
        "plt.title('ROC-curve for KNN model')\n",
        "plt.xlabel('False Positive Rate')\n",
        "plt.ylabel('True Positive Rate')\n",
        "plt.legend(loc = 'lower right');"
      ]
    },
    {
      "cell_type": "markdown",
      "metadata": {
        "id": "XuEk3XEuY5t9"
      },
      "source": [
        "**Случайный лес**"
      ]
    },
    {
      "cell_type": "code",
      "execution_count": null,
      "metadata": {
        "outputId": "f03661eb-ae69-4744-d99b-4e2a429f4822",
        "colab": {
          "base_uri": "https://localhost:8080/"
        },
        "id": "W6NpwXvEN3R6"
      },
      "outputs": [
        {
          "output_type": "stream",
          "name": "stdout",
          "text": [
            "ROC_AUC =  0.9184000958595068\n"
          ]
        }
      ],
      "source": [
        "# Получим предсказания вероятностей первого класса\n",
        "proba_rf = best_rf_model.predict_proba(X_test_sc)[:, -1]\n",
        "# Посчитаем ROC AUC\n",
        "auc_rf = roc_auc_score(y_test, proba_rf)\n",
        "print('ROC_AUC = ', auc_rf)"
      ]
    },
    {
      "cell_type": "code",
      "execution_count": null,
      "metadata": {
        "outputId": "33290acc-a435-486e-d6ed-e5c2aa01ddd5",
        "colab": {
          "base_uri": "https://localhost:8080/",
          "height": 641
        },
        "id": "ncR9BHLmOQb1"
      },
      "outputs": [
        {
          "output_type": "display_data",
          "data": {
            "text/plain": [
              "<Figure size 700x700 with 1 Axes>"
            ],
            "image/png": "[encoded data removed]"
          },
          "metadata": {}
        }
      ],
      "source": [
        "# Построим ROC-кривую\n",
        "fpr_rf, tpr_rf, thresholds_rf = roc_curve(y_test, proba_rf)\n",
        "\n",
        "plt.figure(figsize = (7, 7))\n",
        "plt.plot(fpr_rf, tpr_rf, label = 'Test ROC-AUC {0}'.format(auc_rf))\n",
        "plt.plot([0, 1], [0, 1], '--', color = (0.6, 0.6, 0.6))\n",
        "plt.xlim([0, 1])\n",
        "plt.ylim([0, 1])\n",
        "plt.title('ROC-curve for Random Forest model')\n",
        "plt.xlabel('False Positive Rate')\n",
        "plt.ylabel('True Positive Rate')\n",
        "plt.legend(loc = 'lower right');"
      ]
    },
    {
      "cell_type": "markdown",
      "metadata": {
        "id": "GTa44VeTY5t-"
      },
      "source": [
        "**Градиентный бустинг**"
      ]
    },
    {
      "cell_type": "code",
      "execution_count": null,
      "metadata": {
        "outputId": "2d8b83c2-55b8-4575-92f2-c79629a49b57",
        "colab": {
          "base_uri": "https://localhost:8080/"
        },
        "id": "GWZy-a2ZOUhi"
      },
      "outputs": [
        {
          "output_type": "stream",
          "name": "stdout",
          "text": [
            "ROC_AUC =  0.9179611822088819\n"
          ]
        }
      ],
      "source": [
        "# Получим предсказания вероятностей первого класса\n",
        "proba_gb = best_gb_model.predict_proba(X_test_sc)[:, -1]\n",
        "# Посчитаем ROC AUC\n",
        "auc_gb = roc_auc_score(y_test, proba_gb)\n",
        "print('ROC_AUC = ', auc_gb)"
      ]
    },
    {
      "cell_type": "code",
      "execution_count": null,
      "metadata": {
        "colab": {
          "base_uri": "https://localhost:8080/",
          "height": 641
        },
        "id": "_ZtItgfYY5t-",
        "outputId": "5010246e-1418-4095-f668-9153b9b667a8"
      },
      "outputs": [
        {
          "output_type": "display_data",
          "data": {
            "text/plain": [
              "<Figure size 700x700 with 1 Axes>"
            ],
            "image/png": "[encoded data removed]"
          },
          "metadata": {}
        }
      ],
      "source": [
        "# Построим ROC-кривую\n",
        "fpr_gb, tpr_gb, thresholds_gb = roc_curve(y_test, proba_gb)\n",
        "\n",
        "plt.figure(figsize = (7, 7))\n",
        "plt.plot(fpr_gb, tpr_gb, label = 'Test ROC-AUC {0}'.format(auc_gb))\n",
        "plt.plot([0, 1], [0, 1], '--', color = (0.6, 0.6, 0.6))\n",
        "plt.xlim([0, 1])\n",
        "plt.ylim([0, 1])\n",
        "plt.title('ROC-curve for Gradient Boosting model')\n",
        "plt.xlabel('False Positive Rate')\n",
        "plt.ylabel('True Positive Rate')\n",
        "plt.legend(loc = 'lower right');"
      ]
    },
    {
      "cell_type": "markdown",
      "source": [
        "Повышенная сложность: дополнительно выполните это задание для Байесовской сети."
      ],
      "metadata": {
        "id": "9HSjh_Yvg7Mt"
      }
    },
    {
      "cell_type": "code",
      "source": [
        "# train_data = X_train.copy()\n",
        "# train_data[\"Last_Ticket\"] = y_train\n",
        "# test_data = X_test.copy()\n",
        "# test_data[\"Last_Ticket\"] = y_test\n",
        "# # Создадим DAG\n",
        "# edges = [(\"Days_Before\", \"Last_Ticket\"),\n",
        "#          (\"Distance\", \"Last_Ticket\"),\n",
        "#          (\"Connection\", \"Last_Ticket\"),\n",
        "#          (\"Hours\", \"Last_Ticket\"),\n",
        "#          (\"Distance\", \"Hours\")]\n",
        "# DAG = bnlearn.make_DAG(edges)\n",
        "# # Оценим факторы\n",
        "# bn = bnlearn.parameter_learning.fit(DAG, train_data, methodtype = 'ml')\n",
        "# np.random.seed(22)\n",
        "# bn_prob = bnlearn.predict(bn, df = X_test, variables = ['Last_Ticket'], verbose = 0)['p']\n",
        "# bn_fpr, bn_tpr, bn_thresholds = roc_curve(y_test, bn_prob)\n",
        "# bn_auc = roc_auc_score(y_test, bn_prob)\n",
        "# print('ROC_AUC = ', bn_auc)"
      ],
      "metadata": {
        "id": "1aSHrO59g6xf"
      },
      "execution_count": null,
      "outputs": []
    },
    {
      "cell_type": "code",
      "source": [
        "# # Построим ROC-кривую для Байесовской сети\n",
        "# plt.figure(figsize = (7, 7))\n",
        "# plt.plot(fpr_bn, tpr_bn, label = 'Test ROC-AUC {0}'.format(bn_auc))\n",
        "# plt.plot([0, 1], [0, 1], '--', color = (0.6, 0.6, 0.6))\n",
        "# plt.xlim([0, 1])\n",
        "# plt.ylim([0, 1])\n",
        "# plt.title('ROC-curve for Bayesian Network model')\n",
        "# plt.xlabel('False Positive Rate')\n",
        "# plt.ylabel('True Positive Rate')\n",
        "# plt.legend(loc = 'lower right');"
      ],
      "metadata": {
        "id": "8is6mhVAg6jD"
      },
      "execution_count": null,
      "outputs": []
    },
    {
      "cell_type": "markdown",
      "metadata": {
        "id": "gpW-Hy4ZY5t-"
      },
      "source": [
        "6. Постройте матрицу путаницы и предположите цены различных видов прогнозов. Исходя из критерия максимизации прибыли на обучающей выборке подберите оптимальный порог прогнозирования для каждого из методов и сравните прибыли на тестовой выборке при соответствующих порогах. Результат представьте в форме таблицы, в которой должны быть указаны как AUC, так и прибыли (на тестовой выборке). Проинтерпретируйте полученный результат."
      ]
    },
    {
      "cell_type": "code",
      "execution_count": null,
      "metadata": {
        "id": "dsAKc_g6Y5t-"
      },
      "outputs": [],
      "source": [
        "# Для удобства создадим функцию,\n",
        "# подсчитывающую прибыли при различных порогах\n",
        "def profits_thresholds(model, features, target,\n",
        "                       thresholds, prices):\n",
        "  prob = model.predict_proba(features)[:, 1]    # вероятности\n",
        "  n_threshold = thresholds.size                 # число порогов\n",
        "  profits = np.zeros(n_threshold)               # прибыли при разных порогах\n",
        "  # для каждого возможного порога рассчитываем прибыль\n",
        "  for i in range(0, n_threshold):\n",
        "    # получаем прогнозы при соответствующем пороге\n",
        "    prediction_i = (prob >= thresholds[i]).astype(int)\n",
        "    # считаем количество прогнозов различного вида\n",
        "    TN, FP, FN, TP = confusion_matrix(target, prediction_i).ravel()\n",
        "    # аггрегируем результаты прогнозов\n",
        "    predictions_i = pd.Series([TP, TN, FP, FN],\n",
        "                              index = [\"TP\", \"TN\", \"FP\", \"FN\"])\n",
        "    # считаем прибыль\n",
        "    profits[i] = np.sum(prices * predictions_i)\n",
        "  # Возвращаем результат\n",
        "  return(profits)"
      ]
    },
    {
      "cell_type": "code",
      "execution_count": null,
      "metadata": {
        "colab": {
          "base_uri": "https://localhost:8080/",
          "height": 143
        },
        "id": "93-bi8GeY5t_",
        "outputId": "a3320d39-0e7e-458a-e312-bf055cd8238c"
      },
      "outputs": [
        {
          "output_type": "execute_result",
          "data": {
            "text/plain": [
              "                 Model  AUC (Test)  Optimal Threshold  Profit (Test)\n",
              "0  K-Nearest Neighbors    0.904618           0.000000      1041300.0\n",
              "1        Random Forest    0.918400           0.000000      1041300.0\n",
              "2    Gradient Boosting    0.917961           0.000632      1041300.0"
            ],
            "text/html": [
              "\n",
              "  <div id=\"df-8ed18a92-6df7-4de9-b150-ec3848064f44\" class=\"colab-df-container\">\n",
              "    <div>\n",
              "<style scoped>\n",
              "    .dataframe tbody tr th:only-of-type {\n",
              "        vertical-align: middle;\n",
              "    }\n",
              "\n",
              "    .dataframe tbody tr th {\n",
              "        vertical-align: top;\n",
              "    }\n",
              "\n",
              "    .dataframe thead th {\n",
              "        text-align: right;\n",
              "    }\n",
              "</style>\n",
              "<table border=\"1\" class=\"dataframe\">\n",
              "  <thead>\n",
              "    <tr style=\"text-align: right;\">\n",
              "      <th></th>\n",
              "      <th>Model</th>\n",
              "      <th>AUC (Test)</th>\n",
              "      <th>Optimal Threshold</th>\n",
              "      <th>Profit (Test)</th>\n",
              "    </tr>\n",
              "  </thead>\n",
              "  <tbody>\n",
              "    <tr>\n",
              "      <th>0</th>\n",
              "      <td>K-Nearest Neighbors</td>\n",
              "      <td>0.904618</td>\n",
              "      <td>0.000000</td>\n",
              "      <td>1041300.0</td>\n",
              "    </tr>\n",
              "    <tr>\n",
              "      <th>1</th>\n",
              "      <td>Random Forest</td>\n",
              "      <td>0.918400</td>\n",
              "      <td>0.000000</td>\n",
              "      <td>1041300.0</td>\n",
              "    </tr>\n",
              "    <tr>\n",
              "      <th>2</th>\n",
              "      <td>Gradient Boosting</td>\n",
              "      <td>0.917961</td>\n",
              "      <td>0.000632</td>\n",
              "      <td>1041300.0</td>\n",
              "    </tr>\n",
              "  </tbody>\n",
              "</table>\n",
              "</div>\n",
              "    <div class=\"colab-df-buttons\">\n",
              "\n",
              "  <div class=\"colab-df-container\">\n",
              "    <button class=\"colab-df-convert\" onclick=\"convertToInteractive('df-8ed18a92-6df7-4de9-b150-ec3848064f44')\"\n",
              "            title=\"Convert this dataframe to an interactive table.\"\n",
              "            style=\"display:none;\">\n",
              "\n",
              "  <svg xmlns=\"http://www.w3.org/2000/svg\" height=\"24px\" viewBox=\"0 -960 960 960\">\n",
              "    <path d=\"M120-120v-720h720v720H120Zm60-500h600v-160H180v160Zm220 220h160v-160H400v160Zm0 220h160v-160H400v160ZM180-400h160v-160H180v160Zm440 0h160v-160H620v160ZM180-180h160v-160H180v160Zm440 0h160v-160H620v160Z\"/>\n",
              "  </svg>\n",
              "    </button>\n",
              "\n",
              "  <style>\n",
              "    .colab-df-container {\n",
              "      display:flex;\n",
              "      gap: 12px;\n",
              "    }\n",
              "\n",
              "    .colab-df-convert {\n",
              "      background-color: #E8F0FE;\n",
              "      border: none;\n",
              "      border-radius: 50%;\n",
              "      cursor: pointer;\n",
              "      display: none;\n",
              "      fill: #1967D2;\n",
              "      height: 32px;\n",
              "      padding: 0 0 0 0;\n",
              "      width: 32px;\n",
              "    }\n",
              "\n",
              "    .colab-df-convert:hover {\n",
              "      background-color: #E2EBFA;\n",
              "      box-shadow: 0px 1px 2px rgba(60, 64, 67, 0.3), 0px 1px 3px 1px rgba(60, 64, 67, 0.15);\n",
              "      fill: #174EA6;\n",
              "    }\n",
              "\n",
              "    .colab-df-buttons div {\n",
              "      margin-bottom: 4px;\n",
              "    }\n",
              "\n",
              "    [theme=dark] .colab-df-convert {\n",
              "      background-color: #3B4455;\n",
              "      fill: #D2E3FC;\n",
              "    }\n",
              "\n",
              "    [theme=dark] .colab-df-convert:hover {\n",
              "      background-color: #434B5C;\n",
              "      box-shadow: 0px 1px 3px 1px rgba(0, 0, 0, 0.15);\n",
              "      filter: drop-shadow(0px 1px 2px rgba(0, 0, 0, 0.3));\n",
              "      fill: #FFFFFF;\n",
              "    }\n",
              "  </style>\n",
              "\n",
              "    <script>\n",
              "      const buttonEl =\n",
              "        document.querySelector('#df-8ed18a92-6df7-4de9-b150-ec3848064f44 button.colab-df-convert');\n",
              "      buttonEl.style.display =\n",
              "        google.colab.kernel.accessAllowed ? 'block' : 'none';\n",
              "\n",
              "      async function convertToInteractive(key) {\n",
              "        const element = document.querySelector('#df-8ed18a92-6df7-4de9-b150-ec3848064f44');\n",
              "        const dataTable =\n",
              "          await google.colab.kernel.invokeFunction('convertToInteractive',\n",
              "                                                    [key], {});\n",
              "        if (!dataTable) return;\n",
              "\n",
              "        const docLinkHtml = 'Like what you see? Visit the ' +\n",
              "          '<a target=\"_blank\" href=https://colab.research.google.com/notebooks/data_table.ipynb>data table notebook</a>'\n",
              "          + ' to learn more about interactive tables.';\n",
              "        element.innerHTML = '';\n",
              "        dataTable['output_type'] = 'display_data';\n",
              "        await google.colab.output.renderOutput(dataTable, element);\n",
              "        const docLink = document.createElement('div');\n",
              "        docLink.innerHTML = docLinkHtml;\n",
              "        element.appendChild(docLink);\n",
              "      }\n",
              "    </script>\n",
              "  </div>\n",
              "\n",
              "\n",
              "<div id=\"df-bd5723c6-0760-4261-901b-6efcdb5fca2a\">\n",
              "  <button class=\"colab-df-quickchart\" onclick=\"quickchart('df-bd5723c6-0760-4261-901b-6efcdb5fca2a')\"\n",
              "            title=\"Suggest charts\"\n",
              "            style=\"display:none;\">\n",
              "\n",
              "<svg xmlns=\"http://www.w3.org/2000/svg\" height=\"24px\"viewBox=\"0 0 24 24\"\n",
              "     width=\"24px\">\n",
              "    <g>\n",
              "        <path d=\"M19 3H5c-1.1 0-2 .9-2 2v14c0 1.1.9 2 2 2h14c1.1 0 2-.9 2-2V5c0-1.1-.9-2-2-2zM9 17H7v-7h2v7zm4 0h-2V7h2v10zm4 0h-2v-4h2v4z\"/>\n",
              "    </g>\n",
              "</svg>\n",
              "  </button>\n",
              "\n",
              "<style>\n",
              "  .colab-df-quickchart {\n",
              "      --bg-color: #E8F0FE;\n",
              "      --fill-color: #1967D2;\n",
              "      --hover-bg-color: #E2EBFA;\n",
              "      --hover-fill-color: #174EA6;\n",
              "      --disabled-fill-color: #AAA;\n",
              "      --disabled-bg-color: #DDD;\n",
              "  }\n",
              "\n",
              "  [theme=dark] .colab-df-quickchart {\n",
              "      --bg-color: #3B4455;\n",
              "      --fill-color: #D2E3FC;\n",
              "      --hover-bg-color: #434B5C;\n",
              "      --hover-fill-color: #FFFFFF;\n",
              "      --disabled-bg-color: #3B4455;\n",
              "      --disabled-fill-color: #666;\n",
              "  }\n",
              "\n",
              "  .colab-df-quickchart {\n",
              "    background-color: var(--bg-color);\n",
              "    border: none;\n",
              "    border-radius: 50%;\n",
              "    cursor: pointer;\n",
              "    display: none;\n",
              "    fill: var(--fill-color);\n",
              "    height: 32px;\n",
              "    padding: 0;\n",
              "    width: 32px;\n",
              "  }\n",
              "\n",
              "  .colab-df-quickchart:hover {\n",
              "    background-color: var(--hover-bg-color);\n",
              "    box-shadow: 0 1px 2px rgba(60, 64, 67, 0.3), 0 1px 3px 1px rgba(60, 64, 67, 0.15);\n",
              "    fill: var(--button-hover-fill-color);\n",
              "  }\n",
              "\n",
              "  .colab-df-quickchart-complete:disabled,\n",
              "  .colab-df-quickchart-complete:disabled:hover {\n",
              "    background-color: var(--disabled-bg-color);\n",
              "    fill: var(--disabled-fill-color);\n",
              "    box-shadow: none;\n",
              "  }\n",
              "\n",
              "  .colab-df-spinner {\n",
              "    border: 2px solid var(--fill-color);\n",
              "    border-color: transparent;\n",
              "    border-bottom-color: var(--fill-color);\n",
              "    animation:\n",
              "      spin 1s steps(1) infinite;\n",
              "  }\n",
              "\n",
              "  @keyframes spin {\n",
              "    0% {\n",
              "      border-color: transparent;\n",
              "      border-bottom-color: var(--fill-color);\n",
              "      border-left-color: var(--fill-color);\n",
              "    }\n",
              "    20% {\n",
              "      border-color: transparent;\n",
              "      border-left-color: var(--fill-color);\n",
              "      border-top-color: var(--fill-color);\n",
              "    }\n",
              "    30% {\n",
              "      border-color: transparent;\n",
              "      border-left-color: var(--fill-color);\n",
              "      border-top-color: var(--fill-color);\n",
              "      border-right-color: var(--fill-color);\n",
              "    }\n",
              "    40% {\n",
              "      border-color: transparent;\n",
              "      border-right-color: var(--fill-color);\n",
              "      border-top-color: var(--fill-color);\n",
              "    }\n",
              "    60% {\n",
              "      border-color: transparent;\n",
              "      border-right-color: var(--fill-color);\n",
              "    }\n",
              "    80% {\n",
              "      border-color: transparent;\n",
              "      border-right-color: var(--fill-color);\n",
              "      border-bottom-color: var(--fill-color);\n",
              "    }\n",
              "    90% {\n",
              "      border-color: transparent;\n",
              "      border-bottom-color: var(--fill-color);\n",
              "    }\n",
              "  }\n",
              "</style>\n",
              "\n",
              "  <script>\n",
              "    async function quickchart(key) {\n",
              "      const quickchartButtonEl =\n",
              "        document.querySelector('#' + key + ' button');\n",
              "      quickchartButtonEl.disabled = true;  // To prevent multiple clicks.\n",
              "      quickchartButtonEl.classList.add('colab-df-spinner');\n",
              "      try {\n",
              "        const charts = await google.colab.kernel.invokeFunction(\n",
              "            'suggestCharts', [key], {});\n",
              "      } catch (error) {\n",
              "        console.error('Error during call to suggestCharts:', error);\n",
              "      }\n",
              "      quickchartButtonEl.classList.remove('colab-df-spinner');\n",
              "      quickchartButtonEl.classList.add('colab-df-quickchart-complete');\n",
              "    }\n",
              "    (() => {\n",
              "      let quickchartButtonEl =\n",
              "        document.querySelector('#df-bd5723c6-0760-4261-901b-6efcdb5fca2a button');\n",
              "      quickchartButtonEl.style.display =\n",
              "        google.colab.kernel.accessAllowed ? 'block' : 'none';\n",
              "    })();\n",
              "  </script>\n",
              "</div>\n",
              "    </div>\n",
              "  </div>\n"
            ],
            "application/vnd.google.colaboratory.intrinsic+json": {
              "type": "dataframe",
              "variable_name": "task6_df",
              "summary": "{\n  \"name\": \"task6_df\",\n  \"rows\": 3,\n  \"fields\": [\n    {\n      \"column\": \"Model\",\n      \"properties\": {\n        \"dtype\": \"string\",\n        \"num_unique_values\": 3,\n        \"samples\": [\n          \"K-Nearest Neighbors\",\n          \"Random Forest\",\n          \"Gradient Boosting\"\n        ],\n        \"semantic_type\": \"\",\n        \"description\": \"\"\n      }\n    },\n    {\n      \"column\": \"AUC (Test)\",\n      \"properties\": {\n        \"dtype\": \"number\",\n        \"std\": 0.00783334779792411,\n        \"min\": 0.9046182082315986,\n        \"max\": 0.9184000958595068,\n        \"num_unique_values\": 3,\n        \"samples\": [\n          0.9046182082315986,\n          0.9184000958595068,\n          0.9179611822088819\n        ],\n        \"semantic_type\": \"\",\n        \"description\": \"\"\n      }\n    },\n    {\n      \"column\": \"Optimal Threshold\",\n      \"properties\": {\n        \"dtype\": \"number\",\n        \"std\": 0.00036500859116143393,\n        \"min\": 0.0,\n        \"max\": 0.0006322134250907398,\n        \"num_unique_values\": 2,\n        \"samples\": [\n          0.0006322134250907398,\n          0.0\n        ],\n        \"semantic_type\": \"\",\n        \"description\": \"\"\n      }\n    },\n    {\n      \"column\": \"Profit (Test)\",\n      \"properties\": {\n        \"dtype\": \"number\",\n        \"std\": 0.0,\n        \"min\": 1041300.0,\n        \"max\": 1041300.0,\n        \"num_unique_values\": 1,\n        \"samples\": [\n          1041300.0\n        ],\n        \"semantic_type\": \"\",\n        \"description\": \"\"\n      }\n    }\n  ]\n}"
            }
          },
          "metadata": {},
          "execution_count": 70
        }
      ],
      "source": [
        "results = []\n",
        "prices = np.array([100, -50, 0, -200])\n",
        "# Оценка моделей\n",
        "for name, model in zip(['K-Nearest Neighbors', 'Random Forest', 'Gradient Boosting'],\n",
        "                       [best_knn_model, best_rf_model, best_gb_model]):\n",
        "\n",
        "    prob_train = model.predict_proba(X_train_sc)[:, -1]\n",
        "    prob_test = model.predict_proba(X_test_sc)[:, -1]\n",
        "    fpr_train, tpr_train, thresholds_train = roc_curve(y_train, prob_train)\n",
        "\n",
        "    profits_train = profits_thresholds(model, X_train_sc, y_train, thresholds_train, prices)\n",
        "\n",
        "    # Оптимальный порог на обучающей выборке\n",
        "    optimal_threshold = thresholds_train[np.argmax(profits_train)]\n",
        "    # Содержательный смысл низкого порога - обычно лучше перестраховаться\n",
        "# и попытаться удержать клиента, даже если он вряд ли уйдет, чем\n",
        "# столкнуться с риском его потерять, поскольку издержки на удержание\n",
        "# несопоставимо меньше, чем потери от ухода клиента.\n",
        "\n",
        "    auc_test = roc_auc_score(y_test, prob_test)\n",
        "\n",
        "    # Прибыль на тестовой выборке при оптимальном пороге\n",
        "    profits_test = profits_thresholds(model, X_test_sc, y_test, np.array([optimal_threshold]), prices)\n",
        "    profit_test = profits_test[0]\n",
        "    results.append({\n",
        "        'Model': name,\n",
        "        'AUC (Test)': auc_test,\n",
        "        'Optimal Threshold': optimal_threshold,\n",
        "        'Profit (Test)': profit_test\n",
        "    })\n",
        "task6_df = pd.DataFrame(results)\n",
        "task6_df"
      ]
    },
    {
      "cell_type": "markdown",
      "metadata": {
        "id": "_lk3g6NRY5t_"
      },
      "source": [
        "Матрица путаницы для метода ближайших соседей:"
      ]
    },
    {
      "cell_type": "code",
      "execution_count": null,
      "metadata": {
        "outputId": "c2aacd77-1680-48ca-8991-ad35f082d333",
        "colab": {
          "base_uri": "https://localhost:8080/",
          "height": 449
        },
        "id": "P_goFtNqOimK"
      },
      "outputs": [
        {
          "output_type": "display_data",
          "data": {
            "text/plain": [
              "<Figure size 640x480 with 2 Axes>"
            ],
            "image/png": "[encoded data removed]"
          },
          "metadata": {}
        }
      ],
      "source": [
        "from sklearn.metrics import ConfusionMatrixDisplay\n",
        "y_pred = best_knn_model.predict(X_test_sc)\n",
        "cm = confusion_matrix(y_test, y_pred)\n",
        "disp = ConfusionMatrixDisplay(confusion_matrix = cm)\n",
        "disp.plot();"
      ]
    },
    {
      "cell_type": "markdown",
      "metadata": {
        "id": "CZ80kg_jY5t_"
      },
      "source": [
        "Матрица путаницы для случайного леса:"
      ]
    },
    {
      "cell_type": "code",
      "execution_count": null,
      "metadata": {
        "outputId": "7156fc70-df8d-436f-d626-807a50c3ea7d",
        "colab": {
          "base_uri": "https://localhost:8080/",
          "height": 449
        },
        "id": "jGzoCHf_OnGn"
      },
      "outputs": [
        {
          "output_type": "display_data",
          "data": {
            "text/plain": [
              "<Figure size 640x480 with 2 Axes>"
            ],
            "image/png": "[encoded data removed]"
          },
          "metadata": {}
        }
      ],
      "source": [
        "y_pred = best_rf_model.predict(X_test_sc)\n",
        "cm = confusion_matrix(y_test, y_pred)\n",
        "disp = ConfusionMatrixDisplay(confusion_matrix = cm)\n",
        "disp.plot();"
      ]
    },
    {
      "cell_type": "markdown",
      "metadata": {
        "id": "xpS964pSY5uA"
      },
      "source": [
        "Матрица путаницы для градиентного бустинга:"
      ]
    },
    {
      "cell_type": "code",
      "execution_count": null,
      "metadata": {
        "outputId": "46db3b26-7214-4579-db0c-31e1b65a97c3",
        "colab": {
          "base_uri": "https://localhost:8080/",
          "height": 449
        },
        "id": "Ri7lkBgTOq0r"
      },
      "outputs": [
        {
          "output_type": "display_data",
          "data": {
            "text/plain": [
              "<Figure size 640x480 with 2 Axes>"
            ],
            "image/png": "[encoded data removed]"
          },
          "metadata": {}
        }
      ],
      "source": [
        "y_pred = best_gb_model.predict(X_test_sc)\n",
        "cm = confusion_matrix(y_test, y_pred)\n",
        "disp = ConfusionMatrixDisplay(confusion_matrix = cm)\n",
        "disp.plot();"
      ]
    },
    {
      "cell_type": "markdown",
      "source": [
        "**Повышенная сложность:** предложите, содержательно обоснуйте и примените собственную, отличную от линейной функцию прибыли от прогнозов.\n"
      ],
      "metadata": {
        "id": "rsrDdhTz18ln"
      }
    },
    {
      "cell_type": "markdown",
      "source": [
        "Предположим следующую функцию прибыли:\n",
        "$$100 \\times \\sqrt{TP} - (50 + \\text{marketing cost}) \\times FP^{1.5} - (200 + \\text{retention cost}) \\times \\ln{(FN + 1)}$$"
      ],
      "metadata": {
        "id": "NlBqj9InWj6n"
      }
    },
    {
      "cell_type": "code",
      "source": [
        "# Придумаем функцию прибыли\n",
        "# Предположим, что маркетинговые расходы увеличивают затраты на FP и FN\n",
        "def custom_profit_function(TP, TN, FP, FN, marketing_cost, retention_cost):\n",
        "    profit = (100 * np.sqrt(TP)) - (50 + marketing_cost) * (FP ** 1.5) - (200 + retention_cost) * np.log(FN + 1)\n",
        "    return profit\n",
        "def profits_thresholds(model, features, target, thresholds, prices, marketing_cost, retention_cost):\n",
        "    prob = model.predict_proba(features)[:, 1]  # Вероятности\n",
        "    n_threshold = thresholds.size  # Число порогов\n",
        "    profits = np.zeros(n_threshold)  # Прибыли при разных порогах\n",
        "\n",
        "    for i in range(n_threshold):\n",
        "        prediction_i = (prob >= thresholds[i]).astype(int)  # Прогнозы при соответствующем пороге\n",
        "        TN, FP, FN, TP = confusion_matrix(target, prediction_i).ravel()  # Матрица путаницы\n",
        "        # Считаем прибыль\n",
        "        profits[i] = custom_profit_function(TP, TN, FP, FN, marketing_cost, retention_cost)\n",
        "\n",
        "    return profits"
      ],
      "metadata": {
        "id": "injQzUlI2CUS"
      },
      "execution_count": null,
      "outputs": []
    },
    {
      "cell_type": "code",
      "source": [
        "results_2 = []\n",
        "marketing_cost = 20  # Пример маркетинговых расходов\n",
        "retention_cost = 30  # Пример расходов на удержание\n",
        "prices = np.array([100, -50, 0, -200])\n",
        "\n",
        "for name, model in zip(['K-Nearest Neighbors', 'Random Forest', 'Gradient Boosting'],\n",
        "                       [best_knn_model, best_rf_model, best_gb_model]):\n",
        "  prob_train = model.predict_proba(X_train_sc)[:, -1]\n",
        "  prob_test = model.predict_proba(X_test_sc)[:, -1]\n",
        "  fpr_train, tpr_train, thresholds_train = roc_curve(y_train, prob_train)\n",
        "\n",
        "  profits_train = profits_thresholds(model, X_train_sc, y_train, thresholds_train, prices, marketing_cost, retention_cost)\n",
        "\n",
        "  # Оптимальный порог на обучающей выборке\n",
        "  optimal_threshold = thresholds_train[np.argmax(profits_train)]\n",
        "\n",
        "  # Расчет AUC на тестовой выборке\n",
        "  auc_test = roc_auc_score(y_test, prob_test)\n",
        "\n",
        "  # Прибыль на тестовой выборке при оптимальном пороге\n",
        "  profits_test = profits_thresholds(model, X_test_sc, y_test, np.array([optimal_threshold]), prices, marketing_cost, retention_cost)\n",
        "  profit_test = profits_test[0]\n",
        "  results_2.append({\n",
        "      'Model': name,\n",
        "      'AUC (Test)': auc_test,\n",
        "      'Optimal Threshold': optimal_threshold,\n",
        "      'Profit (Test)': profit_test\n",
        "  })\n",
        "\n",
        "# Построение таблицы результатов\n",
        "task6_df_2 = pd.DataFrame(results_2)\n",
        "task6_df_2\n"
      ],
      "metadata": {
        "id": "D67i3fXN2XOQ",
        "outputId": "d34770ef-6ee8-4a29-994c-e570e6ee61bd",
        "colab": {
          "base_uri": "https://localhost:8080/",
          "height": 143
        }
      },
      "execution_count": null,
      "outputs": [
        {
          "output_type": "execute_result",
          "data": {
            "text/plain": [
              "                 Model  AUC (Test)  Optimal Threshold  Profit (Test)\n",
              "0  K-Nearest Neighbors    0.904618           1.000000 -123766.142111\n",
              "1        Random Forest    0.918400           0.975463   -2623.014668\n",
              "2    Gradient Boosting    0.917961           0.975562   -3601.490687"
            ],
            "text/html": [
              "\n",
              "  <div id=\"df-7a3f9447-2809-4dcc-9591-22628e6c3495\" class=\"colab-df-container\">\n",
              "    <div>\n",
              "<style scoped>\n",
              "    .dataframe tbody tr th:only-of-type {\n",
              "        vertical-align: middle;\n",
              "    }\n",
              "\n",
              "    .dataframe tbody tr th {\n",
              "        vertical-align: top;\n",
              "    }\n",
              "\n",
              "    .dataframe thead th {\n",
              "        text-align: right;\n",
              "    }\n",
              "</style>\n",
              "<table border=\"1\" class=\"dataframe\">\n",
              "  <thead>\n",
              "    <tr style=\"text-align: right;\">\n",
              "      <th></th>\n",
              "      <th>Model</th>\n",
              "      <th>AUC (Test)</th>\n",
              "      <th>Optimal Threshold</th>\n",
              "      <th>Profit (Test)</th>\n",
              "    </tr>\n",
              "  </thead>\n",
              "  <tbody>\n",
              "    <tr>\n",
              "      <th>0</th>\n",
              "      <td>K-Nearest Neighbors</td>\n",
              "      <td>0.904618</td>\n",
              "      <td>1.000000</td>\n",
              "      <td>-123766.142111</td>\n",
              "    </tr>\n",
              "    <tr>\n",
              "      <th>1</th>\n",
              "      <td>Random Forest</td>\n",
              "      <td>0.918400</td>\n",
              "      <td>0.975463</td>\n",
              "      <td>-2623.014668</td>\n",
              "    </tr>\n",
              "    <tr>\n",
              "      <th>2</th>\n",
              "      <td>Gradient Boosting</td>\n",
              "      <td>0.917961</td>\n",
              "      <td>0.975562</td>\n",
              "      <td>-3601.490687</td>\n",
              "    </tr>\n",
              "  </tbody>\n",
              "</table>\n",
              "</div>\n",
              "    <div class=\"colab-df-buttons\">\n",
              "\n",
              "  <div class=\"colab-df-container\">\n",
              "    <button class=\"colab-df-convert\" onclick=\"convertToInteractive('df-7a3f9447-2809-4dcc-9591-22628e6c3495')\"\n",
              "            title=\"Convert this dataframe to an interactive table.\"\n",
              "            style=\"display:none;\">\n",
              "\n",
              "  <svg xmlns=\"http://www.w3.org/2000/svg\" height=\"24px\" viewBox=\"0 -960 960 960\">\n",
              "    <path d=\"M120-120v-720h720v720H120Zm60-500h600v-160H180v160Zm220 220h160v-160H400v160Zm0 220h160v-160H400v160ZM180-400h160v-160H180v160Zm440 0h160v-160H620v160ZM180-180h160v-160H180v160Zm440 0h160v-160H620v160Z\"/>\n",
              "  </svg>\n",
              "    </button>\n",
              "\n",
              "  <style>\n",
              "    .colab-df-container {\n",
              "      display:flex;\n",
              "      gap: 12px;\n",
              "    }\n",
              "\n",
              "    .colab-df-convert {\n",
              "      background-color: #E8F0FE;\n",
              "      border: none;\n",
              "      border-radius: 50%;\n",
              "      cursor: pointer;\n",
              "      display: none;\n",
              "      fill: #1967D2;\n",
              "      height: 32px;\n",
              "      padding: 0 0 0 0;\n",
              "      width: 32px;\n",
              "    }\n",
              "\n",
              "    .colab-df-convert:hover {\n",
              "      background-color: #E2EBFA;\n",
              "      box-shadow: 0px 1px 2px rgba(60, 64, 67, 0.3), 0px 1px 3px 1px rgba(60, 64, 67, 0.15);\n",
              "      fill: #174EA6;\n",
              "    }\n",
              "\n",
              "    .colab-df-buttons div {\n",
              "      margin-bottom: 4px;\n",
              "    }\n",
              "\n",
              "    [theme=dark] .colab-df-convert {\n",
              "      background-color: #3B4455;\n",
              "      fill: #D2E3FC;\n",
              "    }\n",
              "\n",
              "    [theme=dark] .colab-df-convert:hover {\n",
              "      background-color: #434B5C;\n",
              "      box-shadow: 0px 1px 3px 1px rgba(0, 0, 0, 0.15);\n",
              "      filter: drop-shadow(0px 1px 2px rgba(0, 0, 0, 0.3));\n",
              "      fill: #FFFFFF;\n",
              "    }\n",
              "  </style>\n",
              "\n",
              "    <script>\n",
              "      const buttonEl =\n",
              "        document.querySelector('#df-7a3f9447-2809-4dcc-9591-22628e6c3495 button.colab-df-convert');\n",
              "      buttonEl.style.display =\n",
              "        google.colab.kernel.accessAllowed ? 'block' : 'none';\n",
              "\n",
              "      async function convertToInteractive(key) {\n",
              "        const element = document.querySelector('#df-7a3f9447-2809-4dcc-9591-22628e6c3495');\n",
              "        const dataTable =\n",
              "          await google.colab.kernel.invokeFunction('convertToInteractive',\n",
              "                                                    [key], {});\n",
              "        if (!dataTable) return;\n",
              "\n",
              "        const docLinkHtml = 'Like what you see? Visit the ' +\n",
              "          '<a target=\"_blank\" href=https://colab.research.google.com/notebooks/data_table.ipynb>data table notebook</a>'\n",
              "          + ' to learn more about interactive tables.';\n",
              "        element.innerHTML = '';\n",
              "        dataTable['output_type'] = 'display_data';\n",
              "        await google.colab.output.renderOutput(dataTable, element);\n",
              "        const docLink = document.createElement('div');\n",
              "        docLink.innerHTML = docLinkHtml;\n",
              "        element.appendChild(docLink);\n",
              "      }\n",
              "    </script>\n",
              "  </div>\n",
              "\n",
              "\n",
              "<div id=\"df-464acfbf-a6fa-4786-ab8f-415ff54a3270\">\n",
              "  <button class=\"colab-df-quickchart\" onclick=\"quickchart('df-464acfbf-a6fa-4786-ab8f-415ff54a3270')\"\n",
              "            title=\"Suggest charts\"\n",
              "            style=\"display:none;\">\n",
              "\n",
              "<svg xmlns=\"http://www.w3.org/2000/svg\" height=\"24px\"viewBox=\"0 0 24 24\"\n",
              "     width=\"24px\">\n",
              "    <g>\n",
              "        <path d=\"M19 3H5c-1.1 0-2 .9-2 2v14c0 1.1.9 2 2 2h14c1.1 0 2-.9 2-2V5c0-1.1-.9-2-2-2zM9 17H7v-7h2v7zm4 0h-2V7h2v10zm4 0h-2v-4h2v4z\"/>\n",
              "    </g>\n",
              "</svg>\n",
              "  </button>\n",
              "\n",
              "<style>\n",
              "  .colab-df-quickchart {\n",
              "      --bg-color: #E8F0FE;\n",
              "      --fill-color: #1967D2;\n",
              "      --hover-bg-color: #E2EBFA;\n",
              "      --hover-fill-color: #174EA6;\n",
              "      --disabled-fill-color: #AAA;\n",
              "      --disabled-bg-color: #DDD;\n",
              "  }\n",
              "\n",
              "  [theme=dark] .colab-df-quickchart {\n",
              "      --bg-color: #3B4455;\n",
              "      --fill-color: #D2E3FC;\n",
              "      --hover-bg-color: #434B5C;\n",
              "      --hover-fill-color: #FFFFFF;\n",
              "      --disabled-bg-color: #3B4455;\n",
              "      --disabled-fill-color: #666;\n",
              "  }\n",
              "\n",
              "  .colab-df-quickchart {\n",
              "    background-color: var(--bg-color);\n",
              "    border: none;\n",
              "    border-radius: 50%;\n",
              "    cursor: pointer;\n",
              "    display: none;\n",
              "    fill: var(--fill-color);\n",
              "    height: 32px;\n",
              "    padding: 0;\n",
              "    width: 32px;\n",
              "  }\n",
              "\n",
              "  .colab-df-quickchart:hover {\n",
              "    background-color: var(--hover-bg-color);\n",
              "    box-shadow: 0 1px 2px rgba(60, 64, 67, 0.3), 0 1px 3px 1px rgba(60, 64, 67, 0.15);\n",
              "    fill: var(--button-hover-fill-color);\n",
              "  }\n",
              "\n",
              "  .colab-df-quickchart-complete:disabled,\n",
              "  .colab-df-quickchart-complete:disabled:hover {\n",
              "    background-color: var(--disabled-bg-color);\n",
              "    fill: var(--disabled-fill-color);\n",
              "    box-shadow: none;\n",
              "  }\n",
              "\n",
              "  .colab-df-spinner {\n",
              "    border: 2px solid var(--fill-color);\n",
              "    border-color: transparent;\n",
              "    border-bottom-color: var(--fill-color);\n",
              "    animation:\n",
              "      spin 1s steps(1) infinite;\n",
              "  }\n",
              "\n",
              "  @keyframes spin {\n",
              "    0% {\n",
              "      border-color: transparent;\n",
              "      border-bottom-color: var(--fill-color);\n",
              "      border-left-color: var(--fill-color);\n",
              "    }\n",
              "    20% {\n",
              "      border-color: transparent;\n",
              "      border-left-color: var(--fill-color);\n",
              "      border-top-color: var(--fill-color);\n",
              "    }\n",
              "    30% {\n",
              "      border-color: transparent;\n",
              "      border-left-color: var(--fill-color);\n",
              "      border-top-color: var(--fill-color);\n",
              "      border-right-color: var(--fill-color);\n",
              "    }\n",
              "    40% {\n",
              "      border-color: transparent;\n",
              "      border-right-color: var(--fill-color);\n",
              "      border-top-color: var(--fill-color);\n",
              "    }\n",
              "    60% {\n",
              "      border-color: transparent;\n",
              "      border-right-color: var(--fill-color);\n",
              "    }\n",
              "    80% {\n",
              "      border-color: transparent;\n",
              "      border-right-color: var(--fill-color);\n",
              "      border-bottom-color: var(--fill-color);\n",
              "    }\n",
              "    90% {\n",
              "      border-color: transparent;\n",
              "      border-bottom-color: var(--fill-color);\n",
              "    }\n",
              "  }\n",
              "</style>\n",
              "\n",
              "  <script>\n",
              "    async function quickchart(key) {\n",
              "      const quickchartButtonEl =\n",
              "        document.querySelector('#' + key + ' button');\n",
              "      quickchartButtonEl.disabled = true;  // To prevent multiple clicks.\n",
              "      quickchartButtonEl.classList.add('colab-df-spinner');\n",
              "      try {\n",
              "        const charts = await google.colab.kernel.invokeFunction(\n",
              "            'suggestCharts', [key], {});\n",
              "      } catch (error) {\n",
              "        console.error('Error during call to suggestCharts:', error);\n",
              "      }\n",
              "      quickchartButtonEl.classList.remove('colab-df-spinner');\n",
              "      quickchartButtonEl.classList.add('colab-df-quickchart-complete');\n",
              "    }\n",
              "    (() => {\n",
              "      let quickchartButtonEl =\n",
              "        document.querySelector('#df-464acfbf-a6fa-4786-ab8f-415ff54a3270 button');\n",
              "      quickchartButtonEl.style.display =\n",
              "        google.colab.kernel.accessAllowed ? 'block' : 'none';\n",
              "    })();\n",
              "  </script>\n",
              "</div>\n",
              "    </div>\n",
              "  </div>\n"
            ],
            "application/vnd.google.colaboratory.intrinsic+json": {
              "type": "dataframe",
              "variable_name": "task6_df_2",
              "summary": "{\n  \"name\": \"task6_df_2\",\n  \"rows\": 3,\n  \"fields\": [\n    {\n      \"column\": \"Model\",\n      \"properties\": {\n        \"dtype\": \"string\",\n        \"num_unique_values\": 3,\n        \"samples\": [\n          \"K-Nearest Neighbors\",\n          \"Random Forest\",\n          \"Gradient Boosting\"\n        ],\n        \"semantic_type\": \"\",\n        \"description\": \"\"\n      }\n    },\n    {\n      \"column\": \"AUC (Test)\",\n      \"properties\": {\n        \"dtype\": \"number\",\n        \"std\": 0.00783334779792411,\n        \"min\": 0.9046182082315986,\n        \"max\": 0.9184000958595068,\n        \"num_unique_values\": 3,\n        \"samples\": [\n          0.9046182082315986,\n          0.9184000958595068,\n          0.9179611822088819\n        ],\n        \"semantic_type\": \"\",\n        \"description\": \"\"\n      }\n    },\n    {\n      \"column\": \"Optimal Threshold\",\n      \"properties\": {\n        \"dtype\": \"number\",\n        \"std\": 0.014138024029683782,\n        \"min\": 0.9754625983615922,\n        \"max\": 1.0,\n        \"num_unique_values\": 3,\n        \"samples\": [\n          1.0,\n          0.9754625983615922,\n          0.9755621533184792\n        ],\n        \"semantic_type\": \"\",\n        \"description\": \"\"\n      }\n    },\n    {\n      \"column\": \"Profit (Test)\",\n      \"properties\": {\n        \"dtype\": \"number\",\n        \"std\": 69661.27354771893,\n        \"min\": -123766.14211079366,\n        \"max\": -2623.014668258944,\n        \"num_unique_values\": 3,\n        \"samples\": [\n          -123766.14211079366,\n          -2623.014668258944,\n          -3601.490686742191\n        ],\n        \"semantic_type\": \"\",\n        \"description\": \"\"\n      }\n    }\n  ]\n}"
            }
          },
          "metadata": {},
          "execution_count": 73
        }
      ]
    },
    {
      "cell_type": "markdown",
      "metadata": {
        "id": "kMqKFUD_Y5uA"
      },
      "source": [
        "7. Опишите предполагаемые связи между переменными в форме ориентированного ациклического графа (DAG). Обучите структуру Байесовской сети на обучающей выборке и сравните точность прогнозов вашего и обученного DAG на тестовой выборке.\n"
      ]
    },
    {
      "cell_type": "code",
      "source": [
        "# features_bn = features.copy()\n",
        "# features_bn['Distance'] = pd.qcut(features_bn['Distance'], q = 4, labels = range(0, 4))\n",
        "# X_train_bn, X_test_bn = train_test_split(features_bn, test_size = 0.2, random_state = 22)"
      ],
      "metadata": {
        "id": "j139dCtrQuns"
      },
      "execution_count": null,
      "outputs": []
    },
    {
      "cell_type": "code",
      "execution_count": 162,
      "metadata": {
        "id": "dQQLLaceY5uA",
        "colab": {
          "base_uri": "https://localhost:8080/",
          "height": 898
        },
        "outputId": "5c8c5f37-6eaf-4772-defe-67cb3398796f"
      },
      "outputs": [
        {
          "output_type": "stream",
          "name": "stdout",
          "text": [
            "[bnlearn] >bayes DAG created.\n",
            "[bnlearn] >Set node properties.\n",
            "[bnlearn] >Set edge properties.\n",
            "[bnlearn] >Plot based on Bayesian model\n"
          ]
        },
        {
          "output_type": "display_data",
          "data": {
            "text/plain": [
              "<Figure size 1500x1000 with 1 Axes>"
            ],
            "image/png": "[encoded data removed]"
          },
          "metadata": {}
        }
      ],
      "source": [
        "# Создадим DAG\n",
        "edges = [(\"Days_Before\", \"Last_Ticket\"),\n",
        "         (\"Distance\", \"Last_Ticket\"),\n",
        "         (\"Connection\", \"Last_Ticket\"),\n",
        "         (\"Hours\", \"Last_Ticket\")]\n",
        "DAG = bnlearn.make_DAG(edges)\n",
        "\n",
        "bnlearn.plot(DAG);"
      ]
    },
    {
      "cell_type": "code",
      "source": [
        "\n",
        "# # Оценим факторы\n",
        "# bn = bnlearn.parameter_learning.fit(DAG, features_bn, methodtype = 'ml')\n",
        "# # Оценим параметры модели на обучающей выборке\n",
        "# bn_train = bnlearn.parameter_learning.fit(DAG, train_data, methodtype = 'ml')\n",
        "# # Получим прогнозы по тестовой выборке\n",
        "# predict_bn_test = bnlearn.predict(bn, df = X_test_bn,\n",
        "#                                   variables = [\"Last_Ticket\"])\n",
        "# prediction_bn_test = np.array(predict_bn_test.loc[:, \"Last_Ticket\"])\n",
        "# ACC_bn_test = np.mean(y_test == prediction_bn_test)\n",
        "\n",
        "\n",
        "# # Подберем оптимальную структуру DAG на обучающей выборе\n",
        "# bn_train_structure = bnlearn.structure_learning.fit(train_data,\n",
        "#                                                      methodtype = 'hc',\n",
        "#                                                      scoretype  = 'aic')\n",
        "# # Сохраним найденный DAG\n",
        "# DAG2 = bnlearn.make_DAG(bn_train_structure)\n",
        "# # Оценим модель с подобранным DAG\n",
        "# bn2_train = bnlearn.parameter_learning.fit(DAG2, train_data,\n",
        "#                                            methodtype = 'ml')\n",
        "# # Получим прогнозы по тестовой выборке\n",
        "# predict_bn2_test = bnlearn.predict(bn2_train, df = X_test_bn,\n",
        "#                                    variables = [\"Last_Ticket\"])\n",
        "# prediction_bn2_test = np.array(predict_bn2_test.loc[:, \"Last_Ticket\"])\n",
        "# # Оценим точность прогноза по тестовой выборке\n",
        "# ACC_bn2_test = np.mean(y_test == prediction_bn2_test)\n",
        "\n",
        "# # Сравним точность Байесовской сети с\n",
        "# # исходным и обученным DAG\n",
        "# print(pd.DataFrame(data    = [ACC_bn_test, ACC_bn2_test],\n",
        "#                    index   = ['Байесовская сеть с исходным DAG',\n",
        "#                               'Байесовская сеть с обученным DAG'],\n",
        "#                    columns = ['ACC-test']))"
      ],
      "metadata": {
        "id": "BlAr5G_tUXdZ"
      },
      "execution_count": null,
      "outputs": []
    },
    {
      "cell_type": "markdown",
      "source": [
        "9. Повышенная сложность: включите в анализ дополнительный метод классификации, не рассматривавшийся в курсе и не представленный в библиотеке\n",
        "scikit-learn. Опишите данный метод (принцип работы, преимущества и недостатки) и осуществите тюнинг гиперпараметров. Сопоставьте его точность на\n",
        "тестовой выборке с точностью лучшего из обученных вами ранее методов."
      ],
      "metadata": {
        "id": "T75bFADGCTp6"
      }
    },
    {
      "cell_type": "code",
      "source": [
        "from catboost import CatBoostClassifier\n",
        "# Определение модели\n",
        "catb = CatBoostClassifier(logging_level = 'Silent', random_seed = 22)\n",
        "# Перебираемые значения гиперпараметров\n",
        "hyperparameters = {\n",
        "    'iterations': [100, 400, 1000],\n",
        "    'learning_rate': [0.1, 0.01, 0.001],\n",
        "    'depth': [4, 6, 8],\n",
        "}\n",
        "\n",
        "# Перебор гиперпараметров с помощью кросс-валидации\n",
        "CV_catb = GridSearchCV(estimator = catb,\n",
        "                        param_grid = hyperparameters,\n",
        "                        scoring = \"accuracy\",\n",
        "                        cv = 5)\n",
        "CV_catb.fit(X_train_sc, y_train)\n",
        "best_catb = CV_catb.best_params_\n",
        "print(best_catb)"
      ],
      "metadata": {
        "outputId": "93752e3f-0d1f-48a2-d192-72a389975cba",
        "colab": {
          "base_uri": "https://localhost:8080/"
        },
        "id": "3FAi_MDrO04t"
      },
      "execution_count": null,
      "outputs": [
        {
          "output_type": "stream",
          "name": "stdout",
          "text": [
            "{'depth': 8, 'iterations': 1000, 'learning_rate': 0.01}\n"
          ]
        }
      ]
    },
    {
      "cell_type": "code",
      "source": [
        "# Cat boost с подобранными гиперпараметрами\n",
        "best_catb = CatBoostClassifier(iterations = 1000,\n",
        "                          learning_rate = 0.01,\n",
        "                          depth = 8 ,\n",
        "                          logging_level = 'Silent',\n",
        "                          random_seed= 22)\n",
        "best_catb.fit(X_train_sc, y_train)\n",
        "# Оценим точность\n",
        "ACC_catb_test  = best_catb.score(X_test_sc, y_test)    # тестовая выборка\n",
        "# Оценка точности с помощью кросс-валидации на обучающей выборке\n",
        "catb_score = cross_val_score(best_catb, X_train_sc, y_train, cv = 5, scoring = 'accuracy').mean()\n",
        "results_catb = pd.DataFrame({\n",
        "    'Параметры': ['Кросс-валидационная точность на обучающей выборке', 'Точность на тестовой выборке'],\n",
        "    'Случайный лес (Лучшая модель)': [rf_score_new, ACC_rf_test_new],\n",
        "    'CatBoost': [gb_score_new, ACC_gb_test_new]\n",
        "})\n",
        "results_catb"
      ],
      "metadata": {
        "outputId": "302f4820-3d80-4704-de24-6026c26aeb2b",
        "colab": {
          "base_uri": "https://localhost:8080/",
          "height": 112
        },
        "id": "MsmlaD-2O4P9"
      },
      "execution_count": null,
      "outputs": [
        {
          "output_type": "execute_result",
          "data": {
            "text/plain": [
              "                                           Параметры  \\\n",
              "0  Кросс-валидационная точность на обучающей выборке   \n",
              "1                       Точность на тестовой выборке   \n",
              "\n",
              "   Случайный лес (Лучшая модель)  CatBoost  \n",
              "0                       0.822125    0.8221  \n",
              "1                       0.821900    0.8199  "
            ],
            "text/html": [
              "\n",
              "  <div id=\"df-67c1c220-3b57-4167-b7e1-bf2f077d9d86\" class=\"colab-df-container\">\n",
              "    <div>\n",
              "<style scoped>\n",
              "    .dataframe tbody tr th:only-of-type {\n",
              "        vertical-align: middle;\n",
              "    }\n",
              "\n",
              "    .dataframe tbody tr th {\n",
              "        vertical-align: top;\n",
              "    }\n",
              "\n",
              "    .dataframe thead th {\n",
              "        text-align: right;\n",
              "    }\n",
              "</style>\n",
              "<table border=\"1\" class=\"dataframe\">\n",
              "  <thead>\n",
              "    <tr style=\"text-align: right;\">\n",
              "      <th></th>\n",
              "      <th>Параметры</th>\n",
              "      <th>Случайный лес (Лучшая модель)</th>\n",
              "      <th>CatBoost</th>\n",
              "    </tr>\n",
              "  </thead>\n",
              "  <tbody>\n",
              "    <tr>\n",
              "      <th>0</th>\n",
              "      <td>Кросс-валидационная точность на обучающей выборке</td>\n",
              "      <td>0.822125</td>\n",
              "      <td>0.8221</td>\n",
              "    </tr>\n",
              "    <tr>\n",
              "      <th>1</th>\n",
              "      <td>Точность на тестовой выборке</td>\n",
              "      <td>0.821900</td>\n",
              "      <td>0.8199</td>\n",
              "    </tr>\n",
              "  </tbody>\n",
              "</table>\n",
              "</div>\n",
              "    <div class=\"colab-df-buttons\">\n",
              "\n",
              "  <div class=\"colab-df-container\">\n",
              "    <button class=\"colab-df-convert\" onclick=\"convertToInteractive('df-67c1c220-3b57-4167-b7e1-bf2f077d9d86')\"\n",
              "            title=\"Convert this dataframe to an interactive table.\"\n",
              "            style=\"display:none;\">\n",
              "\n",
              "  <svg xmlns=\"http://www.w3.org/2000/svg\" height=\"24px\" viewBox=\"0 -960 960 960\">\n",
              "    <path d=\"M120-120v-720h720v720H120Zm60-500h600v-160H180v160Zm220 220h160v-160H400v160Zm0 220h160v-160H400v160ZM180-400h160v-160H180v160Zm440 0h160v-160H620v160ZM180-180h160v-160H180v160Zm440 0h160v-160H620v160Z\"/>\n",
              "  </svg>\n",
              "    </button>\n",
              "\n",
              "  <style>\n",
              "    .colab-df-container {\n",
              "      display:flex;\n",
              "      gap: 12px;\n",
              "    }\n",
              "\n",
              "    .colab-df-convert {\n",
              "      background-color: #E8F0FE;\n",
              "      border: none;\n",
              "      border-radius: 50%;\n",
              "      cursor: pointer;\n",
              "      display: none;\n",
              "      fill: #1967D2;\n",
              "      height: 32px;\n",
              "      padding: 0 0 0 0;\n",
              "      width: 32px;\n",
              "    }\n",
              "\n",
              "    .colab-df-convert:hover {\n",
              "      background-color: #E2EBFA;\n",
              "      box-shadow: 0px 1px 2px rgba(60, 64, 67, 0.3), 0px 1px 3px 1px rgba(60, 64, 67, 0.15);\n",
              "      fill: #174EA6;\n",
              "    }\n",
              "\n",
              "    .colab-df-buttons div {\n",
              "      margin-bottom: 4px;\n",
              "    }\n",
              "\n",
              "    [theme=dark] .colab-df-convert {\n",
              "      background-color: #3B4455;\n",
              "      fill: #D2E3FC;\n",
              "    }\n",
              "\n",
              "    [theme=dark] .colab-df-convert:hover {\n",
              "      background-color: #434B5C;\n",
              "      box-shadow: 0px 1px 3px 1px rgba(0, 0, 0, 0.15);\n",
              "      filter: drop-shadow(0px 1px 2px rgba(0, 0, 0, 0.3));\n",
              "      fill: #FFFFFF;\n",
              "    }\n",
              "  </style>\n",
              "\n",
              "    <script>\n",
              "      const buttonEl =\n",
              "        document.querySelector('#df-67c1c220-3b57-4167-b7e1-bf2f077d9d86 button.colab-df-convert');\n",
              "      buttonEl.style.display =\n",
              "        google.colab.kernel.accessAllowed ? 'block' : 'none';\n",
              "\n",
              "      async function convertToInteractive(key) {\n",
              "        const element = document.querySelector('#df-67c1c220-3b57-4167-b7e1-bf2f077d9d86');\n",
              "        const dataTable =\n",
              "          await google.colab.kernel.invokeFunction('convertToInteractive',\n",
              "                                                    [key], {});\n",
              "        if (!dataTable) return;\n",
              "\n",
              "        const docLinkHtml = 'Like what you see? Visit the ' +\n",
              "          '<a target=\"_blank\" href=https://colab.research.google.com/notebooks/data_table.ipynb>data table notebook</a>'\n",
              "          + ' to learn more about interactive tables.';\n",
              "        element.innerHTML = '';\n",
              "        dataTable['output_type'] = 'display_data';\n",
              "        await google.colab.output.renderOutput(dataTable, element);\n",
              "        const docLink = document.createElement('div');\n",
              "        docLink.innerHTML = docLinkHtml;\n",
              "        element.appendChild(docLink);\n",
              "      }\n",
              "    </script>\n",
              "  </div>\n",
              "\n",
              "\n",
              "<div id=\"df-7492784c-36d9-4abb-99c9-e518d8005201\">\n",
              "  <button class=\"colab-df-quickchart\" onclick=\"quickchart('df-7492784c-36d9-4abb-99c9-e518d8005201')\"\n",
              "            title=\"Suggest charts\"\n",
              "            style=\"display:none;\">\n",
              "\n",
              "<svg xmlns=\"http://www.w3.org/2000/svg\" height=\"24px\"viewBox=\"0 0 24 24\"\n",
              "     width=\"24px\">\n",
              "    <g>\n",
              "        <path d=\"M19 3H5c-1.1 0-2 .9-2 2v14c0 1.1.9 2 2 2h14c1.1 0 2-.9 2-2V5c0-1.1-.9-2-2-2zM9 17H7v-7h2v7zm4 0h-2V7h2v10zm4 0h-2v-4h2v4z\"/>\n",
              "    </g>\n",
              "</svg>\n",
              "  </button>\n",
              "\n",
              "<style>\n",
              "  .colab-df-quickchart {\n",
              "      --bg-color: #E8F0FE;\n",
              "      --fill-color: #1967D2;\n",
              "      --hover-bg-color: #E2EBFA;\n",
              "      --hover-fill-color: #174EA6;\n",
              "      --disabled-fill-color: #AAA;\n",
              "      --disabled-bg-color: #DDD;\n",
              "  }\n",
              "\n",
              "  [theme=dark] .colab-df-quickchart {\n",
              "      --bg-color: #3B4455;\n",
              "      --fill-color: #D2E3FC;\n",
              "      --hover-bg-color: #434B5C;\n",
              "      --hover-fill-color: #FFFFFF;\n",
              "      --disabled-bg-color: #3B4455;\n",
              "      --disabled-fill-color: #666;\n",
              "  }\n",
              "\n",
              "  .colab-df-quickchart {\n",
              "    background-color: var(--bg-color);\n",
              "    border: none;\n",
              "    border-radius: 50%;\n",
              "    cursor: pointer;\n",
              "    display: none;\n",
              "    fill: var(--fill-color);\n",
              "    height: 32px;\n",
              "    padding: 0;\n",
              "    width: 32px;\n",
              "  }\n",
              "\n",
              "  .colab-df-quickchart:hover {\n",
              "    background-color: var(--hover-bg-color);\n",
              "    box-shadow: 0 1px 2px rgba(60, 64, 67, 0.3), 0 1px 3px 1px rgba(60, 64, 67, 0.15);\n",
              "    fill: var(--button-hover-fill-color);\n",
              "  }\n",
              "\n",
              "  .colab-df-quickchart-complete:disabled,\n",
              "  .colab-df-quickchart-complete:disabled:hover {\n",
              "    background-color: var(--disabled-bg-color);\n",
              "    fill: var(--disabled-fill-color);\n",
              "    box-shadow: none;\n",
              "  }\n",
              "\n",
              "  .colab-df-spinner {\n",
              "    border: 2px solid var(--fill-color);\n",
              "    border-color: transparent;\n",
              "    border-bottom-color: var(--fill-color);\n",
              "    animation:\n",
              "      spin 1s steps(1) infinite;\n",
              "  }\n",
              "\n",
              "  @keyframes spin {\n",
              "    0% {\n",
              "      border-color: transparent;\n",
              "      border-bottom-color: var(--fill-color);\n",
              "      border-left-color: var(--fill-color);\n",
              "    }\n",
              "    20% {\n",
              "      border-color: transparent;\n",
              "      border-left-color: var(--fill-color);\n",
              "      border-top-color: var(--fill-color);\n",
              "    }\n",
              "    30% {\n",
              "      border-color: transparent;\n",
              "      border-left-color: var(--fill-color);\n",
              "      border-top-color: var(--fill-color);\n",
              "      border-right-color: var(--fill-color);\n",
              "    }\n",
              "    40% {\n",
              "      border-color: transparent;\n",
              "      border-right-color: var(--fill-color);\n",
              "      border-top-color: var(--fill-color);\n",
              "    }\n",
              "    60% {\n",
              "      border-color: transparent;\n",
              "      border-right-color: var(--fill-color);\n",
              "    }\n",
              "    80% {\n",
              "      border-color: transparent;\n",
              "      border-right-color: var(--fill-color);\n",
              "      border-bottom-color: var(--fill-color);\n",
              "    }\n",
              "    90% {\n",
              "      border-color: transparent;\n",
              "      border-bottom-color: var(--fill-color);\n",
              "    }\n",
              "  }\n",
              "</style>\n",
              "\n",
              "  <script>\n",
              "    async function quickchart(key) {\n",
              "      const quickchartButtonEl =\n",
              "        document.querySelector('#' + key + ' button');\n",
              "      quickchartButtonEl.disabled = true;  // To prevent multiple clicks.\n",
              "      quickchartButtonEl.classList.add('colab-df-spinner');\n",
              "      try {\n",
              "        const charts = await google.colab.kernel.invokeFunction(\n",
              "            'suggestCharts', [key], {});\n",
              "      } catch (error) {\n",
              "        console.error('Error during call to suggestCharts:', error);\n",
              "      }\n",
              "      quickchartButtonEl.classList.remove('colab-df-spinner');\n",
              "      quickchartButtonEl.classList.add('colab-df-quickchart-complete');\n",
              "    }\n",
              "    (() => {\n",
              "      let quickchartButtonEl =\n",
              "        document.querySelector('#df-7492784c-36d9-4abb-99c9-e518d8005201 button');\n",
              "      quickchartButtonEl.style.display =\n",
              "        google.colab.kernel.accessAllowed ? 'block' : 'none';\n",
              "    })();\n",
              "  </script>\n",
              "</div>\n",
              "    </div>\n",
              "  </div>\n"
            ],
            "application/vnd.google.colaboratory.intrinsic+json": {
              "type": "dataframe",
              "variable_name": "results_catb",
              "summary": "{\n  \"name\": \"results_catb\",\n  \"rows\": 2,\n  \"fields\": [\n    {\n      \"column\": \"\\u041f\\u0430\\u0440\\u0430\\u043c\\u0435\\u0442\\u0440\\u044b\",\n      \"properties\": {\n        \"dtype\": \"string\",\n        \"num_unique_values\": 2,\n        \"samples\": [\n          \"\\u0422\\u043e\\u0447\\u043d\\u043e\\u0441\\u0442\\u044c \\u043d\\u0430 \\u0442\\u0435\\u0441\\u0442\\u043e\\u0432\\u043e\\u0439 \\u0432\\u044b\\u0431\\u043e\\u0440\\u043a\\u0435\",\n          \"\\u041a\\u0440\\u043e\\u0441\\u0441-\\u0432\\u0430\\u043b\\u0438\\u0434\\u0430\\u0446\\u0438\\u043e\\u043d\\u043d\\u0430\\u044f \\u0442\\u043e\\u0447\\u043d\\u043e\\u0441\\u0442\\u044c \\u043d\\u0430 \\u043e\\u0431\\u0443\\u0447\\u0430\\u044e\\u0449\\u0435\\u0439 \\u0432\\u044b\\u0431\\u043e\\u0440\\u043a\\u0435\"\n        ],\n        \"semantic_type\": \"\",\n        \"description\": \"\"\n      }\n    },\n    {\n      \"column\": \"\\u0421\\u043b\\u0443\\u0447\\u0430\\u0439\\u043d\\u044b\\u0439 \\u043b\\u0435\\u0441 (\\u041b\\u0443\\u0447\\u0448\\u0430\\u044f \\u043c\\u043e\\u0434\\u0435\\u043b\\u044c)\",\n      \"properties\": {\n        \"dtype\": \"number\",\n        \"std\": 0.00015909902576699493,\n        \"min\": 0.8219,\n        \"max\": 0.822125,\n        \"num_unique_values\": 2,\n        \"samples\": [\n          0.8219,\n          0.822125\n        ],\n        \"semantic_type\": \"\",\n        \"description\": \"\"\n      }\n    },\n    {\n      \"column\": \"CatBoost\",\n      \"properties\": {\n        \"dtype\": \"number\",\n        \"std\": 0.0015556349186104687,\n        \"min\": 0.8199,\n        \"max\": 0.8221,\n        \"num_unique_values\": 2,\n        \"samples\": [\n          0.8199,\n          0.8221\n        ],\n        \"semantic_type\": \"\",\n        \"description\": \"\"\n      }\n    }\n  ]\n}"
            }
          },
          "metadata": {},
          "execution_count": 75
        }
      ]
    },
    {
      "cell_type": "markdown",
      "source": [
        "## Регрессия 🤪\n"
      ],
      "metadata": {
        "id": "BOOhW3ZvCV_P"
      }
    },
    {
      "cell_type": "markdown",
      "source": [
        "2. Выберите произвольные значения гиперпараметров, а затем оцените и сравните\n",
        "(между методами) точность прогнозов с помощью RMSE и MAPE:\n",
        "\n",
        "• на обучающей выборке.\n",
        "\n",
        "• на тестовой выборке.\n",
        "\n",
        "• с помощью кросс-валидации (используйте только обучающую выборку).\n"
      ],
      "metadata": {
        "id": "08yuauFHbDV2"
      }
    },
    {
      "cell_type": "markdown",
      "source": [
        "**Метод ближайших соседей**"
      ],
      "metadata": {
        "id": "JB1FjuGRbKQu"
      }
    },
    {
      "cell_type": "code",
      "source": [
        "# Нормализуем данные\n",
        "features_train_sc = scaler.fit_transform(features_train)  # обучающая выборка\n",
        "features_test_sc  = scaler.fit_transform(features_test)   # тестовая выборка\n",
        "\n",
        "# Преобразуем в формат pandas DataFrame\n",
        "features_train_sc = pd.DataFrame(features_train_sc, columns = features_train.columns)\n",
        "features_test_sc = pd.DataFrame(features_test_sc, columns = features_test.columns)"
      ],
      "metadata": {
        "id": "c7wygZAFCHtx"
      },
      "execution_count": null,
      "outputs": []
    },
    {
      "cell_type": "code",
      "source": [
        "from math import sqrt\n",
        "knn_model_reg = KNeighborsRegressor(n_neighbors = 5)\n",
        "knn_model_reg.fit(features_train_sc, target_train)\n",
        "\n",
        "# Прогнозы на обучающей и тестовой выборках\n",
        "train_pred_knn = knn_model_reg.predict(features_train_sc)\n",
        "test_pred_knn = knn_model_reg.predict(features_test)\n",
        "\n",
        "# Оценка точности на обучающей и тестовой выборках\n",
        "train_rmse_knn = sqrt(mean_squared_error(target_train, train_pred_knn))\n",
        "train_mape_knn = mean_absolute_percentage_error(target_train, train_pred_knn)\n",
        "test_rmse_knn = sqrt(mean_squared_error(target_test, test_pred_knn))\n",
        "test_mape_knn = mean_absolute_percentage_error(target_test, test_pred_knn)\n",
        "# Посмотрим на результат\n",
        "itog = pd.DataFrame({\n",
        "    'Метрика': ['RMSE', 'MAPE'],\n",
        "    'Обучающая выборка': [train_rmse_knn, train_mape_knn],\n",
        "    'Тестовая выборка': [test_rmse_knn, test_mape_knn]\n",
        "})\n",
        "itog"
      ],
      "metadata": {
        "id": "Ns7yR3wIcl9U",
        "colab": {
          "base_uri": "https://localhost:8080/",
          "height": 112
        },
        "outputId": "f3871333-75da-401f-8669-2809958598d3"
      },
      "execution_count": null,
      "outputs": [
        {
          "output_type": "execute_result",
          "data": {
            "text/plain": [
              "  Метрика  Обучающая выборка  Тестовая выборка\n",
              "0    RMSE          20.971492         44.457143\n",
              "1    MAPE           0.063612          0.151525"
            ],
            "text/html": [
              "\n",
              "  <div id=\"df-b0a1c39c-bd76-4930-ada7-ec833eba2b61\" class=\"colab-df-container\">\n",
              "    <div>\n",
              "<style scoped>\n",
              "    .dataframe tbody tr th:only-of-type {\n",
              "        vertical-align: middle;\n",
              "    }\n",
              "\n",
              "    .dataframe tbody tr th {\n",
              "        vertical-align: top;\n",
              "    }\n",
              "\n",
              "    .dataframe thead th {\n",
              "        text-align: right;\n",
              "    }\n",
              "</style>\n",
              "<table border=\"1\" class=\"dataframe\">\n",
              "  <thead>\n",
              "    <tr style=\"text-align: right;\">\n",
              "      <th></th>\n",
              "      <th>Метрика</th>\n",
              "      <th>Обучающая выборка</th>\n",
              "      <th>Тестовая выборка</th>\n",
              "    </tr>\n",
              "  </thead>\n",
              "  <tbody>\n",
              "    <tr>\n",
              "      <th>0</th>\n",
              "      <td>RMSE</td>\n",
              "      <td>20.971492</td>\n",
              "      <td>44.457143</td>\n",
              "    </tr>\n",
              "    <tr>\n",
              "      <th>1</th>\n",
              "      <td>MAPE</td>\n",
              "      <td>0.063612</td>\n",
              "      <td>0.151525</td>\n",
              "    </tr>\n",
              "  </tbody>\n",
              "</table>\n",
              "</div>\n",
              "    <div class=\"colab-df-buttons\">\n",
              "\n",
              "  <div class=\"colab-df-container\">\n",
              "    <button class=\"colab-df-convert\" onclick=\"convertToInteractive('df-b0a1c39c-bd76-4930-ada7-ec833eba2b61')\"\n",
              "            title=\"Convert this dataframe to an interactive table.\"\n",
              "            style=\"display:none;\">\n",
              "\n",
              "  <svg xmlns=\"http://www.w3.org/2000/svg\" height=\"24px\" viewBox=\"0 -960 960 960\">\n",
              "    <path d=\"M120-120v-720h720v720H120Zm60-500h600v-160H180v160Zm220 220h160v-160H400v160Zm0 220h160v-160H400v160ZM180-400h160v-160H180v160Zm440 0h160v-160H620v160ZM180-180h160v-160H180v160Zm440 0h160v-160H620v160Z\"/>\n",
              "  </svg>\n",
              "    </button>\n",
              "\n",
              "  <style>\n",
              "    .colab-df-container {\n",
              "      display:flex;\n",
              "      gap: 12px;\n",
              "    }\n",
              "\n",
              "    .colab-df-convert {\n",
              "      background-color: #E8F0FE;\n",
              "      border: none;\n",
              "      border-radius: 50%;\n",
              "      cursor: pointer;\n",
              "      display: none;\n",
              "      fill: #1967D2;\n",
              "      height: 32px;\n",
              "      padding: 0 0 0 0;\n",
              "      width: 32px;\n",
              "    }\n",
              "\n",
              "    .colab-df-convert:hover {\n",
              "      background-color: #E2EBFA;\n",
              "      box-shadow: 0px 1px 2px rgba(60, 64, 67, 0.3), 0px 1px 3px 1px rgba(60, 64, 67, 0.15);\n",
              "      fill: #174EA6;\n",
              "    }\n",
              "\n",
              "    .colab-df-buttons div {\n",
              "      margin-bottom: 4px;\n",
              "    }\n",
              "\n",
              "    [theme=dark] .colab-df-convert {\n",
              "      background-color: #3B4455;\n",
              "      fill: #D2E3FC;\n",
              "    }\n",
              "\n",
              "    [theme=dark] .colab-df-convert:hover {\n",
              "      background-color: #434B5C;\n",
              "      box-shadow: 0px 1px 3px 1px rgba(0, 0, 0, 0.15);\n",
              "      filter: drop-shadow(0px 1px 2px rgba(0, 0, 0, 0.3));\n",
              "      fill: #FFFFFF;\n",
              "    }\n",
              "  </style>\n",
              "\n",
              "    <script>\n",
              "      const buttonEl =\n",
              "        document.querySelector('#df-b0a1c39c-bd76-4930-ada7-ec833eba2b61 button.colab-df-convert');\n",
              "      buttonEl.style.display =\n",
              "        google.colab.kernel.accessAllowed ? 'block' : 'none';\n",
              "\n",
              "      async function convertToInteractive(key) {\n",
              "        const element = document.querySelector('#df-b0a1c39c-bd76-4930-ada7-ec833eba2b61');\n",
              "        const dataTable =\n",
              "          await google.colab.kernel.invokeFunction('convertToInteractive',\n",
              "                                                    [key], {});\n",
              "        if (!dataTable) return;\n",
              "\n",
              "        const docLinkHtml = 'Like what you see? Visit the ' +\n",
              "          '<a target=\"_blank\" href=https://colab.research.google.com/notebooks/data_table.ipynb>data table notebook</a>'\n",
              "          + ' to learn more about interactive tables.';\n",
              "        element.innerHTML = '';\n",
              "        dataTable['output_type'] = 'display_data';\n",
              "        await google.colab.output.renderOutput(dataTable, element);\n",
              "        const docLink = document.createElement('div');\n",
              "        docLink.innerHTML = docLinkHtml;\n",
              "        element.appendChild(docLink);\n",
              "      }\n",
              "    </script>\n",
              "  </div>\n",
              "\n",
              "\n",
              "<div id=\"df-d9fd62ab-751a-4252-a5cc-8861c575f64e\">\n",
              "  <button class=\"colab-df-quickchart\" onclick=\"quickchart('df-d9fd62ab-751a-4252-a5cc-8861c575f64e')\"\n",
              "            title=\"Suggest charts\"\n",
              "            style=\"display:none;\">\n",
              "\n",
              "<svg xmlns=\"http://www.w3.org/2000/svg\" height=\"24px\"viewBox=\"0 0 24 24\"\n",
              "     width=\"24px\">\n",
              "    <g>\n",
              "        <path d=\"M19 3H5c-1.1 0-2 .9-2 2v14c0 1.1.9 2 2 2h14c1.1 0 2-.9 2-2V5c0-1.1-.9-2-2-2zM9 17H7v-7h2v7zm4 0h-2V7h2v10zm4 0h-2v-4h2v4z\"/>\n",
              "    </g>\n",
              "</svg>\n",
              "  </button>\n",
              "\n",
              "<style>\n",
              "  .colab-df-quickchart {\n",
              "      --bg-color: #E8F0FE;\n",
              "      --fill-color: #1967D2;\n",
              "      --hover-bg-color: #E2EBFA;\n",
              "      --hover-fill-color: #174EA6;\n",
              "      --disabled-fill-color: #AAA;\n",
              "      --disabled-bg-color: #DDD;\n",
              "  }\n",
              "\n",
              "  [theme=dark] .colab-df-quickchart {\n",
              "      --bg-color: #3B4455;\n",
              "      --fill-color: #D2E3FC;\n",
              "      --hover-bg-color: #434B5C;\n",
              "      --hover-fill-color: #FFFFFF;\n",
              "      --disabled-bg-color: #3B4455;\n",
              "      --disabled-fill-color: #666;\n",
              "  }\n",
              "\n",
              "  .colab-df-quickchart {\n",
              "    background-color: var(--bg-color);\n",
              "    border: none;\n",
              "    border-radius: 50%;\n",
              "    cursor: pointer;\n",
              "    display: none;\n",
              "    fill: var(--fill-color);\n",
              "    height: 32px;\n",
              "    padding: 0;\n",
              "    width: 32px;\n",
              "  }\n",
              "\n",
              "  .colab-df-quickchart:hover {\n",
              "    background-color: var(--hover-bg-color);\n",
              "    box-shadow: 0 1px 2px rgba(60, 64, 67, 0.3), 0 1px 3px 1px rgba(60, 64, 67, 0.15);\n",
              "    fill: var(--button-hover-fill-color);\n",
              "  }\n",
              "\n",
              "  .colab-df-quickchart-complete:disabled,\n",
              "  .colab-df-quickchart-complete:disabled:hover {\n",
              "    background-color: var(--disabled-bg-color);\n",
              "    fill: var(--disabled-fill-color);\n",
              "    box-shadow: none;\n",
              "  }\n",
              "\n",
              "  .colab-df-spinner {\n",
              "    border: 2px solid var(--fill-color);\n",
              "    border-color: transparent;\n",
              "    border-bottom-color: var(--fill-color);\n",
              "    animation:\n",
              "      spin 1s steps(1) infinite;\n",
              "  }\n",
              "\n",
              "  @keyframes spin {\n",
              "    0% {\n",
              "      border-color: transparent;\n",
              "      border-bottom-color: var(--fill-color);\n",
              "      border-left-color: var(--fill-color);\n",
              "    }\n",
              "    20% {\n",
              "      border-color: transparent;\n",
              "      border-left-color: var(--fill-color);\n",
              "      border-top-color: var(--fill-color);\n",
              "    }\n",
              "    30% {\n",
              "      border-color: transparent;\n",
              "      border-left-color: var(--fill-color);\n",
              "      border-top-color: var(--fill-color);\n",
              "      border-right-color: var(--fill-color);\n",
              "    }\n",
              "    40% {\n",
              "      border-color: transparent;\n",
              "      border-right-color: var(--fill-color);\n",
              "      border-top-color: var(--fill-color);\n",
              "    }\n",
              "    60% {\n",
              "      border-color: transparent;\n",
              "      border-right-color: var(--fill-color);\n",
              "    }\n",
              "    80% {\n",
              "      border-color: transparent;\n",
              "      border-right-color: var(--fill-color);\n",
              "      border-bottom-color: var(--fill-color);\n",
              "    }\n",
              "    90% {\n",
              "      border-color: transparent;\n",
              "      border-bottom-color: var(--fill-color);\n",
              "    }\n",
              "  }\n",
              "</style>\n",
              "\n",
              "  <script>\n",
              "    async function quickchart(key) {\n",
              "      const quickchartButtonEl =\n",
              "        document.querySelector('#' + key + ' button');\n",
              "      quickchartButtonEl.disabled = true;  // To prevent multiple clicks.\n",
              "      quickchartButtonEl.classList.add('colab-df-spinner');\n",
              "      try {\n",
              "        const charts = await google.colab.kernel.invokeFunction(\n",
              "            'suggestCharts', [key], {});\n",
              "      } catch (error) {\n",
              "        console.error('Error during call to suggestCharts:', error);\n",
              "      }\n",
              "      quickchartButtonEl.classList.remove('colab-df-spinner');\n",
              "      quickchartButtonEl.classList.add('colab-df-quickchart-complete');\n",
              "    }\n",
              "    (() => {\n",
              "      let quickchartButtonEl =\n",
              "        document.querySelector('#df-d9fd62ab-751a-4252-a5cc-8861c575f64e button');\n",
              "      quickchartButtonEl.style.display =\n",
              "        google.colab.kernel.accessAllowed ? 'block' : 'none';\n",
              "    })();\n",
              "  </script>\n",
              "</div>\n",
              "    </div>\n",
              "  </div>\n"
            ],
            "application/vnd.google.colaboratory.intrinsic+json": {
              "type": "dataframe",
              "variable_name": "itog",
              "summary": "{\n  \"name\": \"itog\",\n  \"rows\": 2,\n  \"fields\": [\n    {\n      \"column\": \"\\u041c\\u0435\\u0442\\u0440\\u0438\\u043a\\u0430\",\n      \"properties\": {\n        \"dtype\": \"string\",\n        \"num_unique_values\": 2,\n        \"samples\": [\n          \"MAPE\",\n          \"RMSE\"\n        ],\n        \"semantic_type\": \"\",\n        \"description\": \"\"\n      }\n    },\n    {\n      \"column\": \"\\u041e\\u0431\\u0443\\u0447\\u0430\\u044e\\u0449\\u0430\\u044f \\u0432\\u044b\\u0431\\u043e\\u0440\\u043a\\u0430\",\n      \"properties\": {\n        \"dtype\": \"number\",\n        \"std\": 14.784103825900084,\n        \"min\": 0.06361194890382972,\n        \"max\": 20.97149208702369,\n        \"num_unique_values\": 2,\n        \"samples\": [\n          0.06361194890382972,\n          20.97149208702369\n        ],\n        \"semantic_type\": \"\",\n        \"description\": \"\"\n      }\n    },\n    {\n      \"column\": \"\\u0422\\u0435\\u0441\\u0442\\u043e\\u0432\\u0430\\u044f \\u0432\\u044b\\u0431\\u043e\\u0440\\u043a\\u0430\",\n      \"properties\": {\n        \"dtype\": \"number\",\n        \"std\": 31.328802906202462,\n        \"min\": 0.15152468378047373,\n        \"max\": 44.45714264664563,\n        \"num_unique_values\": 2,\n        \"samples\": [\n          0.15152468378047373,\n          44.45714264664563\n        ],\n        \"semantic_type\": \"\",\n        \"description\": \"\"\n      }\n    }\n  ]\n}"
            }
          },
          "metadata": {},
          "execution_count": 87
        }
      ]
    },
    {
      "cell_type": "code",
      "source": [
        "# Оценка точности с помощью кросс-валидации на обучающей выборке\n",
        "knn_score_rmse = cross_val_score(knn_model_reg, features_train_sc, target_train, cv = 5, scoring = 'neg_root_mean_squared_error').mean()\n",
        "knn_score_mape = cross_val_score(knn_model_reg, features_train_sc, target_train, cv = 5, scoring = 'neg_mean_absolute_percentage_error').mean()\n",
        "print(\"Кросс-валидация - RMSE: {:.3f}, MAPE: {:.3f}%\".format(knn_score_rmse, knn_score_mape))"
      ],
      "metadata": {
        "id": "K1fusjW5gQ-D",
        "colab": {
          "base_uri": "https://localhost:8080/"
        },
        "outputId": "686f4627-d172-4a5f-c7c1-c16287b01903"
      },
      "execution_count": null,
      "outputs": [
        {
          "output_type": "stream",
          "name": "stdout",
          "text": [
            "Кросс-валидация - RMSE: -25.703, MAPE: -0.078%\n"
          ]
        }
      ]
    },
    {
      "cell_type": "markdown",
      "source": [
        "**Случайный лес**"
      ],
      "metadata": {
        "id": "A3FtpN1DqIcx"
      }
    },
    {
      "cell_type": "code",
      "source": [
        "rf_model_reg = RandomForestRegressor(n_estimators = 100, random_state = 22)\n",
        "rf_model_reg.fit(features_train_sc, target_train)\n",
        "\n",
        "# Прогнозы на обучающей и тестовой выборках\n",
        "train_pred_rf = rf_model_reg.predict(features_train_sc)\n",
        "test_pred_rf = rf_model_reg.predict(features_test)\n",
        "\n",
        "# Оценка точности на обучающей и тестовой выборках\n",
        "train_rmse_rf = sqrt(mean_squared_error(target_train, train_pred_rf))\n",
        "train_mape_rf = mean_absolute_percentage_error(target_train, train_pred_rf)\n",
        "test_rmse_rf = sqrt(mean_squared_error(target_test, test_pred_rf))\n",
        "test_mape_rf = mean_absolute_percentage_error(target_test, test_pred_rf)\n",
        "# Посмотрим на результат\n",
        "itog2 = pd.DataFrame({\n",
        "    'Метрика': ['RMSE', 'MAPE'],\n",
        "    'Обучающая выборка': [train_rmse_rf, train_mape_rf],\n",
        "    'Тестовая выборка': [test_rmse_rf, test_mape_rf]\n",
        "})\n",
        "itog2"
      ],
      "metadata": {
        "id": "IHw0DbiMqN0C",
        "colab": {
          "base_uri": "https://localhost:8080/",
          "height": 112
        },
        "outputId": "04fc7500-ee7f-4cf8-d374-cacf26b01e3e"
      },
      "execution_count": null,
      "outputs": [
        {
          "output_type": "execute_result",
          "data": {
            "text/plain": [
              "  Метрика  Обучающая выборка  Тестовая выборка\n",
              "0    RMSE          16.429435         42.103004\n",
              "1    MAPE           0.047131          0.144374"
            ],
            "text/html": [
              "\n",
              "  <div id=\"df-752cf0be-6bff-422e-bd0f-3093fd1410cb\" class=\"colab-df-container\">\n",
              "    <div>\n",
              "<style scoped>\n",
              "    .dataframe tbody tr th:only-of-type {\n",
              "        vertical-align: middle;\n",
              "    }\n",
              "\n",
              "    .dataframe tbody tr th {\n",
              "        vertical-align: top;\n",
              "    }\n",
              "\n",
              "    .dataframe thead th {\n",
              "        text-align: right;\n",
              "    }\n",
              "</style>\n",
              "<table border=\"1\" class=\"dataframe\">\n",
              "  <thead>\n",
              "    <tr style=\"text-align: right;\">\n",
              "      <th></th>\n",
              "      <th>Метрика</th>\n",
              "      <th>Обучающая выборка</th>\n",
              "      <th>Тестовая выборка</th>\n",
              "    </tr>\n",
              "  </thead>\n",
              "  <tbody>\n",
              "    <tr>\n",
              "      <th>0</th>\n",
              "      <td>RMSE</td>\n",
              "      <td>16.429435</td>\n",
              "      <td>42.103004</td>\n",
              "    </tr>\n",
              "    <tr>\n",
              "      <th>1</th>\n",
              "      <td>MAPE</td>\n",
              "      <td>0.047131</td>\n",
              "      <td>0.144374</td>\n",
              "    </tr>\n",
              "  </tbody>\n",
              "</table>\n",
              "</div>\n",
              "    <div class=\"colab-df-buttons\">\n",
              "\n",
              "  <div class=\"colab-df-container\">\n",
              "    <button class=\"colab-df-convert\" onclick=\"convertToInteractive('df-752cf0be-6bff-422e-bd0f-3093fd1410cb')\"\n",
              "            title=\"Convert this dataframe to an interactive table.\"\n",
              "            style=\"display:none;\">\n",
              "\n",
              "  <svg xmlns=\"http://www.w3.org/2000/svg\" height=\"24px\" viewBox=\"0 -960 960 960\">\n",
              "    <path d=\"M120-120v-720h720v720H120Zm60-500h600v-160H180v160Zm220 220h160v-160H400v160Zm0 220h160v-160H400v160ZM180-400h160v-160H180v160Zm440 0h160v-160H620v160ZM180-180h160v-160H180v160Zm440 0h160v-160H620v160Z\"/>\n",
              "  </svg>\n",
              "    </button>\n",
              "\n",
              "  <style>\n",
              "    .colab-df-container {\n",
              "      display:flex;\n",
              "      gap: 12px;\n",
              "    }\n",
              "\n",
              "    .colab-df-convert {\n",
              "      background-color: #E8F0FE;\n",
              "      border: none;\n",
              "      border-radius: 50%;\n",
              "      cursor: pointer;\n",
              "      display: none;\n",
              "      fill: #1967D2;\n",
              "      height: 32px;\n",
              "      padding: 0 0 0 0;\n",
              "      width: 32px;\n",
              "    }\n",
              "\n",
              "    .colab-df-convert:hover {\n",
              "      background-color: #E2EBFA;\n",
              "      box-shadow: 0px 1px 2px rgba(60, 64, 67, 0.3), 0px 1px 3px 1px rgba(60, 64, 67, 0.15);\n",
              "      fill: #174EA6;\n",
              "    }\n",
              "\n",
              "    .colab-df-buttons div {\n",
              "      margin-bottom: 4px;\n",
              "    }\n",
              "\n",
              "    [theme=dark] .colab-df-convert {\n",
              "      background-color: #3B4455;\n",
              "      fill: #D2E3FC;\n",
              "    }\n",
              "\n",
              "    [theme=dark] .colab-df-convert:hover {\n",
              "      background-color: #434B5C;\n",
              "      box-shadow: 0px 1px 3px 1px rgba(0, 0, 0, 0.15);\n",
              "      filter: drop-shadow(0px 1px 2px rgba(0, 0, 0, 0.3));\n",
              "      fill: #FFFFFF;\n",
              "    }\n",
              "  </style>\n",
              "\n",
              "    <script>\n",
              "      const buttonEl =\n",
              "        document.querySelector('#df-752cf0be-6bff-422e-bd0f-3093fd1410cb button.colab-df-convert');\n",
              "      buttonEl.style.display =\n",
              "        google.colab.kernel.accessAllowed ? 'block' : 'none';\n",
              "\n",
              "      async function convertToInteractive(key) {\n",
              "        const element = document.querySelector('#df-752cf0be-6bff-422e-bd0f-3093fd1410cb');\n",
              "        const dataTable =\n",
              "          await google.colab.kernel.invokeFunction('convertToInteractive',\n",
              "                                                    [key], {});\n",
              "        if (!dataTable) return;\n",
              "\n",
              "        const docLinkHtml = 'Like what you see? Visit the ' +\n",
              "          '<a target=\"_blank\" href=https://colab.research.google.com/notebooks/data_table.ipynb>data table notebook</a>'\n",
              "          + ' to learn more about interactive tables.';\n",
              "        element.innerHTML = '';\n",
              "        dataTable['output_type'] = 'display_data';\n",
              "        await google.colab.output.renderOutput(dataTable, element);\n",
              "        const docLink = document.createElement('div');\n",
              "        docLink.innerHTML = docLinkHtml;\n",
              "        element.appendChild(docLink);\n",
              "      }\n",
              "    </script>\n",
              "  </div>\n",
              "\n",
              "\n",
              "<div id=\"df-b369fb4b-e6c4-426e-ad05-8fe21bbfee58\">\n",
              "  <button class=\"colab-df-quickchart\" onclick=\"quickchart('df-b369fb4b-e6c4-426e-ad05-8fe21bbfee58')\"\n",
              "            title=\"Suggest charts\"\n",
              "            style=\"display:none;\">\n",
              "\n",
              "<svg xmlns=\"http://www.w3.org/2000/svg\" height=\"24px\"viewBox=\"0 0 24 24\"\n",
              "     width=\"24px\">\n",
              "    <g>\n",
              "        <path d=\"M19 3H5c-1.1 0-2 .9-2 2v14c0 1.1.9 2 2 2h14c1.1 0 2-.9 2-2V5c0-1.1-.9-2-2-2zM9 17H7v-7h2v7zm4 0h-2V7h2v10zm4 0h-2v-4h2v4z\"/>\n",
              "    </g>\n",
              "</svg>\n",
              "  </button>\n",
              "\n",
              "<style>\n",
              "  .colab-df-quickchart {\n",
              "      --bg-color: #E8F0FE;\n",
              "      --fill-color: #1967D2;\n",
              "      --hover-bg-color: #E2EBFA;\n",
              "      --hover-fill-color: #174EA6;\n",
              "      --disabled-fill-color: #AAA;\n",
              "      --disabled-bg-color: #DDD;\n",
              "  }\n",
              "\n",
              "  [theme=dark] .colab-df-quickchart {\n",
              "      --bg-color: #3B4455;\n",
              "      --fill-color: #D2E3FC;\n",
              "      --hover-bg-color: #434B5C;\n",
              "      --hover-fill-color: #FFFFFF;\n",
              "      --disabled-bg-color: #3B4455;\n",
              "      --disabled-fill-color: #666;\n",
              "  }\n",
              "\n",
              "  .colab-df-quickchart {\n",
              "    background-color: var(--bg-color);\n",
              "    border: none;\n",
              "    border-radius: 50%;\n",
              "    cursor: pointer;\n",
              "    display: none;\n",
              "    fill: var(--fill-color);\n",
              "    height: 32px;\n",
              "    padding: 0;\n",
              "    width: 32px;\n",
              "  }\n",
              "\n",
              "  .colab-df-quickchart:hover {\n",
              "    background-color: var(--hover-bg-color);\n",
              "    box-shadow: 0 1px 2px rgba(60, 64, 67, 0.3), 0 1px 3px 1px rgba(60, 64, 67, 0.15);\n",
              "    fill: var(--button-hover-fill-color);\n",
              "  }\n",
              "\n",
              "  .colab-df-quickchart-complete:disabled,\n",
              "  .colab-df-quickchart-complete:disabled:hover {\n",
              "    background-color: var(--disabled-bg-color);\n",
              "    fill: var(--disabled-fill-color);\n",
              "    box-shadow: none;\n",
              "  }\n",
              "\n",
              "  .colab-df-spinner {\n",
              "    border: 2px solid var(--fill-color);\n",
              "    border-color: transparent;\n",
              "    border-bottom-color: var(--fill-color);\n",
              "    animation:\n",
              "      spin 1s steps(1) infinite;\n",
              "  }\n",
              "\n",
              "  @keyframes spin {\n",
              "    0% {\n",
              "      border-color: transparent;\n",
              "      border-bottom-color: var(--fill-color);\n",
              "      border-left-color: var(--fill-color);\n",
              "    }\n",
              "    20% {\n",
              "      border-color: transparent;\n",
              "      border-left-color: var(--fill-color);\n",
              "      border-top-color: var(--fill-color);\n",
              "    }\n",
              "    30% {\n",
              "      border-color: transparent;\n",
              "      border-left-color: var(--fill-color);\n",
              "      border-top-color: var(--fill-color);\n",
              "      border-right-color: var(--fill-color);\n",
              "    }\n",
              "    40% {\n",
              "      border-color: transparent;\n",
              "      border-right-color: var(--fill-color);\n",
              "      border-top-color: var(--fill-color);\n",
              "    }\n",
              "    60% {\n",
              "      border-color: transparent;\n",
              "      border-right-color: var(--fill-color);\n",
              "    }\n",
              "    80% {\n",
              "      border-color: transparent;\n",
              "      border-right-color: var(--fill-color);\n",
              "      border-bottom-color: var(--fill-color);\n",
              "    }\n",
              "    90% {\n",
              "      border-color: transparent;\n",
              "      border-bottom-color: var(--fill-color);\n",
              "    }\n",
              "  }\n",
              "</style>\n",
              "\n",
              "  <script>\n",
              "    async function quickchart(key) {\n",
              "      const quickchartButtonEl =\n",
              "        document.querySelector('#' + key + ' button');\n",
              "      quickchartButtonEl.disabled = true;  // To prevent multiple clicks.\n",
              "      quickchartButtonEl.classList.add('colab-df-spinner');\n",
              "      try {\n",
              "        const charts = await google.colab.kernel.invokeFunction(\n",
              "            'suggestCharts', [key], {});\n",
              "      } catch (error) {\n",
              "        console.error('Error during call to suggestCharts:', error);\n",
              "      }\n",
              "      quickchartButtonEl.classList.remove('colab-df-spinner');\n",
              "      quickchartButtonEl.classList.add('colab-df-quickchart-complete');\n",
              "    }\n",
              "    (() => {\n",
              "      let quickchartButtonEl =\n",
              "        document.querySelector('#df-b369fb4b-e6c4-426e-ad05-8fe21bbfee58 button');\n",
              "      quickchartButtonEl.style.display =\n",
              "        google.colab.kernel.accessAllowed ? 'block' : 'none';\n",
              "    })();\n",
              "  </script>\n",
              "</div>\n",
              "    </div>\n",
              "  </div>\n"
            ],
            "application/vnd.google.colaboratory.intrinsic+json": {
              "type": "dataframe",
              "variable_name": "itog2",
              "summary": "{\n  \"name\": \"itog2\",\n  \"rows\": 2,\n  \"fields\": [\n    {\n      \"column\": \"\\u041c\\u0435\\u0442\\u0440\\u0438\\u043a\\u0430\",\n      \"properties\": {\n        \"dtype\": \"string\",\n        \"num_unique_values\": 2,\n        \"samples\": [\n          \"MAPE\",\n          \"RMSE\"\n        ],\n        \"semantic_type\": \"\",\n        \"description\": \"\"\n      }\n    },\n    {\n      \"column\": \"\\u041e\\u0431\\u0443\\u0447\\u0430\\u044e\\u0449\\u0430\\u044f \\u0432\\u044b\\u0431\\u043e\\u0440\\u043a\\u0430\",\n      \"properties\": {\n        \"dtype\": \"number\",\n        \"std\": 11.584037669681821,\n        \"min\": 0.04713133490781996,\n        \"max\": 16.429434514412677,\n        \"num_unique_values\": 2,\n        \"samples\": [\n          0.04713133490781996,\n          16.429434514412677\n        ],\n        \"semantic_type\": \"\",\n        \"description\": \"\"\n      }\n    },\n    {\n      \"column\": \"\\u0422\\u0435\\u0441\\u0442\\u043e\\u0432\\u0430\\u044f \\u0432\\u044b\\u0431\\u043e\\u0440\\u043a\\u0430\",\n      \"properties\": {\n        \"dtype\": \"number\",\n        \"std\": 29.66923244506407,\n        \"min\": 0.14437358160296726,\n        \"max\": 42.103004490612435,\n        \"num_unique_values\": 2,\n        \"samples\": [\n          0.14437358160296726,\n          42.103004490612435\n        ],\n        \"semantic_type\": \"\",\n        \"description\": \"\"\n      }\n    }\n  ]\n}"
            }
          },
          "metadata": {},
          "execution_count": 89
        }
      ]
    },
    {
      "cell_type": "code",
      "source": [
        "# Оценка точности с помощью кросс-валидации на обучающей выборке\n",
        "rf_score_rmse = cross_val_score(rf_model_reg, features_train_sc, target_train, cv = 5, scoring = 'neg_root_mean_squared_error').mean()\n",
        "rf_score_mape = cross_val_score(rf_model_reg, features_train_sc, target_train, cv = 5, scoring = 'neg_mean_absolute_percentage_error').mean()\n",
        "print(\"Кросс-валидация - RMSE: {:.3f}, MAPE: {:.3f}%\".format(rf_score_rmse, rf_score_mape))"
      ],
      "metadata": {
        "id": "wsICicBQsdGA",
        "colab": {
          "base_uri": "https://localhost:8080/"
        },
        "outputId": "6996c29e-fcd9-4f45-9ce3-7bb6d03ddbf4"
      },
      "execution_count": null,
      "outputs": [
        {
          "output_type": "stream",
          "name": "stdout",
          "text": [
            "Кросс-валидация - RMSE: -27.081, MAPE: -0.082%\n"
          ]
        }
      ]
    },
    {
      "cell_type": "markdown",
      "source": [
        "**Градиентный бустинг**"
      ],
      "metadata": {
        "id": "WRPqqvB9tM2h"
      }
    },
    {
      "cell_type": "code",
      "source": [
        "gb_model_reg = GradientBoostingRegressor(n_estimators = 100, random_state = 22)\n",
        "gb_model_reg.fit(features_train_sc, target_train)\n",
        "\n",
        "# Прогнозы на обучающей и тестовой выборках\n",
        "train_pred_gb = gb_model_reg.predict(features_train_sc)\n",
        "test_pred_gb = gb_model_reg.predict(features_test)\n",
        "\n",
        "# Оценка точности на обучающей и тестовой выборках\n",
        "train_rmse_gb = sqrt(mean_squared_error(target_train, train_pred_gb))\n",
        "train_mape_gb = mean_absolute_percentage_error(target_train, train_pred_gb)\n",
        "test_rmse_gb = sqrt(mean_squared_error(target_test, test_pred_gb))\n",
        "test_mape_gb = mean_absolute_percentage_error(target_test, test_pred_gb)\n",
        "# Посмотрим на результат\n",
        "itog3 = pd.DataFrame({\n",
        "    'Метрика': ['RMSE', 'MAPE'],\n",
        "    'Обучающая выборка': [train_rmse_gb, train_mape_gb],\n",
        "    'Тестовая выборка': [test_rmse_gb, test_mape_gb]\n",
        "})\n",
        "itog3"
      ],
      "metadata": {
        "id": "LCpFyAt1tRxu",
        "colab": {
          "base_uri": "https://localhost:8080/",
          "height": 112
        },
        "outputId": "7f5000f3-cd2f-4d4e-f9ee-8cf9bdbd2cee"
      },
      "execution_count": null,
      "outputs": [
        {
          "output_type": "execute_result",
          "data": {
            "text/plain": [
              "  Метрика  Обучающая выборка  Тестовая выборка\n",
              "0    RMSE          23.384894         44.147632\n",
              "1    MAPE           0.071183          0.156844"
            ],
            "text/html": [
              "\n",
              "  <div id=\"df-6c8f2fd0-875d-4b0a-bd08-e97313c2d0a7\" class=\"colab-df-container\">\n",
              "    <div>\n",
              "<style scoped>\n",
              "    .dataframe tbody tr th:only-of-type {\n",
              "        vertical-align: middle;\n",
              "    }\n",
              "\n",
              "    .dataframe tbody tr th {\n",
              "        vertical-align: top;\n",
              "    }\n",
              "\n",
              "    .dataframe thead th {\n",
              "        text-align: right;\n",
              "    }\n",
              "</style>\n",
              "<table border=\"1\" class=\"dataframe\">\n",
              "  <thead>\n",
              "    <tr style=\"text-align: right;\">\n",
              "      <th></th>\n",
              "      <th>Метрика</th>\n",
              "      <th>Обучающая выборка</th>\n",
              "      <th>Тестовая выборка</th>\n",
              "    </tr>\n",
              "  </thead>\n",
              "  <tbody>\n",
              "    <tr>\n",
              "      <th>0</th>\n",
              "      <td>RMSE</td>\n",
              "      <td>23.384894</td>\n",
              "      <td>44.147632</td>\n",
              "    </tr>\n",
              "    <tr>\n",
              "      <th>1</th>\n",
              "      <td>MAPE</td>\n",
              "      <td>0.071183</td>\n",
              "      <td>0.156844</td>\n",
              "    </tr>\n",
              "  </tbody>\n",
              "</table>\n",
              "</div>\n",
              "    <div class=\"colab-df-buttons\">\n",
              "\n",
              "  <div class=\"colab-df-container\">\n",
              "    <button class=\"colab-df-convert\" onclick=\"convertToInteractive('df-6c8f2fd0-875d-4b0a-bd08-e97313c2d0a7')\"\n",
              "            title=\"Convert this dataframe to an interactive table.\"\n",
              "            style=\"display:none;\">\n",
              "\n",
              "  <svg xmlns=\"http://www.w3.org/2000/svg\" height=\"24px\" viewBox=\"0 -960 960 960\">\n",
              "    <path d=\"M120-120v-720h720v720H120Zm60-500h600v-160H180v160Zm220 220h160v-160H400v160Zm0 220h160v-160H400v160ZM180-400h160v-160H180v160Zm440 0h160v-160H620v160ZM180-180h160v-160H180v160Zm440 0h160v-160H620v160Z\"/>\n",
              "  </svg>\n",
              "    </button>\n",
              "\n",
              "  <style>\n",
              "    .colab-df-container {\n",
              "      display:flex;\n",
              "      gap: 12px;\n",
              "    }\n",
              "\n",
              "    .colab-df-convert {\n",
              "      background-color: #E8F0FE;\n",
              "      border: none;\n",
              "      border-radius: 50%;\n",
              "      cursor: pointer;\n",
              "      display: none;\n",
              "      fill: #1967D2;\n",
              "      height: 32px;\n",
              "      padding: 0 0 0 0;\n",
              "      width: 32px;\n",
              "    }\n",
              "\n",
              "    .colab-df-convert:hover {\n",
              "      background-color: #E2EBFA;\n",
              "      box-shadow: 0px 1px 2px rgba(60, 64, 67, 0.3), 0px 1px 3px 1px rgba(60, 64, 67, 0.15);\n",
              "      fill: #174EA6;\n",
              "    }\n",
              "\n",
              "    .colab-df-buttons div {\n",
              "      margin-bottom: 4px;\n",
              "    }\n",
              "\n",
              "    [theme=dark] .colab-df-convert {\n",
              "      background-color: #3B4455;\n",
              "      fill: #D2E3FC;\n",
              "    }\n",
              "\n",
              "    [theme=dark] .colab-df-convert:hover {\n",
              "      background-color: #434B5C;\n",
              "      box-shadow: 0px 1px 3px 1px rgba(0, 0, 0, 0.15);\n",
              "      filter: drop-shadow(0px 1px 2px rgba(0, 0, 0, 0.3));\n",
              "      fill: #FFFFFF;\n",
              "    }\n",
              "  </style>\n",
              "\n",
              "    <script>\n",
              "      const buttonEl =\n",
              "        document.querySelector('#df-6c8f2fd0-875d-4b0a-bd08-e97313c2d0a7 button.colab-df-convert');\n",
              "      buttonEl.style.display =\n",
              "        google.colab.kernel.accessAllowed ? 'block' : 'none';\n",
              "\n",
              "      async function convertToInteractive(key) {\n",
              "        const element = document.querySelector('#df-6c8f2fd0-875d-4b0a-bd08-e97313c2d0a7');\n",
              "        const dataTable =\n",
              "          await google.colab.kernel.invokeFunction('convertToInteractive',\n",
              "                                                    [key], {});\n",
              "        if (!dataTable) return;\n",
              "\n",
              "        const docLinkHtml = 'Like what you see? Visit the ' +\n",
              "          '<a target=\"_blank\" href=https://colab.research.google.com/notebooks/data_table.ipynb>data table notebook</a>'\n",
              "          + ' to learn more about interactive tables.';\n",
              "        element.innerHTML = '';\n",
              "        dataTable['output_type'] = 'display_data';\n",
              "        await google.colab.output.renderOutput(dataTable, element);\n",
              "        const docLink = document.createElement('div');\n",
              "        docLink.innerHTML = docLinkHtml;\n",
              "        element.appendChild(docLink);\n",
              "      }\n",
              "    </script>\n",
              "  </div>\n",
              "\n",
              "\n",
              "<div id=\"df-c3b4c3e0-b278-4ddf-beed-66aced3f738b\">\n",
              "  <button class=\"colab-df-quickchart\" onclick=\"quickchart('df-c3b4c3e0-b278-4ddf-beed-66aced3f738b')\"\n",
              "            title=\"Suggest charts\"\n",
              "            style=\"display:none;\">\n",
              "\n",
              "<svg xmlns=\"http://www.w3.org/2000/svg\" height=\"24px\"viewBox=\"0 0 24 24\"\n",
              "     width=\"24px\">\n",
              "    <g>\n",
              "        <path d=\"M19 3H5c-1.1 0-2 .9-2 2v14c0 1.1.9 2 2 2h14c1.1 0 2-.9 2-2V5c0-1.1-.9-2-2-2zM9 17H7v-7h2v7zm4 0h-2V7h2v10zm4 0h-2v-4h2v4z\"/>\n",
              "    </g>\n",
              "</svg>\n",
              "  </button>\n",
              "\n",
              "<style>\n",
              "  .colab-df-quickchart {\n",
              "      --bg-color: #E8F0FE;\n",
              "      --fill-color: #1967D2;\n",
              "      --hover-bg-color: #E2EBFA;\n",
              "      --hover-fill-color: #174EA6;\n",
              "      --disabled-fill-color: #AAA;\n",
              "      --disabled-bg-color: #DDD;\n",
              "  }\n",
              "\n",
              "  [theme=dark] .colab-df-quickchart {\n",
              "      --bg-color: #3B4455;\n",
              "      --fill-color: #D2E3FC;\n",
              "      --hover-bg-color: #434B5C;\n",
              "      --hover-fill-color: #FFFFFF;\n",
              "      --disabled-bg-color: #3B4455;\n",
              "      --disabled-fill-color: #666;\n",
              "  }\n",
              "\n",
              "  .colab-df-quickchart {\n",
              "    background-color: var(--bg-color);\n",
              "    border: none;\n",
              "    border-radius: 50%;\n",
              "    cursor: pointer;\n",
              "    display: none;\n",
              "    fill: var(--fill-color);\n",
              "    height: 32px;\n",
              "    padding: 0;\n",
              "    width: 32px;\n",
              "  }\n",
              "\n",
              "  .colab-df-quickchart:hover {\n",
              "    background-color: var(--hover-bg-color);\n",
              "    box-shadow: 0 1px 2px rgba(60, 64, 67, 0.3), 0 1px 3px 1px rgba(60, 64, 67, 0.15);\n",
              "    fill: var(--button-hover-fill-color);\n",
              "  }\n",
              "\n",
              "  .colab-df-quickchart-complete:disabled,\n",
              "  .colab-df-quickchart-complete:disabled:hover {\n",
              "    background-color: var(--disabled-bg-color);\n",
              "    fill: var(--disabled-fill-color);\n",
              "    box-shadow: none;\n",
              "  }\n",
              "\n",
              "  .colab-df-spinner {\n",
              "    border: 2px solid var(--fill-color);\n",
              "    border-color: transparent;\n",
              "    border-bottom-color: var(--fill-color);\n",
              "    animation:\n",
              "      spin 1s steps(1) infinite;\n",
              "  }\n",
              "\n",
              "  @keyframes spin {\n",
              "    0% {\n",
              "      border-color: transparent;\n",
              "      border-bottom-color: var(--fill-color);\n",
              "      border-left-color: var(--fill-color);\n",
              "    }\n",
              "    20% {\n",
              "      border-color: transparent;\n",
              "      border-left-color: var(--fill-color);\n",
              "      border-top-color: var(--fill-color);\n",
              "    }\n",
              "    30% {\n",
              "      border-color: transparent;\n",
              "      border-left-color: var(--fill-color);\n",
              "      border-top-color: var(--fill-color);\n",
              "      border-right-color: var(--fill-color);\n",
              "    }\n",
              "    40% {\n",
              "      border-color: transparent;\n",
              "      border-right-color: var(--fill-color);\n",
              "      border-top-color: var(--fill-color);\n",
              "    }\n",
              "    60% {\n",
              "      border-color: transparent;\n",
              "      border-right-color: var(--fill-color);\n",
              "    }\n",
              "    80% {\n",
              "      border-color: transparent;\n",
              "      border-right-color: var(--fill-color);\n",
              "      border-bottom-color: var(--fill-color);\n",
              "    }\n",
              "    90% {\n",
              "      border-color: transparent;\n",
              "      border-bottom-color: var(--fill-color);\n",
              "    }\n",
              "  }\n",
              "</style>\n",
              "\n",
              "  <script>\n",
              "    async function quickchart(key) {\n",
              "      const quickchartButtonEl =\n",
              "        document.querySelector('#' + key + ' button');\n",
              "      quickchartButtonEl.disabled = true;  // To prevent multiple clicks.\n",
              "      quickchartButtonEl.classList.add('colab-df-spinner');\n",
              "      try {\n",
              "        const charts = await google.colab.kernel.invokeFunction(\n",
              "            'suggestCharts', [key], {});\n",
              "      } catch (error) {\n",
              "        console.error('Error during call to suggestCharts:', error);\n",
              "      }\n",
              "      quickchartButtonEl.classList.remove('colab-df-spinner');\n",
              "      quickchartButtonEl.classList.add('colab-df-quickchart-complete');\n",
              "    }\n",
              "    (() => {\n",
              "      let quickchartButtonEl =\n",
              "        document.querySelector('#df-c3b4c3e0-b278-4ddf-beed-66aced3f738b button');\n",
              "      quickchartButtonEl.style.display =\n",
              "        google.colab.kernel.accessAllowed ? 'block' : 'none';\n",
              "    })();\n",
              "  </script>\n",
              "</div>\n",
              "    </div>\n",
              "  </div>\n"
            ],
            "application/vnd.google.colaboratory.intrinsic+json": {
              "type": "dataframe",
              "variable_name": "itog3",
              "summary": "{\n  \"name\": \"itog3\",\n  \"rows\": 2,\n  \"fields\": [\n    {\n      \"column\": \"\\u041c\\u0435\\u0442\\u0440\\u0438\\u043a\\u0430\",\n      \"properties\": {\n        \"dtype\": \"string\",\n        \"num_unique_values\": 2,\n        \"samples\": [\n          \"MAPE\",\n          \"RMSE\"\n        ],\n        \"semantic_type\": \"\",\n        \"description\": \"\"\n      }\n    },\n    {\n      \"column\": \"\\u041e\\u0431\\u0443\\u0447\\u0430\\u044e\\u0449\\u0430\\u044f \\u0432\\u044b\\u0431\\u043e\\u0440\\u043a\\u0430\",\n      \"properties\": {\n        \"dtype\": \"number\",\n        \"std\": 16.485282627250335,\n        \"min\": 0.07118343445821551,\n        \"max\": 23.38489370546921,\n        \"num_unique_values\": 2,\n        \"samples\": [\n          0.07118343445821551,\n          23.38489370546921\n        ],\n        \"semantic_type\": \"\",\n        \"description\": \"\"\n      }\n    },\n    {\n      \"column\": \"\\u0422\\u0435\\u0441\\u0442\\u043e\\u0432\\u0430\\u044f \\u0432\\u044b\\u0431\\u043e\\u0440\\u043a\\u0430\",\n      \"properties\": {\n        \"dtype\": \"number\",\n        \"std\": 31.10618489977457,\n        \"min\": 0.15684351260790266,\n        \"max\": 44.14763207155427,\n        \"num_unique_values\": 2,\n        \"samples\": [\n          0.15684351260790266,\n          44.14763207155427\n        ],\n        \"semantic_type\": \"\",\n        \"description\": \"\"\n      }\n    }\n  ]\n}"
            }
          },
          "metadata": {},
          "execution_count": 91
        }
      ]
    },
    {
      "cell_type": "code",
      "source": [
        "# Оценка точности с помощью кросс-валидации на обучающей выборке\n",
        "gb_score_rmse = cross_val_score(gb_model_reg, features_train_sc, target_train, cv = 5, scoring = 'neg_root_mean_squared_error').mean()\n",
        "gb_score_mape = cross_val_score(gb_model_reg, features_train_sc, target_train, cv = 5, scoring = 'neg_mean_absolute_percentage_error').mean()\n",
        "print(\"Кросс-валидация - RMSE: {:.3f}, MAPE: {:.3f}%\".format(gb_score_rmse, gb_score_mape))"
      ],
      "metadata": {
        "id": "GpXywm8Rtcwc",
        "colab": {
          "base_uri": "https://localhost:8080/"
        },
        "outputId": "996b3ba8-d18f-4e66-b1b0-585f835c0eb4"
      },
      "execution_count": null,
      "outputs": [
        {
          "output_type": "stream",
          "name": "stdout",
          "text": [
            "Кросс-валидация - RMSE: -23.486, MAPE: -0.071%\n"
          ]
        }
      ]
    },
    {
      "cell_type": "markdown",
      "source": [
        "3. Для каждого метода с помощью кросс-валидации на обучающей выборке подберите оптимальные значения гиперпараметров (тюнинг). В качестве критерия\n",
        "качества используйте RMSE. Результат представьте в форме таблицы, в которой для каждого метода должны быть указаны:\n",
        "\n",
        "• изначальные и подобранные значения гиперпараметров.\n",
        "\n",
        "• кросс-валидационное значение RMSE на обучающей выборке с исходными\n",
        "и подобранными значениями гиперпараметров.\n",
        "\n",
        "• значение RMSE на тестовой выборке с исходными и подобранными значениями гиперпараметров.\n"
      ],
      "metadata": {
        "id": "D_taZ3G7t0ik"
      }
    },
    {
      "cell_type": "markdown",
      "source": [
        "**Метод ближайших соседей**"
      ],
      "metadata": {
        "id": "ZYiFYVUO7iG5"
      }
    },
    {
      "cell_type": "code",
      "source": [
        "# Перебираемые значения гиперпараметров\n",
        "hyperparameters = {'n_neighbors': range(1, 11), 'weights': ['uniform', 'distance'], 'p': [1, 2, 3]}\n",
        "\n",
        "# Перебор гиперпараметров с помощью кросс-валидации\n",
        "CV_knn_reg = GridSearchCV(estimator = knn_model_reg,\n",
        "                        param_grid = hyperparameters,\n",
        "                        scoring = \"neg_root_mean_squared_error\",\n",
        "                        cv = 5)\n",
        "CV_knn_reg.fit(X_train_sc, y_train)\n",
        "best_knn_reg = CV_knn_reg.best_params_\n",
        "print(best_knn_reg)"
      ],
      "metadata": {
        "id": "-tGWwxZQt6Sg",
        "colab": {
          "base_uri": "https://localhost:8080/"
        },
        "outputId": "8bcdbacf-7f0c-4fe9-a1ca-027b4a966997"
      },
      "execution_count": null,
      "outputs": [
        {
          "output_type": "stream",
          "name": "stdout",
          "text": [
            "{'n_neighbors': 10, 'p': 1, 'weights': 'uniform'}\n"
          ]
        }
      ]
    },
    {
      "cell_type": "code",
      "source": [
        "# Метод ближайших соседей с подобранными гиперпараметрами\n",
        "best_knn_model_reg = KNeighborsRegressor(n_neighbors = 10, p = 1, weights = 'uniform')\n",
        "best_knn_model_reg.fit(features_train_sc, target_train)\n",
        "test_pred_knn_2 = best_knn_model_reg.predict(features_test)\n",
        "# Оценим точность\n",
        "RMSE_knn_test_new  = sqrt(mean_squared_error(target_test, test_pred_knn_2))    # тестовая выборка\n",
        "# Оценка точности с помощью кросс-валидации на обучающей выборке\n",
        "knn_score_new_reg = cross_val_score(best_knn_model_reg, features_train_sc, target_train, cv = 5, scoring = 'neg_root_mean_squared_error').mean()\n",
        "results_knn = pd.DataFrame({\n",
        "    'Параметры': ['Гиперпараметры', 'Кросс-валидационная RMSE на обучающей выборке', 'RMSE на тестовой выборке'],\n",
        "    'Изначальные значения': [knn_model_reg.get_params(), knn_score_rmse, test_rmse_knn],\n",
        "    'Подобранные значения': [best_knn_model_reg.get_params(), knn_score_new_reg, RMSE_knn_test_new]\n",
        "})\n",
        "pd.set_option('max_colwidth', 200)\n",
        "results_knn"
      ],
      "metadata": {
        "id": "gE9A3MG676gq",
        "colab": {
          "base_uri": "https://localhost:8080/",
          "height": 195
        },
        "outputId": "2c0270ef-4a64-4e2c-99e0-18954d1821e9"
      },
      "execution_count": null,
      "outputs": [
        {
          "output_type": "execute_result",
          "data": {
            "text/plain": [
              "                                       Параметры  \\\n",
              "0                                 Гиперпараметры   \n",
              "1  Кросс-валидационная RMSE на обучающей выборке   \n",
              "2                       RMSE на тестовой выборке   \n",
              "\n",
              "                                                                                                                                   Изначальные значения  \\\n",
              "0  {'algorithm': 'auto', 'leaf_size': 30, 'metric': 'minkowski', 'metric_params': None, 'n_jobs': None, 'n_neighbors': 5, 'p': 2, 'weights': 'uniform'}   \n",
              "1                                                                                                                                            -25.703245   \n",
              "2                                                                                                                                             44.457143   \n",
              "\n",
              "                                                                                                                                    Подобранные значения  \n",
              "0  {'algorithm': 'auto', 'leaf_size': 30, 'metric': 'minkowski', 'metric_params': None, 'n_jobs': None, 'n_neighbors': 10, 'p': 1, 'weights': 'uniform'}  \n",
              "1                                                                                                                                              -24.61592  \n",
              "2                                                                                                                                               32.38225  "
            ],
            "text/html": [
              "\n",
              "  <div id=\"df-06f7941c-f4a4-47ab-b377-81fecba8ef61\" class=\"colab-df-container\">\n",
              "    <div>\n",
              "<style scoped>\n",
              "    .dataframe tbody tr th:only-of-type {\n",
              "        vertical-align: middle;\n",
              "    }\n",
              "\n",
              "    .dataframe tbody tr th {\n",
              "        vertical-align: top;\n",
              "    }\n",
              "\n",
              "    .dataframe thead th {\n",
              "        text-align: right;\n",
              "    }\n",
              "</style>\n",
              "<table border=\"1\" class=\"dataframe\">\n",
              "  <thead>\n",
              "    <tr style=\"text-align: right;\">\n",
              "      <th></th>\n",
              "      <th>Параметры</th>\n",
              "      <th>Изначальные значения</th>\n",
              "      <th>Подобранные значения</th>\n",
              "    </tr>\n",
              "  </thead>\n",
              "  <tbody>\n",
              "    <tr>\n",
              "      <th>0</th>\n",
              "      <td>Гиперпараметры</td>\n",
              "      <td>{'algorithm': 'auto', 'leaf_size': 30, 'metric': 'minkowski', 'metric_params': None, 'n_jobs': None, 'n_neighbors': 5, 'p': 2, 'weights': 'uniform'}</td>\n",
              "      <td>{'algorithm': 'auto', 'leaf_size': 30, 'metric': 'minkowski', 'metric_params': None, 'n_jobs': None, 'n_neighbors': 10, 'p': 1, 'weights': 'uniform'}</td>\n",
              "    </tr>\n",
              "    <tr>\n",
              "      <th>1</th>\n",
              "      <td>Кросс-валидационная RMSE на обучающей выборке</td>\n",
              "      <td>-25.703245</td>\n",
              "      <td>-24.61592</td>\n",
              "    </tr>\n",
              "    <tr>\n",
              "      <th>2</th>\n",
              "      <td>RMSE на тестовой выборке</td>\n",
              "      <td>44.457143</td>\n",
              "      <td>32.38225</td>\n",
              "    </tr>\n",
              "  </tbody>\n",
              "</table>\n",
              "</div>\n",
              "    <div class=\"colab-df-buttons\">\n",
              "\n",
              "  <div class=\"colab-df-container\">\n",
              "    <button class=\"colab-df-convert\" onclick=\"convertToInteractive('df-06f7941c-f4a4-47ab-b377-81fecba8ef61')\"\n",
              "            title=\"Convert this dataframe to an interactive table.\"\n",
              "            style=\"display:none;\">\n",
              "\n",
              "  <svg xmlns=\"http://www.w3.org/2000/svg\" height=\"24px\" viewBox=\"0 -960 960 960\">\n",
              "    <path d=\"M120-120v-720h720v720H120Zm60-500h600v-160H180v160Zm220 220h160v-160H400v160Zm0 220h160v-160H400v160ZM180-400h160v-160H180v160Zm440 0h160v-160H620v160ZM180-180h160v-160H180v160Zm440 0h160v-160H620v160Z\"/>\n",
              "  </svg>\n",
              "    </button>\n",
              "\n",
              "  <style>\n",
              "    .colab-df-container {\n",
              "      display:flex;\n",
              "      gap: 12px;\n",
              "    }\n",
              "\n",
              "    .colab-df-convert {\n",
              "      background-color: #E8F0FE;\n",
              "      border: none;\n",
              "      border-radius: 50%;\n",
              "      cursor: pointer;\n",
              "      display: none;\n",
              "      fill: #1967D2;\n",
              "      height: 32px;\n",
              "      padding: 0 0 0 0;\n",
              "      width: 32px;\n",
              "    }\n",
              "\n",
              "    .colab-df-convert:hover {\n",
              "      background-color: #E2EBFA;\n",
              "      box-shadow: 0px 1px 2px rgba(60, 64, 67, 0.3), 0px 1px 3px 1px rgba(60, 64, 67, 0.15);\n",
              "      fill: #174EA6;\n",
              "    }\n",
              "\n",
              "    .colab-df-buttons div {\n",
              "      margin-bottom: 4px;\n",
              "    }\n",
              "\n",
              "    [theme=dark] .colab-df-convert {\n",
              "      background-color: #3B4455;\n",
              "      fill: #D2E3FC;\n",
              "    }\n",
              "\n",
              "    [theme=dark] .colab-df-convert:hover {\n",
              "      background-color: #434B5C;\n",
              "      box-shadow: 0px 1px 3px 1px rgba(0, 0, 0, 0.15);\n",
              "      filter: drop-shadow(0px 1px 2px rgba(0, 0, 0, 0.3));\n",
              "      fill: #FFFFFF;\n",
              "    }\n",
              "  </style>\n",
              "\n",
              "    <script>\n",
              "      const buttonEl =\n",
              "        document.querySelector('#df-06f7941c-f4a4-47ab-b377-81fecba8ef61 button.colab-df-convert');\n",
              "      buttonEl.style.display =\n",
              "        google.colab.kernel.accessAllowed ? 'block' : 'none';\n",
              "\n",
              "      async function convertToInteractive(key) {\n",
              "        const element = document.querySelector('#df-06f7941c-f4a4-47ab-b377-81fecba8ef61');\n",
              "        const dataTable =\n",
              "          await google.colab.kernel.invokeFunction('convertToInteractive',\n",
              "                                                    [key], {});\n",
              "        if (!dataTable) return;\n",
              "\n",
              "        const docLinkHtml = 'Like what you see? Visit the ' +\n",
              "          '<a target=\"_blank\" href=https://colab.research.google.com/notebooks/data_table.ipynb>data table notebook</a>'\n",
              "          + ' to learn more about interactive tables.';\n",
              "        element.innerHTML = '';\n",
              "        dataTable['output_type'] = 'display_data';\n",
              "        await google.colab.output.renderOutput(dataTable, element);\n",
              "        const docLink = document.createElement('div');\n",
              "        docLink.innerHTML = docLinkHtml;\n",
              "        element.appendChild(docLink);\n",
              "      }\n",
              "    </script>\n",
              "  </div>\n",
              "\n",
              "\n",
              "<div id=\"df-60dcfeda-e2d8-4265-a049-2e749c78d512\">\n",
              "  <button class=\"colab-df-quickchart\" onclick=\"quickchart('df-60dcfeda-e2d8-4265-a049-2e749c78d512')\"\n",
              "            title=\"Suggest charts\"\n",
              "            style=\"display:none;\">\n",
              "\n",
              "<svg xmlns=\"http://www.w3.org/2000/svg\" height=\"24px\"viewBox=\"0 0 24 24\"\n",
              "     width=\"24px\">\n",
              "    <g>\n",
              "        <path d=\"M19 3H5c-1.1 0-2 .9-2 2v14c0 1.1.9 2 2 2h14c1.1 0 2-.9 2-2V5c0-1.1-.9-2-2-2zM9 17H7v-7h2v7zm4 0h-2V7h2v10zm4 0h-2v-4h2v4z\"/>\n",
              "    </g>\n",
              "</svg>\n",
              "  </button>\n",
              "\n",
              "<style>\n",
              "  .colab-df-quickchart {\n",
              "      --bg-color: #E8F0FE;\n",
              "      --fill-color: #1967D2;\n",
              "      --hover-bg-color: #E2EBFA;\n",
              "      --hover-fill-color: #174EA6;\n",
              "      --disabled-fill-color: #AAA;\n",
              "      --disabled-bg-color: #DDD;\n",
              "  }\n",
              "\n",
              "  [theme=dark] .colab-df-quickchart {\n",
              "      --bg-color: #3B4455;\n",
              "      --fill-color: #D2E3FC;\n",
              "      --hover-bg-color: #434B5C;\n",
              "      --hover-fill-color: #FFFFFF;\n",
              "      --disabled-bg-color: #3B4455;\n",
              "      --disabled-fill-color: #666;\n",
              "  }\n",
              "\n",
              "  .colab-df-quickchart {\n",
              "    background-color: var(--bg-color);\n",
              "    border: none;\n",
              "    border-radius: 50%;\n",
              "    cursor: pointer;\n",
              "    display: none;\n",
              "    fill: var(--fill-color);\n",
              "    height: 32px;\n",
              "    padding: 0;\n",
              "    width: 32px;\n",
              "  }\n",
              "\n",
              "  .colab-df-quickchart:hover {\n",
              "    background-color: var(--hover-bg-color);\n",
              "    box-shadow: 0 1px 2px rgba(60, 64, 67, 0.3), 0 1px 3px 1px rgba(60, 64, 67, 0.15);\n",
              "    fill: var(--button-hover-fill-color);\n",
              "  }\n",
              "\n",
              "  .colab-df-quickchart-complete:disabled,\n",
              "  .colab-df-quickchart-complete:disabled:hover {\n",
              "    background-color: var(--disabled-bg-color);\n",
              "    fill: var(--disabled-fill-color);\n",
              "    box-shadow: none;\n",
              "  }\n",
              "\n",
              "  .colab-df-spinner {\n",
              "    border: 2px solid var(--fill-color);\n",
              "    border-color: transparent;\n",
              "    border-bottom-color: var(--fill-color);\n",
              "    animation:\n",
              "      spin 1s steps(1) infinite;\n",
              "  }\n",
              "\n",
              "  @keyframes spin {\n",
              "    0% {\n",
              "      border-color: transparent;\n",
              "      border-bottom-color: var(--fill-color);\n",
              "      border-left-color: var(--fill-color);\n",
              "    }\n",
              "    20% {\n",
              "      border-color: transparent;\n",
              "      border-left-color: var(--fill-color);\n",
              "      border-top-color: var(--fill-color);\n",
              "    }\n",
              "    30% {\n",
              "      border-color: transparent;\n",
              "      border-left-color: var(--fill-color);\n",
              "      border-top-color: var(--fill-color);\n",
              "      border-right-color: var(--fill-color);\n",
              "    }\n",
              "    40% {\n",
              "      border-color: transparent;\n",
              "      border-right-color: var(--fill-color);\n",
              "      border-top-color: var(--fill-color);\n",
              "    }\n",
              "    60% {\n",
              "      border-color: transparent;\n",
              "      border-right-color: var(--fill-color);\n",
              "    }\n",
              "    80% {\n",
              "      border-color: transparent;\n",
              "      border-right-color: var(--fill-color);\n",
              "      border-bottom-color: var(--fill-color);\n",
              "    }\n",
              "    90% {\n",
              "      border-color: transparent;\n",
              "      border-bottom-color: var(--fill-color);\n",
              "    }\n",
              "  }\n",
              "</style>\n",
              "\n",
              "  <script>\n",
              "    async function quickchart(key) {\n",
              "      const quickchartButtonEl =\n",
              "        document.querySelector('#' + key + ' button');\n",
              "      quickchartButtonEl.disabled = true;  // To prevent multiple clicks.\n",
              "      quickchartButtonEl.classList.add('colab-df-spinner');\n",
              "      try {\n",
              "        const charts = await google.colab.kernel.invokeFunction(\n",
              "            'suggestCharts', [key], {});\n",
              "      } catch (error) {\n",
              "        console.error('Error during call to suggestCharts:', error);\n",
              "      }\n",
              "      quickchartButtonEl.classList.remove('colab-df-spinner');\n",
              "      quickchartButtonEl.classList.add('colab-df-quickchart-complete');\n",
              "    }\n",
              "    (() => {\n",
              "      let quickchartButtonEl =\n",
              "        document.querySelector('#df-60dcfeda-e2d8-4265-a049-2e749c78d512 button');\n",
              "      quickchartButtonEl.style.display =\n",
              "        google.colab.kernel.accessAllowed ? 'block' : 'none';\n",
              "    })();\n",
              "  </script>\n",
              "</div>\n",
              "    </div>\n",
              "  </div>\n"
            ],
            "application/vnd.google.colaboratory.intrinsic+json": {
              "type": "dataframe",
              "variable_name": "results_knn",
              "summary": "{\n  \"name\": \"results_knn\",\n  \"rows\": 3,\n  \"fields\": [\n    {\n      \"column\": \"\\u041f\\u0430\\u0440\\u0430\\u043c\\u0435\\u0442\\u0440\\u044b\",\n      \"properties\": {\n        \"dtype\": \"string\",\n        \"num_unique_values\": 3,\n        \"samples\": [\n          \"\\u0413\\u0438\\u043f\\u0435\\u0440\\u043f\\u0430\\u0440\\u0430\\u043c\\u0435\\u0442\\u0440\\u044b\",\n          \"\\u041a\\u0440\\u043e\\u0441\\u0441-\\u0432\\u0430\\u043b\\u0438\\u0434\\u0430\\u0446\\u0438\\u043e\\u043d\\u043d\\u0430\\u044f RMSE \\u043d\\u0430 \\u043e\\u0431\\u0443\\u0447\\u0430\\u044e\\u0449\\u0435\\u0439 \\u0432\\u044b\\u0431\\u043e\\u0440\\u043a\\u0435\",\n          \"RMSE \\u043d\\u0430 \\u0442\\u0435\\u0441\\u0442\\u043e\\u0432\\u043e\\u0439 \\u0432\\u044b\\u0431\\u043e\\u0440\\u043a\\u0435\"\n        ],\n        \"semantic_type\": \"\",\n        \"description\": \"\"\n      }\n    },\n    {\n      \"column\": \"\\u0418\\u0437\\u043d\\u0430\\u0447\\u0430\\u043b\\u044c\\u043d\\u044b\\u0435 \\u0437\\u043d\\u0430\\u0447\\u0435\\u043d\\u0438\\u044f\",\n      \"properties\": {\n        \"dtype\": \"object\",\n        \"semantic_type\": \"\",\n        \"description\": \"\"\n      }\n    },\n    {\n      \"column\": \"\\u041f\\u043e\\u0434\\u043e\\u0431\\u0440\\u0430\\u043d\\u043d\\u044b\\u0435 \\u0437\\u043d\\u0430\\u0447\\u0435\\u043d\\u0438\\u044f\",\n      \"properties\": {\n        \"dtype\": \"object\",\n        \"semantic_type\": \"\",\n        \"description\": \"\"\n      }\n    }\n  ]\n}"
            }
          },
          "metadata": {},
          "execution_count": 94
        }
      ]
    },
    {
      "cell_type": "markdown",
      "source": [
        "**Случайный лес**"
      ],
      "metadata": {
        "id": "CZ1DUTdI9fgj"
      }
    },
    {
      "cell_type": "code",
      "execution_count": null,
      "metadata": {
        "id": "wYlK3rp49stm",
        "colab": {
          "base_uri": "https://localhost:8080/"
        },
        "outputId": "95b92132-4630-4969-e71a-84f25a0abc6c"
      },
      "outputs": [
        {
          "output_type": "stream",
          "name": "stdout",
          "text": [
            "{'max_depth': 7, 'max_features': None, 'n_estimators': 200, 'random_state': 22}\n"
          ]
        }
      ],
      "source": [
        "# Перебираемые значения гиперпараметров\n",
        "hyperparameters = {'n_estimators': [50, 100, 200], 'max_depth': [3, 5, 7], 'max_features': ['sqrt', 'log2', None],\n",
        "                   'random_state': [22]}\n",
        "\n",
        "# Перебор гиперпараметров с помощью кросс-валидации\n",
        "CV_rf_reg = GridSearchCV(estimator = rf_model_reg,\n",
        "                        param_grid = hyperparameters,\n",
        "                        scoring = \"neg_root_mean_squared_error\",\n",
        "                        cv = 5)\n",
        "CV_rf_reg.fit(features_train_sc, target_train)\n",
        "best_rf_reg = CV_rf_reg.best_params_\n",
        "print(best_rf_reg)"
      ]
    },
    {
      "cell_type": "code",
      "source": [
        "# Случайный лес с подобранными гиперпараметрами\n",
        "best_rf_model_reg = RandomForestRegressor(max_depth = 7, max_features = None, n_estimators = 200, random_state = 22)\n",
        "best_rf_model_reg.fit(features_train_sc, target_train)\n",
        "test_pred_rf_2 = best_rf_model_reg.predict(features_test)\n",
        "# Оценим точность\n",
        "RMSE_rf_test_new  = sqrt(mean_squared_error(target_test, test_pred_rf_2))    # тестовая выборка\n",
        "# Оценка точности с помощью кросс-валидации на обучающей выборке\n",
        "rf_score_new_reg = cross_val_score(best_rf_model_reg, features_train_sc, target_train, cv = 5, scoring = 'neg_root_mean_squared_error').mean()\n",
        "results_rf = pd.DataFrame({\n",
        "    'Параметры': ['Гиперпараметры', 'Кросс-валидационная RMSE на обучающей выборке', 'RMSE на тестовой выборке'],\n",
        "    'Изначальные значения': [rf_model_reg.get_params(), rf_score_rmse, test_rmse_rf],\n",
        "    'Подобранные значения': [best_rf_model_reg.get_params(), rf_score_new_reg, RMSE_rf_test_new]\n",
        "})\n",
        "pd.set_option('max_colwidth', 1000)\n",
        "results_rf"
      ],
      "metadata": {
        "id": "V_GJwFA-9hlc",
        "colab": {
          "base_uri": "https://localhost:8080/",
          "height": 317
        },
        "outputId": "0253e098-9b59-48a6-a0c5-995db34adaa9"
      },
      "execution_count": null,
      "outputs": [
        {
          "output_type": "execute_result",
          "data": {
            "text/plain": [
              "                                       Параметры  \\\n",
              "0                                 Гиперпараметры   \n",
              "1  Кросс-валидационная RMSE на обучающей выборке   \n",
              "2                       RMSE на тестовой выборке   \n",
              "\n",
              "                                                                                                                                                                                                                                                                                                                                                                     Изначальные значения  \\\n",
              "0  {'bootstrap': True, 'ccp_alpha': 0.0, 'criterion': 'squared_error', 'max_depth': None, 'max_features': 1.0, 'max_leaf_nodes': None, 'max_samples': None, 'min_impurity_decrease': 0.0, 'min_samples_leaf': 1, 'min_samples_split': 2, 'min_weight_fraction_leaf': 0.0, 'n_estimators': 100, 'n_jobs': None, 'oob_score': False, 'random_state': 22, 'verbose': 0, 'warm_start': False}   \n",
              "1                                                                                                                                                                                                                                                                                                                                                                              -27.080712   \n",
              "2                                                                                                                                                                                                                                                                                                                                                                               42.103004   \n",
              "\n",
              "                                                                                                                                                                                                                                                                                                                                                                   Подобранные значения  \n",
              "0  {'bootstrap': True, 'ccp_alpha': 0.0, 'criterion': 'squared_error', 'max_depth': 7, 'max_features': None, 'max_leaf_nodes': None, 'max_samples': None, 'min_impurity_decrease': 0.0, 'min_samples_leaf': 1, 'min_samples_split': 2, 'min_weight_fraction_leaf': 0.0, 'n_estimators': 200, 'n_jobs': None, 'oob_score': False, 'random_state': 22, 'verbose': 0, 'warm_start': False}  \n",
              "1                                                                                                                                                                                                                                                                                                                                                                            -23.495984  \n",
              "2                                                                                                                                                                                                                                                                                                                                                                             38.595541  "
            ],
            "text/html": [
              "\n",
              "  <div id=\"df-46b5074d-7ef1-4e8d-816d-87dd7169e63a\" class=\"colab-df-container\">\n",
              "    <div>\n",
              "<style scoped>\n",
              "    .dataframe tbody tr th:only-of-type {\n",
              "        vertical-align: middle;\n",
              "    }\n",
              "\n",
              "    .dataframe tbody tr th {\n",
              "        vertical-align: top;\n",
              "    }\n",
              "\n",
              "    .dataframe thead th {\n",
              "        text-align: right;\n",
              "    }\n",
              "</style>\n",
              "<table border=\"1\" class=\"dataframe\">\n",
              "  <thead>\n",
              "    <tr style=\"text-align: right;\">\n",
              "      <th></th>\n",
              "      <th>Параметры</th>\n",
              "      <th>Изначальные значения</th>\n",
              "      <th>Подобранные значения</th>\n",
              "    </tr>\n",
              "  </thead>\n",
              "  <tbody>\n",
              "    <tr>\n",
              "      <th>0</th>\n",
              "      <td>Гиперпараметры</td>\n",
              "      <td>{'bootstrap': True, 'ccp_alpha': 0.0, 'criterion': 'squared_error', 'max_depth': None, 'max_features': 1.0, 'max_leaf_nodes': None, 'max_samples': None, 'min_impurity_decrease': 0.0, 'min_samples_leaf': 1, 'min_samples_split': 2, 'min_weight_fraction_leaf': 0.0, 'n_estimators': 100, 'n_jobs': None, 'oob_score': False, 'random_state': 22, 'verbose': 0, 'warm_start': False}</td>\n",
              "      <td>{'bootstrap': True, 'ccp_alpha': 0.0, 'criterion': 'squared_error', 'max_depth': 7, 'max_features': None, 'max_leaf_nodes': None, 'max_samples': None, 'min_impurity_decrease': 0.0, 'min_samples_leaf': 1, 'min_samples_split': 2, 'min_weight_fraction_leaf': 0.0, 'n_estimators': 200, 'n_jobs': None, 'oob_score': False, 'random_state': 22, 'verbose': 0, 'warm_start': False}</td>\n",
              "    </tr>\n",
              "    <tr>\n",
              "      <th>1</th>\n",
              "      <td>Кросс-валидационная RMSE на обучающей выборке</td>\n",
              "      <td>-27.080712</td>\n",
              "      <td>-23.495984</td>\n",
              "    </tr>\n",
              "    <tr>\n",
              "      <th>2</th>\n",
              "      <td>RMSE на тестовой выборке</td>\n",
              "      <td>42.103004</td>\n",
              "      <td>38.595541</td>\n",
              "    </tr>\n",
              "  </tbody>\n",
              "</table>\n",
              "</div>\n",
              "    <div class=\"colab-df-buttons\">\n",
              "\n",
              "  <div class=\"colab-df-container\">\n",
              "    <button class=\"colab-df-convert\" onclick=\"convertToInteractive('df-46b5074d-7ef1-4e8d-816d-87dd7169e63a')\"\n",
              "            title=\"Convert this dataframe to an interactive table.\"\n",
              "            style=\"display:none;\">\n",
              "\n",
              "  <svg xmlns=\"http://www.w3.org/2000/svg\" height=\"24px\" viewBox=\"0 -960 960 960\">\n",
              "    <path d=\"M120-120v-720h720v720H120Zm60-500h600v-160H180v160Zm220 220h160v-160H400v160Zm0 220h160v-160H400v160ZM180-400h160v-160H180v160Zm440 0h160v-160H620v160ZM180-180h160v-160H180v160Zm440 0h160v-160H620v160Z\"/>\n",
              "  </svg>\n",
              "    </button>\n",
              "\n",
              "  <style>\n",
              "    .colab-df-container {\n",
              "      display:flex;\n",
              "      gap: 12px;\n",
              "    }\n",
              "\n",
              "    .colab-df-convert {\n",
              "      background-color: #E8F0FE;\n",
              "      border: none;\n",
              "      border-radius: 50%;\n",
              "      cursor: pointer;\n",
              "      display: none;\n",
              "      fill: #1967D2;\n",
              "      height: 32px;\n",
              "      padding: 0 0 0 0;\n",
              "      width: 32px;\n",
              "    }\n",
              "\n",
              "    .colab-df-convert:hover {\n",
              "      background-color: #E2EBFA;\n",
              "      box-shadow: 0px 1px 2px rgba(60, 64, 67, 0.3), 0px 1px 3px 1px rgba(60, 64, 67, 0.15);\n",
              "      fill: #174EA6;\n",
              "    }\n",
              "\n",
              "    .colab-df-buttons div {\n",
              "      margin-bottom: 4px;\n",
              "    }\n",
              "\n",
              "    [theme=dark] .colab-df-convert {\n",
              "      background-color: #3B4455;\n",
              "      fill: #D2E3FC;\n",
              "    }\n",
              "\n",
              "    [theme=dark] .colab-df-convert:hover {\n",
              "      background-color: #434B5C;\n",
              "      box-shadow: 0px 1px 3px 1px rgba(0, 0, 0, 0.15);\n",
              "      filter: drop-shadow(0px 1px 2px rgba(0, 0, 0, 0.3));\n",
              "      fill: #FFFFFF;\n",
              "    }\n",
              "  </style>\n",
              "\n",
              "    <script>\n",
              "      const buttonEl =\n",
              "        document.querySelector('#df-46b5074d-7ef1-4e8d-816d-87dd7169e63a button.colab-df-convert');\n",
              "      buttonEl.style.display =\n",
              "        google.colab.kernel.accessAllowed ? 'block' : 'none';\n",
              "\n",
              "      async function convertToInteractive(key) {\n",
              "        const element = document.querySelector('#df-46b5074d-7ef1-4e8d-816d-87dd7169e63a');\n",
              "        const dataTable =\n",
              "          await google.colab.kernel.invokeFunction('convertToInteractive',\n",
              "                                                    [key], {});\n",
              "        if (!dataTable) return;\n",
              "\n",
              "        const docLinkHtml = 'Like what you see? Visit the ' +\n",
              "          '<a target=\"_blank\" href=https://colab.research.google.com/notebooks/data_table.ipynb>data table notebook</a>'\n",
              "          + ' to learn more about interactive tables.';\n",
              "        element.innerHTML = '';\n",
              "        dataTable['output_type'] = 'display_data';\n",
              "        await google.colab.output.renderOutput(dataTable, element);\n",
              "        const docLink = document.createElement('div');\n",
              "        docLink.innerHTML = docLinkHtml;\n",
              "        element.appendChild(docLink);\n",
              "      }\n",
              "    </script>\n",
              "  </div>\n",
              "\n",
              "\n",
              "<div id=\"df-96767862-7b95-45bb-af62-e2f8487c9ea5\">\n",
              "  <button class=\"colab-df-quickchart\" onclick=\"quickchart('df-96767862-7b95-45bb-af62-e2f8487c9ea5')\"\n",
              "            title=\"Suggest charts\"\n",
              "            style=\"display:none;\">\n",
              "\n",
              "<svg xmlns=\"http://www.w3.org/2000/svg\" height=\"24px\"viewBox=\"0 0 24 24\"\n",
              "     width=\"24px\">\n",
              "    <g>\n",
              "        <path d=\"M19 3H5c-1.1 0-2 .9-2 2v14c0 1.1.9 2 2 2h14c1.1 0 2-.9 2-2V5c0-1.1-.9-2-2-2zM9 17H7v-7h2v7zm4 0h-2V7h2v10zm4 0h-2v-4h2v4z\"/>\n",
              "    </g>\n",
              "</svg>\n",
              "  </button>\n",
              "\n",
              "<style>\n",
              "  .colab-df-quickchart {\n",
              "      --bg-color: #E8F0FE;\n",
              "      --fill-color: #1967D2;\n",
              "      --hover-bg-color: #E2EBFA;\n",
              "      --hover-fill-color: #174EA6;\n",
              "      --disabled-fill-color: #AAA;\n",
              "      --disabled-bg-color: #DDD;\n",
              "  }\n",
              "\n",
              "  [theme=dark] .colab-df-quickchart {\n",
              "      --bg-color: #3B4455;\n",
              "      --fill-color: #D2E3FC;\n",
              "      --hover-bg-color: #434B5C;\n",
              "      --hover-fill-color: #FFFFFF;\n",
              "      --disabled-bg-color: #3B4455;\n",
              "      --disabled-fill-color: #666;\n",
              "  }\n",
              "\n",
              "  .colab-df-quickchart {\n",
              "    background-color: var(--bg-color);\n",
              "    border: none;\n",
              "    border-radius: 50%;\n",
              "    cursor: pointer;\n",
              "    display: none;\n",
              "    fill: var(--fill-color);\n",
              "    height: 32px;\n",
              "    padding: 0;\n",
              "    width: 32px;\n",
              "  }\n",
              "\n",
              "  .colab-df-quickchart:hover {\n",
              "    background-color: var(--hover-bg-color);\n",
              "    box-shadow: 0 1px 2px rgba(60, 64, 67, 0.3), 0 1px 3px 1px rgba(60, 64, 67, 0.15);\n",
              "    fill: var(--button-hover-fill-color);\n",
              "  }\n",
              "\n",
              "  .colab-df-quickchart-complete:disabled,\n",
              "  .colab-df-quickchart-complete:disabled:hover {\n",
              "    background-color: var(--disabled-bg-color);\n",
              "    fill: var(--disabled-fill-color);\n",
              "    box-shadow: none;\n",
              "  }\n",
              "\n",
              "  .colab-df-spinner {\n",
              "    border: 2px solid var(--fill-color);\n",
              "    border-color: transparent;\n",
              "    border-bottom-color: var(--fill-color);\n",
              "    animation:\n",
              "      spin 1s steps(1) infinite;\n",
              "  }\n",
              "\n",
              "  @keyframes spin {\n",
              "    0% {\n",
              "      border-color: transparent;\n",
              "      border-bottom-color: var(--fill-color);\n",
              "      border-left-color: var(--fill-color);\n",
              "    }\n",
              "    20% {\n",
              "      border-color: transparent;\n",
              "      border-left-color: var(--fill-color);\n",
              "      border-top-color: var(--fill-color);\n",
              "    }\n",
              "    30% {\n",
              "      border-color: transparent;\n",
              "      border-left-color: var(--fill-color);\n",
              "      border-top-color: var(--fill-color);\n",
              "      border-right-color: var(--fill-color);\n",
              "    }\n",
              "    40% {\n",
              "      border-color: transparent;\n",
              "      border-right-color: var(--fill-color);\n",
              "      border-top-color: var(--fill-color);\n",
              "    }\n",
              "    60% {\n",
              "      border-color: transparent;\n",
              "      border-right-color: var(--fill-color);\n",
              "    }\n",
              "    80% {\n",
              "      border-color: transparent;\n",
              "      border-right-color: var(--fill-color);\n",
              "      border-bottom-color: var(--fill-color);\n",
              "    }\n",
              "    90% {\n",
              "      border-color: transparent;\n",
              "      border-bottom-color: var(--fill-color);\n",
              "    }\n",
              "  }\n",
              "</style>\n",
              "\n",
              "  <script>\n",
              "    async function quickchart(key) {\n",
              "      const quickchartButtonEl =\n",
              "        document.querySelector('#' + key + ' button');\n",
              "      quickchartButtonEl.disabled = true;  // To prevent multiple clicks.\n",
              "      quickchartButtonEl.classList.add('colab-df-spinner');\n",
              "      try {\n",
              "        const charts = await google.colab.kernel.invokeFunction(\n",
              "            'suggestCharts', [key], {});\n",
              "      } catch (error) {\n",
              "        console.error('Error during call to suggestCharts:', error);\n",
              "      }\n",
              "      quickchartButtonEl.classList.remove('colab-df-spinner');\n",
              "      quickchartButtonEl.classList.add('colab-df-quickchart-complete');\n",
              "    }\n",
              "    (() => {\n",
              "      let quickchartButtonEl =\n",
              "        document.querySelector('#df-96767862-7b95-45bb-af62-e2f8487c9ea5 button');\n",
              "      quickchartButtonEl.style.display =\n",
              "        google.colab.kernel.accessAllowed ? 'block' : 'none';\n",
              "    })();\n",
              "  </script>\n",
              "</div>\n",
              "    </div>\n",
              "  </div>\n"
            ],
            "application/vnd.google.colaboratory.intrinsic+json": {
              "type": "dataframe",
              "variable_name": "results_rf",
              "summary": "{\n  \"name\": \"results_rf\",\n  \"rows\": 3,\n  \"fields\": [\n    {\n      \"column\": \"\\u041f\\u0430\\u0440\\u0430\\u043c\\u0435\\u0442\\u0440\\u044b\",\n      \"properties\": {\n        \"dtype\": \"string\",\n        \"num_unique_values\": 3,\n        \"samples\": [\n          \"\\u0413\\u0438\\u043f\\u0435\\u0440\\u043f\\u0430\\u0440\\u0430\\u043c\\u0435\\u0442\\u0440\\u044b\",\n          \"\\u041a\\u0440\\u043e\\u0441\\u0441-\\u0432\\u0430\\u043b\\u0438\\u0434\\u0430\\u0446\\u0438\\u043e\\u043d\\u043d\\u0430\\u044f RMSE \\u043d\\u0430 \\u043e\\u0431\\u0443\\u0447\\u0430\\u044e\\u0449\\u0435\\u0439 \\u0432\\u044b\\u0431\\u043e\\u0440\\u043a\\u0435\",\n          \"RMSE \\u043d\\u0430 \\u0442\\u0435\\u0441\\u0442\\u043e\\u0432\\u043e\\u0439 \\u0432\\u044b\\u0431\\u043e\\u0440\\u043a\\u0435\"\n        ],\n        \"semantic_type\": \"\",\n        \"description\": \"\"\n      }\n    },\n    {\n      \"column\": \"\\u0418\\u0437\\u043d\\u0430\\u0447\\u0430\\u043b\\u044c\\u043d\\u044b\\u0435 \\u0437\\u043d\\u0430\\u0447\\u0435\\u043d\\u0438\\u044f\",\n      \"properties\": {\n        \"dtype\": \"object\",\n        \"semantic_type\": \"\",\n        \"description\": \"\"\n      }\n    },\n    {\n      \"column\": \"\\u041f\\u043e\\u0434\\u043e\\u0431\\u0440\\u0430\\u043d\\u043d\\u044b\\u0435 \\u0437\\u043d\\u0430\\u0447\\u0435\\u043d\\u0438\\u044f\",\n      \"properties\": {\n        \"dtype\": \"object\",\n        \"semantic_type\": \"\",\n        \"description\": \"\"\n      }\n    }\n  ]\n}"
            }
          },
          "metadata": {},
          "execution_count": 96
        }
      ]
    },
    {
      "cell_type": "markdown",
      "source": [
        "**Градиентный бустинг**"
      ],
      "metadata": {
        "id": "3WDUrLSn-yvC"
      }
    },
    {
      "cell_type": "code",
      "execution_count": null,
      "metadata": {
        "colab": {
          "base_uri": "https://localhost:8080/"
        },
        "id": "JW_FcEW5-5KI",
        "outputId": "e9ca4bfd-5d54-406a-be7d-0f34fd16882e"
      },
      "outputs": [
        {
          "output_type": "stream",
          "name": "stdout",
          "text": [
            "{'max_depth': 3, 'max_features': None, 'n_estimators': 100, 'random_state': 22}\n"
          ]
        }
      ],
      "source": [
        "# Перебираемые значения гиперпараметров\n",
        "hyperparameters = {'n_estimators': [50, 100, 200], 'max_depth': [3, 5, 7], 'max_features': ['sqrt', 'log2', None],\n",
        "                   'random_state': [22]}\n",
        "\n",
        "# Перебор гиперпараметров с помощью кросс-валидации\n",
        "CV_gb_reg = GridSearchCV(estimator = gb_model_reg,\n",
        "                        param_grid = hyperparameters,\n",
        "                        scoring = \"neg_root_mean_squared_error\",\n",
        "                        cv = 5)\n",
        "CV_gb_reg.fit(features_train_sc, target_train)\n",
        "best_gb_reg = CV_gb_reg.best_params_\n",
        "print(best_gb_reg)"
      ]
    },
    {
      "cell_type": "code",
      "source": [
        "# Градиентный бустинг с подобранными гиперпараметрами\n",
        "best_gb_model_reg = GradientBoostingRegressor(max_depth = 3, max_features = None, n_estimators = 100, random_state = 22)\n",
        "best_gb_model_reg.fit(features_train_sc, target_train)\n",
        "test_pred_gb_2 = best_gb_model_reg.predict(features_test)\n",
        "# Оценим точность\n",
        "RMSE_gb_test_new  = sqrt(mean_squared_error(target_test, test_pred_gb_2))    # тестовая выборка\n",
        "# Оценка точности с помощью кросс-валидации на обучающей выборке\n",
        "gb_score_new_reg = cross_val_score(best_gb_model_reg, features_train_sc, target_train, cv = 5, scoring = 'neg_root_mean_squared_error').mean()\n",
        "results_gb = pd.DataFrame({\n",
        "    'Параметры': ['Гиперпараметры', 'Кросс-валидационная RMSE на обучающей выборке', 'RMSE на тестовой выборке'],\n",
        "    'Изначальные значения': [gb_model_reg.get_params(), gb_score_rmse, test_rmse_gb],\n",
        "    'Подобранные значения': [best_gb_model_reg.get_params(), gb_score_new_reg, RMSE_gb_test_new]\n",
        "})\n",
        "pd.set_option('max_colwidth', 1000)\n",
        "results_gb"
      ],
      "metadata": {
        "id": "fwIF25iA--gw",
        "colab": {
          "base_uri": "https://localhost:8080/",
          "height": 317
        },
        "outputId": "598e85d4-a451-4aaf-9c48-9be9074d1425"
      },
      "execution_count": null,
      "outputs": [
        {
          "output_type": "execute_result",
          "data": {
            "text/plain": [
              "                                       Параметры  \\\n",
              "0                                 Гиперпараметры   \n",
              "1  Кросс-валидационная RMSE на обучающей выборке   \n",
              "2                       RMSE на тестовой выборке   \n",
              "\n",
              "                                                                                                                                                                                                                                                                                                                                                                                                                                                        Изначальные значения  \\\n",
              "0  {'alpha': 0.9, 'ccp_alpha': 0.0, 'criterion': 'friedman_mse', 'init': None, 'learning_rate': 0.1, 'loss': 'squared_error', 'max_depth': 3, 'max_features': None, 'max_leaf_nodes': None, 'min_impurity_decrease': 0.0, 'min_samples_leaf': 1, 'min_samples_split': 2, 'min_weight_fraction_leaf': 0.0, 'n_estimators': 100, 'n_iter_no_change': None, 'random_state': 22, 'subsample': 1.0, 'tol': 0.0001, 'validation_fraction': 0.1, 'verbose': 0, 'warm_start': False}   \n",
              "1                                                                                                                                                                                                                                                                                                                                                                                                                                                                 -23.486032   \n",
              "2                                                                                                                                                                                                                                                                                                                                                                                                                                                                  44.147632   \n",
              "\n",
              "                                                                                                                                                                                                                                                                                                                                                                                                                                                        Подобранные значения  \n",
              "0  {'alpha': 0.9, 'ccp_alpha': 0.0, 'criterion': 'friedman_mse', 'init': None, 'learning_rate': 0.1, 'loss': 'squared_error', 'max_depth': 3, 'max_features': None, 'max_leaf_nodes': None, 'min_impurity_decrease': 0.0, 'min_samples_leaf': 1, 'min_samples_split': 2, 'min_weight_fraction_leaf': 0.0, 'n_estimators': 100, 'n_iter_no_change': None, 'random_state': 22, 'subsample': 1.0, 'tol': 0.0001, 'validation_fraction': 0.1, 'verbose': 0, 'warm_start': False}  \n",
              "1                                                                                                                                                                                                                                                                                                                                                                                                                                                                 -23.486032  \n",
              "2                                                                                                                                                                                                                                                                                                                                                                                                                                                                  44.147632  "
            ],
            "text/html": [
              "\n",
              "  <div id=\"df-d00a7a69-71cd-409b-b9d9-7edf266e5e72\" class=\"colab-df-container\">\n",
              "    <div>\n",
              "<style scoped>\n",
              "    .dataframe tbody tr th:only-of-type {\n",
              "        vertical-align: middle;\n",
              "    }\n",
              "\n",
              "    .dataframe tbody tr th {\n",
              "        vertical-align: top;\n",
              "    }\n",
              "\n",
              "    .dataframe thead th {\n",
              "        text-align: right;\n",
              "    }\n",
              "</style>\n",
              "<table border=\"1\" class=\"dataframe\">\n",
              "  <thead>\n",
              "    <tr style=\"text-align: right;\">\n",
              "      <th></th>\n",
              "      <th>Параметры</th>\n",
              "      <th>Изначальные значения</th>\n",
              "      <th>Подобранные значения</th>\n",
              "    </tr>\n",
              "  </thead>\n",
              "  <tbody>\n",
              "    <tr>\n",
              "      <th>0</th>\n",
              "      <td>Гиперпараметры</td>\n",
              "      <td>{'alpha': 0.9, 'ccp_alpha': 0.0, 'criterion': 'friedman_mse', 'init': None, 'learning_rate': 0.1, 'loss': 'squared_error', 'max_depth': 3, 'max_features': None, 'max_leaf_nodes': None, 'min_impurity_decrease': 0.0, 'min_samples_leaf': 1, 'min_samples_split': 2, 'min_weight_fraction_leaf': 0.0, 'n_estimators': 100, 'n_iter_no_change': None, 'random_state': 22, 'subsample': 1.0, 'tol': 0.0001, 'validation_fraction': 0.1, 'verbose': 0, 'warm_start': False}</td>\n",
              "      <td>{'alpha': 0.9, 'ccp_alpha': 0.0, 'criterion': 'friedman_mse', 'init': None, 'learning_rate': 0.1, 'loss': 'squared_error', 'max_depth': 3, 'max_features': None, 'max_leaf_nodes': None, 'min_impurity_decrease': 0.0, 'min_samples_leaf': 1, 'min_samples_split': 2, 'min_weight_fraction_leaf': 0.0, 'n_estimators': 100, 'n_iter_no_change': None, 'random_state': 22, 'subsample': 1.0, 'tol': 0.0001, 'validation_fraction': 0.1, 'verbose': 0, 'warm_start': False}</td>\n",
              "    </tr>\n",
              "    <tr>\n",
              "      <th>1</th>\n",
              "      <td>Кросс-валидационная RMSE на обучающей выборке</td>\n",
              "      <td>-23.486032</td>\n",
              "      <td>-23.486032</td>\n",
              "    </tr>\n",
              "    <tr>\n",
              "      <th>2</th>\n",
              "      <td>RMSE на тестовой выборке</td>\n",
              "      <td>44.147632</td>\n",
              "      <td>44.147632</td>\n",
              "    </tr>\n",
              "  </tbody>\n",
              "</table>\n",
              "</div>\n",
              "    <div class=\"colab-df-buttons\">\n",
              "\n",
              "  <div class=\"colab-df-container\">\n",
              "    <button class=\"colab-df-convert\" onclick=\"convertToInteractive('df-d00a7a69-71cd-409b-b9d9-7edf266e5e72')\"\n",
              "            title=\"Convert this dataframe to an interactive table.\"\n",
              "            style=\"display:none;\">\n",
              "\n",
              "  <svg xmlns=\"http://www.w3.org/2000/svg\" height=\"24px\" viewBox=\"0 -960 960 960\">\n",
              "    <path d=\"M120-120v-720h720v720H120Zm60-500h600v-160H180v160Zm220 220h160v-160H400v160Zm0 220h160v-160H400v160ZM180-400h160v-160H180v160Zm440 0h160v-160H620v160ZM180-180h160v-160H180v160Zm440 0h160v-160H620v160Z\"/>\n",
              "  </svg>\n",
              "    </button>\n",
              "\n",
              "  <style>\n",
              "    .colab-df-container {\n",
              "      display:flex;\n",
              "      gap: 12px;\n",
              "    }\n",
              "\n",
              "    .colab-df-convert {\n",
              "      background-color: #E8F0FE;\n",
              "      border: none;\n",
              "      border-radius: 50%;\n",
              "      cursor: pointer;\n",
              "      display: none;\n",
              "      fill: #1967D2;\n",
              "      height: 32px;\n",
              "      padding: 0 0 0 0;\n",
              "      width: 32px;\n",
              "    }\n",
              "\n",
              "    .colab-df-convert:hover {\n",
              "      background-color: #E2EBFA;\n",
              "      box-shadow: 0px 1px 2px rgba(60, 64, 67, 0.3), 0px 1px 3px 1px rgba(60, 64, 67, 0.15);\n",
              "      fill: #174EA6;\n",
              "    }\n",
              "\n",
              "    .colab-df-buttons div {\n",
              "      margin-bottom: 4px;\n",
              "    }\n",
              "\n",
              "    [theme=dark] .colab-df-convert {\n",
              "      background-color: #3B4455;\n",
              "      fill: #D2E3FC;\n",
              "    }\n",
              "\n",
              "    [theme=dark] .colab-df-convert:hover {\n",
              "      background-color: #434B5C;\n",
              "      box-shadow: 0px 1px 3px 1px rgba(0, 0, 0, 0.15);\n",
              "      filter: drop-shadow(0px 1px 2px rgba(0, 0, 0, 0.3));\n",
              "      fill: #FFFFFF;\n",
              "    }\n",
              "  </style>\n",
              "\n",
              "    <script>\n",
              "      const buttonEl =\n",
              "        document.querySelector('#df-d00a7a69-71cd-409b-b9d9-7edf266e5e72 button.colab-df-convert');\n",
              "      buttonEl.style.display =\n",
              "        google.colab.kernel.accessAllowed ? 'block' : 'none';\n",
              "\n",
              "      async function convertToInteractive(key) {\n",
              "        const element = document.querySelector('#df-d00a7a69-71cd-409b-b9d9-7edf266e5e72');\n",
              "        const dataTable =\n",
              "          await google.colab.kernel.invokeFunction('convertToInteractive',\n",
              "                                                    [key], {});\n",
              "        if (!dataTable) return;\n",
              "\n",
              "        const docLinkHtml = 'Like what you see? Visit the ' +\n",
              "          '<a target=\"_blank\" href=https://colab.research.google.com/notebooks/data_table.ipynb>data table notebook</a>'\n",
              "          + ' to learn more about interactive tables.';\n",
              "        element.innerHTML = '';\n",
              "        dataTable['output_type'] = 'display_data';\n",
              "        await google.colab.output.renderOutput(dataTable, element);\n",
              "        const docLink = document.createElement('div');\n",
              "        docLink.innerHTML = docLinkHtml;\n",
              "        element.appendChild(docLink);\n",
              "      }\n",
              "    </script>\n",
              "  </div>\n",
              "\n",
              "\n",
              "<div id=\"df-9d9e4e69-450e-4e19-a7b3-5d773f4f4f22\">\n",
              "  <button class=\"colab-df-quickchart\" onclick=\"quickchart('df-9d9e4e69-450e-4e19-a7b3-5d773f4f4f22')\"\n",
              "            title=\"Suggest charts\"\n",
              "            style=\"display:none;\">\n",
              "\n",
              "<svg xmlns=\"http://www.w3.org/2000/svg\" height=\"24px\"viewBox=\"0 0 24 24\"\n",
              "     width=\"24px\">\n",
              "    <g>\n",
              "        <path d=\"M19 3H5c-1.1 0-2 .9-2 2v14c0 1.1.9 2 2 2h14c1.1 0 2-.9 2-2V5c0-1.1-.9-2-2-2zM9 17H7v-7h2v7zm4 0h-2V7h2v10zm4 0h-2v-4h2v4z\"/>\n",
              "    </g>\n",
              "</svg>\n",
              "  </button>\n",
              "\n",
              "<style>\n",
              "  .colab-df-quickchart {\n",
              "      --bg-color: #E8F0FE;\n",
              "      --fill-color: #1967D2;\n",
              "      --hover-bg-color: #E2EBFA;\n",
              "      --hover-fill-color: #174EA6;\n",
              "      --disabled-fill-color: #AAA;\n",
              "      --disabled-bg-color: #DDD;\n",
              "  }\n",
              "\n",
              "  [theme=dark] .colab-df-quickchart {\n",
              "      --bg-color: #3B4455;\n",
              "      --fill-color: #D2E3FC;\n",
              "      --hover-bg-color: #434B5C;\n",
              "      --hover-fill-color: #FFFFFF;\n",
              "      --disabled-bg-color: #3B4455;\n",
              "      --disabled-fill-color: #666;\n",
              "  }\n",
              "\n",
              "  .colab-df-quickchart {\n",
              "    background-color: var(--bg-color);\n",
              "    border: none;\n",
              "    border-radius: 50%;\n",
              "    cursor: pointer;\n",
              "    display: none;\n",
              "    fill: var(--fill-color);\n",
              "    height: 32px;\n",
              "    padding: 0;\n",
              "    width: 32px;\n",
              "  }\n",
              "\n",
              "  .colab-df-quickchart:hover {\n",
              "    background-color: var(--hover-bg-color);\n",
              "    box-shadow: 0 1px 2px rgba(60, 64, 67, 0.3), 0 1px 3px 1px rgba(60, 64, 67, 0.15);\n",
              "    fill: var(--button-hover-fill-color);\n",
              "  }\n",
              "\n",
              "  .colab-df-quickchart-complete:disabled,\n",
              "  .colab-df-quickchart-complete:disabled:hover {\n",
              "    background-color: var(--disabled-bg-color);\n",
              "    fill: var(--disabled-fill-color);\n",
              "    box-shadow: none;\n",
              "  }\n",
              "\n",
              "  .colab-df-spinner {\n",
              "    border: 2px solid var(--fill-color);\n",
              "    border-color: transparent;\n",
              "    border-bottom-color: var(--fill-color);\n",
              "    animation:\n",
              "      spin 1s steps(1) infinite;\n",
              "  }\n",
              "\n",
              "  @keyframes spin {\n",
              "    0% {\n",
              "      border-color: transparent;\n",
              "      border-bottom-color: var(--fill-color);\n",
              "      border-left-color: var(--fill-color);\n",
              "    }\n",
              "    20% {\n",
              "      border-color: transparent;\n",
              "      border-left-color: var(--fill-color);\n",
              "      border-top-color: var(--fill-color);\n",
              "    }\n",
              "    30% {\n",
              "      border-color: transparent;\n",
              "      border-left-color: var(--fill-color);\n",
              "      border-top-color: var(--fill-color);\n",
              "      border-right-color: var(--fill-color);\n",
              "    }\n",
              "    40% {\n",
              "      border-color: transparent;\n",
              "      border-right-color: var(--fill-color);\n",
              "      border-top-color: var(--fill-color);\n",
              "    }\n",
              "    60% {\n",
              "      border-color: transparent;\n",
              "      border-right-color: var(--fill-color);\n",
              "    }\n",
              "    80% {\n",
              "      border-color: transparent;\n",
              "      border-right-color: var(--fill-color);\n",
              "      border-bottom-color: var(--fill-color);\n",
              "    }\n",
              "    90% {\n",
              "      border-color: transparent;\n",
              "      border-bottom-color: var(--fill-color);\n",
              "    }\n",
              "  }\n",
              "</style>\n",
              "\n",
              "  <script>\n",
              "    async function quickchart(key) {\n",
              "      const quickchartButtonEl =\n",
              "        document.querySelector('#' + key + ' button');\n",
              "      quickchartButtonEl.disabled = true;  // To prevent multiple clicks.\n",
              "      quickchartButtonEl.classList.add('colab-df-spinner');\n",
              "      try {\n",
              "        const charts = await google.colab.kernel.invokeFunction(\n",
              "            'suggestCharts', [key], {});\n",
              "      } catch (error) {\n",
              "        console.error('Error during call to suggestCharts:', error);\n",
              "      }\n",
              "      quickchartButtonEl.classList.remove('colab-df-spinner');\n",
              "      quickchartButtonEl.classList.add('colab-df-quickchart-complete');\n",
              "    }\n",
              "    (() => {\n",
              "      let quickchartButtonEl =\n",
              "        document.querySelector('#df-9d9e4e69-450e-4e19-a7b3-5d773f4f4f22 button');\n",
              "      quickchartButtonEl.style.display =\n",
              "        google.colab.kernel.accessAllowed ? 'block' : 'none';\n",
              "    })();\n",
              "  </script>\n",
              "</div>\n",
              "    </div>\n",
              "  </div>\n"
            ],
            "application/vnd.google.colaboratory.intrinsic+json": {
              "type": "dataframe",
              "variable_name": "results_gb",
              "summary": "{\n  \"name\": \"results_gb\",\n  \"rows\": 3,\n  \"fields\": [\n    {\n      \"column\": \"\\u041f\\u0430\\u0440\\u0430\\u043c\\u0435\\u0442\\u0440\\u044b\",\n      \"properties\": {\n        \"dtype\": \"string\",\n        \"num_unique_values\": 3,\n        \"samples\": [\n          \"\\u0413\\u0438\\u043f\\u0435\\u0440\\u043f\\u0430\\u0440\\u0430\\u043c\\u0435\\u0442\\u0440\\u044b\",\n          \"\\u041a\\u0440\\u043e\\u0441\\u0441-\\u0432\\u0430\\u043b\\u0438\\u0434\\u0430\\u0446\\u0438\\u043e\\u043d\\u043d\\u0430\\u044f RMSE \\u043d\\u0430 \\u043e\\u0431\\u0443\\u0447\\u0430\\u044e\\u0449\\u0435\\u0439 \\u0432\\u044b\\u0431\\u043e\\u0440\\u043a\\u0435\",\n          \"RMSE \\u043d\\u0430 \\u0442\\u0435\\u0441\\u0442\\u043e\\u0432\\u043e\\u0439 \\u0432\\u044b\\u0431\\u043e\\u0440\\u043a\\u0435\"\n        ],\n        \"semantic_type\": \"\",\n        \"description\": \"\"\n      }\n    },\n    {\n      \"column\": \"\\u0418\\u0437\\u043d\\u0430\\u0447\\u0430\\u043b\\u044c\\u043d\\u044b\\u0435 \\u0437\\u043d\\u0430\\u0447\\u0435\\u043d\\u0438\\u044f\",\n      \"properties\": {\n        \"dtype\": \"object\",\n        \"semantic_type\": \"\",\n        \"description\": \"\"\n      }\n    },\n    {\n      \"column\": \"\\u041f\\u043e\\u0434\\u043e\\u0431\\u0440\\u0430\\u043d\\u043d\\u044b\\u0435 \\u0437\\u043d\\u0430\\u0447\\u0435\\u043d\\u0438\\u044f\",\n      \"properties\": {\n        \"dtype\": \"object\",\n        \"semantic_type\": \"\",\n        \"description\": \"\"\n      }\n    }\n  ]\n}"
            }
          },
          "metadata": {},
          "execution_count": 98
        }
      ]
    },
    {
      "cell_type": "markdown",
      "source": [
        "**Повышенная сложность:** подберите на обучающей выборке оптимальные\n",
        "значения гиперпараметров градиентного бустинга ориентируясь на значение\n",
        "OOB (out-of-bag) ошибки. Сопоставьте гиперпараметры и точность на тестовой выборке для градиентного бустинга в зависимости от того, используется\n",
        "кросс-валидация или OOB ошибка."
      ],
      "metadata": {
        "id": "UOdsPFoEEYm5"
      }
    },
    {
      "cell_type": "code",
      "source": [
        "gb_model_oob = GradientBoostingRegressor(random_state = 22)\n",
        "from sklearn.metrics import make_scorer\n",
        "# Создадим альтернативный критерий\n",
        "def calculate_oob_error(model, X_data, y_data):\n",
        "    model.oob_score = True\n",
        "    model.fit(X_data, y_data)\n",
        "    oob_error = 1 - model.oob_score_\n",
        "    return oob_error\n",
        "\n",
        "oob_scorer = make_scorer(calculate_oob_error, greater_is_better = False)\n",
        "# Перебираемые значения гиперпараметров\n",
        "hyperparameters = {'n_estimators': [50, 100, 200], 'max_depth': [3, 5, 7], 'max_features': ['sqrt', 'log2', None]}\n",
        "\n",
        "# Перебор гиперпараметров с помощью кросс-валидации\n",
        "CV_gb_oob = GridSearchCV(estimator = gb_model_oob,\n",
        "                        param_grid = hyperparameters,\n",
        "                        scoring = oob_scorer,\n",
        "                        cv = 5)\n",
        "CV_gb_oob.fit(features_train_sc, target_train)\n",
        "best_gb_oob = CV_gb_oob.best_params_\n",
        "print(best_gb_oob)"
      ],
      "metadata": {
        "id": "T4zL_oAQEc3j",
        "colab": {
          "base_uri": "https://localhost:8080/"
        },
        "outputId": "f360ba79-c499-4a53-a01a-ba1806493f06"
      },
      "execution_count": null,
      "outputs": [
        {
          "output_type": "stream",
          "name": "stdout",
          "text": [
            "{'max_depth': 3, 'max_features': 'sqrt', 'n_estimators': 50}\n"
          ]
        }
      ]
    },
    {
      "cell_type": "code",
      "source": [
        "# Градиентный бустинг с подобранными гиперпараметрами\n",
        "best_gb_oob = GradientBoostingRegressor(max_depth = 3, max_features = 'sqrt', n_estimators = 50, random_state = 22)\n",
        "best_gb_oob.fit(features_train_sc, target_train)\n",
        "test_pred_gb_3 = best_gb_oob.predict(features_test)\n",
        "# Оценим точность\n",
        "RMSE_gb_oob  = sqrt(mean_squared_error(target_test, test_pred_gb_3))    # тестовая выборка\n",
        "# Оценка точности с помощью кросс-валидации на обучающей выборке\n",
        "gb_score__oob = cross_val_score(best_gb_oob, features_train_sc, target_train, cv = 5, scoring = 'neg_root_mean_squared_error').mean()\n",
        "results_gb = pd.DataFrame({\n",
        "    'Параметры': ['Гиперпараметры', 'Кросс-валидационная точность на обучающей выборке', 'Точность на тестовой выборке'],\n",
        "    'Кросс-валидация': [best_gb_model_reg.get_params(), gb_score_new_reg, RMSE_gb_test_new],\n",
        "    'OOB ошибки': [best_gb_oob.get_params(), gb_score__oob, RMSE_gb_oob],\n",
        "})\n",
        "pd.set_option('max_colwidth', 1000)\n",
        "results_gb"
      ],
      "metadata": {
        "id": "6KVwRiJJwvME",
        "colab": {
          "base_uri": "https://localhost:8080/",
          "height": 317
        },
        "outputId": "d64499c0-b7c9-4e33-ff0a-cdddd995405a"
      },
      "execution_count": null,
      "outputs": [
        {
          "output_type": "execute_result",
          "data": {
            "text/plain": [
              "                                           Параметры  \\\n",
              "0                                     Гиперпараметры   \n",
              "1  Кросс-валидационная точность на обучающей выборке   \n",
              "2                       Точность на тестовой выборке   \n",
              "\n",
              "                                                                                                                                                                                                                                                                                                                                                                                                                                                             Кросс-валидация  \\\n",
              "0  {'alpha': 0.9, 'ccp_alpha': 0.0, 'criterion': 'friedman_mse', 'init': None, 'learning_rate': 0.1, 'loss': 'squared_error', 'max_depth': 3, 'max_features': None, 'max_leaf_nodes': None, 'min_impurity_decrease': 0.0, 'min_samples_leaf': 1, 'min_samples_split': 2, 'min_weight_fraction_leaf': 0.0, 'n_estimators': 100, 'n_iter_no_change': None, 'random_state': 22, 'subsample': 1.0, 'tol': 0.0001, 'validation_fraction': 0.1, 'verbose': 0, 'warm_start': False}   \n",
              "1                                                                                                                                                                                                                                                                                                                                                                                                                                                                 -23.486032   \n",
              "2                                                                                                                                                                                                                                                                                                                                                                                                                                                                  44.147632   \n",
              "\n",
              "                                                                                                                                                                                                                                                                                                                                                                                                                                                                   OOB ошибки  \n",
              "0  {'alpha': 0.9, 'ccp_alpha': 0.0, 'criterion': 'friedman_mse', 'init': None, 'learning_rate': 0.1, 'loss': 'squared_error', 'max_depth': 3, 'max_features': 'sqrt', 'max_leaf_nodes': None, 'min_impurity_decrease': 0.0, 'min_samples_leaf': 1, 'min_samples_split': 2, 'min_weight_fraction_leaf': 0.0, 'n_estimators': 50, 'n_iter_no_change': None, 'random_state': 22, 'subsample': 1.0, 'tol': 0.0001, 'validation_fraction': 0.1, 'verbose': 0, 'warm_start': False}  \n",
              "1                                                                                                                                                                                                                                                                                                                                                                                                                                                                  -23.559869  \n",
              "2                                                                                                                                                                                                                                                                                                                                                                                                                                                                     32.3737  "
            ],
            "text/html": [
              "\n",
              "  <div id=\"df-7bb955b9-a0d9-4ce0-b3c1-85cae2417b17\" class=\"colab-df-container\">\n",
              "    <div>\n",
              "<style scoped>\n",
              "    .dataframe tbody tr th:only-of-type {\n",
              "        vertical-align: middle;\n",
              "    }\n",
              "\n",
              "    .dataframe tbody tr th {\n",
              "        vertical-align: top;\n",
              "    }\n",
              "\n",
              "    .dataframe thead th {\n",
              "        text-align: right;\n",
              "    }\n",
              "</style>\n",
              "<table border=\"1\" class=\"dataframe\">\n",
              "  <thead>\n",
              "    <tr style=\"text-align: right;\">\n",
              "      <th></th>\n",
              "      <th>Параметры</th>\n",
              "      <th>Кросс-валидация</th>\n",
              "      <th>OOB ошибки</th>\n",
              "    </tr>\n",
              "  </thead>\n",
              "  <tbody>\n",
              "    <tr>\n",
              "      <th>0</th>\n",
              "      <td>Гиперпараметры</td>\n",
              "      <td>{'alpha': 0.9, 'ccp_alpha': 0.0, 'criterion': 'friedman_mse', 'init': None, 'learning_rate': 0.1, 'loss': 'squared_error', 'max_depth': 3, 'max_features': None, 'max_leaf_nodes': None, 'min_impurity_decrease': 0.0, 'min_samples_leaf': 1, 'min_samples_split': 2, 'min_weight_fraction_leaf': 0.0, 'n_estimators': 100, 'n_iter_no_change': None, 'random_state': 22, 'subsample': 1.0, 'tol': 0.0001, 'validation_fraction': 0.1, 'verbose': 0, 'warm_start': False}</td>\n",
              "      <td>{'alpha': 0.9, 'ccp_alpha': 0.0, 'criterion': 'friedman_mse', 'init': None, 'learning_rate': 0.1, 'loss': 'squared_error', 'max_depth': 3, 'max_features': 'sqrt', 'max_leaf_nodes': None, 'min_impurity_decrease': 0.0, 'min_samples_leaf': 1, 'min_samples_split': 2, 'min_weight_fraction_leaf': 0.0, 'n_estimators': 50, 'n_iter_no_change': None, 'random_state': 22, 'subsample': 1.0, 'tol': 0.0001, 'validation_fraction': 0.1, 'verbose': 0, 'warm_start': False}</td>\n",
              "    </tr>\n",
              "    <tr>\n",
              "      <th>1</th>\n",
              "      <td>Кросс-валидационная точность на обучающей выборке</td>\n",
              "      <td>-23.486032</td>\n",
              "      <td>-23.559869</td>\n",
              "    </tr>\n",
              "    <tr>\n",
              "      <th>2</th>\n",
              "      <td>Точность на тестовой выборке</td>\n",
              "      <td>44.147632</td>\n",
              "      <td>32.3737</td>\n",
              "    </tr>\n",
              "  </tbody>\n",
              "</table>\n",
              "</div>\n",
              "    <div class=\"colab-df-buttons\">\n",
              "\n",
              "  <div class=\"colab-df-container\">\n",
              "    <button class=\"colab-df-convert\" onclick=\"convertToInteractive('df-7bb955b9-a0d9-4ce0-b3c1-85cae2417b17')\"\n",
              "            title=\"Convert this dataframe to an interactive table.\"\n",
              "            style=\"display:none;\">\n",
              "\n",
              "  <svg xmlns=\"http://www.w3.org/2000/svg\" height=\"24px\" viewBox=\"0 -960 960 960\">\n",
              "    <path d=\"M120-120v-720h720v720H120Zm60-500h600v-160H180v160Zm220 220h160v-160H400v160Zm0 220h160v-160H400v160ZM180-400h160v-160H180v160Zm440 0h160v-160H620v160ZM180-180h160v-160H180v160Zm440 0h160v-160H620v160Z\"/>\n",
              "  </svg>\n",
              "    </button>\n",
              "\n",
              "  <style>\n",
              "    .colab-df-container {\n",
              "      display:flex;\n",
              "      gap: 12px;\n",
              "    }\n",
              "\n",
              "    .colab-df-convert {\n",
              "      background-color: #E8F0FE;\n",
              "      border: none;\n",
              "      border-radius: 50%;\n",
              "      cursor: pointer;\n",
              "      display: none;\n",
              "      fill: #1967D2;\n",
              "      height: 32px;\n",
              "      padding: 0 0 0 0;\n",
              "      width: 32px;\n",
              "    }\n",
              "\n",
              "    .colab-df-convert:hover {\n",
              "      background-color: #E2EBFA;\n",
              "      box-shadow: 0px 1px 2px rgba(60, 64, 67, 0.3), 0px 1px 3px 1px rgba(60, 64, 67, 0.15);\n",
              "      fill: #174EA6;\n",
              "    }\n",
              "\n",
              "    .colab-df-buttons div {\n",
              "      margin-bottom: 4px;\n",
              "    }\n",
              "\n",
              "    [theme=dark] .colab-df-convert {\n",
              "      background-color: #3B4455;\n",
              "      fill: #D2E3FC;\n",
              "    }\n",
              "\n",
              "    [theme=dark] .colab-df-convert:hover {\n",
              "      background-color: #434B5C;\n",
              "      box-shadow: 0px 1px 3px 1px rgba(0, 0, 0, 0.15);\n",
              "      filter: drop-shadow(0px 1px 2px rgba(0, 0, 0, 0.3));\n",
              "      fill: #FFFFFF;\n",
              "    }\n",
              "  </style>\n",
              "\n",
              "    <script>\n",
              "      const buttonEl =\n",
              "        document.querySelector('#df-7bb955b9-a0d9-4ce0-b3c1-85cae2417b17 button.colab-df-convert');\n",
              "      buttonEl.style.display =\n",
              "        google.colab.kernel.accessAllowed ? 'block' : 'none';\n",
              "\n",
              "      async function convertToInteractive(key) {\n",
              "        const element = document.querySelector('#df-7bb955b9-a0d9-4ce0-b3c1-85cae2417b17');\n",
              "        const dataTable =\n",
              "          await google.colab.kernel.invokeFunction('convertToInteractive',\n",
              "                                                    [key], {});\n",
              "        if (!dataTable) return;\n",
              "\n",
              "        const docLinkHtml = 'Like what you see? Visit the ' +\n",
              "          '<a target=\"_blank\" href=https://colab.research.google.com/notebooks/data_table.ipynb>data table notebook</a>'\n",
              "          + ' to learn more about interactive tables.';\n",
              "        element.innerHTML = '';\n",
              "        dataTable['output_type'] = 'display_data';\n",
              "        await google.colab.output.renderOutput(dataTable, element);\n",
              "        const docLink = document.createElement('div');\n",
              "        docLink.innerHTML = docLinkHtml;\n",
              "        element.appendChild(docLink);\n",
              "      }\n",
              "    </script>\n",
              "  </div>\n",
              "\n",
              "\n",
              "<div id=\"df-8064f12f-39ca-4666-b584-f1cd5d97e8b7\">\n",
              "  <button class=\"colab-df-quickchart\" onclick=\"quickchart('df-8064f12f-39ca-4666-b584-f1cd5d97e8b7')\"\n",
              "            title=\"Suggest charts\"\n",
              "            style=\"display:none;\">\n",
              "\n",
              "<svg xmlns=\"http://www.w3.org/2000/svg\" height=\"24px\"viewBox=\"0 0 24 24\"\n",
              "     width=\"24px\">\n",
              "    <g>\n",
              "        <path d=\"M19 3H5c-1.1 0-2 .9-2 2v14c0 1.1.9 2 2 2h14c1.1 0 2-.9 2-2V5c0-1.1-.9-2-2-2zM9 17H7v-7h2v7zm4 0h-2V7h2v10zm4 0h-2v-4h2v4z\"/>\n",
              "    </g>\n",
              "</svg>\n",
              "  </button>\n",
              "\n",
              "<style>\n",
              "  .colab-df-quickchart {\n",
              "      --bg-color: #E8F0FE;\n",
              "      --fill-color: #1967D2;\n",
              "      --hover-bg-color: #E2EBFA;\n",
              "      --hover-fill-color: #174EA6;\n",
              "      --disabled-fill-color: #AAA;\n",
              "      --disabled-bg-color: #DDD;\n",
              "  }\n",
              "\n",
              "  [theme=dark] .colab-df-quickchart {\n",
              "      --bg-color: #3B4455;\n",
              "      --fill-color: #D2E3FC;\n",
              "      --hover-bg-color: #434B5C;\n",
              "      --hover-fill-color: #FFFFFF;\n",
              "      --disabled-bg-color: #3B4455;\n",
              "      --disabled-fill-color: #666;\n",
              "  }\n",
              "\n",
              "  .colab-df-quickchart {\n",
              "    background-color: var(--bg-color);\n",
              "    border: none;\n",
              "    border-radius: 50%;\n",
              "    cursor: pointer;\n",
              "    display: none;\n",
              "    fill: var(--fill-color);\n",
              "    height: 32px;\n",
              "    padding: 0;\n",
              "    width: 32px;\n",
              "  }\n",
              "\n",
              "  .colab-df-quickchart:hover {\n",
              "    background-color: var(--hover-bg-color);\n",
              "    box-shadow: 0 1px 2px rgba(60, 64, 67, 0.3), 0 1px 3px 1px rgba(60, 64, 67, 0.15);\n",
              "    fill: var(--button-hover-fill-color);\n",
              "  }\n",
              "\n",
              "  .colab-df-quickchart-complete:disabled,\n",
              "  .colab-df-quickchart-complete:disabled:hover {\n",
              "    background-color: var(--disabled-bg-color);\n",
              "    fill: var(--disabled-fill-color);\n",
              "    box-shadow: none;\n",
              "  }\n",
              "\n",
              "  .colab-df-spinner {\n",
              "    border: 2px solid var(--fill-color);\n",
              "    border-color: transparent;\n",
              "    border-bottom-color: var(--fill-color);\n",
              "    animation:\n",
              "      spin 1s steps(1) infinite;\n",
              "  }\n",
              "\n",
              "  @keyframes spin {\n",
              "    0% {\n",
              "      border-color: transparent;\n",
              "      border-bottom-color: var(--fill-color);\n",
              "      border-left-color: var(--fill-color);\n",
              "    }\n",
              "    20% {\n",
              "      border-color: transparent;\n",
              "      border-left-color: var(--fill-color);\n",
              "      border-top-color: var(--fill-color);\n",
              "    }\n",
              "    30% {\n",
              "      border-color: transparent;\n",
              "      border-left-color: var(--fill-color);\n",
              "      border-top-color: var(--fill-color);\n",
              "      border-right-color: var(--fill-color);\n",
              "    }\n",
              "    40% {\n",
              "      border-color: transparent;\n",
              "      border-right-color: var(--fill-color);\n",
              "      border-top-color: var(--fill-color);\n",
              "    }\n",
              "    60% {\n",
              "      border-color: transparent;\n",
              "      border-right-color: var(--fill-color);\n",
              "    }\n",
              "    80% {\n",
              "      border-color: transparent;\n",
              "      border-right-color: var(--fill-color);\n",
              "      border-bottom-color: var(--fill-color);\n",
              "    }\n",
              "    90% {\n",
              "      border-color: transparent;\n",
              "      border-bottom-color: var(--fill-color);\n",
              "    }\n",
              "  }\n",
              "</style>\n",
              "\n",
              "  <script>\n",
              "    async function quickchart(key) {\n",
              "      const quickchartButtonEl =\n",
              "        document.querySelector('#' + key + ' button');\n",
              "      quickchartButtonEl.disabled = true;  // To prevent multiple clicks.\n",
              "      quickchartButtonEl.classList.add('colab-df-spinner');\n",
              "      try {\n",
              "        const charts = await google.colab.kernel.invokeFunction(\n",
              "            'suggestCharts', [key], {});\n",
              "      } catch (error) {\n",
              "        console.error('Error during call to suggestCharts:', error);\n",
              "      }\n",
              "      quickchartButtonEl.classList.remove('colab-df-spinner');\n",
              "      quickchartButtonEl.classList.add('colab-df-quickchart-complete');\n",
              "    }\n",
              "    (() => {\n",
              "      let quickchartButtonEl =\n",
              "        document.querySelector('#df-8064f12f-39ca-4666-b584-f1cd5d97e8b7 button');\n",
              "      quickchartButtonEl.style.display =\n",
              "        google.colab.kernel.accessAllowed ? 'block' : 'none';\n",
              "    })();\n",
              "  </script>\n",
              "</div>\n",
              "    </div>\n",
              "  </div>\n"
            ],
            "application/vnd.google.colaboratory.intrinsic+json": {
              "type": "dataframe",
              "variable_name": "results_gb",
              "summary": "{\n  \"name\": \"results_gb\",\n  \"rows\": 3,\n  \"fields\": [\n    {\n      \"column\": \"\\u041f\\u0430\\u0440\\u0430\\u043c\\u0435\\u0442\\u0440\\u044b\",\n      \"properties\": {\n        \"dtype\": \"string\",\n        \"num_unique_values\": 3,\n        \"samples\": [\n          \"\\u0413\\u0438\\u043f\\u0435\\u0440\\u043f\\u0430\\u0440\\u0430\\u043c\\u0435\\u0442\\u0440\\u044b\",\n          \"\\u041a\\u0440\\u043e\\u0441\\u0441-\\u0432\\u0430\\u043b\\u0438\\u0434\\u0430\\u0446\\u0438\\u043e\\u043d\\u043d\\u0430\\u044f \\u0442\\u043e\\u0447\\u043d\\u043e\\u0441\\u0442\\u044c \\u043d\\u0430 \\u043e\\u0431\\u0443\\u0447\\u0430\\u044e\\u0449\\u0435\\u0439 \\u0432\\u044b\\u0431\\u043e\\u0440\\u043a\\u0435\",\n          \"\\u0422\\u043e\\u0447\\u043d\\u043e\\u0441\\u0442\\u044c \\u043d\\u0430 \\u0442\\u0435\\u0441\\u0442\\u043e\\u0432\\u043e\\u0439 \\u0432\\u044b\\u0431\\u043e\\u0440\\u043a\\u0435\"\n        ],\n        \"semantic_type\": \"\",\n        \"description\": \"\"\n      }\n    },\n    {\n      \"column\": \"\\u041a\\u0440\\u043e\\u0441\\u0441-\\u0432\\u0430\\u043b\\u0438\\u0434\\u0430\\u0446\\u0438\\u044f\",\n      \"properties\": {\n        \"dtype\": \"object\",\n        \"semantic_type\": \"\",\n        \"description\": \"\"\n      }\n    },\n    {\n      \"column\": \"OOB \\u043e\\u0448\\u0438\\u0431\\u043a\\u0438\",\n      \"properties\": {\n        \"dtype\": \"object\",\n        \"semantic_type\": \"\",\n        \"description\": \"\"\n      }\n    }\n  ]\n}"
            }
          },
          "metadata": {},
          "execution_count": 101
        }
      ]
    },
    {
      "cell_type": "markdown",
      "source": [
        "5. **Повышенная сложность:** включите в анализ дополнительный метод регрессии, не рассматривавшийся в курсе и не представленный в библиотеке scikitlearn. Опишите данный метод (принцип работы, преимущества и недостатки)\n",
        "и осуществите тюнинг гиперпараметров. Сопоставьте его точность на тестовой\n",
        "выборке с точностью лучшего из обученных вами ранее методов.\n"
      ],
      "metadata": {
        "id": "WjNFV3aa_TpJ"
      }
    },
    {
      "cell_type": "code",
      "source": [
        "from catboost import CatBoostRegressor\n",
        "# Определение модели\n",
        "catb_reg = CatBoostRegressor(random_seed = 22)\n",
        "# Перебираемые значения гиперпараметров\n",
        "hyperparameters = {\n",
        "    'iterations': [100, 400, 1000],\n",
        "    'learning_rate': [0.1, 0.01, 0.001],\n",
        "    'depth': [4, 6, 8],\n",
        "    'logging_level':[\"Silent\"]\n",
        "}\n",
        "\n",
        "# Перебор гиперпараметров с помощью кросс-валидации\n",
        "CV_catb_reg = GridSearchCV(estimator = catb_reg,\n",
        "                        param_grid = hyperparameters,\n",
        "                        scoring = \"neg_root_mean_squared_error\",\n",
        "                        cv = 5)\n",
        "CV_catb_reg.fit(features_train_sc, target_train)\n",
        "best_catb_reg = CV_catb_reg.best_params_\n",
        "print(best_catb_reg)"
      ],
      "metadata": {
        "id": "weAay8_a4nSe",
        "colab": {
          "base_uri": "https://localhost:8080/"
        },
        "outputId": "3144d1ed-24ce-46aa-b005-73c2c0a54908"
      },
      "execution_count": null,
      "outputs": [
        {
          "output_type": "stream",
          "name": "stdout",
          "text": [
            "{'depth': 8, 'iterations': 1000, 'learning_rate': 0.01, 'logging_level': 'Silent'}\n"
          ]
        }
      ]
    },
    {
      "cell_type": "code",
      "source": [
        "# Cat boost с подобранными гиперпараметрами\n",
        "best_catb = CatBoostRegressor(iterations = 1000,\n",
        "                          learning_rate = 0.01,\n",
        "                          depth = 8,\n",
        "                          logging_level = 'Silent',\n",
        "                          random_seed= 22)\n",
        "best_catb.fit(features_train_sc, target_train)\n",
        "test_pred_catb = best_catb.predict(features_test)\n",
        "# Оценим точность\n",
        "RMSE_catb  = sqrt(mean_squared_error(target_test, test_pred_catb))\n",
        "results_catb_reg = pd.DataFrame({\n",
        "    'Параметры': ['RMSE на тестовой выборке'],\n",
        "    'GB OOB (Лучшая модель)': [RMSE_gb_oob],\n",
        "    'CatBoost': [RMSE_catb]\n",
        "})\n",
        "results_catb_reg"
      ],
      "metadata": {
        "id": "0PXzZ0iB5G4Y",
        "colab": {
          "base_uri": "https://localhost:8080/",
          "height": 81
        },
        "outputId": "95172a06-a434-4207-a23c-020f35cf4cb0"
      },
      "execution_count": null,
      "outputs": [
        {
          "output_type": "execute_result",
          "data": {
            "text/plain": [
              "                  Параметры  GB OOB (Лучшая модель)   CatBoost\n",
              "0  RMSE на тестовой выборке                 32.3737  33.983326"
            ],
            "text/html": [
              "\n",
              "  <div id=\"df-5d84ab7d-6797-4334-a7ad-459d34b6a5f1\" class=\"colab-df-container\">\n",
              "    <div>\n",
              "<style scoped>\n",
              "    .dataframe tbody tr th:only-of-type {\n",
              "        vertical-align: middle;\n",
              "    }\n",
              "\n",
              "    .dataframe tbody tr th {\n",
              "        vertical-align: top;\n",
              "    }\n",
              "\n",
              "    .dataframe thead th {\n",
              "        text-align: right;\n",
              "    }\n",
              "</style>\n",
              "<table border=\"1\" class=\"dataframe\">\n",
              "  <thead>\n",
              "    <tr style=\"text-align: right;\">\n",
              "      <th></th>\n",
              "      <th>Параметры</th>\n",
              "      <th>GB OOB (Лучшая модель)</th>\n",
              "      <th>CatBoost</th>\n",
              "    </tr>\n",
              "  </thead>\n",
              "  <tbody>\n",
              "    <tr>\n",
              "      <th>0</th>\n",
              "      <td>RMSE на тестовой выборке</td>\n",
              "      <td>32.3737</td>\n",
              "      <td>33.983326</td>\n",
              "    </tr>\n",
              "  </tbody>\n",
              "</table>\n",
              "</div>\n",
              "    <div class=\"colab-df-buttons\">\n",
              "\n",
              "  <div class=\"colab-df-container\">\n",
              "    <button class=\"colab-df-convert\" onclick=\"convertToInteractive('df-5d84ab7d-6797-4334-a7ad-459d34b6a5f1')\"\n",
              "            title=\"Convert this dataframe to an interactive table.\"\n",
              "            style=\"display:none;\">\n",
              "\n",
              "  <svg xmlns=\"http://www.w3.org/2000/svg\" height=\"24px\" viewBox=\"0 -960 960 960\">\n",
              "    <path d=\"M120-120v-720h720v720H120Zm60-500h600v-160H180v160Zm220 220h160v-160H400v160Zm0 220h160v-160H400v160ZM180-400h160v-160H180v160Zm440 0h160v-160H620v160ZM180-180h160v-160H180v160Zm440 0h160v-160H620v160Z\"/>\n",
              "  </svg>\n",
              "    </button>\n",
              "\n",
              "  <style>\n",
              "    .colab-df-container {\n",
              "      display:flex;\n",
              "      gap: 12px;\n",
              "    }\n",
              "\n",
              "    .colab-df-convert {\n",
              "      background-color: #E8F0FE;\n",
              "      border: none;\n",
              "      border-radius: 50%;\n",
              "      cursor: pointer;\n",
              "      display: none;\n",
              "      fill: #1967D2;\n",
              "      height: 32px;\n",
              "      padding: 0 0 0 0;\n",
              "      width: 32px;\n",
              "    }\n",
              "\n",
              "    .colab-df-convert:hover {\n",
              "      background-color: #E2EBFA;\n",
              "      box-shadow: 0px 1px 2px rgba(60, 64, 67, 0.3), 0px 1px 3px 1px rgba(60, 64, 67, 0.15);\n",
              "      fill: #174EA6;\n",
              "    }\n",
              "\n",
              "    .colab-df-buttons div {\n",
              "      margin-bottom: 4px;\n",
              "    }\n",
              "\n",
              "    [theme=dark] .colab-df-convert {\n",
              "      background-color: #3B4455;\n",
              "      fill: #D2E3FC;\n",
              "    }\n",
              "\n",
              "    [theme=dark] .colab-df-convert:hover {\n",
              "      background-color: #434B5C;\n",
              "      box-shadow: 0px 1px 3px 1px rgba(0, 0, 0, 0.15);\n",
              "      filter: drop-shadow(0px 1px 2px rgba(0, 0, 0, 0.3));\n",
              "      fill: #FFFFFF;\n",
              "    }\n",
              "  </style>\n",
              "\n",
              "    <script>\n",
              "      const buttonEl =\n",
              "        document.querySelector('#df-5d84ab7d-6797-4334-a7ad-459d34b6a5f1 button.colab-df-convert');\n",
              "      buttonEl.style.display =\n",
              "        google.colab.kernel.accessAllowed ? 'block' : 'none';\n",
              "\n",
              "      async function convertToInteractive(key) {\n",
              "        const element = document.querySelector('#df-5d84ab7d-6797-4334-a7ad-459d34b6a5f1');\n",
              "        const dataTable =\n",
              "          await google.colab.kernel.invokeFunction('convertToInteractive',\n",
              "                                                    [key], {});\n",
              "        if (!dataTable) return;\n",
              "\n",
              "        const docLinkHtml = 'Like what you see? Visit the ' +\n",
              "          '<a target=\"_blank\" href=https://colab.research.google.com/notebooks/data_table.ipynb>data table notebook</a>'\n",
              "          + ' to learn more about interactive tables.';\n",
              "        element.innerHTML = '';\n",
              "        dataTable['output_type'] = 'display_data';\n",
              "        await google.colab.output.renderOutput(dataTable, element);\n",
              "        const docLink = document.createElement('div');\n",
              "        docLink.innerHTML = docLinkHtml;\n",
              "        element.appendChild(docLink);\n",
              "      }\n",
              "    </script>\n",
              "  </div>\n",
              "\n",
              "    </div>\n",
              "  </div>\n"
            ],
            "application/vnd.google.colaboratory.intrinsic+json": {
              "type": "dataframe",
              "variable_name": "results_catb_reg",
              "summary": "{\n  \"name\": \"results_catb_reg\",\n  \"rows\": 1,\n  \"fields\": [\n    {\n      \"column\": \"\\u041f\\u0430\\u0440\\u0430\\u043c\\u0435\\u0442\\u0440\\u044b\",\n      \"properties\": {\n        \"dtype\": \"string\",\n        \"num_unique_values\": 1,\n        \"samples\": [\n          \"RMSE \\u043d\\u0430 \\u0442\\u0435\\u0441\\u0442\\u043e\\u0432\\u043e\\u0439 \\u0432\\u044b\\u0431\\u043e\\u0440\\u043a\\u0435\"\n        ],\n        \"semantic_type\": \"\",\n        \"description\": \"\"\n      }\n    },\n    {\n      \"column\": \"GB OOB (\\u041b\\u0443\\u0447\\u0448\\u0430\\u044f \\u043c\\u043e\\u0434\\u0435\\u043b\\u044c)\",\n      \"properties\": {\n        \"dtype\": \"number\",\n        \"std\": null,\n        \"min\": 32.373699783940474,\n        \"max\": 32.373699783940474,\n        \"num_unique_values\": 1,\n        \"samples\": [\n          32.373699783940474\n        ],\n        \"semantic_type\": \"\",\n        \"description\": \"\"\n      }\n    },\n    {\n      \"column\": \"CatBoost\",\n      \"properties\": {\n        \"dtype\": \"number\",\n        \"std\": null,\n        \"min\": 33.98332563186677,\n        \"max\": 33.98332563186677,\n        \"num_unique_values\": 1,\n        \"samples\": [\n          33.98332563186677\n        ],\n        \"semantic_type\": \"\",\n        \"description\": \"\"\n      }\n    }\n  ]\n}"
            }
          },
          "metadata": {},
          "execution_count": 103
        }
      ]
    },
    {
      "cell_type": "markdown",
      "source": [
        "## Эффекты воздействия 🤪\n"
      ],
      "metadata": {
        "id": "k5Esz_2j6U-5"
      }
    },
    {
      "cell_type": "markdown",
      "source": [
        "2. Используя симулированные вами, но недоступные в реальных данных потенциальные исходы (гипотетические значения), получите оценки среднего эффекта\n",
        "воздействия, условных средних эффектов воздействия и локального среднего\n",
        "эффекта воздействия. Результаты представьте в форме таблицы.\n",
        "\n",
        "**Примечание:** для получения очень точных оценок эффектов воздействия с\n",
        "помощью потенциальных исходов (гипотетических переменных) можно сперва\n",
        "симулировать очень большого число наблюдений, например, несколько миллионов. Затем, для ускорения вычислений, для оценивания эффектов воздействия\n",
        "с помощью наблюдемых значений можно использовать часть выборки, например, десять тысяч наблюдений."
      ],
      "metadata": {
        "id": "RgeQHJEF6Ux4"
      }
    },
    {
      "cell_type": "markdown",
      "metadata": {
        "id": "ZjUm1EROJEpe"
      },
      "source": [
        "**Оценивание эффектов воздействия с помощью потенциальных исходов** 🐱"
      ]
    },
    {
      "cell_type": "markdown",
      "metadata": {
        "id": "pmbIF4ryGpDj"
      },
      "source": [
        "Эффект воздействия:\n",
        "\n",
        "$$\\text{TE}_{i} = \\text{Ticket_Price}_{1i} - \\text{Ticket_Price}_{0i}$$"
      ]
    },
    {
      "cell_type": "code",
      "execution_count": null,
      "metadata": {
        "id": "WyyjNF5LnJqJ",
        "colab": {
          "base_uri": "https://localhost:8080/"
        },
        "outputId": "bd65d929-fb4e-484c-8901-baba65a63020"
      },
      "outputs": [
        {
          "output_type": "stream",
          "name": "stdout",
          "text": [
            "[39.39728716 71.1064289  37.98858075 29.0063037  44.89107144 41.93234692\n",
            " 48.28493108 34.41047668 52.43698966 43.9808042 ]\n"
          ]
        }
      ],
      "source": [
        "# Настоящие эффекты воздействия (не наблюдаются в данных)\n",
        "TE = ticket_price_1 - ticket_price_0\n",
        "print(TE[0:10])"
      ]
    },
    {
      "cell_type": "markdown",
      "metadata": {
        "id": "2syUdvptGvfU"
      },
      "source": [
        "Средний эффект воздействия:\n",
        "\n",
        "$$\\text{ATE} = \\text{E}\\left(\\text{Ticket_Price}_{1i} - \\text{Ticket_Price}_{0i}\\right)$$"
      ]
    },
    {
      "cell_type": "markdown",
      "metadata": {
        "id": "G5FVauxxHOtv"
      },
      "source": [
        "Если бы у нас были данные о $\\text{Ticket_Price}_{1i}$ и $\\text{Ticket_Price}_{0i}$, то мы могли бы очень точно оценить $\\text{ATE}$ как:\n",
        "\n",
        "$$\\widehat{\\text{ATE}} = \\frac{1}{n}\\sum\\limits_{i=1}^{n}\\text{Ticket_Price}_{1i} - \\text{Ticket_Price}_{0i}$$"
      ]
    },
    {
      "cell_type": "code",
      "execution_count": null,
      "metadata": {
        "id": "M9ik5McLnQuB",
        "colab": {
          "base_uri": "https://localhost:8080/"
        },
        "outputId": "17e1947c-142f-4dbb-a91b-147ba21bdf53"
      },
      "outputs": [
        {
          "output_type": "stream",
          "name": "stdout",
          "text": [
            "43.51382217878924\n"
          ]
        }
      ],
      "source": [
        "# Точное приближение среднего эффекта воздействия, то есть\n",
        "# с помощью оценки, недоступной с помощью реальных данных\n",
        "ATE = np.mean(TE)\n",
        "print(ATE)"
      ]
    },
    {
      "cell_type": "markdown",
      "metadata": {
        "id": "RsOwz5FB1-_V"
      },
      "source": [
        "Локальный средний эффект воздействия:\n",
        "\n",
        "$$\\text{LATE} = \\text{E}(\\text{Ticket_Price}_{1i} - \\text{Ticket_Price}_{0i} | \\text{Last_Ticket}_{1i} > \\text{Last_Ticket}_{0i})$$"
      ]
    },
    {
      "cell_type": "code",
      "execution_count": null,
      "metadata": {
        "id": "vdJHach-0O3n",
        "colab": {
          "base_uri": "https://localhost:8080/"
        },
        "outputId": "4fb60810-f4e4-47bd-c542-8ac3ac609487"
      },
      "outputs": [
        {
          "output_type": "stream",
          "name": "stdout",
          "text": [
            "43.460487471938414\n"
          ]
        }
      ],
      "source": [
        "# Точное приближение локального среднего эффекта воздействия, то есть\n",
        "# с помощью оценки, недоступной с помощью реальных данных\n",
        "LATE = np.mean(TE[ind_type == 'Occupied at rush hour'])\n",
        "print(LATE)"
      ]
    },
    {
      "cell_type": "markdown",
      "metadata": {
        "id": "u8m3zDEG-g5u"
      },
      "source": [
        "Условный средний эффект воздействия:\n",
        "\n",
        "$$\\text{CATE}_{i} = \\text{E}\\left(\\text{Ticket_Price}_{1i}|X_{i}\\right) - \\text{E}\\left(\\text{Ticket_Price}_{0i}|X_{i}\\right) = g_{1}(X_{i}) - g_{0}(X_{i})$$"
      ]
    },
    {
      "cell_type": "code",
      "execution_count": null,
      "metadata": {
        "id": "_bK-AAd9_wxZ",
        "colab": {
          "base_uri": "https://localhost:8080/"
        },
        "outputId": "781e07a7-02a0-402d-d8ce-bab18918f78f"
      },
      "outputs": [
        {
          "output_type": "stream",
          "name": "stdout",
          "text": [
            "[47.03827834 44.133095   43.6965091  39.62167886 43.50471051 43.60461699\n",
            " 44.79672992 41.50145668 43.37956764 38.11915699]\n"
          ]
        }
      ],
      "source": [
        "# Значения локальных средних эффектов воздействия\n",
        "CATE = g1 - g0\n",
        "print(CATE[0:10])"
      ]
    },
    {
      "cell_type": "markdown",
      "source": [
        "Представим результаты в виде таблицы:"
      ],
      "metadata": {
        "id": "j82zyvWTz-aZ"
      }
    },
    {
      "cell_type": "code",
      "source": [
        "results_effects =  pd.DataFrame({\n",
        "    'Эффект': ['ATE', 'LATE', 'CATE'],\n",
        "    'Значение': [ATE, LATE, CATE.mean()]\n",
        "})\n",
        "results_effects"
      ],
      "metadata": {
        "id": "c5pJrWLMz6No",
        "colab": {
          "base_uri": "https://localhost:8080/",
          "height": 143
        },
        "outputId": "f7f21f2d-d3c4-4508-94d1-24b0b652c511"
      },
      "execution_count": null,
      "outputs": [
        {
          "output_type": "execute_result",
          "data": {
            "text/plain": [
              "  Эффект   Значение\n",
              "0    ATE  43.513822\n",
              "1   LATE  43.460487\n",
              "2   CATE  43.489507"
            ],
            "text/html": [
              "\n",
              "  <div id=\"df-70ad49c0-c0bc-4dc0-af2d-048c32317974\" class=\"colab-df-container\">\n",
              "    <div>\n",
              "<style scoped>\n",
              "    .dataframe tbody tr th:only-of-type {\n",
              "        vertical-align: middle;\n",
              "    }\n",
              "\n",
              "    .dataframe tbody tr th {\n",
              "        vertical-align: top;\n",
              "    }\n",
              "\n",
              "    .dataframe thead th {\n",
              "        text-align: right;\n",
              "    }\n",
              "</style>\n",
              "<table border=\"1\" class=\"dataframe\">\n",
              "  <thead>\n",
              "    <tr style=\"text-align: right;\">\n",
              "      <th></th>\n",
              "      <th>Эффект</th>\n",
              "      <th>Значение</th>\n",
              "    </tr>\n",
              "  </thead>\n",
              "  <tbody>\n",
              "    <tr>\n",
              "      <th>0</th>\n",
              "      <td>ATE</td>\n",
              "      <td>43.513822</td>\n",
              "    </tr>\n",
              "    <tr>\n",
              "      <th>1</th>\n",
              "      <td>LATE</td>\n",
              "      <td>43.460487</td>\n",
              "    </tr>\n",
              "    <tr>\n",
              "      <th>2</th>\n",
              "      <td>CATE</td>\n",
              "      <td>43.489507</td>\n",
              "    </tr>\n",
              "  </tbody>\n",
              "</table>\n",
              "</div>\n",
              "    <div class=\"colab-df-buttons\">\n",
              "\n",
              "  <div class=\"colab-df-container\">\n",
              "    <button class=\"colab-df-convert\" onclick=\"convertToInteractive('df-70ad49c0-c0bc-4dc0-af2d-048c32317974')\"\n",
              "            title=\"Convert this dataframe to an interactive table.\"\n",
              "            style=\"display:none;\">\n",
              "\n",
              "  <svg xmlns=\"http://www.w3.org/2000/svg\" height=\"24px\" viewBox=\"0 -960 960 960\">\n",
              "    <path d=\"M120-120v-720h720v720H120Zm60-500h600v-160H180v160Zm220 220h160v-160H400v160Zm0 220h160v-160H400v160ZM180-400h160v-160H180v160Zm440 0h160v-160H620v160ZM180-180h160v-160H180v160Zm440 0h160v-160H620v160Z\"/>\n",
              "  </svg>\n",
              "    </button>\n",
              "\n",
              "  <style>\n",
              "    .colab-df-container {\n",
              "      display:flex;\n",
              "      gap: 12px;\n",
              "    }\n",
              "\n",
              "    .colab-df-convert {\n",
              "      background-color: #E8F0FE;\n",
              "      border: none;\n",
              "      border-radius: 50%;\n",
              "      cursor: pointer;\n",
              "      display: none;\n",
              "      fill: #1967D2;\n",
              "      height: 32px;\n",
              "      padding: 0 0 0 0;\n",
              "      width: 32px;\n",
              "    }\n",
              "\n",
              "    .colab-df-convert:hover {\n",
              "      background-color: #E2EBFA;\n",
              "      box-shadow: 0px 1px 2px rgba(60, 64, 67, 0.3), 0px 1px 3px 1px rgba(60, 64, 67, 0.15);\n",
              "      fill: #174EA6;\n",
              "    }\n",
              "\n",
              "    .colab-df-buttons div {\n",
              "      margin-bottom: 4px;\n",
              "    }\n",
              "\n",
              "    [theme=dark] .colab-df-convert {\n",
              "      background-color: #3B4455;\n",
              "      fill: #D2E3FC;\n",
              "    }\n",
              "\n",
              "    [theme=dark] .colab-df-convert:hover {\n",
              "      background-color: #434B5C;\n",
              "      box-shadow: 0px 1px 3px 1px rgba(0, 0, 0, 0.15);\n",
              "      filter: drop-shadow(0px 1px 2px rgba(0, 0, 0, 0.3));\n",
              "      fill: #FFFFFF;\n",
              "    }\n",
              "  </style>\n",
              "\n",
              "    <script>\n",
              "      const buttonEl =\n",
              "        document.querySelector('#df-70ad49c0-c0bc-4dc0-af2d-048c32317974 button.colab-df-convert');\n",
              "      buttonEl.style.display =\n",
              "        google.colab.kernel.accessAllowed ? 'block' : 'none';\n",
              "\n",
              "      async function convertToInteractive(key) {\n",
              "        const element = document.querySelector('#df-70ad49c0-c0bc-4dc0-af2d-048c32317974');\n",
              "        const dataTable =\n",
              "          await google.colab.kernel.invokeFunction('convertToInteractive',\n",
              "                                                    [key], {});\n",
              "        if (!dataTable) return;\n",
              "\n",
              "        const docLinkHtml = 'Like what you see? Visit the ' +\n",
              "          '<a target=\"_blank\" href=https://colab.research.google.com/notebooks/data_table.ipynb>data table notebook</a>'\n",
              "          + ' to learn more about interactive tables.';\n",
              "        element.innerHTML = '';\n",
              "        dataTable['output_type'] = 'display_data';\n",
              "        await google.colab.output.renderOutput(dataTable, element);\n",
              "        const docLink = document.createElement('div');\n",
              "        docLink.innerHTML = docLinkHtml;\n",
              "        element.appendChild(docLink);\n",
              "      }\n",
              "    </script>\n",
              "  </div>\n",
              "\n",
              "\n",
              "<div id=\"df-e4bb95ae-ba8d-481f-ab88-9781fdaab13f\">\n",
              "  <button class=\"colab-df-quickchart\" onclick=\"quickchart('df-e4bb95ae-ba8d-481f-ab88-9781fdaab13f')\"\n",
              "            title=\"Suggest charts\"\n",
              "            style=\"display:none;\">\n",
              "\n",
              "<svg xmlns=\"http://www.w3.org/2000/svg\" height=\"24px\"viewBox=\"0 0 24 24\"\n",
              "     width=\"24px\">\n",
              "    <g>\n",
              "        <path d=\"M19 3H5c-1.1 0-2 .9-2 2v14c0 1.1.9 2 2 2h14c1.1 0 2-.9 2-2V5c0-1.1-.9-2-2-2zM9 17H7v-7h2v7zm4 0h-2V7h2v10zm4 0h-2v-4h2v4z\"/>\n",
              "    </g>\n",
              "</svg>\n",
              "  </button>\n",
              "\n",
              "<style>\n",
              "  .colab-df-quickchart {\n",
              "      --bg-color: #E8F0FE;\n",
              "      --fill-color: #1967D2;\n",
              "      --hover-bg-color: #E2EBFA;\n",
              "      --hover-fill-color: #174EA6;\n",
              "      --disabled-fill-color: #AAA;\n",
              "      --disabled-bg-color: #DDD;\n",
              "  }\n",
              "\n",
              "  [theme=dark] .colab-df-quickchart {\n",
              "      --bg-color: #3B4455;\n",
              "      --fill-color: #D2E3FC;\n",
              "      --hover-bg-color: #434B5C;\n",
              "      --hover-fill-color: #FFFFFF;\n",
              "      --disabled-bg-color: #3B4455;\n",
              "      --disabled-fill-color: #666;\n",
              "  }\n",
              "\n",
              "  .colab-df-quickchart {\n",
              "    background-color: var(--bg-color);\n",
              "    border: none;\n",
              "    border-radius: 50%;\n",
              "    cursor: pointer;\n",
              "    display: none;\n",
              "    fill: var(--fill-color);\n",
              "    height: 32px;\n",
              "    padding: 0;\n",
              "    width: 32px;\n",
              "  }\n",
              "\n",
              "  .colab-df-quickchart:hover {\n",
              "    background-color: var(--hover-bg-color);\n",
              "    box-shadow: 0 1px 2px rgba(60, 64, 67, 0.3), 0 1px 3px 1px rgba(60, 64, 67, 0.15);\n",
              "    fill: var(--button-hover-fill-color);\n",
              "  }\n",
              "\n",
              "  .colab-df-quickchart-complete:disabled,\n",
              "  .colab-df-quickchart-complete:disabled:hover {\n",
              "    background-color: var(--disabled-bg-color);\n",
              "    fill: var(--disabled-fill-color);\n",
              "    box-shadow: none;\n",
              "  }\n",
              "\n",
              "  .colab-df-spinner {\n",
              "    border: 2px solid var(--fill-color);\n",
              "    border-color: transparent;\n",
              "    border-bottom-color: var(--fill-color);\n",
              "    animation:\n",
              "      spin 1s steps(1) infinite;\n",
              "  }\n",
              "\n",
              "  @keyframes spin {\n",
              "    0% {\n",
              "      border-color: transparent;\n",
              "      border-bottom-color: var(--fill-color);\n",
              "      border-left-color: var(--fill-color);\n",
              "    }\n",
              "    20% {\n",
              "      border-color: transparent;\n",
              "      border-left-color: var(--fill-color);\n",
              "      border-top-color: var(--fill-color);\n",
              "    }\n",
              "    30% {\n",
              "      border-color: transparent;\n",
              "      border-left-color: var(--fill-color);\n",
              "      border-top-color: var(--fill-color);\n",
              "      border-right-color: var(--fill-color);\n",
              "    }\n",
              "    40% {\n",
              "      border-color: transparent;\n",
              "      border-right-color: var(--fill-color);\n",
              "      border-top-color: var(--fill-color);\n",
              "    }\n",
              "    60% {\n",
              "      border-color: transparent;\n",
              "      border-right-color: var(--fill-color);\n",
              "    }\n",
              "    80% {\n",
              "      border-color: transparent;\n",
              "      border-right-color: var(--fill-color);\n",
              "      border-bottom-color: var(--fill-color);\n",
              "    }\n",
              "    90% {\n",
              "      border-color: transparent;\n",
              "      border-bottom-color: var(--fill-color);\n",
              "    }\n",
              "  }\n",
              "</style>\n",
              "\n",
              "  <script>\n",
              "    async function quickchart(key) {\n",
              "      const quickchartButtonEl =\n",
              "        document.querySelector('#' + key + ' button');\n",
              "      quickchartButtonEl.disabled = true;  // To prevent multiple clicks.\n",
              "      quickchartButtonEl.classList.add('colab-df-spinner');\n",
              "      try {\n",
              "        const charts = await google.colab.kernel.invokeFunction(\n",
              "            'suggestCharts', [key], {});\n",
              "      } catch (error) {\n",
              "        console.error('Error during call to suggestCharts:', error);\n",
              "      }\n",
              "      quickchartButtonEl.classList.remove('colab-df-spinner');\n",
              "      quickchartButtonEl.classList.add('colab-df-quickchart-complete');\n",
              "    }\n",
              "    (() => {\n",
              "      let quickchartButtonEl =\n",
              "        document.querySelector('#df-e4bb95ae-ba8d-481f-ab88-9781fdaab13f button');\n",
              "      quickchartButtonEl.style.display =\n",
              "        google.colab.kernel.accessAllowed ? 'block' : 'none';\n",
              "    })();\n",
              "  </script>\n",
              "</div>\n",
              "    </div>\n",
              "  </div>\n"
            ],
            "application/vnd.google.colaboratory.intrinsic+json": {
              "type": "dataframe",
              "variable_name": "results_effects",
              "summary": "{\n  \"name\": \"results_effects\",\n  \"rows\": 3,\n  \"fields\": [\n    {\n      \"column\": \"\\u042d\\u0444\\u0444\\u0435\\u043a\\u0442\",\n      \"properties\": {\n        \"dtype\": \"string\",\n        \"num_unique_values\": 3,\n        \"samples\": [\n          \"ATE\",\n          \"LATE\",\n          \"CATE\"\n        ],\n        \"semantic_type\": \"\",\n        \"description\": \"\"\n      }\n    },\n    {\n      \"column\": \"\\u0417\\u043d\\u0430\\u0447\\u0435\\u043d\\u0438\\u0435\",\n      \"properties\": {\n        \"dtype\": \"number\",\n        \"std\": 0.026701898116264167,\n        \"min\": 43.460487471938414,\n        \"max\": 43.51382217878924,\n        \"num_unique_values\": 3,\n        \"samples\": [\n          43.51382217878924,\n          43.460487471938414,\n          43.489506606154286\n        ],\n        \"semantic_type\": \"\",\n        \"description\": \"\"\n      }\n    }\n  ]\n}"
            }
          },
          "metadata": {},
          "execution_count": 109
        }
      ]
    },
    {
      "cell_type": "markdown",
      "source": [
        "3. Оцените средний эффект воздействия как разницу в средних по выборкам тех,\n",
        "кто получил и не получил воздействие. Опишите недостатки соответствующего\n",
        "подхода с учетом специфики рассматриваемой вами экономической проблемы.\n",
        "\n",
        "**Примечание:** в этом пункте и далее, если не сказано иное, используются лишь\n",
        "наблюдаемые значения целевой переменной."
      ],
      "metadata": {
        "id": "4OrR1SAX3jss"
      }
    },
    {
      "cell_type": "markdown",
      "metadata": {
        "id": "EnMeh7teLabH"
      },
      "source": [
        "**Оценивание ATE как разницы в средних** 🐱"
      ]
    },
    {
      "cell_type": "markdown",
      "metadata": {
        "id": "3XSBI-GEH0yr"
      },
      "source": [
        "Допущение о независимости:\n",
        "\n",
        "$$\\text{E}(\\text{Ticket_Price}_{1i}|\\text{Last_Ticket}_{i}=1) = \\text{E}(\\text{Ticket_Price}_{1i})\\qquad \\text{E}(\\text{Ticket_Price}_{0i}|\\text{Last_Ticket}_{i}=0) = \\text{E}(\\text{Ticket_Price}_{0i})$$\n",
        "\n",
        "Попробуем оценить ATE наивным способом, опирающимся на допущение о независимости, которое не соблюдается в данном случае, поскольку $\\text{Distance}_{i}$, $\\text{Days_Before}_{i}$ и $\\text{Connection}_{i}$ одновременно связаны и с количесвтом свободных мест $\\text{Last_Ticket}_{i}$, и с ценой авиабилета $\\text{Ticket_Price}_{i}$.\n",
        "\n",
        "Наивный подход предполагает оценивание $\\text{ATE}$ как средней разницы в ценах авиабилетов на самолёты с количеством свободных мест меньше 20 и больше.\n",
        "\n",
        "$$\\widehat{\\text{ATE}}_{\\text{naive}} = \\frac{1}{n_{1}}\\sum\\limits_{i:\\text{Last_Ticket}_{i}=1}\\text{Ticket_Price}_{1i} - \\frac{1}{n_{0}}\\sum\\limits_{i:\\text{Last_Ticket}_{i}=0}\\text{Ticket_Price}_{0i}$$\n",
        "Где $n_{1}$ и $n_{0}$ - число самолётов с количеством свободных мест меньше 20 и больше, соответственно."
      ]
    },
    {
      "cell_type": "code",
      "execution_count": null,
      "metadata": {
        "id": "vtNo1tyMn7u6",
        "colab": {
          "base_uri": "https://localhost:8080/"
        },
        "outputId": "a3ac16c1-e36a-426a-e8cf-f9746a489a9d"
      },
      "outputs": [
        {
          "output_type": "stream",
          "name": "stdout",
          "text": [
            "                                                     ATE\n",
            "Точная оценка с помощью потенциальных исходов  43.513822\n",
            "Наивная оценка с помощью наблюдаемых исходов   59.834971\n"
          ]
        }
      ],
      "source": [
        "# Наивная оценка как разница в выборочных средних\n",
        "ATE_naive = np.mean(Ticket_Price[Last_Ticket == 1]) - np.mean(Ticket_Price[Last_Ticket == 0])\n",
        "\n",
        "# Сравнение точного приближения и наивной оценки\n",
        "# когда у его родителей нет высшего образования и когда оно у них есть\n",
        "print(pd.DataFrame(data    = [ATE, ATE_naive],\n",
        "                   index   = ['Точная оценка с помощью потенциальных исходов',\n",
        "                              'Наивная оценка с помощью наблюдаемых исходов'],\n",
        "                   columns = ['ATE']))"
      ]
    },
    {
      "cell_type": "markdown",
      "source": [
        "4. Используя оценки, полученные лучшими из обученных ранее классификационных и регрессионных моделей, оцените средний эффект воздействия с помощью:\n",
        "\n",
        "• метода наименьших квадратов.\n",
        "\n",
        "• условных математических ожиданий.\n",
        "\n",
        "• взвешивания на обратные вероятности (в случае возникновения ошибок убедитесь в отсутствии оценок вероятностей, равных 0 или 1 и при необходимости измените метод оценивания).\n",
        "\n",
        "• метода, обладающего двойной устойчивостью.\n",
        "\n",
        "• двойного машинного обучения.\n",
        "\n",
        "Сравните результаты и назовите ключевую предпосылку этих методов. Содержательно обсудите причины, по которым она может соблюдаться или нарушаться в вашем случае. Приведите содержательную экономическую интерпретацию оценки среднего эффекта воздействия."
      ],
      "metadata": {
        "id": "OqPJ50Ap7du8"
      }
    },
    {
      "cell_type": "markdown",
      "source": [
        "**Лучшая модель классификации:** случайный лес с подобранными гиперпараметрами RandomForestClassifier(max_depth = 7, max_features = 'sqrt', n_estimators = 200, random_state = 22)\n",
        "\n",
        "**Лучшая модель регрессии:** градиентный бустинг и спользованием OOB ошибки GradientBoostingRegressor(max_depth = 3, max_features = 'sqrt', n_estimators = 50, random_state = 22)"
      ],
      "metadata": {
        "id": "Ey0vSYdvvBrk"
      }
    },
    {
      "cell_type": "markdown",
      "source": [
        "**Метод наименьших квадратов**"
      ],
      "metadata": {
        "id": "m8YAA2XF8QYt"
      }
    },
    {
      "cell_type": "markdown",
      "source": [
        "Ослабим допущение о независимости до допущения об условной независимости:\n",
        "\n",
        "$$\\text{E}(\\text{Ticket_Price}_{1i}|\\text{Last_Ticket}_{i}=1,X_{i}) = \\text{E}(\\text{Ticket_Price}_{1i}|X_{i})\\qquad \\text{E}(\\text{Ticket_Price}_{0i}|\\text{Last_Ticket}_{i}=0,X_{i}) = \\text{E}(\\text{Ticket_Price}_{0i}|X_{i})$$\n",
        "\n",
        "Попробуем оценить $\\text{ATE}$, рассмотрев среднюю разницу в оценках цен на авиабилеты, полученных с помощью МНК отдельно сперва для самолётов с количеством свободных мест менее 20, а потом для самолётов с количеством свободных мест более 20.\n",
        "\n",
        "$$\\widehat{\\text{ATE}}_{\\text{LS}} = \\frac{1}{n}\\sum\\limits_{i=1}^{n} \\underbrace{\\hat{\\text{E}}\\left(\\text{Ticket_Price}_{1i}|X_{i}\\right) - \\hat{\\text{E}}\\left(\\text{Ticket_Price}_{0i}|X_{i}\\right)}_{\\widehat{\\text{CATE}}_{i}}$$\n",
        "\n",
        "Где:\n",
        "\n",
        "\n",
        "*   $\\hat{\\text{E}}\\left(\\text{Ticket_Price}_{1i}|X_{i}\\right)$ - оценка, полученная с использованием МНК оценок регрессионных коэффициентов $\\beta$, полученных по выборке из самолётов с количеством свободных мест менее 20 $\\text{Last_Ticket}_{i} = 1$.\n",
        "*   $\\hat{\\text{E}}\\left(\\text{Ticket_Price}_{0i}|X_{i}\\right)$ - оценка, полученная с использованием МНК оценок регрессионных коэффициентов $\\beta$, полученных по выборке из  самолётов с количеством свободных мест более 20 $\\text{Last_Ticket}_{i} = 0$.\n",
        "\n"
      ],
      "metadata": {
        "id": "V_CqAlyg9dAH"
      }
    },
    {
      "cell_type": "code",
      "source": [
        "# Оценим средний эффект воздействия с помощью МНК\n",
        "\n",
        "# МНК оценивание уравнения цен на авиабилеты для\n",
        "# самолётов с количеством свободных мест более 20\n",
        "y0 = df.loc[Last_Ticket == 0, ['Ticket_Price']]\n",
        "x0 = df.loc[Last_Ticket == 0, df.columns.drop(['Ticket_Price', 'Last_Ticket', 'Hours'])]\n",
        "x0 = sm.add_constant(x0)\n",
        "ols0 = sm.OLS(y0, x0).fit()\n",
        "\n",
        "# МНК оценивание уравнения цен на авиабилеты для\n",
        "# самолётов с количеством свободных мест менее 20\n",
        "y1 = df.loc[Last_Ticket == 1, ['Ticket_Price']]\n",
        "x1 = df.loc[Last_Ticket == 1, df.columns.drop(['Ticket_Price', 'Last_Ticket', 'Hours'])]\n",
        "x1 = sm.add_constant(x1)\n",
        "ols1 = sm.OLS(y1, x1).fit()\n",
        "\n",
        "# Оценим цены на авиабилеты при количестве свободных мест больше и меньше 20\n",
        "# с помощью полученных МНК оценок\n",
        "x = df.loc[:, df.columns.drop(['Ticket_Price', 'Last_Ticket', 'Hours'])]\n",
        "x = sm.add_constant(x)\n",
        "  # МНК оценка E(Ticket_Price0 | X) для всех индивидов\n",
        "Ticket_Price0_ols = ols0.predict(x)\n",
        "  # МНК оценка E(Ticket_Price1 | X) для всех индивидов\n",
        "Ticket_Price1_ols = ols1.predict(x)\n",
        "\n",
        "# Оценки CATE\n",
        "CATE_ols = np.array(Ticket_Price1_ols - Ticket_Price0_ols)\n",
        "\n",
        "# Оценка ATE как средняя разница в прогнозах МНК оценок\n",
        "ATE_ols = np.mean(CATE_ols)"
      ],
      "metadata": {
        "id": "mDqoWTEH7eDl"
      },
      "execution_count": null,
      "outputs": []
    },
    {
      "cell_type": "code",
      "source": [
        "# Сравним результаты\n",
        "print(pd.DataFrame(data    = [ATE, ATE_naive, ATE_ols],\n",
        "                   index   = ['ATE', 'ATE naive', \"ATE ols\"],\n",
        "                   columns = ['Оценка']))"
      ],
      "metadata": {
        "id": "TsLKjpPl8_Db",
        "colab": {
          "base_uri": "https://localhost:8080/"
        },
        "outputId": "798e4a86-dd1f-463c-eb0b-c05e446c33b4"
      },
      "execution_count": null,
      "outputs": [
        {
          "output_type": "stream",
          "name": "stdout",
          "text": [
            "              Оценка\n",
            "ATE        43.513822\n",
            "ATE naive  59.834971\n",
            "ATE ols    54.627254\n"
          ]
        }
      ]
    },
    {
      "cell_type": "markdown",
      "source": [
        "**Условные математические ожидания**"
      ],
      "metadata": {
        "id": "1_vAxiHFUbNR"
      }
    },
    {
      "cell_type": "markdown",
      "source": [
        "Будем оценивать ATE с помощью S-learner. Выбираем в качестве метода машинного обучения метод ближайших соседей с подобранными гиперпараметрами, поскольку он показал лучшие результаты RMSE.\n",
        "\n",
        "Оценка $\\text{S-learner}$ метода будет иметь такой вид:\n",
        "\n",
        "$$\\widehat{\\text{CATE}}^{\\text{S-learner}}_{i} = \\frac{1}{n}\\sum\\limits_{i=1}^{n} \\hat{\\text{E}}\\left(\\text{Ticket_Price}_{i}|X_{i},\\text{Last_Ticket}_{i}=1\\right) - \\hat{\\text{E}}\\left(\\text{Ticket_Price}_{i}|X_{i},\\text{Last_Ticket}_{i}=0\\right)$$\n",
        "\n",
        "Однако, методы оценивания самих условных математических ожиданий различаются:\n",
        "\n",
        "*   $\\hat{\\text{E}}\\left(\\text{Ticket_Price}_{i}|X_{i},\\text{Last_Ticket}_{i}=1\\right)$ - оценка, полученная с использованием метода машинного обучения по всей выборке.\n",
        "*   $\\hat{\\text{E}}\\left(\\text{Ticket_Price}_{i}|X_{i},\\text{Last_Ticket}_{i}=0\\right)$ - оценка, полученная с использованием метода машинного обучения по всей выборке."
      ],
      "metadata": {
        "id": "6_IV6Gt3V0Ag"
      }
    },
    {
      "cell_type": "code",
      "source": [
        "# Оценивание ATE и CATE с помощью S-learner\n",
        "\n",
        "# Подготовим данные\n",
        "y = df.loc[:, ['Ticket_Price']]\n",
        "x = df.loc[:, df.columns.drop(['Ticket_Price', 'Hours'])]\n",
        "\n",
        "# Подготовка модели: единая для тех, у кого менее\n",
        "# 20 свободных мест и у кого более\n",
        "gb2 = GradientBoostingRegressor(max_depth = 3, max_features = 'sqrt', n_estimators = 50, random_state = 22)\n",
        "gb2.fit(x, y)\n",
        "\n",
        "# Оценки E(Ticket_Price | X, Last_Ticket = 0) для всех самолётов,\n",
        "# в том числе для тех, у кого (Last_Ticket = 1).\n",
        "x0 = deepcopy(x)\n",
        "x0[\"Last_Ticket\"] = 0\n",
        "Ticket_Price0_gb2 = gb2.predict(x0)\n",
        "\n",
        "# Оценки E(Ticket_Price | X, Last_Ticket = 1) для всех самолётов,\n",
        "# в том числе для тех, у кого (Last_Ticket = 0).\n",
        "x1 = deepcopy(x)\n",
        "x1[\"Last_Ticket\"] = 1\n",
        "Ticket_Price1_gb2 = gb2.predict(x1)\n",
        "\n",
        "# Оценки CATE\n",
        "CATE_S = Ticket_Price1_gb2 - Ticket_Price0_gb2\n",
        "\n",
        "# Оценка ATE\n",
        "ATE_S = np.mean(CATE_S)"
      ],
      "metadata": {
        "id": "DRfmH6quU2Cb"
      },
      "execution_count": null,
      "outputs": []
    },
    {
      "cell_type": "code",
      "source": [
        "# Сопоставим результаты\n",
        "print(pd.DataFrame(data    = [ATE, ATE_naive, ATE_ols, ATE_S],\n",
        "                   index   = ['ATE', 'ATE naive', 'ATE ols', 'ATE S-learner'],\n",
        "                   columns = ['Оценка']))"
      ],
      "metadata": {
        "id": "Jf7_hxhwWsse",
        "colab": {
          "base_uri": "https://localhost:8080/"
        },
        "outputId": "b2a57ea3-81f8-41b5-aebc-1b47db0ad7fd"
      },
      "execution_count": null,
      "outputs": [
        {
          "output_type": "stream",
          "name": "stdout",
          "text": [
            "                  Оценка\n",
            "ATE            43.513822\n",
            "ATE naive      59.834971\n",
            "ATE ols        54.627254\n",
            "ATE S-learner  58.001282\n"
          ]
        }
      ]
    },
    {
      "cell_type": "markdown",
      "source": [
        "**Взвешивание на обратные вероятности**"
      ],
      "metadata": {
        "id": "h5xADWrXWsTH"
      }
    },
    {
      "cell_type": "markdown",
      "source": [
        "Оценка, получаемая с помощью взвешивания на обратные вероятности $\\text{IPW}$, имеет вид:\n",
        "\n",
        "$$\\widehat{\\text{ATE}}^{\\text{IPW}} = \\frac{1}{n}\\sum\\limits_{i=1}^{n}\\frac{\\text{Last_Ticket}_{i}\\times\\text{Ticket_Price}_{i}}{\\hat{P}\\left(\\text{Last_Ticket}_{i}=1|X_{i}\\right)} - \\frac{\\left(1 - \\text{Last_Ticket}_{i}\\right)\\times\\text{Ticket_Price}_{i}}{1 - \\hat{P}\\left(\\text{Last_Ticket}_{i}=1|X_{i}\\right)}$$\n",
        "\n",
        "Где условные вероятности $\\hat{P}\\left(\\text{Last_Ticket}_{i}=1|X_{i}\\right)$ оценивается с помощью методов классификации. В нашем случае с помощью случайного леса с подобранными гиперпараметрами, поскольку данная модель лучшая с точки зрения точности."
      ],
      "metadata": {
        "id": "n_LwubJ3YSYL"
      }
    },
    {
      "cell_type": "code",
      "source": [
        "# Оценивание с помощью обратного взвешивания на вероятности IPW\n",
        "\n",
        "# Подготовим данные\n",
        "target = df.loc[:, ['Last_Ticket']]\n",
        "features = df.loc[:, df.columns.drop(['Ticket_Price', 'Last_Ticket', 'Hours'])]\n",
        "\n",
        "# Подготовим метод машинного обучения\n",
        "rf = RandomForestClassifier(max_depth = 7, max_features = 'sqrt', n_estimators = 200, random_state = 22)\n",
        "rf.fit(features, target)\n",
        "\n",
        "# Оценим условные вероятности P(Last_Ticket = 1 | X)\n",
        "prob_rf = rf.predict_proba(features)[:, 1]\n",
        "\n",
        "# Оценим псевдоисходы\n",
        "Ticket_Price_pseudo = (Ticket_Price * Last_Ticket) / prob_rf - (Ticket_Price * (1 - Last_Ticket)) / (1 - prob_rf)\n",
        "\n",
        "# Оценим ATE\n",
        "ATE_IPW = np.mean(Ticket_Price_pseudo)"
      ],
      "metadata": {
        "id": "EqE2NdwJYGLn"
      },
      "execution_count": null,
      "outputs": []
    },
    {
      "cell_type": "code",
      "source": [
        "# Сопоставим результаты\n",
        "print(pd.DataFrame(data    = [ATE, ATE_naive, ATE_ols, ATE_S, ATE_IPW],\n",
        "                   index   = ['ATE', 'ATE naive', 'ATE ols', 'ATE S-learner', 'ATE_IPW'],\n",
        "                   columns = ['Оценка']))"
      ],
      "metadata": {
        "id": "FVC8SxfGYIWM",
        "colab": {
          "base_uri": "https://localhost:8080/"
        },
        "outputId": "585f4504-88d3-4c74-e310-d63d1575e44a"
      },
      "execution_count": null,
      "outputs": [
        {
          "output_type": "stream",
          "name": "stdout",
          "text": [
            "                  Оценка\n",
            "ATE            43.513822\n",
            "ATE naive      59.834971\n",
            "ATE ols        54.627254\n",
            "ATE S-learner  58.001282\n",
            "ATE_IPW        44.344613\n"
          ]
        }
      ]
    },
    {
      "cell_type": "markdown",
      "source": [
        "**Метод, обладающий двойной устойчивостью.**"
      ],
      "metadata": {
        "id": "OewxB9WfaK6U"
      }
    },
    {
      "cell_type": "markdown",
      "source": [
        "Методом с двойной устойчивостью средний эффект воздействия оценивается как:\n",
        "\n",
        "$$\\widehat{\\text{ATE}}^{\\text{DR}} = \\frac{1}{n}\\sum\\limits_{i=1}^{n}\\hat{\\text{E}}\\left(\\text{Ticket_Price}_{i}|X_{i}, T_{i}=1\\right) - \\hat{\\text{E}}\\left(\\text{Ticket_Price}_{i}|X_{i}, T_{i}=0\\right) + \\frac{\\text{Last_Ticket}_{i}\\times\\left(\\text{Ticket_Price}_{i}-\\hat{\\text{E}}\\left(\\text{Ticket_Price}_{i}|X_{i}, T_{i}=1\\right)\\right)}{\\hat{P}(\\text{Last_Ticket}_{i}=1|X_{i})} - \\frac{\\left(1-\\text{Last_Ticket}_{i}\\right)\\times\\left(\\text{Ticket_Price}_{i}-\\hat{\\text{E}}\\left(\\text{Ticket_Price}_{i}|X_{i}, T_{i}=0\\right)\\right)}{1 - \\hat{P}(\\text{Last_Ticket}_{i}=1|X_{i})}$$"
      ],
      "metadata": {
        "id": "3kj8na2_aPVM"
      }
    },
    {
      "cell_type": "code",
      "source": [
        "# поскольку наблюдений достаточно много, и возникают проблему с ОЗУ,\n",
        "#  сократим количество наблюдений в необходимых переменных до 10 000\n",
        "Ticket_Price1_gb2_subset = Ticket_Price1_gb2[:10000]\n",
        "Ticket_Price0_gb2_subset = Ticket_Price0_gb2[:10000]\n",
        "Last_Ticket_subset = Last_Ticket[:10000]\n",
        "Ticket_Price_subset = Ticket_Price[:10000]\n",
        "prob_rf_subset = prob_rf[:10000]"
      ],
      "metadata": {
        "id": "g2d_Xc49FwPZ"
      },
      "execution_count": null,
      "outputs": []
    },
    {
      "cell_type": "code",
      "source": [
        "# Оценим ATE с помощью DR метода с двойной устойчивостью\n",
        "ATE_DR = np.mean((Ticket_Price1_gb2_subset - Ticket_Price0_gb2_subset) + \\\n",
        "                 Last_Ticket_subset * (Ticket_Price_subset - Ticket_Price1_gb2_subset) / prob_rf_subset - \\\n",
        "                 (1 - Last_Ticket_subset) * (Ticket_Price_subset - Ticket_Price0_gb2_subset) / (1 - prob_rf_subset))"
      ],
      "metadata": {
        "id": "c065aKnaaD8e"
      },
      "execution_count": null,
      "outputs": []
    },
    {
      "cell_type": "code",
      "source": [
        "# Сопоставим результаты\n",
        "print(pd.DataFrame(data    = [ATE, ATE_naive, ATE_ols, ATE_S, ATE_IPW, ATE_DR],\n",
        "                   index   = ['ATE', 'ATE naive', 'ATE ols', 'ATE S-learner', 'ATE_IPW', 'ATE_DR'],\n",
        "                   columns = ['Оценка']))"
      ],
      "metadata": {
        "id": "9BHT_YO3bJPX",
        "colab": {
          "base_uri": "https://localhost:8080/"
        },
        "outputId": "e7b9175d-b8fe-48fa-f7b0-a54c0cce9d66"
      },
      "execution_count": null,
      "outputs": [
        {
          "output_type": "stream",
          "name": "stdout",
          "text": [
            "                  Оценка\n",
            "ATE            43.513822\n",
            "ATE naive      59.834971\n",
            "ATE ols        54.627254\n",
            "ATE S-learner  58.001282\n",
            "ATE_IPW        44.344613\n",
            "ATE_DR         59.974247\n"
          ]
        }
      ]
    },
    {
      "cell_type": "markdown",
      "source": [
        "**Двойное машинное обучение**"
      ],
      "metadata": {
        "id": "9N0Zrw-GeH36"
      }
    },
    {
      "cell_type": "code",
      "source": [
        "# Данные в формате, необходимом для применения DML\n",
        "dml_standard_data = dml.DoubleMLData(\n",
        "                            data = df,\n",
        "                            y_col = 'Ticket_Price',\n",
        "                            d_cols = 'Last_Ticket',\n",
        "                            x_cols = ['Days_Before', 'Distance', 'Connection'])\n",
        "\n",
        "# Метод оценивания E(Y | X, T)\n",
        "g_Y = GradientBoostingRegressor(max_depth = 3, max_features = 'sqrt', n_estimators = 50, random_state = 22)\n",
        "\n",
        "# Метод оценивания E(T | X)\n",
        "g_T =  RandomForestClassifier(max_depth = 7, max_features = 'sqrt', n_estimators = 200, random_state = 22)\n",
        "\n",
        "# Подготовка объекта\n",
        "dml_standard = dml.DoubleMLIRM(obj_dml_data = dml_standard_data,\n",
        "                               ml_g = g_Y, ml_m = g_T,\n",
        "                               n_rep = 1,\n",
        "                               n_folds = 5)\n",
        "\n",
        "# Оценим параметры\n",
        "dml_standard.fit()\n",
        "\n",
        "# Сохраним оценку\n",
        "ATE_dml_standard = dml_standard.coef[0]"
      ],
      "metadata": {
        "id": "Id0vGPX4bvLg"
      },
      "execution_count": null,
      "outputs": []
    },
    {
      "cell_type": "code",
      "source": [
        "# Сопоставим результаты\n",
        "print(pd.DataFrame(data    = [ATE, ATE_naive, ATE_ols, ATE_S, ATE_IPW, ATE_DR, ATE_dml_standard],\n",
        "                   index   = ['ATE', 'ATE naive', 'ATE ols', 'ATE S-learner', 'ATE_IPW', 'ATE_DR', 'ATE_dml_standard'],\n",
        "                   columns = ['Оценка']))"
      ],
      "metadata": {
        "id": "34dLkI0tfE9_",
        "colab": {
          "base_uri": "https://localhost:8080/"
        },
        "outputId": "9d555b6f-d017-4c2e-8f64-7010ef435dfc"
      },
      "execution_count": null,
      "outputs": [
        {
          "output_type": "stream",
          "name": "stdout",
          "text": [
            "                     Оценка\n",
            "ATE               43.513822\n",
            "ATE naive         59.834971\n",
            "ATE ols           54.627254\n",
            "ATE S-learner     58.001282\n",
            "ATE_IPW           44.344613\n",
            "ATE_DR            59.974247\n",
            "ATE_dml_standard  61.500218\n"
          ]
        }
      ]
    },
    {
      "cell_type": "markdown",
      "source": [
        "**Повышенная сложность:** включите дополнительный метод, не рассматривавшийся в курсе, и опишите его принцип работы, а также преимущества и\n",
        "недостатки по сравнению с другими методами.\n"
      ],
      "metadata": {
        "id": "c9n1Yv1IfjLZ"
      }
    },
    {
      "cell_type": "markdown",
      "source": [
        "Давайте оценим ATE с помощью Matching Estimator в Causal Model. 🙆‍♂️\n",
        "\n",
        "Метод Matching используется для оценки среднего эффекта воздействия (ATE) путём сопоставления наблюдений из группы воздействия с наблюдениями из контрольной группы на основе схожих характеристик (ковариат).\n",
        "\n",
        "Первым шагом является оценка propensity score - вероятность получения воздействия для $i-го$ наблюдения, вычисленная с использованием логистической регрессии или другого метода - для каждого наблюдения:\n",
        "\n",
        "$$\\widehat{\\text{p}}(\\text{X}_{i}) = \\text{P}\\left(\\text{Last_Ticket}_{i} = 1|\\text{Days_Before}_{i}, \\text{Distance}_{i}, \\text{Connection}_{i}, \\text{Hours}_{i}\\right)$$\n",
        "\n",
        "Затем Для каждого наблюдения $i$ из группы воздействия $(\\text{Last_Ticket}_{i} = 1)$ находим наблюдение $j$ из контрольной группы $(\\text{Last_Ticket}_{j} = 0)$, которое имеет наиболее схожий propensity score:\n",
        "\n",
        "$$j = \\text{argmin}_{\\text{j}: \\text{Last_Ticket}_{j} = 0} = |\\widehat{\\text{p}}(\\text{X}_{i}) - \\widehat{\\text{p}}(\\text{X}_{j})|$$\n",
        "\n",
        "Затем для каждой пары $(i,j)$ оцениваем разность в целевой переменной:\n",
        "\n",
        "$$\\Delta \\text{Ticket_Price}_{\\text{ij}} = \\text{Ticket_Price}_{\\text{i}} - \\text{Ticket_Price}_{\\text{j}} $$\n",
        "\n",
        "Найдем средний эффект воздействия (ATE), который оценивается как среднее значение разностей в целевой переменной для всех пар:\n",
        "\n",
        "$$\\text{ATE} = \\frac{1}{n}\\sum_{(i, j)}(\\text{Ticket_Price}_{i} - \\text{Ticket_Price}_{j})$$"
      ],
      "metadata": {
        "id": "ROfvz-qf2XOH"
      }
    },
    {
      "cell_type": "code",
      "source": [
        "# поскольку наблюдений достаточно много, и возникают проблемы с ОЗУ,\n",
        "#  сократим количество наблюдений в необходимых переменных до 10 000\n",
        "df_subset = df.head(10000)\n",
        "from causalinference import CausalModel\n",
        "Y =  df_subset['Ticket_Price'].values\n",
        "D = df_subset['Last_Ticket'].values\n",
        "X = df_subset[['Days_Before', 'Distance', 'Connection']].values\n",
        "cm = CausalModel(Y, D, X)\n",
        "cm.est_via_matching()\n",
        "ATE_matching = cm.estimates['matching']['ate']"
      ],
      "metadata": {
        "id": "kpZQayHqfmRI"
      },
      "execution_count": null,
      "outputs": []
    },
    {
      "cell_type": "code",
      "source": [
        "# Сопоставим результаты\n",
        "print(pd.DataFrame(data    = [ATE, ATE_naive, ATE_ols, ATE_S, ATE_IPW, ATE_DR, ATE_dml_standard, ATE_matching],\n",
        "                   index   = ['ATE', 'ATE naive', 'ATE ols', 'ATE S-learner', 'ATE_IPW', 'ATE_DR', 'ATE_dml_standard', 'ATE_matching'],\n",
        "                   columns = ['Оценка']))"
      ],
      "metadata": {
        "id": "0bCqwMgH3CKu",
        "colab": {
          "base_uri": "https://localhost:8080/"
        },
        "outputId": "7abfab41-991e-4392-a961-6b027d8c0b95"
      },
      "execution_count": null,
      "outputs": [
        {
          "output_type": "stream",
          "name": "stdout",
          "text": [
            "                     Оценка\n",
            "ATE               43.513822\n",
            "ATE naive         59.834971\n",
            "ATE ols           54.627254\n",
            "ATE S-learner     58.001282\n",
            "ATE_IPW           44.344613\n",
            "ATE_DR            59.974247\n",
            "ATE_dml_standard  61.500218\n",
            "ATE_matching      62.258918\n"
          ]
        }
      ]
    },
    {
      "cell_type": "markdown",
      "source": [
        "5. Оцените локальный условный эффект воздействия с помощью:\n",
        "\n",
        "• двойного машинного обучения без инструментальной переменной.\n",
        "\n",
        "• двойного машинного обучения с инструментальной переменной.\n"
      ],
      "metadata": {
        "id": "jFM0go6dhDKD"
      }
    },
    {
      "cell_type": "markdown",
      "source": [
        "Представим, что переменная $\\text{Population}_{i}$ отсутствует в данных, из-за чего возникает эндогенность, поскольку эта переменная влияет и на цену авиабилета $\\text{Ticket_Price}_{i}$, и на количество свободных мест $\\text{Last_Ticket}_{i}$.\n",
        "\n",
        "Напомним, что при наличии эндогенности с помощью инструментальных переменных мы можем оценить лишь $\\text{LATE}$, а не $\\text{ATE}$.\n",
        "\n",
        "Попробуем сперва воспользоваться **ДМО** методом **без инструментальных переменных**, чтобы продемонстрировать проблемы, возникающие при игнорировании эндогенности."
      ],
      "metadata": {
        "id": "WFVZPjR4hpvc"
      }
    },
    {
      "cell_type": "code",
      "source": [
        "# Данные в формате, необходимом для применения DML\n",
        "dml_standard2_data = dml.DoubleMLData(\n",
        "                             data = df,\n",
        "                             y_col = 'Ticket_Price',\n",
        "                             d_cols = 'Last_Ticket',\n",
        "                             x_cols = ['Days_Before', 'Distance', 'Connection'])\n",
        "\n",
        "# Подготовка объекта\n",
        "dml_standard2 = dml.DoubleMLIRM(obj_dml_data = dml_standard2_data,\n",
        "                                ml_g = g_Y, ml_m = g_T,\n",
        "                                n_rep = 1,\n",
        "                                n_folds = 5)\n",
        "\n",
        "# Оценим параметры\n",
        "dml_standard2.fit()\n",
        "\n",
        "# Посмотрим на результат\n",
        "print(dml_standard2)\n",
        "\n",
        "# Сохраним оценку\n",
        "LATE_dml_standard2 = dml_standard2.coef[0]"
      ],
      "metadata": {
        "id": "gZn89o0ShJl4",
        "colab": {
          "base_uri": "https://localhost:8080/"
        },
        "outputId": "2784f73e-8f96-4012-82c7-a644bd2eece3"
      },
      "execution_count": null,
      "outputs": [
        {
          "output_type": "stream",
          "name": "stdout",
          "text": [
            "================== DoubleMLIRM Object ==================\n",
            "\n",
            "------------------ Data summary      ------------------\n",
            "Outcome variable: Ticket_Price\n",
            "Treatment variable(s): ['Last_Ticket']\n",
            "Covariates: ['Days_Before', 'Distance', 'Connection']\n",
            "Instrument variable(s): None\n",
            "No. Observations: 100000\n",
            "\n",
            "------------------ Score & algorithm ------------------\n",
            "Score function: ATE\n",
            "\n",
            "------------------ Machine learner   ------------------\n",
            "Learner ml_g: GradientBoostingRegressor(max_features='sqrt', n_estimators=50, random_state=22)\n",
            "Learner ml_m: RandomForestClassifier(max_depth=7, n_estimators=200, random_state=22)\n",
            "Out-of-sample Performance:\n",
            "Learner ml_g0 RMSE: [[13.81456259]]\n",
            "Learner ml_g1 RMSE: [[12.65537147]]\n",
            "Learner ml_m RMSE: [[0.34790467]]\n",
            "\n",
            "------------------ Resampling        ------------------\n",
            "No. folds: 5\n",
            "No. repeated sample splits: 1\n",
            "\n",
            "------------------ Fit summary       ------------------\n",
            "                 coef   std err           t  P>|t|      2.5 %     97.5 %\n",
            "Last_Ticket  61.47864  0.128965  476.707253    0.0  61.225873  61.731407\n"
          ]
        }
      ]
    },
    {
      "cell_type": "markdown",
      "source": [
        "Теперь воспользуемся **ДМО** методом оценивания $\\text{LATE}$ **с помощью инструментальных переменных**."
      ],
      "metadata": {
        "id": "vYegtQ-1h9Pg"
      }
    },
    {
      "cell_type": "code",
      "source": [
        "# Данные в формате, необходимом для применения DML\n",
        "dml_iv_data = dml.DoubleMLData(data = df,\n",
        "                               y_col = 'Ticket_Price',\n",
        "                               d_cols = 'Last_Ticket',\n",
        "                               z_cols = 'Hours',\n",
        "                               x_cols = ['Days_Before', 'Distance', 'Connection'])\n",
        "\n",
        "# Метод оценивания E(Z | X)\n",
        "g_Z = RandomForestClassifier(max_depth = 7, max_features = 'sqrt', n_estimators = 200, random_state = 22)\n",
        "\n",
        "# Подготовка объекта\n",
        "dml_iv = dml.DoubleMLIIVM(obj_dml_data = dml_iv_data,\n",
        "                          ml_g = g_Y, ml_m = g_Z, ml_r = g_T,\n",
        "                          n_rep = 1,\n",
        "                          n_folds = 5)\n",
        "\n",
        "# Оценим параметры\n",
        "dml_iv.fit()\n",
        "\n",
        "# Посмотрим на результат\n",
        "print(dml_iv)\n",
        "\n",
        "# Сохраним оценку\n",
        "LATE_dml_iv = dml_iv.coef[0]"
      ],
      "metadata": {
        "id": "a66ooRa_h9sm",
        "colab": {
          "base_uri": "https://localhost:8080/"
        },
        "outputId": "861131c7-a1f6-4d18-b47b-f3d25dfb5e5b"
      },
      "execution_count": null,
      "outputs": [
        {
          "output_type": "stream",
          "name": "stdout",
          "text": [
            "================== DoubleMLIIVM Object ==================\n",
            "\n",
            "------------------ Data summary      ------------------\n",
            "Outcome variable: Ticket_Price\n",
            "Treatment variable(s): ['Last_Ticket']\n",
            "Covariates: ['Days_Before', 'Distance', 'Connection']\n",
            "Instrument variable(s): ['Hours']\n",
            "No. Observations: 100000\n",
            "\n",
            "------------------ Score & algorithm ------------------\n",
            "Score function: LATE\n",
            "\n",
            "------------------ Machine learner   ------------------\n",
            "Learner ml_g: GradientBoostingRegressor(max_features='sqrt', n_estimators=50, random_state=22)\n",
            "Learner ml_m: RandomForestClassifier(max_depth=7, n_estimators=200, random_state=22)\n",
            "Learner ml_r: RandomForestClassifier(max_depth=7, n_estimators=200, random_state=22)\n",
            "Out-of-sample Performance:\n",
            "Learner ml_g0 RMSE: [[24.42986752]]\n",
            "Learner ml_g1 RMSE: [[21.91458103]]\n",
            "Learner ml_m RMSE: [[0.25717428]]\n",
            "Learner ml_r0 RMSE: [[0.37783278]]\n",
            "Learner ml_r1 RMSE: [[0.28784657]]\n",
            "\n",
            "------------------ Resampling        ------------------\n",
            "No. folds: 5\n",
            "No. repeated sample splits: 1\n",
            "\n",
            "------------------ Fit summary       ------------------\n",
            "                  coef   std err           t  P>|t|      2.5 %     97.5 %\n",
            "Last_Ticket  42.933342  0.206788  207.620368    0.0  42.528045  43.338638\n"
          ]
        }
      ]
    },
    {
      "cell_type": "code",
      "source": [
        "# Сопоставим результаты\n",
        "print(pd.DataFrame(data    = [ATE, LATE, LATE_dml_standard2, LATE_dml_iv],\n",
        "                   index   = ['ATE', 'LATE', 'LATE dml standard2', 'LATE dml iv'],\n",
        "                   columns = ['Оценка']))"
      ],
      "metadata": {
        "id": "9iBURLrsilnX",
        "colab": {
          "base_uri": "https://localhost:8080/"
        },
        "outputId": "1a338ed8-5f42-45d8-96a2-80c59d21b74f"
      },
      "execution_count": null,
      "outputs": [
        {
          "output_type": "stream",
          "name": "stdout",
          "text": [
            "                       Оценка\n",
            "ATE                 43.513822\n",
            "LATE                43.460487\n",
            "LATE dml standard2  61.478640\n",
            "LATE dml iv         42.933342\n"
          ]
        }
      ]
    },
    {
      "cell_type": "markdown",
      "source": [
        "**Повышенная сложность:** воспользуйтесь также параметрической моделью,\n",
        "например, с помощью пакета switchSelection. Обсудите преимущества и недостатки такого подхода по сравнению с двойным машинным обучением."
      ],
      "metadata": {
        "id": "ggFKupqWis_b"
      }
    },
    {
      "cell_type": "code",
      "source": [
        "from statsmodels.sandbox.regression.gmm import IV2SLS\n",
        "# Подготовка данных\n",
        "X = df[['Days_Before', 'Distance', 'Connection', 'Last_Ticket']]\n",
        "y = df['Ticket_Price']\n",
        "z = df['Hours']\n",
        "X = sm.add_constant(X)\n",
        "\n",
        "# Определение и оценка модели\n",
        "model_2sls = IV2SLS(y, X, z).fit()\n",
        "\n",
        "# Печать результатов\n",
        "print(model_2sls.summary())"
      ],
      "metadata": {
        "id": "lkFYt7XziuKE",
        "colab": {
          "base_uri": "https://localhost:8080/"
        },
        "outputId": "9b0f03ae-1feb-4c7e-b91a-245b67f882e3"
      },
      "execution_count": null,
      "outputs": [
        {
          "output_type": "stream",
          "name": "stdout",
          "text": [
            "                          IV2SLS Regression Results                           \n",
            "==============================================================================\n",
            "Dep. Variable:           Ticket_Price   R-squared:                   -1666.632\n",
            "Model:                         IV2SLS   Adj. R-squared:              -1666.699\n",
            "Method:                     Two Stage   F-statistic:                 1.210e-10\n",
            "                        Least Squares   Prob (F-statistic):               1.00\n",
            "Date:                Sun, 09 Jun 2024                                         \n",
            "Time:                        16:13:36                                         \n",
            "No. Observations:              100000                                         \n",
            "Df Residuals:                   99995                                         \n",
            "Df Model:                           4                                         \n",
            "===============================================================================\n",
            "                  coef    std err          t      P>|t|      [0.025      0.975]\n",
            "-------------------------------------------------------------------------------\n",
            "const         269.3759   1.45e+09   1.86e-07      1.000   -2.84e+09    2.84e+09\n",
            "Days_Before   -43.1814    6.4e+05  -6.75e-05      1.000   -1.25e+06    1.25e+06\n",
            "Distance        2.5396   4.23e+05   6.01e-06      1.000   -8.29e+05    8.29e+05\n",
            "Connection   1198.3359   4.44e+08    2.7e-06      1.000   -8.71e+08    8.71e+08\n",
            "Last_Ticket -1327.2131   1.59e+09  -8.37e-07      1.000   -3.11e+09    3.11e+09\n",
            "==============================================================================\n",
            "Omnibus:                     3749.779   Durbin-Watson:                   1.941\n",
            "Prob(Omnibus):                  0.000   Jarque-Bera (JB):             2153.961\n",
            "Skew:                          -0.207   Prob(JB):                         0.00\n",
            "Kurtosis:                       2.412   Cond. No.                     8.97e+03\n",
            "==============================================================================\n"
          ]
        }
      ]
    },
    {
      "cell_type": "code",
      "source": [
        "# Оценка LATE\n",
        "LATE_iv_2sls = model_2sls.params['Last_Ticket']\n",
        "LATE_iv_2sls"
      ],
      "metadata": {
        "id": "lF1cyyxbSCAF",
        "colab": {
          "base_uri": "https://localhost:8080/"
        },
        "outputId": "7cd845e8-5d3c-4b72-d37d-fd6890cf3fc9"
      },
      "execution_count": null,
      "outputs": [
        {
          "output_type": "execute_result",
          "data": {
            "text/plain": [
              "-1327.2131147540983"
            ]
          },
          "metadata": {},
          "execution_count": 130
        }
      ]
    },
    {
      "cell_type": "code",
      "source": [
        "# Сопоставим результаты\n",
        "print(pd.DataFrame(data    = [ATE, LATE, LATE_dml_standard2, LATE_dml_iv, LATE_iv_2sls],\n",
        "                   index   = ['ATE', 'LATE', 'LATE dml standard2', 'LATE dml iv', 'LATE IV 2SLS'],\n",
        "                   columns = ['Оценка']))"
      ],
      "metadata": {
        "id": "_qjpHbajRO12",
        "colab": {
          "base_uri": "https://localhost:8080/"
        },
        "outputId": "a2661ade-368a-4b69-d12b-a1b25e7fc871"
      },
      "execution_count": null,
      "outputs": [
        {
          "output_type": "stream",
          "name": "stdout",
          "text": [
            "                         Оценка\n",
            "ATE                   43.513822\n",
            "LATE                  43.460487\n",
            "LATE dml standard2    61.478640\n",
            "LATE dml iv           42.933342\n",
            "LATE IV 2SLS       -1327.213115\n"
          ]
        }
      ]
    },
    {
      "cell_type": "markdown",
      "source": [
        "6. Оцените условные средние эффекты воздействия с помощью:\n",
        "\n",
        "• метода наименьших квадратов.\n",
        "\n",
        "• S-learner.\n",
        "\n",
        "• T-learner.\n",
        "\n",
        "• метода трансформации классов.\n",
        "\n",
        "• X-learner.\n"
      ],
      "metadata": {
        "id": "eQEwnbPKPVc1"
      }
    },
    {
      "cell_type": "markdown",
      "source": [
        "**Метод наименьших квадратов.**"
      ],
      "metadata": {
        "id": "1dGzAbEuQAJN"
      }
    },
    {
      "cell_type": "code",
      "source": [
        "# см. пункт с методом наименьших квадратов для ATE\n",
        "CATE_ols"
      ],
      "metadata": {
        "id": "LJCcT3Xoai8_",
        "colab": {
          "base_uri": "https://localhost:8080/"
        },
        "outputId": "8c6d774e-7dd5-4624-ed76-dc9015ef3f3b"
      },
      "execution_count": null,
      "outputs": [
        {
          "output_type": "execute_result",
          "data": {
            "text/plain": [
              "array([55.67315433, 55.76960676, 55.70138055, ..., 53.0898094 ,\n",
              "       56.27235539, 56.21180099])"
            ]
          },
          "metadata": {},
          "execution_count": 132
        }
      ]
    },
    {
      "cell_type": "markdown",
      "source": [
        "**S-learner.**"
      ],
      "metadata": {
        "id": "43AHVmquQAvU"
      }
    },
    {
      "cell_type": "code",
      "source": [
        "# см. пункт с S-learner для ATE\n",
        "CATE_S"
      ],
      "metadata": {
        "id": "wfdkUZjHQBSn",
        "colab": {
          "base_uri": "https://localhost:8080/"
        },
        "outputId": "d23c57bf-e16b-4d99-a2c7-ee43d22742c7"
      },
      "execution_count": null,
      "outputs": [
        {
          "output_type": "execute_result",
          "data": {
            "text/plain": [
              "array([69.60573405, 53.17848578, 54.26332667, ..., 55.67390937,\n",
              "       67.5853764 , 54.78771297])"
            ]
          },
          "metadata": {},
          "execution_count": 133
        }
      ]
    },
    {
      "cell_type": "markdown",
      "source": [
        "**T-learner.**"
      ],
      "metadata": {
        "id": "8A0y_QNZQIvJ"
      }
    },
    {
      "cell_type": "markdown",
      "source": [
        "Условные эффекты воздействия $\\text{CATE}_{i}$ определяются как:\n",
        "\n",
        "$$\\text{CATE}_{i}=\\text{E}\\left(\\text{Ticket_Price}_{1i}|X_{i}\\right) - \\text{E}\\left(\\text{Ticket_Price}_{0i}|X_{i}\\right)$$"
      ],
      "metadata": {
        "id": "uiL_Y3eudRIx"
      }
    },
    {
      "cell_type": "code",
      "source": [
        "# Оценивание CATE с помощью T-learner\n",
        "y0 = df.loc[Last_Ticket == 0, ['Ticket_Price']]\n",
        "x0 = df.loc[Last_Ticket == 0, df.columns.drop(['Ticket_Price', 'Last_Ticket', 'Hours'])]\n",
        "x0 = sm.add_constant(x0)\n",
        "y1 = df.loc[Last_Ticket == 1, ['Ticket_Price']]\n",
        "x1 = df.loc[Last_Ticket == 1, df.columns.drop(['Ticket_Price', 'Last_Ticket', 'Hours'])]\n",
        "x1 = sm.add_constant(x1)\n",
        "x = df.loc[:, df.columns.drop(['Ticket_Price', 'Last_Ticket', 'Hours'])]\n",
        "x = sm.add_constant(x)\n",
        "# Подготовка модели\n",
        "gb_T =  GradientBoostingRegressor(max_depth = 3, max_features = 'sqrt', n_estimators = 50, random_state = 22)\n",
        "\n",
        "# Обучение оценивать E(Ticket_Price | X, Last_Ticket = 0)\n",
        "gb_T.fit(x0, y0)\n",
        "\n",
        "# Оценки E(Ticket_Price | X, Last_Ticket = 0) для всех самолётов,\n",
        "# в том числе для тех, у которых (Last_Ticket = 1).\n",
        "Ticket_Price0_gb_T = gb_T.predict(x)\n",
        "\n",
        "# Обучение оценивать E(Ticket_Price | X, Last_Ticket = 1)\n",
        "gb_T.fit(x1, y1)\n",
        "\n",
        "# Оценки E(Ticket_Price | X, Last_Ticket = 1) для всех самолётов,\n",
        "# в том числе для тех, у которых (Last_Ticket = 0).\n",
        "Ticket_Price1_gb_T = gb_T.predict(x)\n",
        "\n",
        "# Оценки CATE\n",
        "CATE_T = Ticket_Price1_gb_T - Ticket_Price0_gb_T"
      ],
      "metadata": {
        "id": "3vc_7fVfQJO7"
      },
      "execution_count": null,
      "outputs": []
    },
    {
      "cell_type": "markdown",
      "source": [
        "**Метод трансформации классов.**"
      ],
      "metadata": {
        "id": "ynvBRXltQMpy"
      }
    },
    {
      "cell_type": "markdown",
      "source": [
        "Методом трансформации классов условные эффекты воздействия оцениваются как:\n",
        "$$\\widehat{\\text{CATE}}_{i}^{\\text{IPW}}=\\hat{\\text{E}}(\\widehat{\\text{Ticket_Price}}_{i}^{*}|X_{i})$$\n",
        "\n",
        "Где $\\hat{\\text{E}}(\\widehat{\\text{Ticket_Price}}_{i}^{*}|X_{i})$ это оценка условного математического ожидания оценки псевдоисхода, определяемой как:\n",
        "\n",
        "$$\\widehat{\\text{Ticket_Price}}_{i}^{*} = \\frac{\\text{Last_Ticket}_{i}\\times\\text{Ticket_Price}_{i}}{\\hat{P}\\left(\\text{Last_Ticket}_{i}=1|X_{i}\\right)} - \\frac{\\left(1 - \\text{Last_Ticket}_{i}\\right)\\times\\text{Ticket_Price}_{i}}{1 - \\hat{P}\\left(\\text{Last_Ticket}_{i}=1|X_{i}\\right)}$$"
      ],
      "metadata": {
        "id": "lyuyKvKJcQN6"
      }
    },
    {
      "cell_type": "code",
      "source": [
        "# Оценим CATE методом трансформации классов\n",
        "features = df.loc[:, df.columns.drop(['Ticket_Price', 'Last_Ticket', 'Hours'])]\n",
        "# Метод прогнозирования условных математических ожиданий оценок псевдоисходов\n",
        "gb_IPW =  GradientBoostingRegressor(max_depth = 3, max_features = 'sqrt', n_estimators = 50, random_state = 22)\n",
        "gb_IPW.fit(features, Ticket_Price_pseudo)\n",
        "\n",
        "# Оценки CATE (метод трансформации классов)\n",
        "CATE_CT = gb_IPW.predict(features)"
      ],
      "metadata": {
        "id": "Yt-XVRBnQNG4"
      },
      "execution_count": null,
      "outputs": []
    },
    {
      "cell_type": "markdown",
      "source": [
        "**X-learner.**"
      ],
      "metadata": {
        "id": "hcH2dGmLQSHq"
      }
    },
    {
      "cell_type": "markdown",
      "source": [
        "Введём обозначения для простоты:\n",
        "$$Y = \\text{целевая переменная (цена авиабилета,} \\text{Ticket_Price}_{i} \\\\\n",
        "T = \\text{переменная воздействия (количество свободных мест,} \\text{Last_Ticket}{i})  \\\\\n",
        "X = \\text{матрица признаков} (\\text{Days_Before}_{i}, \\text{Distance}_{i}, \\text{Connection}_{i})$$\n",
        "Оценим две модели:\n",
        "\n",
        "1-я для $T = 1$:\n",
        "$$\\widehat{\\mu}_{1}(\\text{X}) = E[Y|X, T = 1]$$\n",
        "2-я для $T = 0$:\n",
        "$$\\widehat{\\mu}_{0}(\\text{X}) = E[Y|X, T = 0]$$\n",
        "Для каждой группы данных мы рассчитываем индивидуальные эффекты:\n",
        "для $T = 1$:\n",
        "$$\\widetilde{\\text{D}_{1}} = Y - \\widehat{\\mu}_{0}(\\text{X})$$\n",
        "для $T = 0$:\n",
        "$$\\widetilde{\\text{D}_{0}} = \\widehat{\\mu}_{1}(\\text{X}) - Y$$\n",
        "Далее обучаем модели:\n",
        "1-я для $T = 1$:\n",
        "$$\\widehat{\\theta}_{1}(\\text{X}) = E[\\widetilde{\\text{D}_{1}}|X]$$\n",
        "2-я для $T = 0$:\n",
        "$$\\widehat{\\theta}_{0}(\\text{X}) = E[\\widetilde{\\text{D}_{0}}|X]$$\n",
        "Вычисляем CATE как взвешенное среднее значение $\\widehat{\\theta}_{1}(\\text{X})$ и $\\widehat{\\theta}_{0}(\\text{X})$:\n",
        "$$CATE(X) = p(X) \\times \\widehat{\\theta}_{0}(\\text{X}) + (1 - p(X)) \\times \\widehat{\\theta}_{1}(\\text{X})$$\n",
        "\n",
        "где $\\text{}p(X) - \\text {оценка propensity score}$\n"
      ],
      "metadata": {
        "id": "O_g5NUntbhoi"
      }
    },
    {
      "cell_type": "code",
      "source": [
        "X = df[['Days_Before', 'Distance', 'Connection']]\n",
        "y = df['Ticket_Price']\n",
        "t = df['Last_Ticket']\n",
        "\n",
        "first_group_data = df[t == 1]\n",
        "second_group_data = df[t == 0]\n",
        "\n",
        "\n",
        "#  Обучение моделей на подвыборках\n",
        "# Обучение модели для обработанных данных\n",
        "gb_trained_1 =  GradientBoostingRegressor(max_depth = 3, max_features = 'sqrt', n_estimators = 50, random_state = 22)\n",
        "gb_trained_1.fit(first_group_data[['Days_Before', 'Distance', 'Connection']], first_group_data['Ticket_Price'])\n",
        "\n",
        "# Обучение модели для контрольных данных\n",
        "gb_trained_0 =  GradientBoostingRegressor(max_depth = 3, max_features = 'sqrt', n_estimators = 50, random_state = 22)\n",
        "gb_trained_0.fit(second_group_data[['Days_Before', 'Distance', 'Connection']], second_group_data['Ticket_Price'])\n",
        "\n",
        "# Индивидуальные эффекты\n",
        "# Для обработанных данных\n",
        "first_group_data['mu_hat_0'] = gb_trained_0.predict(first_group_data[['Days_Before', 'Distance', 'Connection']])\n",
        "first_group_data['D_tilde_1'] = first_group_data['Ticket_Price'] - first_group_data['mu_hat_0']\n",
        "\n",
        "# Для контрольных данных\n",
        "second_group_data['mu_hat_1'] = gb_trained_1.predict(second_group_data[['Days_Before', 'Distance', 'Connection']])\n",
        "second_group_data['D_tilde_0'] = second_group_data['mu_hat_1'] - second_group_data['Ticket_Price']\n",
        "\n",
        "\n",
        "# Регрессия D на X\n",
        "\n",
        "# Для обработанных данных\n",
        "gb_trained_D1 =  GradientBoostingRegressor(max_depth = 3, max_features = 'sqrt', n_estimators = 50, random_state = 22)\n",
        "gb_trained_D1.fit(first_group_data[['Days_Before', 'Distance', 'Connection']], first_group_data['D_tilde_1'])\n",
        "\n",
        "# Для контрольных данных\n",
        "gb_trained_D0 =  GradientBoostingRegressor(max_depth = 3, max_features = 'sqrt', n_estimators = 50, random_state = 22)\n",
        "gb_trained_D0.fit(second_group_data[['Days_Before', 'Distance', 'Connection']], second_group_data['D_tilde_0'])\n",
        "\n",
        "# Обучение модели для оценки propensity score\n",
        "rf_trained_T = RandomForestClassifier(max_depth = 7, max_features = 'sqrt', n_estimators = 200, random_state = 22)\n",
        "rf_trained_T.fit(X, t)\n",
        "\n",
        "p_score = rf_trained_T.predict_proba(X)[:, 1]\n",
        "\n",
        "theta_hat_1 = gb_trained_D1.predict(X)\n",
        "theta_hat_0 = gb_trained_D0.predict(X)\n",
        "\n",
        "CATE_X = p_score * theta_hat_0 + (1 - p_score) * theta_hat_1"
      ],
      "metadata": {
        "id": "OgB_6Nv-QSlW"
      },
      "execution_count": null,
      "outputs": []
    },
    {
      "cell_type": "code",
      "source": [
        "# Объединим полученные ранее оценки CATE\n",
        "CATE_mat = pd.DataFrame({'True': CATE, 'OLS': CATE_ols, 'T-learner': CATE_T.flatten(),\n",
        "                         'S-learner': CATE_S.flatten(), 'IPW': CATE_CT, 'X-learner': CATE_X})\n",
        "print(CATE_mat)"
      ],
      "metadata": {
        "id": "YtqhjXmoZ2OJ",
        "colab": {
          "base_uri": "https://localhost:8080/"
        },
        "outputId": "a60efb0e-7056-4e1f-ad8a-c060933f47d1"
      },
      "execution_count": null,
      "outputs": [
        {
          "output_type": "stream",
          "name": "stdout",
          "text": [
            "            True        OLS  T-learner  S-learner         IPW  X-learner\n",
            "0      47.038278  55.673154  77.557514  69.605734  186.189153  82.374892\n",
            "1      44.133095  55.769607  56.580506  53.178486   84.515965  55.161248\n",
            "2      43.696509  55.701381  56.332032  54.263327   78.415682  54.911147\n",
            "3      39.621679  52.740171  66.176214  56.753934 -201.055755  59.918355\n",
            "4      43.504711  56.356070  58.048467  58.526668   91.713057  56.854799\n",
            "...          ...        ...        ...        ...         ...        ...\n",
            "99995  39.295521  52.589780  51.153707  51.888904 -127.651424  49.942432\n",
            "99996  46.271669  56.051672  56.871871  53.884566   82.746982  56.230640\n",
            "99997  41.149567  53.089809  54.278288  55.673909   28.355390  54.244654\n",
            "99998  43.923411  56.272355  70.857004  67.585376  164.157146  73.173702\n",
            "99999  45.038095  56.211801  56.183034  54.787713   76.837456  55.758237\n",
            "\n",
            "[100000 rows x 6 columns]\n"
          ]
        }
      ]
    },
    {
      "cell_type": "markdown",
      "source": [
        "**Повышенная сложность:** включите дополнительный метод, не рассматривавшийся в курсе и опишите его принцип работы, а также преимущества и недостатки по сравнению с другими методами.\n"
      ],
      "metadata": {
        "id": "OrtXcwowPkT6"
      }
    },
    {
      "cell_type": "code",
      "source": [],
      "metadata": {
        "id": "0ORPpu0CPo9b"
      },
      "execution_count": null,
      "outputs": []
    },
    {
      "cell_type": "markdown",
      "source": [
        "7. Выберите лучшую модель оценивания условных средних эффектов воздействия,\n",
        "используя:\n",
        "\n",
        "• истинные значения условных средних эффектов воздействия.\n",
        "\n",
        "• прогнозную точность моделей.\n",
        "\n",
        "• псевдоисходы.\n"
      ],
      "metadata": {
        "id": "TNvnJ_t7Ppfy"
      }
    },
    {
      "cell_type": "markdown",
      "source": [
        "**Истинные значения условных средних эффектов воздействия.**\n",
        "\n",
        "Сравним точность оценок по среднеквадратической ошибке (недоступно на реальных данных):\n",
        "\n",
        "$$\\text{MSE}_{0} = \\frac{1}{n}\\sum\\limits_{i=1}^{n}\\left(\\text{CATE}_{i}-\\widehat{\\text{CATE}}_{i}\\right)^2$$"
      ],
      "metadata": {
        "id": "6bcHJTllgxXS"
      }
    },
    {
      "cell_type": "code",
      "source": [
        "# Сравнение оценок CATE на основании истинных значений\n",
        "CATE_MSE0 = pd.DataFrame(data    = [np.mean((CATE_ols  - CATE) ** 2),\n",
        "                                    np.mean((CATE_T.flatten()   - CATE) ** 2),\n",
        "                                    np.mean((CATE_S.flatten()   - CATE) ** 2),\n",
        "                                    np.mean((CATE_CT  - CATE) ** 2),\n",
        "                                    np.mean((CATE_X  - CATE) ** 2)],\n",
        "                   index          = ['OLS', 'T-learner', 'S-learner', 'IPW', 'X-learner'],\n",
        "                   columns        = ['MSE0'])\n",
        "print(CATE_MSE0)"
      ],
      "metadata": {
        "id": "PRWuht2fP004",
        "colab": {
          "base_uri": "https://localhost:8080/"
        },
        "outputId": "c16abbce-37ca-4193-ab45-5cb94c9a8622"
      },
      "execution_count": null,
      "outputs": [
        {
          "output_type": "stream",
          "name": "stdout",
          "text": [
            "                   MSE0\n",
            "OLS          128.384811\n",
            "T-learner    336.134904\n",
            "S-learner    247.753163\n",
            "IPW        11172.142312\n",
            "X-learner    390.449293\n"
          ]
        }
      ]
    },
    {
      "cell_type": "markdown",
      "source": [
        "**Прогнозная точность моделей.**"
      ],
      "metadata": {
        "id": "db6WFa-QhXdG"
      }
    },
    {
      "cell_type": "markdown",
      "source": [
        "Для оценки прогнозной точности моделей можно использовать, например, среднюю абсолютную ошибку (MAE). Более низкие значения MAE указывают на более точные прогнозы."
      ],
      "metadata": {
        "id": "mdWPnuVxrK0R"
      }
    },
    {
      "cell_type": "code",
      "source": [
        "from sklearn.metrics import mean_absolute_error\n",
        "# Добавляем прогнозную точность для каждой модели\n",
        "CATE_MAE = pd.DataFrame(data    = [mean_absolute_error(CATE, CATE_ols),\n",
        "                                    mean_absolute_error(CATE, CATE_T.flatten()),\n",
        "                                    mean_absolute_error(CATE, CATE_S.flatten()),\n",
        "                                    mean_absolute_error(CATE, CATE_CT),\n",
        "                                    mean_absolute_error(CATE, CATE_X)],\n",
        "                   index          = ['OLS', 'T-learner', 'S-learner', 'IPW', 'X-learner'],\n",
        "                   columns        = ['MAE(точность прогнозов)'])\n",
        "print(CATE_MAE)"
      ],
      "metadata": {
        "id": "02ahaqRfkcJY",
        "colab": {
          "base_uri": "https://localhost:8080/"
        },
        "outputId": "7359351a-9f3b-4d38-b130-dfd885e3567a"
      },
      "execution_count": null,
      "outputs": [
        {
          "output_type": "stream",
          "name": "stdout",
          "text": [
            "           MAE(точность прогнозов)\n",
            "OLS                      11.137747\n",
            "T-learner                16.493325\n",
            "S-learner                14.511775\n",
            "IPW                      79.749878\n",
            "X-learner                17.279315\n"
          ]
        }
      ]
    },
    {
      "cell_type": "markdown",
      "source": [
        "**Псевдоисходы**"
      ],
      "metadata": {
        "id": "axhiX7x4l3t6"
      }
    },
    {
      "cell_type": "code",
      "source": [
        "# Сравнение CATE на основании псевдоисходов\n",
        "CATE_MSE1 = pd.DataFrame(data    = [np.mean((Ticket_Price_pseudo - CATE_ols) ** 2),\n",
        "                                    np.mean((Ticket_Price_pseudo - CATE_T.flatten()) ** 2),\n",
        "                                    np.mean((Ticket_Price_pseudo - CATE_S.flatten()) ** 2),\n",
        "                                    np.mean((Ticket_Price_pseudo - CATE_CT) ** 2),\n",
        "                                    np.mean((Ticket_Price_pseudo - CATE_X) ** 2)],\n",
        "                   index          = ['OLS', 'T-learner', 'S-learner', 'IPW', 'X-learner'],\n",
        "                   columns        = ['MSE1'])\n",
        "print(CATE_MSE1)"
      ],
      "metadata": {
        "id": "5lhuQQdbl7aX",
        "colab": {
          "base_uri": "https://localhost:8080/"
        },
        "outputId": "c64d5e63-5f6a-4497-9336-87fa60dfc9ef"
      },
      "execution_count": null,
      "outputs": [
        {
          "output_type": "stream",
          "name": "stdout",
          "text": [
            "                    MSE1\n",
            "OLS        401677.271689\n",
            "T-learner  401128.899211\n",
            "S-learner  401059.867333\n",
            "IPW        388052.370563\n",
            "X-learner  400832.973219\n"
          ]
        }
      ]
    },
    {
      "cell_type": "markdown",
      "source": [
        "**Проблема** - метод трансформации классов оценивает условные математические ожидания с использованием псевдоисходов, поэтому его точность на обучающей выборке может быть завышена.\n"
      ],
      "metadata": {
        "id": "WrvztKTque4B"
      }
    },
    {
      "cell_type": "markdown",
      "source": [
        "8. Оцените средние эффекты воздействия и локальные средние эффекты воздействия используя худшие из обученных классификационных и регрессионных\n",
        "моделей. Сопоставьте результаты с теми, что были получены с помощью лучших моделей. Сделайте вывод об устойчивости результатов к качеству используемых методов машинного обучения.\n"
      ],
      "metadata": {
        "id": "HfzhhEvrP18a"
      }
    },
    {
      "cell_type": "markdown",
      "source": [
        "**Худший классификатор:** метод ближайших соседей с изначальными гиперпараметрами KNeighborsClassifier(n_neighbors = 5)\n",
        "\n",
        "**Худшая регрессия:** градиентный бустинг с изначальными гиперпараметрами GradientBoostingRegressor(n_estimators = 100, random_state = 22)"
      ],
      "metadata": {
        "id": "9LJ-CJJp-NSq"
      }
    },
    {
      "cell_type": "markdown",
      "source": [
        "### Средние эффекты воздействия 🐱"
      ],
      "metadata": {
        "id": "ewVNGfFV9MGi"
      }
    },
    {
      "cell_type": "markdown",
      "source": [
        "**Метод наименьших квадратов:** мы не применяли в данном пункте модели классификации/регрессии, поэтому оценка ATE не изменится."
      ],
      "metadata": {
        "id": "GQssSN02Donh"
      }
    },
    {
      "cell_type": "markdown",
      "source": [
        "**Условные математические ожидания. S-learner.**"
      ],
      "metadata": {
        "id": "RBOEfC7PDtZU"
      }
    },
    {
      "cell_type": "code",
      "source": [
        "# Оценивание ATE с помощью S-learner\n",
        "\n",
        "# Подготовим данные\n",
        "y = df.loc[:, ['Ticket_Price']]\n",
        "x = df.loc[:, df.columns.drop(['Ticket_Price', 'Hours'])]\n",
        "\n",
        "# Подготовка модели: единая для тех, у кого менее\n",
        "# 20 свободных мест и у кого более\n",
        "gb_worst_reg = GradientBoostingRegressor(n_estimators = 100, random_state = 22)\n",
        "gb_worst_reg.fit(x, y)\n",
        "\n",
        "# Оценки E(Ticket_Price | X, Last_Ticket = 0) для всех самолётов,\n",
        "# в том числе для тех, у кого (Last_Ticket = 1).\n",
        "x0 = deepcopy(x)\n",
        "x0[\"Last_Ticket\"] = 0\n",
        "Ticket_Price0_gb_worst_reg = gb_worst_reg.predict(x0)\n",
        "\n",
        "# Оценки E(Ticket_Price | X, Last_Ticket = 1) для всех самолётов,\n",
        "# в том числе для тех, у кого (Last_Ticket = 0).\n",
        "x1 = deepcopy(x)\n",
        "x1[\"Last_Ticket\"] = 1\n",
        "Ticket_Price1_gb_worst_reg = gb_worst_reg.predict(x1)\n",
        "\n",
        "# Оценки CATE\n",
        "CATE_S_worst = Ticket_Price1_gb_worst_reg - Ticket_Price0_gb_worst_reg\n",
        "# Оценка ATE\n",
        "ATE_S_worst = np.mean(CATE_S_worst)"
      ],
      "metadata": {
        "id": "Qyd61OsTDuNd"
      },
      "execution_count": 152,
      "outputs": []
    },
    {
      "cell_type": "markdown",
      "metadata": {
        "id": "Wl_HU2pwSZ3g"
      },
      "source": [
        "**Взвешивание на обратные вероятности**"
      ]
    },
    {
      "cell_type": "code",
      "execution_count": 153,
      "metadata": {
        "id": "de0yxeW1Sd_8"
      },
      "outputs": [],
      "source": [
        "# Оценивание с помощью обратного взвешивания на вероятности IPW\n",
        "\n",
        "# Подготовим данные\n",
        "target = df.loc[:, ['Last_Ticket']]\n",
        "features = df.loc[:, df.columns.drop(['Ticket_Price', 'Last_Ticket', 'Hours'])]\n",
        "\n",
        "# Подготовим метод машинного обучения\n",
        "knn = KNeighborsClassifier(n_neighbors = 5)\n",
        "knn.fit(features, target)\n",
        "\n",
        "# Оценим условные вероятности P(Last_Ticket = 1 | X)\n",
        "prob_knn = knn.predict_proba(features)[:, 1]\n",
        "\n",
        "# Оценим псевдоисходы\n",
        "Ticket_Price_pseudo_worst = (Ticket_Price * Last_Ticket) / prob_knn - (Ticket_Price * (1 - Last_Ticket)) / (1 - prob_knn)\n",
        "\n",
        "# Оценим ATE\n",
        "ATE_IPW_worst = np.mean(Ticket_Price_pseudo_worst)"
      ]
    },
    {
      "cell_type": "markdown",
      "metadata": {
        "id": "HSyx1Fe6StHc"
      },
      "source": [
        "**Метод, обладающий двойной устойчивостью.** Также здесь ничего не изменится."
      ]
    },
    {
      "cell_type": "markdown",
      "metadata": {
        "id": "7aa0QIhNS9-E"
      },
      "source": [
        "**Двойное машинное обучение**"
      ]
    },
    {
      "cell_type": "code",
      "execution_count": 154,
      "metadata": {
        "id": "e2d_gZUETBk_"
      },
      "outputs": [],
      "source": [
        "# Данные в формате, необходимом для применения DML\n",
        "dml_standard_data = dml.DoubleMLData(\n",
        "                            data = df,\n",
        "                            y_col = 'Ticket_Price',\n",
        "                            d_cols = 'Last_Ticket',\n",
        "                            x_cols = ['Days_Before', 'Distance', 'Connection'])\n",
        "\n",
        "# Метод оценивания E(Y | X, T)\n",
        "g_Y_worst = GradientBoostingRegressor(n_estimators = 100, random_state = 22)\n",
        "\n",
        "# Метод оценивания E(T | X)\n",
        "g_T_worst =  KNeighborsClassifier(n_neighbors = 5)\n",
        "\n",
        "# Подготовка объекта\n",
        "dml_standard_worst = dml.DoubleMLIRM(obj_dml_data = dml_standard_data,\n",
        "                               ml_g = g_Y_worst, ml_m = g_T_worst,\n",
        "                               n_rep = 1,\n",
        "                               n_folds = 5)\n",
        "\n",
        "# Оценим параметры\n",
        "dml_standard_worst.fit()\n",
        "\n",
        "# Сохраним оценку\n",
        "ATE_dml_standard_worst = dml_standard_worst.coef[0]"
      ]
    },
    {
      "cell_type": "code",
      "source": [
        "# Сопоставим результаты\n",
        "# Объединим полученные ранее оценки ATE\n",
        "ATE_all_results = pd.DataFrame({\n",
        "    'True': [ATE],\n",
        "    'IPW best': [ATE_IPW],\n",
        "    'ATE S-learner best': [ATE_S],\n",
        "    'ATE dml standard best': [ATE_dml_standard],\n",
        "    'IPW worst': [ATE_IPW_worst],\n",
        "    'ATE S-learner worst': [ATE_S_worst],\n",
        "    'ATE dml standard worst': [ATE_dml_standard_worst]\n",
        "})\n",
        "ATE_all_results"
      ],
      "metadata": {
        "id": "hFWwDsWOEA8Y",
        "colab": {
          "base_uri": "https://localhost:8080/",
          "height": 81
        },
        "outputId": "21775369-3817-406c-c490-0df76972a502"
      },
      "execution_count": 157,
      "outputs": [
        {
          "output_type": "execute_result",
          "data": {
            "text/plain": [
              "        True   IPW best  ATE S-learner best  ATE dml standard best  IPW worst  \\\n",
              "0  43.513822  44.344613           58.001282              61.500218        NaN   \n",
              "\n",
              "   ATE S-learner worst  ATE dml standard worst  \n",
              "0            56.881617               62.043478  "
            ],
            "text/html": [
              "\n",
              "  <div id=\"df-a8ae09e4-dd58-49f0-8340-5bee6856b7b7\" class=\"colab-df-container\">\n",
              "    <div>\n",
              "<style scoped>\n",
              "    .dataframe tbody tr th:only-of-type {\n",
              "        vertical-align: middle;\n",
              "    }\n",
              "\n",
              "    .dataframe tbody tr th {\n",
              "        vertical-align: top;\n",
              "    }\n",
              "\n",
              "    .dataframe thead th {\n",
              "        text-align: right;\n",
              "    }\n",
              "</style>\n",
              "<table border=\"1\" class=\"dataframe\">\n",
              "  <thead>\n",
              "    <tr style=\"text-align: right;\">\n",
              "      <th></th>\n",
              "      <th>True</th>\n",
              "      <th>IPW best</th>\n",
              "      <th>ATE S-learner best</th>\n",
              "      <th>ATE dml standard best</th>\n",
              "      <th>IPW worst</th>\n",
              "      <th>ATE S-learner worst</th>\n",
              "      <th>ATE dml standard worst</th>\n",
              "    </tr>\n",
              "  </thead>\n",
              "  <tbody>\n",
              "    <tr>\n",
              "      <th>0</th>\n",
              "      <td>43.513822</td>\n",
              "      <td>44.344613</td>\n",
              "      <td>58.001282</td>\n",
              "      <td>61.500218</td>\n",
              "      <td>NaN</td>\n",
              "      <td>56.881617</td>\n",
              "      <td>62.043478</td>\n",
              "    </tr>\n",
              "  </tbody>\n",
              "</table>\n",
              "</div>\n",
              "    <div class=\"colab-df-buttons\">\n",
              "\n",
              "  <div class=\"colab-df-container\">\n",
              "    <button class=\"colab-df-convert\" onclick=\"convertToInteractive('df-a8ae09e4-dd58-49f0-8340-5bee6856b7b7')\"\n",
              "            title=\"Convert this dataframe to an interactive table.\"\n",
              "            style=\"display:none;\">\n",
              "\n",
              "  <svg xmlns=\"http://www.w3.org/2000/svg\" height=\"24px\" viewBox=\"0 -960 960 960\">\n",
              "    <path d=\"M120-120v-720h720v720H120Zm60-500h600v-160H180v160Zm220 220h160v-160H400v160Zm0 220h160v-160H400v160ZM180-400h160v-160H180v160Zm440 0h160v-160H620v160ZM180-180h160v-160H180v160Zm440 0h160v-160H620v160Z\"/>\n",
              "  </svg>\n",
              "    </button>\n",
              "\n",
              "  <style>\n",
              "    .colab-df-container {\n",
              "      display:flex;\n",
              "      gap: 12px;\n",
              "    }\n",
              "\n",
              "    .colab-df-convert {\n",
              "      background-color: #E8F0FE;\n",
              "      border: none;\n",
              "      border-radius: 50%;\n",
              "      cursor: pointer;\n",
              "      display: none;\n",
              "      fill: #1967D2;\n",
              "      height: 32px;\n",
              "      padding: 0 0 0 0;\n",
              "      width: 32px;\n",
              "    }\n",
              "\n",
              "    .colab-df-convert:hover {\n",
              "      background-color: #E2EBFA;\n",
              "      box-shadow: 0px 1px 2px rgba(60, 64, 67, 0.3), 0px 1px 3px 1px rgba(60, 64, 67, 0.15);\n",
              "      fill: #174EA6;\n",
              "    }\n",
              "\n",
              "    .colab-df-buttons div {\n",
              "      margin-bottom: 4px;\n",
              "    }\n",
              "\n",
              "    [theme=dark] .colab-df-convert {\n",
              "      background-color: #3B4455;\n",
              "      fill: #D2E3FC;\n",
              "    }\n",
              "\n",
              "    [theme=dark] .colab-df-convert:hover {\n",
              "      background-color: #434B5C;\n",
              "      box-shadow: 0px 1px 3px 1px rgba(0, 0, 0, 0.15);\n",
              "      filter: drop-shadow(0px 1px 2px rgba(0, 0, 0, 0.3));\n",
              "      fill: #FFFFFF;\n",
              "    }\n",
              "  </style>\n",
              "\n",
              "    <script>\n",
              "      const buttonEl =\n",
              "        document.querySelector('#df-a8ae09e4-dd58-49f0-8340-5bee6856b7b7 button.colab-df-convert');\n",
              "      buttonEl.style.display =\n",
              "        google.colab.kernel.accessAllowed ? 'block' : 'none';\n",
              "\n",
              "      async function convertToInteractive(key) {\n",
              "        const element = document.querySelector('#df-a8ae09e4-dd58-49f0-8340-5bee6856b7b7');\n",
              "        const dataTable =\n",
              "          await google.colab.kernel.invokeFunction('convertToInteractive',\n",
              "                                                    [key], {});\n",
              "        if (!dataTable) return;\n",
              "\n",
              "        const docLinkHtml = 'Like what you see? Visit the ' +\n",
              "          '<a target=\"_blank\" href=https://colab.research.google.com/notebooks/data_table.ipynb>data table notebook</a>'\n",
              "          + ' to learn more about interactive tables.';\n",
              "        element.innerHTML = '';\n",
              "        dataTable['output_type'] = 'display_data';\n",
              "        await google.colab.output.renderOutput(dataTable, element);\n",
              "        const docLink = document.createElement('div');\n",
              "        docLink.innerHTML = docLinkHtml;\n",
              "        element.appendChild(docLink);\n",
              "      }\n",
              "    </script>\n",
              "  </div>\n",
              "\n",
              "    </div>\n",
              "  </div>\n"
            ],
            "application/vnd.google.colaboratory.intrinsic+json": {
              "type": "dataframe",
              "variable_name": "ATE_all_results",
              "summary": "{\n  \"name\": \"ATE_all_results\",\n  \"rows\": 1,\n  \"fields\": [\n    {\n      \"column\": \"True\",\n      \"properties\": {\n        \"dtype\": \"number\",\n        \"std\": null,\n        \"min\": 43.51382217878924,\n        \"max\": 43.51382217878924,\n        \"num_unique_values\": 1,\n        \"samples\": [\n          43.51382217878924\n        ],\n        \"semantic_type\": \"\",\n        \"description\": \"\"\n      }\n    },\n    {\n      \"column\": \"IPW best\",\n      \"properties\": {\n        \"dtype\": \"number\",\n        \"std\": null,\n        \"min\": 44.34461259884741,\n        \"max\": 44.34461259884741,\n        \"num_unique_values\": 1,\n        \"samples\": [\n          44.34461259884741\n        ],\n        \"semantic_type\": \"\",\n        \"description\": \"\"\n      }\n    },\n    {\n      \"column\": \"ATE S-learner best\",\n      \"properties\": {\n        \"dtype\": \"number\",\n        \"std\": null,\n        \"min\": 58.00128164265176,\n        \"max\": 58.00128164265176,\n        \"num_unique_values\": 1,\n        \"samples\": [\n          58.00128164265176\n        ],\n        \"semantic_type\": \"\",\n        \"description\": \"\"\n      }\n    },\n    {\n      \"column\": \"ATE dml standard best\",\n      \"properties\": {\n        \"dtype\": \"number\",\n        \"std\": null,\n        \"min\": 61.50021797975248,\n        \"max\": 61.50021797975248,\n        \"num_unique_values\": 1,\n        \"samples\": [\n          61.50021797975248\n        ],\n        \"semantic_type\": \"\",\n        \"description\": \"\"\n      }\n    },\n    {\n      \"column\": \"IPW worst\",\n      \"properties\": {\n        \"dtype\": \"number\",\n        \"std\": null,\n        \"min\": null,\n        \"max\": null,\n        \"num_unique_values\": 0,\n        \"samples\": [],\n        \"semantic_type\": \"\",\n        \"description\": \"\"\n      }\n    },\n    {\n      \"column\": \"ATE S-learner worst\",\n      \"properties\": {\n        \"dtype\": \"number\",\n        \"std\": null,\n        \"min\": 56.881616775024135,\n        \"max\": 56.881616775024135,\n        \"num_unique_values\": 1,\n        \"samples\": [],\n        \"semantic_type\": \"\",\n        \"description\": \"\"\n      }\n    },\n    {\n      \"column\": \"ATE dml standard worst\",\n      \"properties\": {\n        \"dtype\": \"number\",\n        \"std\": null,\n        \"min\": 62.0434776767508,\n        \"max\": 62.0434776767508,\n        \"num_unique_values\": 1,\n        \"samples\": [],\n        \"semantic_type\": \"\",\n        \"description\": \"\"\n      }\n    }\n  ]\n}"
            }
          },
          "metadata": {},
          "execution_count": 157
        }
      ]
    },
    {
      "cell_type": "markdown",
      "source": [
        "### Локальные средние эффекты воздействия 🐱"
      ],
      "metadata": {
        "id": "DABCjWP29bPD"
      }
    },
    {
      "cell_type": "markdown",
      "source": [
        "**Двойное машинное обучение без инструментальной переменной.**"
      ],
      "metadata": {
        "id": "6u6tqNqF_Gza"
      }
    },
    {
      "cell_type": "code",
      "source": [
        "# Метод оценивания E(Y | X, T)\n",
        "g_Y_worst =  GradientBoostingRegressor(n_estimators = 100, random_state = 22)\n",
        "\n",
        "# Метод оценивания E(T | X)\n",
        "g_T_worst = KNeighborsClassifier(n_neighbors = 5)\n",
        "# Данные в формате, необходимом для применения DML\n",
        "dml_standard_worst_data = dml.DoubleMLData(\n",
        "                             data = df,\n",
        "                             y_col = 'Ticket_Price',\n",
        "                             d_cols = 'Last_Ticket',\n",
        "                             x_cols = ['Days_Before', 'Distance', 'Connection'])\n",
        "\n",
        "# Подготовка объекта\n",
        "dml_standard_worst = dml.DoubleMLIRM(obj_dml_data = dml_standard_worst_data,\n",
        "                                ml_g = g_Y_worst, ml_m = g_T_worst,\n",
        "                                n_rep = 1,\n",
        "                                n_folds = 5)\n",
        "\n",
        "# Оценим параметры\n",
        "dml_standard_worst.fit()\n",
        "\n",
        "# Посмотрим на результат\n",
        "print(dml_standard_worst)\n",
        "\n",
        "# Сохраним оценку\n",
        "LATE_dml_standard_worst = dml_standard_worst.coef[0]"
      ],
      "metadata": {
        "id": "Bd08NjfP9eTm",
        "colab": {
          "base_uri": "https://localhost:8080/"
        },
        "outputId": "8688657e-471a-4f01-d736-e3fff56b3834"
      },
      "execution_count": null,
      "outputs": [
        {
          "output_type": "stream",
          "name": "stdout",
          "text": [
            "================== DoubleMLIRM Object ==================\n",
            "\n",
            "------------------ Data summary      ------------------\n",
            "Outcome variable: Ticket_Price\n",
            "Treatment variable(s): ['Last_Ticket']\n",
            "Covariates: ['Days_Before', 'Distance', 'Connection']\n",
            "Instrument variable(s): None\n",
            "No. Observations: 100000\n",
            "\n",
            "------------------ Score & algorithm ------------------\n",
            "Score function: ATE\n",
            "\n",
            "------------------ Machine learner   ------------------\n",
            "Learner ml_g: GradientBoostingRegressor(random_state=22)\n",
            "Learner ml_m: KNeighborsClassifier()\n",
            "Out-of-sample Performance:\n",
            "Learner ml_g0 RMSE: [[13.81900459]]\n",
            "Learner ml_g1 RMSE: [[12.65199478]]\n",
            "Learner ml_m RMSE: [[0.4265723]]\n",
            "\n",
            "------------------ Resampling        ------------------\n",
            "No. folds: 5\n",
            "No. repeated sample splits: 1\n",
            "\n",
            "------------------ Fit summary       ------------------\n",
            "                  coef  std err          t  P>|t|      2.5 %    97.5 %\n",
            "Last_Ticket  62.011568  0.72005  86.121198    0.0  60.600296  63.42284\n"
          ]
        }
      ]
    },
    {
      "cell_type": "markdown",
      "source": [
        "**Двойное машинное обучение с инструментальной переменной.**"
      ],
      "metadata": {
        "id": "uiW0otW7_HJu"
      }
    },
    {
      "cell_type": "code",
      "source": [
        "# Данные в формате, необходимом для применения DML\n",
        "dml_iv_worst_data = dml.DoubleMLData(data = df,\n",
        "                               y_col = 'Ticket_Price',\n",
        "                               d_cols = 'Last_Ticket',\n",
        "                               z_cols = 'Hours',\n",
        "                               x_cols = ['Days_Before', 'Distance', 'Connection'])\n",
        "\n",
        "# Метод оценивания E(Z | X)\n",
        "g_Z_worst = KNeighborsClassifier(n_neighbors = 5)\n",
        "\n",
        "# Подготовка объекта\n",
        "dml_iv_worst = dml.DoubleMLIIVM(obj_dml_data = dml_iv_worst_data,\n",
        "                          ml_g = g_Y_worst, ml_m = g_Z_worst, ml_r = g_T_worst,\n",
        "                          n_rep = 1,\n",
        "                          n_folds = 5)\n",
        "\n",
        "# Оценим параметры\n",
        "dml_iv_worst.fit()\n",
        "\n",
        "# Посмотрим на результат\n",
        "print(dml_iv_worst)\n",
        "\n",
        "# Сохраним оценку\n",
        "LATE_dml_iv_worst = dml_iv_worst.coef[0]"
      ],
      "metadata": {
        "id": "LstbqC7M_HtK",
        "colab": {
          "base_uri": "https://localhost:8080/"
        },
        "outputId": "ab21b25a-5592-4028-a1f6-610eb840a8aa"
      },
      "execution_count": null,
      "outputs": [
        {
          "output_type": "stream",
          "name": "stdout",
          "text": [
            "================== DoubleMLIIVM Object ==================\n",
            "\n",
            "------------------ Data summary      ------------------\n",
            "Outcome variable: Ticket_Price\n",
            "Treatment variable(s): ['Last_Ticket']\n",
            "Covariates: ['Days_Before', 'Distance', 'Connection']\n",
            "Instrument variable(s): ['Hours']\n",
            "No. Observations: 100000\n",
            "\n",
            "------------------ Score & algorithm ------------------\n",
            "Score function: LATE\n",
            "\n",
            "------------------ Machine learner   ------------------\n",
            "Learner ml_g: GradientBoostingRegressor(random_state=22)\n",
            "Learner ml_m: KNeighborsClassifier()\n",
            "Learner ml_r: KNeighborsClassifier()\n",
            "Out-of-sample Performance:\n",
            "Learner ml_g0 RMSE: [[24.39224932]]\n",
            "Learner ml_g1 RMSE: [[21.90718189]]\n",
            "Learner ml_m RMSE: [[0.30656488]]\n",
            "Learner ml_r0 RMSE: [[0.44018414]]\n",
            "Learner ml_r1 RMSE: [[0.35789425]]\n",
            "\n",
            "------------------ Resampling        ------------------\n",
            "No. folds: 5\n",
            "No. repeated sample splits: 1\n",
            "\n",
            "------------------ Fit summary       ------------------\n",
            "                  coef   std err          t          P>|t|     2.5 %  \\\n",
            "Last_Ticket  60.016912  2.736327  21.933386  1.247881e-106  54.65381   \n",
            "\n",
            "                97.5 %  \n",
            "Last_Ticket  65.380014  \n"
          ]
        }
      ]
    },
    {
      "cell_type": "code",
      "source": [
        "# Сопоставим результаты\n",
        "LATE_all_results = pd.DataFrame({\n",
        "    'Модели': ['Лучшие', 'Худшие'],\n",
        "    'LATE': [LATE, LATE],\n",
        "    'ДМО без IV': [LATE_dml_standard2, LATE_dml_standard_worst],\n",
        "    'ДМО с IV': [LATE_dml_iv, LATE_dml_iv_worst]\n",
        "})\n",
        "LATE_all_results"
      ],
      "metadata": {
        "id": "HGHN7HEjBLNq",
        "colab": {
          "base_uri": "https://localhost:8080/",
          "height": 112
        },
        "outputId": "c81fbcf2-8529-4821-ae1b-1222d2f3f69d"
      },
      "execution_count": null,
      "outputs": [
        {
          "output_type": "execute_result",
          "data": {
            "text/plain": [
              "   Модели       LATE  ДМО без IV   ДМО с IV\n",
              "0  Лучшие  43.460487   61.478640  42.933342\n",
              "1  Худшие  43.460487   62.011568  60.016912"
            ],
            "text/html": [
              "\n",
              "  <div id=\"df-6b7ad2ee-23f5-47e0-92f2-04950e90e9b3\" class=\"colab-df-container\">\n",
              "    <div>\n",
              "<style scoped>\n",
              "    .dataframe tbody tr th:only-of-type {\n",
              "        vertical-align: middle;\n",
              "    }\n",
              "\n",
              "    .dataframe tbody tr th {\n",
              "        vertical-align: top;\n",
              "    }\n",
              "\n",
              "    .dataframe thead th {\n",
              "        text-align: right;\n",
              "    }\n",
              "</style>\n",
              "<table border=\"1\" class=\"dataframe\">\n",
              "  <thead>\n",
              "    <tr style=\"text-align: right;\">\n",
              "      <th></th>\n",
              "      <th>Модели</th>\n",
              "      <th>LATE</th>\n",
              "      <th>ДМО без IV</th>\n",
              "      <th>ДМО с IV</th>\n",
              "    </tr>\n",
              "  </thead>\n",
              "  <tbody>\n",
              "    <tr>\n",
              "      <th>0</th>\n",
              "      <td>Лучшие</td>\n",
              "      <td>43.460487</td>\n",
              "      <td>61.478640</td>\n",
              "      <td>42.933342</td>\n",
              "    </tr>\n",
              "    <tr>\n",
              "      <th>1</th>\n",
              "      <td>Худшие</td>\n",
              "      <td>43.460487</td>\n",
              "      <td>62.011568</td>\n",
              "      <td>60.016912</td>\n",
              "    </tr>\n",
              "  </tbody>\n",
              "</table>\n",
              "</div>\n",
              "    <div class=\"colab-df-buttons\">\n",
              "\n",
              "  <div class=\"colab-df-container\">\n",
              "    <button class=\"colab-df-convert\" onclick=\"convertToInteractive('df-6b7ad2ee-23f5-47e0-92f2-04950e90e9b3')\"\n",
              "            title=\"Convert this dataframe to an interactive table.\"\n",
              "            style=\"display:none;\">\n",
              "\n",
              "  <svg xmlns=\"http://www.w3.org/2000/svg\" height=\"24px\" viewBox=\"0 -960 960 960\">\n",
              "    <path d=\"M120-120v-720h720v720H120Zm60-500h600v-160H180v160Zm220 220h160v-160H400v160Zm0 220h160v-160H400v160ZM180-400h160v-160H180v160Zm440 0h160v-160H620v160ZM180-180h160v-160H180v160Zm440 0h160v-160H620v160Z\"/>\n",
              "  </svg>\n",
              "    </button>\n",
              "\n",
              "  <style>\n",
              "    .colab-df-container {\n",
              "      display:flex;\n",
              "      gap: 12px;\n",
              "    }\n",
              "\n",
              "    .colab-df-convert {\n",
              "      background-color: #E8F0FE;\n",
              "      border: none;\n",
              "      border-radius: 50%;\n",
              "      cursor: pointer;\n",
              "      display: none;\n",
              "      fill: #1967D2;\n",
              "      height: 32px;\n",
              "      padding: 0 0 0 0;\n",
              "      width: 32px;\n",
              "    }\n",
              "\n",
              "    .colab-df-convert:hover {\n",
              "      background-color: #E2EBFA;\n",
              "      box-shadow: 0px 1px 2px rgba(60, 64, 67, 0.3), 0px 1px 3px 1px rgba(60, 64, 67, 0.15);\n",
              "      fill: #174EA6;\n",
              "    }\n",
              "\n",
              "    .colab-df-buttons div {\n",
              "      margin-bottom: 4px;\n",
              "    }\n",
              "\n",
              "    [theme=dark] .colab-df-convert {\n",
              "      background-color: #3B4455;\n",
              "      fill: #D2E3FC;\n",
              "    }\n",
              "\n",
              "    [theme=dark] .colab-df-convert:hover {\n",
              "      background-color: #434B5C;\n",
              "      box-shadow: 0px 1px 3px 1px rgba(0, 0, 0, 0.15);\n",
              "      filter: drop-shadow(0px 1px 2px rgba(0, 0, 0, 0.3));\n",
              "      fill: #FFFFFF;\n",
              "    }\n",
              "  </style>\n",
              "\n",
              "    <script>\n",
              "      const buttonEl =\n",
              "        document.querySelector('#df-6b7ad2ee-23f5-47e0-92f2-04950e90e9b3 button.colab-df-convert');\n",
              "      buttonEl.style.display =\n",
              "        google.colab.kernel.accessAllowed ? 'block' : 'none';\n",
              "\n",
              "      async function convertToInteractive(key) {\n",
              "        const element = document.querySelector('#df-6b7ad2ee-23f5-47e0-92f2-04950e90e9b3');\n",
              "        const dataTable =\n",
              "          await google.colab.kernel.invokeFunction('convertToInteractive',\n",
              "                                                    [key], {});\n",
              "        if (!dataTable) return;\n",
              "\n",
              "        const docLinkHtml = 'Like what you see? Visit the ' +\n",
              "          '<a target=\"_blank\" href=https://colab.research.google.com/notebooks/data_table.ipynb>data table notebook</a>'\n",
              "          + ' to learn more about interactive tables.';\n",
              "        element.innerHTML = '';\n",
              "        dataTable['output_type'] = 'display_data';\n",
              "        await google.colab.output.renderOutput(dataTable, element);\n",
              "        const docLink = document.createElement('div');\n",
              "        docLink.innerHTML = docLinkHtml;\n",
              "        element.appendChild(docLink);\n",
              "      }\n",
              "    </script>\n",
              "  </div>\n",
              "\n",
              "\n",
              "<div id=\"df-bc129d06-2aa3-4014-999b-c815a9bbcddb\">\n",
              "  <button class=\"colab-df-quickchart\" onclick=\"quickchart('df-bc129d06-2aa3-4014-999b-c815a9bbcddb')\"\n",
              "            title=\"Suggest charts\"\n",
              "            style=\"display:none;\">\n",
              "\n",
              "<svg xmlns=\"http://www.w3.org/2000/svg\" height=\"24px\"viewBox=\"0 0 24 24\"\n",
              "     width=\"24px\">\n",
              "    <g>\n",
              "        <path d=\"M19 3H5c-1.1 0-2 .9-2 2v14c0 1.1.9 2 2 2h14c1.1 0 2-.9 2-2V5c0-1.1-.9-2-2-2zM9 17H7v-7h2v7zm4 0h-2V7h2v10zm4 0h-2v-4h2v4z\"/>\n",
              "    </g>\n",
              "</svg>\n",
              "  </button>\n",
              "\n",
              "<style>\n",
              "  .colab-df-quickchart {\n",
              "      --bg-color: #E8F0FE;\n",
              "      --fill-color: #1967D2;\n",
              "      --hover-bg-color: #E2EBFA;\n",
              "      --hover-fill-color: #174EA6;\n",
              "      --disabled-fill-color: #AAA;\n",
              "      --disabled-bg-color: #DDD;\n",
              "  }\n",
              "\n",
              "  [theme=dark] .colab-df-quickchart {\n",
              "      --bg-color: #3B4455;\n",
              "      --fill-color: #D2E3FC;\n",
              "      --hover-bg-color: #434B5C;\n",
              "      --hover-fill-color: #FFFFFF;\n",
              "      --disabled-bg-color: #3B4455;\n",
              "      --disabled-fill-color: #666;\n",
              "  }\n",
              "\n",
              "  .colab-df-quickchart {\n",
              "    background-color: var(--bg-color);\n",
              "    border: none;\n",
              "    border-radius: 50%;\n",
              "    cursor: pointer;\n",
              "    display: none;\n",
              "    fill: var(--fill-color);\n",
              "    height: 32px;\n",
              "    padding: 0;\n",
              "    width: 32px;\n",
              "  }\n",
              "\n",
              "  .colab-df-quickchart:hover {\n",
              "    background-color: var(--hover-bg-color);\n",
              "    box-shadow: 0 1px 2px rgba(60, 64, 67, 0.3), 0 1px 3px 1px rgba(60, 64, 67, 0.15);\n",
              "    fill: var(--button-hover-fill-color);\n",
              "  }\n",
              "\n",
              "  .colab-df-quickchart-complete:disabled,\n",
              "  .colab-df-quickchart-complete:disabled:hover {\n",
              "    background-color: var(--disabled-bg-color);\n",
              "    fill: var(--disabled-fill-color);\n",
              "    box-shadow: none;\n",
              "  }\n",
              "\n",
              "  .colab-df-spinner {\n",
              "    border: 2px solid var(--fill-color);\n",
              "    border-color: transparent;\n",
              "    border-bottom-color: var(--fill-color);\n",
              "    animation:\n",
              "      spin 1s steps(1) infinite;\n",
              "  }\n",
              "\n",
              "  @keyframes spin {\n",
              "    0% {\n",
              "      border-color: transparent;\n",
              "      border-bottom-color: var(--fill-color);\n",
              "      border-left-color: var(--fill-color);\n",
              "    }\n",
              "    20% {\n",
              "      border-color: transparent;\n",
              "      border-left-color: var(--fill-color);\n",
              "      border-top-color: var(--fill-color);\n",
              "    }\n",
              "    30% {\n",
              "      border-color: transparent;\n",
              "      border-left-color: var(--fill-color);\n",
              "      border-top-color: var(--fill-color);\n",
              "      border-right-color: var(--fill-color);\n",
              "    }\n",
              "    40% {\n",
              "      border-color: transparent;\n",
              "      border-right-color: var(--fill-color);\n",
              "      border-top-color: var(--fill-color);\n",
              "    }\n",
              "    60% {\n",
              "      border-color: transparent;\n",
              "      border-right-color: var(--fill-color);\n",
              "    }\n",
              "    80% {\n",
              "      border-color: transparent;\n",
              "      border-right-color: var(--fill-color);\n",
              "      border-bottom-color: var(--fill-color);\n",
              "    }\n",
              "    90% {\n",
              "      border-color: transparent;\n",
              "      border-bottom-color: var(--fill-color);\n",
              "    }\n",
              "  }\n",
              "</style>\n",
              "\n",
              "  <script>\n",
              "    async function quickchart(key) {\n",
              "      const quickchartButtonEl =\n",
              "        document.querySelector('#' + key + ' button');\n",
              "      quickchartButtonEl.disabled = true;  // To prevent multiple clicks.\n",
              "      quickchartButtonEl.classList.add('colab-df-spinner');\n",
              "      try {\n",
              "        const charts = await google.colab.kernel.invokeFunction(\n",
              "            'suggestCharts', [key], {});\n",
              "      } catch (error) {\n",
              "        console.error('Error during call to suggestCharts:', error);\n",
              "      }\n",
              "      quickchartButtonEl.classList.remove('colab-df-spinner');\n",
              "      quickchartButtonEl.classList.add('colab-df-quickchart-complete');\n",
              "    }\n",
              "    (() => {\n",
              "      let quickchartButtonEl =\n",
              "        document.querySelector('#df-bc129d06-2aa3-4014-999b-c815a9bbcddb button');\n",
              "      quickchartButtonEl.style.display =\n",
              "        google.colab.kernel.accessAllowed ? 'block' : 'none';\n",
              "    })();\n",
              "  </script>\n",
              "</div>\n",
              "    </div>\n",
              "  </div>\n"
            ],
            "application/vnd.google.colaboratory.intrinsic+json": {
              "type": "dataframe",
              "variable_name": "LATE_all_results",
              "summary": "{\n  \"name\": \"LATE_all_results\",\n  \"rows\": 2,\n  \"fields\": [\n    {\n      \"column\": \"\\u041c\\u043e\\u0434\\u0435\\u043b\\u0438\",\n      \"properties\": {\n        \"dtype\": \"string\",\n        \"num_unique_values\": 2,\n        \"samples\": [\n          \"\\u0425\\u0443\\u0434\\u0448\\u0438\\u0435\",\n          \"\\u041b\\u0443\\u0447\\u0448\\u0438\\u0435\"\n        ],\n        \"semantic_type\": \"\",\n        \"description\": \"\"\n      }\n    },\n    {\n      \"column\": \"LATE\",\n      \"properties\": {\n        \"dtype\": \"number\",\n        \"std\": 0.0,\n        \"min\": 43.460487471938414,\n        \"max\": 43.460487471938414,\n        \"num_unique_values\": 1,\n        \"samples\": [\n          43.460487471938414\n        ],\n        \"semantic_type\": \"\",\n        \"description\": \"\"\n      }\n    },\n    {\n      \"column\": \"\\u0414\\u041c\\u041e \\u0431\\u0435\\u0437 IV\",\n      \"properties\": {\n        \"dtype\": \"number\",\n        \"std\": 0.37683681782481315,\n        \"min\": 61.478639907677305,\n        \"max\": 62.011567646246675,\n        \"num_unique_values\": 2,\n        \"samples\": [\n          62.011567646246675\n        ],\n        \"semantic_type\": \"\",\n        \"description\": \"\"\n      }\n    },\n    {\n      \"column\": \"\\u0414\\u041c\\u041e \\u0441 IV\",\n      \"properties\": {\n        \"dtype\": \"number\",\n        \"std\": 12.079908751063707,\n        \"min\": 42.9333416021473,\n        \"max\": 60.01691239013103,\n        \"num_unique_values\": 2,\n        \"samples\": [\n          60.01691239013103\n        ],\n        \"semantic_type\": \"\",\n        \"description\": \"\"\n      }\n    }\n  ]\n}"
            }
          },
          "metadata": {},
          "execution_count": 149
        }
      ]
    },
    {
      "cell_type": "code",
      "source": [],
      "metadata": {
        "id": "pFuGA4aJCngC"
      },
      "execution_count": null,
      "outputs": []
    }
  ],
  "metadata": {
    "colab": {
      "provenance": []
    },
    "kernelspec": {
      "display_name": "Python 3 (ipykernel)",
      "language": "python",
      "name": "python3"
    },
    "language_info": {
      "codemirror_mode": {
        "name": "ipython",
        "version": 3
      },
      "file_extension": ".py",
      "mimetype": "text/x-python",
      "name": "python",
      "nbconvert_exporter": "python",
      "pygments_lexer": "ipython3",
      "version": "3.9.7"
    }
  },
  "nbformat": 4,
  "nbformat_minor": 0
}